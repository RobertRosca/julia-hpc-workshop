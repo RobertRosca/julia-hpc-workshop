{
 "cells": [
  {
   "cell_type": "markdown",
   "id": "ed4b2f40-5745-4924-9869-47d893abb62f",
   "metadata": {},
   "source": [
    "# Development Workflow\n",
    "\n",
    "## Traditional: \"make a change and rerun the file\"\n",
    "\n",
    "<img src=\"../../static/workflow_traditional.png\" width=1200px>\n",
    "\n",
    "**Pros**\n",
    "* conceptually simple\n",
    "* can use any editor\n",
    "\n",
    "**Cons**\n",
    "* no interactivity (!)\n",
    "* compilation cost must be paid every time (!)\n",
    "  * Julia doesn't really cache native (binary) code between sessions yet 😔 ([It's on the horizon](https://www.youtube.com/watch?v=GnsONc9DYg0) though.)\n",
    "\n",
    "This workflow: **Only recommended for simple changes (and production runs).**"
   ]
  },
  {
   "cell_type": "markdown",
   "id": "93a7975c-6fee-438f-a6ab-443b69cd2cf3",
   "metadata": {},
   "source": [
    "## Revise.jl: \"track changes in my file\"\n",
    "\n",
    "<img src=\"../../static/workflow_revise.png\" width=1200px>\n",
    "\n",
    "(If you wonder why I have syntax highlighting in the Julia REPL, I'm using [OhMyREPL.jl](https://kristofferc.github.io/OhMyREPL.jl/latest/))\n",
    "\n",
    "Based on the [Revise.jl](https://github.com/timholy/Revise.jl) package by Tim Holy.\n",
    "\n",
    "- Open `julia`\n",
    "- Load Revise: `using Revise` (or put it in `~/.julia/config/startup.jl`, see [here](https://timholy.github.io/Revise.jl/stable/config/#Using-Revise-by-default-1))\n",
    "- Include your code with `includet(\"script.jl\")` instead of `include(\"script.jl\")`\n",
    "  - Alternatively: `using MyPackage` if your code is in a package\n",
    "\n",
    "Whenever there is a change in `script.jl` (or the source code of your package) it will automatically be reflected in the running Julia session.\n",
    "\n",
    "**Pros**\n",
    "* interactivity\n",
    "* see changes almost immediately (small delay)\n",
    "* can use any editor\n",
    "\n",
    "**Cons**\n",
    "* has [limitations](https://timholy.github.io/Revise.jl/stable/limitations/#)\n",
    "  * changing `struct`s still requires a session restart\n",
    "\n",
    "This workflow: **Recommended if you like a minimal setup.**"
   ]
  },
  {
   "cell_type": "markdown",
   "id": "7f6c47f6-0069-4d39-9107-1e66e25f6d3e",
   "metadata": {},
   "source": [
    "## Visual Studio Code: IDE\n",
    "\n",
    "<img src=\"../../static/workflow_vscode.png\" width=1200px>\n",
    "\n",
    "(Image taken from https://www.julia-vscode.org/)\n",
    "\n",
    "The [Julia extension](https://www.julia-vscode.org/) for VS Code is actively maintained.\n",
    "\n",
    "Basic introduction: [Julia in Visual Studio Code](https://code.visualstudio.com/docs/languages/julia)\n",
    "\n",
    "**Most important [Keybindings:](https://www.julia-vscode.org/docs/stable/userguide/keybindings/)**\n",
    "\n",
    "* Open integrated Julia REPL: `Alt-J Alt-O`\n",
    "* Kill integrated Julia REPL: `Alt-J Alt-K`\n",
    "* Restart integrated Julia REPL: `Alt-J Alt-R`\n",
    "* Execute a line/block of code: `Shift+Enter` and `Ctrl-Enter` (similar to Jupyter notebooks)\n",
    "\n",
    "**Pros**\n",
    "* interactivity\n",
    "* lots of integrated features\n",
    "  * code completion (IntelliSense)\n",
    "  * documentation\n",
    "  * workspace view\n",
    "  * profiler\n",
    "  * debugger\n",
    "* (supports Jupyter notebooks as well)\n",
    "\n",
    "**Cons**\n",
    "* not as lightweight / minimal\n",
    "* can sometimes be a bit tricky to set up on remote servers\n",
    "  * especially on clusters due to SLURM / PBS and `module`s\n",
    "  * (PC2 documentation has [more information](https://uni-paderborn.atlassian.net/wiki/spaces/PC2DOK/pages/38240257/VS+Code+Remote+Usage), for HAWK it is more tricky)\n",
    "* integrated REPL takes noticeably longer to start due to VSCodeServer / LanguageServer\n",
    "\n",
    "This workflow: **Recommended for bigger development efforts.**"
   ]
  }
 ],
 "metadata": {
  "kernelspec": {
   "display_name": "Julia 1.8.4",
   "language": "julia",
   "name": "julia-1.8"
  },
  "language_info": {
   "file_extension": ".jl",
   "mimetype": "application/julia",
   "name": "julia",
   "version": "1.8.4"
  }
 },
 "nbformat": 4,
 "nbformat_minor": 5
}
