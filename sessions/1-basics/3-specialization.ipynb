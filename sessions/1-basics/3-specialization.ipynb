{
 "cells": [
  {
   "cell_type": "markdown",
   "id": "42d3d18f",
   "metadata": {},
   "source": [
    "# Code Specialization\n",
    "\n",
    "To be fast, Julia needs to **specialize** code, that is compile specific native versions of the code. **The better the specialization the faster the code!** In the following we will investigate how Julia achieves good code specialization while retaining the power of generic programming."
   ]
  },
  {
   "cell_type": "markdown",
   "id": "6add0fc5",
   "metadata": {},
   "source": [
    "## Just Ahead of Time (JAOT) Compilation\n",
    "\n",
    "![](../../static/from_source_to_native.png)\n",
    " \n",
    "\n",
    "**AST = Abstract Syntax Tree**\n",
    "\n",
    "**IR = Intermediate Representation**\n",
    "\n",
    "**SSA = Static Single Assignment**\n",
    "\n",
    "**[LLVM](https://de.wikipedia.org/wiki/LLVM) = Low Level Virtual Machine**\n",
    "\n",
    "## Specialization\n",
    "\n",
    "**Julia specializes on the types of function arguments**, i.e. Julia compiles efficient machine code for the given input types, **when a function is called for the first time**.\n",
    "\n",
    "If it is called again, the already existing machine code is reused, until we call the function with different input types.\n"
   ]
  },
  {
   "cell_type": "code",
   "execution_count": 1,
   "id": "fc2352e8",
   "metadata": {},
   "outputs": [
    {
     "data": {
      "text/plain": [
       "func (generic function with 1 method)"
      ]
     },
     "execution_count": 1,
     "metadata": {},
     "output_type": "execute_result"
    }
   ],
   "source": [
    "func(x, y) = 2x + y"
   ]
  },
  {
   "cell_type": "code",
   "execution_count": 2,
   "id": "5fa5f7c9",
   "metadata": {},
   "outputs": [
    {
     "name": "stdout",
     "output_type": "stream",
     "text": [
      "  0.119239 seconds (405.27 k allocations: 20.623 MiB, 12.16% gc time, 99.98% compilation time)\n",
      "  0.000009 seconds (2 allocations: 160 bytes)\n"
     ]
    }
   ],
   "source": [
    "x = [1.2, 3.4, 5.6] # Vector{Float64}\n",
    "y = [0.4, 0.7, 0.9] # Vector{Float64}\n",
    "\n",
    "@time func(x, y);\n",
    "@time func(x, y);"
   ]
  },
  {
   "cell_type": "markdown",
   "id": "b4a475ea",
   "metadata": {},
   "source": [
    "**First call:** compilation + running the code\n",
    "\n",
    "**Second call:** running the code\n"
   ]
  },
  {
   "cell_type": "code",
   "execution_count": 3,
   "id": "44115394",
   "metadata": {},
   "outputs": [
    {
     "name": "stdout",
     "output_type": "stream",
     "text": [
      "  0.000012 seconds (2 allocations: 160 bytes)\n"
     ]
    }
   ],
   "source": [
    "@time func(x, y);"
   ]
  },
  {
   "cell_type": "markdown",
   "id": "f74b788e",
   "metadata": {},
   "source": [
    "If one of the input types changes, Julia compiles a new specialization of the function!\n"
   ]
  },
  {
   "cell_type": "code",
   "execution_count": 4,
   "id": "21df8af7",
   "metadata": {},
   "outputs": [
    {
     "data": {
      "text/plain": [
       "Vector{Float64}\u001b[90m (alias for \u001b[39m\u001b[90mArray{Float64, 1}\u001b[39m\u001b[90m)\u001b[39m"
      ]
     },
     "execution_count": 4,
     "metadata": {},
     "output_type": "execute_result"
    }
   ],
   "source": [
    "typeof(x)"
   ]
  },
  {
   "cell_type": "code",
   "execution_count": 5,
   "id": "4add9224",
   "metadata": {},
   "outputs": [
    {
     "data": {
      "text/plain": [
       "3-element Vector{Int64}:\n",
       " 1\n",
       " 3\n",
       " 5"
      ]
     },
     "execution_count": 5,
     "metadata": {},
     "output_type": "execute_result"
    }
   ],
   "source": [
    "x = [1, 3, 5]"
   ]
  },
  {
   "cell_type": "code",
   "execution_count": 6,
   "id": "0eb28c62",
   "metadata": {},
   "outputs": [
    {
     "data": {
      "text/plain": [
       "Vector{Int64}\u001b[90m (alias for \u001b[39m\u001b[90mArray{Int64, 1}\u001b[39m\u001b[90m)\u001b[39m"
      ]
     },
     "execution_count": 6,
     "metadata": {},
     "output_type": "execute_result"
    }
   ],
   "source": [
    "typeof(x)"
   ]
  },
  {
   "cell_type": "code",
   "execution_count": 11,
   "id": "49854ab2",
   "metadata": {},
   "outputs": [
    {
     "name": "stdout",
     "output_type": "stream",
     "text": [
      "  0.087038 seconds (194.08 k allocations: 9.592 MiB, 14.88% gc time, 99.96% compilation time)\n",
      "  0.000007 seconds (2 allocations: 160 bytes)\n"
     ]
    }
   ],
   "source": [
    "@time func(x, x); # Vector{Int64}, Vector{Float64}\n",
    "@time func(x, x);"
   ]
  },
  {
   "cell_type": "markdown",
   "id": "b5c9af6e-a348-4871-aa89-53f310098baa",
   "metadata": {},
   "source": [
    "We now have two efficient native codes in the cache: one for all `Vector{Float64}` inputs and another one for `Vector{Int64}` as the first and `Vector{Float64}` as the second argument type."
   ]
  },
  {
   "cell_type": "code",
   "execution_count": 8,
   "id": "ee58ca00-ff3b-42fa-a34a-5500f0202c91",
   "metadata": {},
   "outputs": [],
   "source": [
    "using MethodAnalysis"
   ]
  },
  {
   "cell_type": "code",
   "execution_count": 9,
   "id": "37b8c246-cad7-4155-8fc5-899862be6cee",
   "metadata": {},
   "outputs": [
    {
     "data": {
      "text/html": [
       "# 1 method for generic function <b>func</b>:<ul><li> func(x, y) in Main at In[1]:1</li> </ul>"
      ],
      "text/plain": [
       "# 1 method for generic function \"func\":\n",
       "[1] func(x, y) in Main at In[1]:1"
      ]
     },
     "execution_count": 9,
     "metadata": {},
     "output_type": "execute_result"
    }
   ],
   "source": [
    "methods(func)"
   ]
  },
  {
   "cell_type": "code",
   "execution_count": 12,
   "id": "a8254a81-c2a3-4773-9c4f-7ed7ef160dee",
   "metadata": {},
   "outputs": [
    {
     "data": {
      "text/plain": [
       "3-element Vector{Core.MethodInstance}:\n",
       " MethodInstance for func(::Vector{Float64}, ::Vector{Float64})\n",
       " MethodInstance for func(::Vector{Int64}, ::Vector{Float64})\n",
       " MethodInstance for func(::Vector{Int64}, ::Vector{Int64})"
      ]
     },
     "execution_count": 12,
     "metadata": {},
     "output_type": "execute_result"
    }
   ],
   "source": [
    "methodinstances(func)"
   ]
  },
  {
   "cell_type": "markdown",
   "id": "75b6c894-0b8b-4457-aa21-c82389fa7671",
   "metadata": {},
   "source": [
    "## Introspection\n",
    "\n",
    "(*But I really want to see what happens!*)\n",
    "\n",
    "We can inspect the code at all transformation stages with a bunch of macros:\n",
    "\n",
    "<img src=\"../../static/julia_introspection_macros.png\" width=350px>"
   ]
  },
  {
   "cell_type": "markdown",
   "id": "b07013c1-e616-47f8-8801-3d67e3b097dc",
   "metadata": {},
   "source": [
    "### Code Lowering\n",
    "\n",
    "Compiler optimisation is a very hard task, to make the compilers life easier it should be given 'simple' code.\n",
    "\n",
    "In Julia 'simple' means [static single-assignment form](https://en.wikipedia.org/wiki/Static_single-assignment_form):\n",
    "\n",
    "> In compiler design, static single assignment form (often abbreviated as SSA form or simply SSA) is a property of an intermediate representation (IR) that requires each variable to be assigned exactly once and defined before it is used.\n",
    ">\n",
    "> ...\n",
    ">\n",
    "> One can expect to find SSA in a compiler for Fortran, C or C++ ...\n",
    "\n",
    "This transformation from source code to SSA form is called **lowering**, and the SSA form is called **lowered code**."
   ]
  },
  {
   "cell_type": "code",
   "execution_count": 13,
   "id": "14c7bf7d-034c-4924-93f8-61f264d74494",
   "metadata": {},
   "outputs": [
    {
     "data": {
      "text/plain": [
       "basic_condition (generic function with 1 method)"
      ]
     },
     "execution_count": 13,
     "metadata": {},
     "output_type": "execute_result"
    }
   ],
   "source": [
    "function basic_condition(bool::Bool)\n",
    "    if bool\n",
    "        return 0\n",
    "    else\n",
    "        return 1\n",
    "    end\n",
    "end"
   ]
  },
  {
   "cell_type": "code",
   "execution_count": 14,
   "id": "8bb57880-6d5f-4b69-862d-ee6accaddf6f",
   "metadata": {},
   "outputs": [
    {
     "data": {
      "text/plain": [
       "CodeInfo(\n",
       "\u001b[90m1 ─\u001b[39m     goto #3 if not bool\n",
       "\u001b[90m2 ─\u001b[39m     return 0\n",
       "\u001b[90m3 ─\u001b[39m     return 1\n",
       ")"
      ]
     },
     "execution_count": 14,
     "metadata": {},
     "output_type": "execute_result"
    }
   ],
   "source": [
    "@code_lowered basic_condition(true)"
   ]
  },
  {
   "cell_type": "code",
   "execution_count": 15,
   "id": "248008eb",
   "metadata": {},
   "outputs": [
    {
     "data": {
      "text/plain": [
       "CodeInfo(\n",
       "   \u001b[33m @ In[13]:2 within `basic_condition`\u001b[39m\n",
       "\u001b[90m1 ─\u001b[39m     goto #3 if not bool\n",
       "   \u001b[33m @ In[13]:3 within `basic_condition`\u001b[39m\n",
       "\u001b[90m2 ─\u001b[39m     return 0\n",
       "   \u001b[33m @ In[13]:5 within `basic_condition`\u001b[39m\n",
       "\u001b[90m3 ─\u001b[39m     return 1\n",
       ")"
      ]
     },
     "execution_count": 15,
     "metadata": {},
     "output_type": "execute_result"
    }
   ],
   "source": [
    "# Increase verbosity with `debuginfo=:source`\n",
    "@code_lowered debuginfo=:source basic_condition(true)"
   ]
  },
  {
   "cell_type": "code",
   "execution_count": 16,
   "id": "1a4db642-0ebe-494b-a571-482f5527ae88",
   "metadata": {},
   "outputs": [
    {
     "data": {
      "text/plain": [
       "basic_loop (generic function with 1 method)"
      ]
     },
     "execution_count": 16,
     "metadata": {},
     "output_type": "execute_result"
    }
   ],
   "source": [
    "function basic_loop()\n",
    "    a = 0\n",
    "    for i in [1, 2, 3]\n",
    "        a += i\n",
    "    end\n",
    "    return a\n",
    "end"
   ]
  },
  {
   "cell_type": "code",
   "execution_count": 17,
   "id": "7435a8df-8ad3-4115-aa66-39ac7ef401d7",
   "metadata": {},
   "outputs": [
    {
     "data": {
      "text/plain": [
       "CodeInfo(\n",
       "   \u001b[33m @ In[16]:2 within `basic_loop`\u001b[39m\n",
       "\u001b[90m1 ─\u001b[39m       a = 0\n",
       "\u001b[90m│ \u001b[39m \u001b[33m @ In[16]:3 within `basic_loop`\u001b[39m\n",
       "\u001b[90m│  \u001b[39m %2  = Base.vect(1, 2, 3)\n",
       "\u001b[90m│  \u001b[39m       @_2 = Base.iterate(%2)\n",
       "\u001b[90m│  \u001b[39m %4  = @_2 === nothing\n",
       "\u001b[90m│  \u001b[39m %5  = Base.not_int(%4)\n",
       "\u001b[90m└──\u001b[39m       goto #4 if not %5\n",
       "\u001b[90m2 ┄\u001b[39m %7  = @_2\n",
       "\u001b[90m│  \u001b[39m       i = Core.getfield(%7, 1)\n",
       "\u001b[90m│  \u001b[39m %9  = Core.getfield(%7, 2)\n",
       "\u001b[90m│ \u001b[39m \u001b[33m @ In[16]:4 within `basic_loop`\u001b[39m\n",
       "\u001b[90m│  \u001b[39m       a = a + i\n",
       "\u001b[90m│ \u001b[39m \u001b[33m @ In[16]:5 within `basic_loop`\u001b[39m\n",
       "\u001b[90m│  \u001b[39m       @_2 = Base.iterate(%2, %9)\n",
       "\u001b[90m│  \u001b[39m %12 = @_2 === nothing\n",
       "\u001b[90m│  \u001b[39m %13 = Base.not_int(%12)\n",
       "\u001b[90m└──\u001b[39m       goto #4 if not %13\n",
       "\u001b[90m3 ─\u001b[39m       goto #2\n",
       "   \u001b[33m @ In[16]:6 within `basic_loop`\u001b[39m\n",
       "\u001b[90m4 ┄\u001b[39m       return a\n",
       ")"
      ]
     },
     "execution_count": 17,
     "metadata": {},
     "output_type": "execute_result"
    }
   ],
   "source": [
    "@code_lowered debuginfo=:source basic_loop()"
   ]
  },
  {
   "cell_type": "markdown",
   "id": "52f79a8e-bb79-4ec9-9d2f-7b7c3406878f",
   "metadata": {},
   "source": [
    "- `#N` refers to [basic blocks](https://en.wikipedia.org/wiki/Basic_blockhttps://en.wikipedia.org/wiki/Basic_block) of code\n",
    "  - Blocks are shown on the left with `|` characters outlining their span\n",
    "- `%N` refers to single static assignment (SSA) valuesrefer to single static assignment (SSA) values, when a previous SSA value is used, it's referenced by an `SSAValue` and printed as `%N`\n",
    "- `@_N` refers to temporary variables"
   ]
  },
  {
   "cell_type": "code",
   "execution_count": 18,
   "id": "86b4e551-ae05-43e0-bbd0-d58f4edb2174",
   "metadata": {},
   "outputs": [
    {
     "data": {
      "text/plain": [
       "nextfib (generic function with 1 method)"
      ]
     },
     "execution_count": 18,
     "metadata": {},
     "output_type": "execute_result"
    }
   ],
   "source": [
    "function nextfib(n)\n",
    "    a, b = one(n), one(n)\n",
    "    while b < n\n",
    "        a, b = b, a + b\n",
    "    end\n",
    "    return b\n",
    "end"
   ]
  },
  {
   "cell_type": "code",
   "execution_count": 19,
   "id": "fa7a0afe-9025-4b71-84a6-b9171a3acda8",
   "metadata": {},
   "outputs": [
    {
     "data": {
      "text/plain": [
       "CodeInfo(\n",
       "   \u001b[33m @ In[18]:2 within `nextfib`\u001b[39m\n",
       "\u001b[90m1 ─\u001b[39m %1 = Main.one(n)\n",
       "\u001b[90m│  \u001b[39m %2 = Main.one(n)\n",
       "\u001b[90m│  \u001b[39m      a = %1\n",
       "\u001b[90m└──\u001b[39m      b = %2\n",
       "   \u001b[33m @ In[18]:3 within `nextfib`\u001b[39m\n",
       "\u001b[90m2 ┄\u001b[39m %5 = b < n\n",
       "\u001b[90m└──\u001b[39m      goto #4 if not %5\n",
       "   \u001b[33m @ In[18]:4 within `nextfib`\u001b[39m\n",
       "\u001b[90m3 ─\u001b[39m %7 = b\n",
       "\u001b[90m│  \u001b[39m %8 = a + b\n",
       "\u001b[90m│  \u001b[39m      a = %7\n",
       "\u001b[90m│  \u001b[39m      b = %8\n",
       "\u001b[90m│ \u001b[39m \u001b[33m @ In[18]:5 within `nextfib`\u001b[39m\n",
       "\u001b[90m└──\u001b[39m      goto #2\n",
       "   \u001b[33m @ In[18]:6 within `nextfib`\u001b[39m\n",
       "\u001b[90m4 ─\u001b[39m      return b\n",
       ")"
      ]
     },
     "execution_count": 19,
     "metadata": {},
     "output_type": "execute_result"
    }
   ],
   "source": [
    "@code_lowered debuginfo=:source nextfib(1)"
   ]
  },
  {
   "cell_type": "markdown",
   "id": "277e5cde-4c7b-4ca7-95a8-c6bb894bc30b",
   "metadata": {},
   "source": [
    "### Type Inference\n",
    "\n",
    "The above lowered code now starts to get **specialised**: argument types and any explicit annotations are used to infer the types of all SSA variables (where/if possible), and that information is then used to specialise the function calls:"
   ]
  },
  {
   "cell_type": "code",
   "execution_count": null,
   "id": "7559708d-92a8-465f-80f2-bff34d394756",
   "metadata": {},
   "outputs": [],
   "source": [
    "function nextfib(n)\n",
    "    a, b = one(n), one(n)\n",
    "    while b < n\n",
    "        a, b = b, a + b\n",
    "    end\n",
    "    return b\n",
    "end"
   ]
  },
  {
   "cell_type": "code",
   "execution_count": 20,
   "id": "42a0d257",
   "metadata": {},
   "outputs": [
    {
     "data": {
      "text/plain": [
       "CodeInfo(\n",
       "\u001b[90m1 ─\u001b[39m      nothing\u001b[90m::Nothing\u001b[39m\n",
       "   \u001b[33m @ In[18]:3 within `nextfib`\u001b[39m\n",
       "\u001b[90m2 ┄\u001b[39m %2 = φ (#1 => 1.0, #3 => %6)\u001b[36m::Float64\u001b[39m\n",
       "\u001b[90m│  \u001b[39m %3 = φ (#1 => 1.0, #3 => %2)\u001b[36m::Float64\u001b[39m\n",
       "\u001b[90m│ \u001b[39m \u001b[33m┌ @ float.jl:412 within `<`\u001b[39m\n",
       "\u001b[90m│  \u001b[39m\u001b[33m│\u001b[39m %4 = Base.lt_float(%2, n)\u001b[36m::Bool\u001b[39m\n",
       "\u001b[90m│ \u001b[39m \u001b[33m└\u001b[39m\n",
       "\u001b[90m└──\u001b[39m      goto #4 if not %4\n",
       "   \u001b[33m @ In[18]:4 within `nextfib`\u001b[39m\n",
       "   \u001b[33m┌ @ float.jl:383 within `+`\u001b[39m\n",
       "\u001b[90m3 ─\u001b[39m\u001b[33m│\u001b[39m %6 = Base.add_float(%3, %2)\u001b[36m::Float64\u001b[39m\n",
       "\u001b[90m│ \u001b[39m \u001b[33m└\u001b[39m\n",
       "\u001b[90m│ \u001b[39m \u001b[33m @ In[18]:5 within `nextfib`\u001b[39m\n",
       "\u001b[90m└──\u001b[39m      goto #2\n",
       "   \u001b[33m @ In[18]:6 within `nextfib`\u001b[39m\n",
       "\u001b[90m4 ─\u001b[39m      return %2\n",
       ") => Float64"
      ]
     },
     "execution_count": 20,
     "metadata": {},
     "output_type": "execute_result"
    }
   ],
   "source": [
    "@code_typed debuginfo=:source nextfib(1.0)"
   ]
  },
  {
   "cell_type": "code",
   "execution_count": 21,
   "id": "fe3f60cc-361a-40c0-b7e8-70f214e27d05",
   "metadata": {},
   "outputs": [
    {
     "data": {
      "text/plain": [
       "CodeInfo(\n",
       "\u001b[90m1 ─\u001b[39m      nothing\u001b[90m::Nothing\u001b[39m\n",
       "   \u001b[33m @ In[18]:3 within `nextfib`\u001b[39m\n",
       "\u001b[90m2 ┄\u001b[39m %2 = φ (#1 => 1, #3 => %6)\u001b[36m::Int64\u001b[39m\n",
       "\u001b[90m│  \u001b[39m %3 = φ (#1 => 1, #3 => %2)\u001b[36m::Int64\u001b[39m\n",
       "\u001b[90m│ \u001b[39m \u001b[33m┌ @ int.jl:83 within `<`\u001b[39m\n",
       "\u001b[90m│  \u001b[39m\u001b[33m│\u001b[39m %4 = Base.slt_int(%2, n)\u001b[36m::Bool\u001b[39m\n",
       "\u001b[90m│ \u001b[39m \u001b[33m└\u001b[39m\n",
       "\u001b[90m└──\u001b[39m      goto #4 if not %4\n",
       "   \u001b[33m @ In[18]:4 within `nextfib`\u001b[39m\n",
       "   \u001b[33m┌ @ int.jl:87 within `+`\u001b[39m\n",
       "\u001b[90m3 ─\u001b[39m\u001b[33m│\u001b[39m %6 = Base.add_int(%3, %2)\u001b[36m::Int64\u001b[39m\n",
       "\u001b[90m│ \u001b[39m \u001b[33m└\u001b[39m\n",
       "\u001b[90m│ \u001b[39m \u001b[33m @ In[18]:5 within `nextfib`\u001b[39m\n",
       "\u001b[90m└──\u001b[39m      goto #2\n",
       "   \u001b[33m @ In[18]:6 within `nextfib`\u001b[39m\n",
       "\u001b[90m4 ─\u001b[39m      return %2\n",
       ") => Int64"
      ]
     },
     "execution_count": 21,
     "metadata": {},
     "output_type": "execute_result"
    }
   ],
   "source": [
    "@code_typed debuginfo=:source nextfib(1)"
   ]
  },
  {
   "cell_type": "markdown",
   "id": "258d7053-25b4-4bca-9742-b7839e16496b",
   "metadata": {},
   "source": [
    "Note the specialisation on the types, instead of generic `+` and `>`, now specific `add_float`/`add_int` are used!\n",
    "\n",
    "Whereas in Python:\n",
    "\n",
    "```ipython\n",
    "In [1]: import dis\n",
    "\n",
    "In [2]: def nextfib(n):\n",
    "   ...:     a, b = 1, 1\n",
    "   ...:     while b < n:\n",
    "   ...:         a, b = b, a + b\n",
    "   ...:     return b\n",
    "   ...: \n",
    "\n",
    "In [3]: dis.dis(nextfib)\n",
    "  2           0 LOAD_CONST               1 ((1, 1))\n",
    "              2 UNPACK_SEQUENCE          2\n",
    "              4 STORE_FAST               1 (a)\n",
    "              6 STORE_FAST               2 (b)\n",
    "\n",
    "  3           8 LOAD_FAST                2 (b)\n",
    "             10 LOAD_FAST                0 (n)\n",
    "             12 COMPARE_OP               0 (<)\n",
    "             14 POP_JUMP_IF_FALSE       19 (to 38)\n",
    "\n",
    "  4     >>   16 LOAD_FAST                2 (b)\n",
    "             18 LOAD_FAST                1 (a)\n",
    "             20 LOAD_FAST                2 (b)\n",
    "             22 BINARY_ADD\n",
    "             24 ROT_TWO\n",
    "             26 STORE_FAST               1 (a)\n",
    "             28 STORE_FAST               2 (b)\n",
    "\n",
    "  3          30 LOAD_FAST                2 (b)\n",
    "             32 LOAD_FAST                0 (n)\n",
    "             34 COMPARE_OP               0 (<)\n",
    "             36 POP_JUMP_IF_TRUE         8 (to 16)\n",
    "\n",
    "  5     >>   38 LOAD_FAST                2 (b)\n",
    "             40 RETURN_VALUE\n",
    "\n",
    "In [4]: def add(a, b):\n",
    "    ...:     return a.__add__(b)\n",
    "    ...: \n",
    "\n",
    "In [5]: dis.dis(add)\n",
    "  2           0 LOAD_FAST                0 (a)\n",
    "              2 LOAD_METHOD              0 (__add__)\n",
    "              4 LOAD_FAST                1 (b)\n",
    "              6 CALL_METHOD              1\n",
    "              8 RETURN_VALUE\n",
    "```\n",
    "\n",
    "Types are not known, so the correct functions have to be found **each time** an operation is done.\n",
    "\n",
    "Whereas Julia can compile the code once for given input types and then directly call the required function.\n",
    "\n",
    "This crucial process is known as **type inference** and its success is the basis for a good specialization (i.e. performant native code as a result). It will concern us in much more detail tomorrow."
   ]
  },
  {
   "cell_type": "markdown",
   "id": "cd8801d6-f88b-4408-9e0e-a4817bf4b84f",
   "metadata": {},
   "source": [
    "### LLVM IR\n",
    "\n",
    "The next step is to go from lowered typed code to LLMV IR.\n",
    "\n",
    "Julia uses the LLVM compiler framework, which is also used by Rust, Swift, Kotlin, and other languages.\n",
    "\n",
    "'IR' means [Intermediary Representation](https://en.wikipedia.org/wiki/Intermediate_representation):\n",
    "\n",
    "> An intermediate representation (IR) is the data structure or code used internally by a compiler or virtual machine to represent source code. An IR is designed to be conducive to further processing, such as optimization and translation"
   ]
  },
  {
   "cell_type": "code",
   "execution_count": null,
   "id": "734c8319-9858-40c0-9d60-da007d5ce148",
   "metadata": {},
   "outputs": [],
   "source": [
    "function basic_condition(bool::Bool)\n",
    "    if bool\n",
    "        return 0\n",
    "    else\n",
    "        return 1\n",
    "    end\n",
    "end"
   ]
  },
  {
   "cell_type": "code",
   "execution_count": 24,
   "id": "be04425e-6715-418e-b118-9cd30862f4c0",
   "metadata": {},
   "outputs": [
    {
     "data": {
      "text/plain": [
       "CodeInfo(\n",
       "\u001b[90m1 ─\u001b[39m     goto #3 if not bool\n",
       "\u001b[90m2 ─\u001b[39m     return 0\n",
       "\u001b[90m3 ─\u001b[39m     return 1\n",
       ")"
      ]
     },
     "execution_count": 24,
     "metadata": {},
     "output_type": "execute_result"
    }
   ],
   "source": [
    "@code_lowered basic_condition(true) "
   ]
  },
  {
   "cell_type": "code",
   "execution_count": 28,
   "id": "42c97ce2-632a-4653-a190-f90ef9b32670",
   "metadata": {},
   "outputs": [
    {
     "data": {
      "text/latex": [
       "\\begin{verbatim}\n",
       "@code_llvm\n",
       "\\end{verbatim}\n",
       "Evaluates the arguments to the function or macro call, determines their types, and calls \\href{@ref}{\\texttt{code\\_llvm}} on the resulting expression. Set the optional keyword arguments \\texttt{raw}, \\texttt{dump\\_module}, \\texttt{debuginfo}, \\texttt{optimize} by putting them and their value before the function call, like this:\n",
       "\n",
       "\\begin{verbatim}\n",
       "@code_llvm raw=true dump_module=true debuginfo=:default f(x)\n",
       "@code_llvm optimize=false f(x)\n",
       "\\end{verbatim}\n",
       "\\texttt{optimize} controls whether additional optimizations, such as inlining, are also applied. \\texttt{raw} makes all metadata and dbg.* calls visible. \\texttt{debuginfo} may be one of \\texttt{:source} (default) or \\texttt{:none},  to specify the verbosity of code comments. \\texttt{dump\\_module} prints the entire module that encapsulates the function.\n",
       "\n"
      ],
      "text/markdown": [
       "```\n",
       "@code_llvm\n",
       "```\n",
       "\n",
       "Evaluates the arguments to the function or macro call, determines their types, and calls [`code_llvm`](@ref) on the resulting expression. Set the optional keyword arguments `raw`, `dump_module`, `debuginfo`, `optimize` by putting them and their value before the function call, like this:\n",
       "\n",
       "```\n",
       "@code_llvm raw=true dump_module=true debuginfo=:default f(x)\n",
       "@code_llvm optimize=false f(x)\n",
       "```\n",
       "\n",
       "`optimize` controls whether additional optimizations, such as inlining, are also applied. `raw` makes all metadata and dbg.* calls visible. `debuginfo` may be one of `:source` (default) or `:none`,  to specify the verbosity of code comments. `dump_module` prints the entire module that encapsulates the function.\n"
      ],
      "text/plain": [
       "\u001b[36m  @code_llvm\u001b[39m\n",
       "\n",
       "  Evaluates the arguments to the function or macro call, determines their\n",
       "  types, and calls \u001b[36mcode_llvm\u001b[39m on the resulting expression. Set the optional\n",
       "  keyword arguments \u001b[36mraw\u001b[39m, \u001b[36mdump_module\u001b[39m, \u001b[36mdebuginfo\u001b[39m, \u001b[36moptimize\u001b[39m by putting them and\n",
       "  their value before the function call, like this:\n",
       "\n",
       "\u001b[36m  @code_llvm raw=true dump_module=true debuginfo=:default f(x)\u001b[39m\n",
       "\u001b[36m  @code_llvm optimize=false f(x)\u001b[39m\n",
       "\n",
       "  \u001b[36moptimize\u001b[39m controls whether additional optimizations, such as inlining, are\n",
       "  also applied. \u001b[36mraw\u001b[39m makes all metadata and dbg.* calls visible. \u001b[36mdebuginfo\u001b[39m may\n",
       "  be one of \u001b[36m:source\u001b[39m (default) or \u001b[36m:none\u001b[39m, to specify the verbosity of code\n",
       "  comments. \u001b[36mdump_module\u001b[39m prints the entire module that encapsulates the\n",
       "  function."
      ]
     },
     "execution_count": 28,
     "metadata": {},
     "output_type": "execute_result"
    }
   ],
   "source": [
    "?@code_llvm"
   ]
  },
  {
   "cell_type": "code",
   "execution_count": 22,
   "id": "01a33e20",
   "metadata": {},
   "outputs": [
    {
     "name": "stdout",
     "output_type": "stream",
     "text": [
      "\u001b[90m;  @ In[13]:1 within `basic_condition`\u001b[39m\n",
      "\u001b[95mdefine\u001b[39m \u001b[36mi64\u001b[39m \u001b[93m@julia_basic_condition_2527\u001b[39m\u001b[33m(\u001b[39m\u001b[36mi8\u001b[39m \u001b[95mzeroext\u001b[39m \u001b[0m%0\u001b[33m)\u001b[39m \u001b[0m#0 \u001b[33m{\u001b[39m\n",
      "\u001b[91mtop:\u001b[39m\n",
      "\u001b[90m;  @ In[13]:2 within `basic_condition`\u001b[39m\n",
      "  \u001b[0m%1 \u001b[0m= \u001b[96m\u001b[1mand\u001b[22m\u001b[39m \u001b[36mi8\u001b[39m \u001b[0m%0\u001b[0m, \u001b[33m1\u001b[39m\n",
      "  \u001b[0m%2 \u001b[0m= \u001b[96m\u001b[1mxor\u001b[22m\u001b[39m \u001b[36mi8\u001b[39m \u001b[0m%1\u001b[0m, \u001b[33m1\u001b[39m\n",
      "  \u001b[0m%3 \u001b[0m= \u001b[96m\u001b[1mzext\u001b[22m\u001b[39m \u001b[36mi8\u001b[39m \u001b[0m%2 \u001b[95mto\u001b[39m \u001b[36mi64\u001b[39m\n",
      "\u001b[90m;  @ In[13] within `basic_condition`\u001b[39m\n",
      "  \u001b[96m\u001b[1mret\u001b[22m\u001b[39m \u001b[36mi64\u001b[39m \u001b[0m%3\n",
      "\u001b[33m}\u001b[39m\n"
     ]
    }
   ],
   "source": [
    "@code_llvm basic_condition(true)  # dump_module=true shows the 'full' ir"
   ]
  },
  {
   "cell_type": "code",
   "execution_count": null,
   "id": "38ad00a1-e864-4fc9-95ee-f75863985d51",
   "metadata": {},
   "outputs": [],
   "source": [
    "function nextfib(n)\n",
    "    while b < n\n",
    "        a = b or \n",
    "        b = a + b * c\n",
    "    end\n",
    "    return b\n",
    "end"
   ]
  },
  {
   "cell_type": "code",
   "execution_count": 31,
   "id": "93061e38-63b6-4422-a13c-1625a262f72d",
   "metadata": {},
   "outputs": [
    {
     "name": "stdout",
     "output_type": "stream",
     "text": [
      "\u001b[95mdefine\u001b[39m \u001b[36mi64\u001b[39m \u001b[93m@julia_nextfib_2874\u001b[39m\u001b[33m(\u001b[39m\u001b[36mi64\u001b[39m \u001b[95msignext\u001b[39m \u001b[0m%0\u001b[33m)\u001b[39m \u001b[0m#0 \u001b[33m{\u001b[39m\n",
      "\u001b[91mtop:\u001b[39m\n",
      "  \u001b[96m\u001b[1mbr\u001b[22m\u001b[39m \u001b[36mlabel\u001b[39m \u001b[91m%L2\u001b[39m\n",
      "\n",
      "\u001b[91mL2:\u001b[39m                                               \u001b[90m; preds = %L2, %top\u001b[39m\n",
      "  \u001b[0m%value_phi \u001b[0m= \u001b[96m\u001b[1mphi\u001b[22m\u001b[39m \u001b[36mi64\u001b[39m \u001b[33m[\u001b[39m \u001b[33m1\u001b[39m\u001b[0m, \u001b[91m%top\u001b[39m \u001b[33m]\u001b[39m\u001b[0m, \u001b[33m[\u001b[39m \u001b[0m%1\u001b[0m, \u001b[91m%L2\u001b[39m \u001b[33m]\u001b[39m\n",
      "  \u001b[0m%value_phi1 \u001b[0m= \u001b[96m\u001b[1mphi\u001b[22m\u001b[39m \u001b[36mi64\u001b[39m \u001b[33m[\u001b[39m \u001b[33m1\u001b[39m\u001b[0m, \u001b[91m%top\u001b[39m \u001b[33m]\u001b[39m\u001b[0m, \u001b[33m[\u001b[39m \u001b[0m%value_phi\u001b[0m, \u001b[91m%L2\u001b[39m \u001b[33m]\u001b[39m\n",
      "  \u001b[0m%.not \u001b[0m= \u001b[96m\u001b[1micmp\u001b[22m\u001b[39m \u001b[96m\u001b[1mslt\u001b[22m\u001b[39m \u001b[36mi64\u001b[39m \u001b[0m%value_phi\u001b[0m, \u001b[0m%0\n",
      "  \u001b[0m%1 \u001b[0m= \u001b[96m\u001b[1madd\u001b[22m\u001b[39m \u001b[36mi64\u001b[39m \u001b[0m%value_phi1\u001b[0m, \u001b[0m%value_phi\n",
      "  \u001b[96m\u001b[1mbr\u001b[22m\u001b[39m \u001b[36mi1\u001b[39m \u001b[0m%.not\u001b[0m, \u001b[36mlabel\u001b[39m \u001b[91m%L2\u001b[39m\u001b[0m, \u001b[36mlabel\u001b[39m \u001b[91m%L8\u001b[39m\n",
      "\n",
      "\u001b[91mL8:\u001b[39m                                               \u001b[90m; preds = %L2\u001b[39m\n",
      "  \u001b[96m\u001b[1mret\u001b[22m\u001b[39m \u001b[36mi64\u001b[39m \u001b[0m%value_phi\n",
      "\u001b[33m}\u001b[39m\n"
     ]
    }
   ],
   "source": [
    "@code_llvm debuginfo=:none nextfib(1)"
   ]
  },
  {
   "cell_type": "markdown",
   "id": "26d36779-8eed-40e2-82a1-5e3ea0a2ee3f",
   "metadata": {},
   "source": [
    "### Native Code"
   ]
  },
  {
   "cell_type": "code",
   "execution_count": 26,
   "id": "61b4cb7a-70ab-4ffd-bdd6-8acbbb4a6896",
   "metadata": {},
   "outputs": [
    {
     "name": "stdout",
     "output_type": "stream",
     "text": [
      "\t\u001b[0m.text\n",
      "\t\u001b[0m.file\t\u001b[0m\"nextfib\"\n",
      "\t\u001b[0m.globl\t\u001b[0mjulia_nextfib_2652              \u001b[90m# -- Begin function julia_nextfib_2652\u001b[39m\n",
      "\t\u001b[0m.p2align\t\u001b[33m4\u001b[39m\u001b[0m, \u001b[33m0x90\u001b[39m\n",
      "\t\u001b[0m.type\t\u001b[0mjulia_nextfib_2652\u001b[0m,\u001b[0m@function\n",
      "\u001b[91mjulia_nextfib_2652:\u001b[39m                     \u001b[90m# @julia_nextfib_2652\u001b[39m\n",
      "\u001b[90m; ┌ @ In[18]:1 within `nextfib`\u001b[39m\n",
      "\t\u001b[0m.cfi_startproc\n",
      "\u001b[90m# %bb.0:                                # %top\u001b[39m\n",
      "\t\u001b[96m\u001b[1mmovl\u001b[22m\u001b[39m\t\u001b[33m$1\u001b[39m\u001b[0m, \u001b[0m%ecx\n",
      "\t\u001b[96m\u001b[1mmovl\u001b[22m\u001b[39m\t\u001b[33m$1\u001b[39m\u001b[0m, \u001b[0m%eax\n",
      "\t\u001b[0m.p2align\t\u001b[33m4\u001b[39m\u001b[0m, \u001b[33m0x90\u001b[39m\n",
      "\u001b[91m.LBB0_1:\u001b[39m                                \u001b[90m# %L2\u001b[39m\n",
      "                                        \u001b[90m# =>This Inner Loop Header: Depth=1\u001b[39m\n",
      "\t\u001b[96m\u001b[1mmovq\u001b[22m\u001b[39m\t\u001b[0m%rax\u001b[0m, \u001b[0m%rdx\n",
      "\t\u001b[96m\u001b[1mmovq\u001b[22m\u001b[39m\t\u001b[0m%rcx\u001b[0m, \u001b[0m%rax\n",
      "\u001b[90m; │ @ In[18]:4 within `nextfib`\u001b[39m\n",
      "\u001b[90m; │┌ @ int.jl:87 within `+`\u001b[39m\n",
      "\t\u001b[96m\u001b[1maddq\u001b[22m\u001b[39m\t\u001b[0m%rcx\u001b[0m, \u001b[0m%rdx\n",
      "\t\u001b[96m\u001b[1mmovq\u001b[22m\u001b[39m\t\u001b[0m%rdx\u001b[0m, \u001b[0m%rcx\n",
      "\u001b[90m; │└\u001b[39m\n",
      "\u001b[90m; │ @ In[18]:3 within `nextfib`\u001b[39m\n",
      "\u001b[90m; │┌ @ int.jl:83 within `<`\u001b[39m\n",
      "\t\u001b[96m\u001b[1mcmpq\u001b[22m\u001b[39m\t\u001b[0m%rdi\u001b[0m, \u001b[0m%rax\n",
      "\u001b[90m; │└\u001b[39m\n",
      "\t\u001b[96m\u001b[1mjl\u001b[22m\u001b[39m\t\u001b[0m.LBB0_1\n",
      "\u001b[90m# %bb.2:                                # %L8\u001b[39m\n",
      "\u001b[90m; │ @ In[18]:6 within `nextfib`\u001b[39m\n",
      "\t\u001b[96m\u001b[1mretq\u001b[22m\u001b[39m\n",
      "\u001b[91m.Lfunc_end0:\u001b[39m\n",
      "\t\u001b[0m.size\t\u001b[0mjulia_nextfib_2652\u001b[0m, \u001b[0m.Lfunc_end0-julia_nextfib_2652\n",
      "\t\u001b[0m.cfi_endproc\n",
      "\u001b[90m; └\u001b[39m\n",
      "                                        \u001b[90m# -- End function\u001b[39m\n",
      "\t\u001b[0m.section\t\u001b[0m\".note.GNU-stack\"\u001b[0m,\u001b[0m\"\"\u001b[0m,\u001b[0m@progbits\n"
     ]
    }
   ],
   "source": [
    "@code_native debuginfo=:source nextfib(1)  # binary=true to see the raw binary code"
   ]
  },
  {
   "cell_type": "markdown",
   "id": "c8b6ed56",
   "metadata": {},
   "source": [
    "Let's compare this to integer input.\n"
   ]
  },
  {
   "cell_type": "code",
   "execution_count": 27,
   "id": "ff6e9653",
   "metadata": {},
   "outputs": [
    {
     "name": "stdout",
     "output_type": "stream",
     "text": [
      "\t\u001b[0m.text\n",
      "\t\u001b[0m.file\t\u001b[0m\"nextfib\"\n",
      "\t\u001b[0m.section\t\u001b[0m.rodata.cst8\u001b[0m,\u001b[0m\"aM\"\u001b[0m,\u001b[0m@progbits\u001b[0m,\u001b[33m8\u001b[39m\n",
      "\t\u001b[0m.p2align\t\u001b[33m3\u001b[39m                               \u001b[90m# -- Begin function julia_nextfib_2656\u001b[39m\n",
      "\u001b[91m.LCPI0_0:\u001b[39m\n",
      "\t\u001b[0m.quad\t\u001b[33m0x3ff0000000000000\u001b[39m              \u001b[90m# double 1\u001b[39m\n",
      "\t\u001b[0m.text\n",
      "\t\u001b[0m.globl\t\u001b[0mjulia_nextfib_2656\n",
      "\t\u001b[0m.p2align\t\u001b[33m4\u001b[39m\u001b[0m, \u001b[33m0x90\u001b[39m\n",
      "\t\u001b[0m.type\t\u001b[0mjulia_nextfib_2656\u001b[0m,\u001b[0m@function\n",
      "\u001b[91mjulia_nextfib_2656:\u001b[39m                     \u001b[90m# @julia_nextfib_2656\u001b[39m\n",
      "\u001b[90m; ┌ @ In[18]:1 within `nextfib`\u001b[39m\n",
      "\t\u001b[0m.cfi_startproc\n",
      "\u001b[90m# %bb.0:                                # %top\u001b[39m\n",
      "\t\u001b[96m\u001b[1mmovabsq\u001b[22m\u001b[39m\t\u001b[93m$.LCPI0_0\u001b[39m\u001b[0m, \u001b[0m%rax\n",
      "\t\u001b[96m\u001b[1mvmovsd\u001b[22m\u001b[39m\t\u001b[33m(\u001b[39m\u001b[0m%rax\u001b[33m)\u001b[39m\u001b[0m, \u001b[0m%xmm1                   \u001b[90m# xmm1 = mem[0],zero\u001b[39m\n",
      "\u001b[90m; │ @ In[18]:3 within `nextfib`\u001b[39m\n",
      "\u001b[90m; │┌ @ float.jl:412 within `<`\u001b[39m\n",
      "\t\u001b[96m\u001b[1mvucomisd\u001b[22m\u001b[39m\t\u001b[0m%xmm1\u001b[0m, \u001b[0m%xmm0\n",
      "\u001b[90m; │└\u001b[39m\n",
      "\t\u001b[96m\u001b[1mjbe\u001b[22m\u001b[39m\t\u001b[0m.LBB0_3\n",
      "\u001b[90m# %bb.1:                                # %L6.preheader\u001b[39m\n",
      "\t\u001b[96m\u001b[1mvmovsd\u001b[22m\u001b[39m\t\u001b[33m(\u001b[39m\u001b[0m%rax\u001b[33m)\u001b[39m\u001b[0m, \u001b[0m%xmm2                   \u001b[90m# xmm2 = mem[0],zero\u001b[39m\n",
      "\t\u001b[96m\u001b[1mvmovapd\u001b[22m\u001b[39m\t\u001b[0m%xmm2\u001b[0m, \u001b[0m%xmm3\n",
      "\t\u001b[0m.p2align\t\u001b[33m4\u001b[39m\u001b[0m, \u001b[33m0x90\u001b[39m\n",
      "\u001b[91m.LBB0_2:\u001b[39m                                \u001b[90m# %L6\u001b[39m\n",
      "                                        \u001b[90m# =>This Inner Loop Header: Depth=1\u001b[39m\n",
      "\u001b[90m; │ @ In[18]:4 within `nextfib`\u001b[39m\n",
      "\u001b[90m; │┌ @ float.jl:383 within `+`\u001b[39m\n",
      "\t\u001b[96m\u001b[1mvaddsd\u001b[22m\u001b[39m\t\u001b[0m%xmm2\u001b[0m, \u001b[0m%xmm3\u001b[0m, \u001b[0m%xmm1\n",
      "\t\u001b[96m\u001b[1mvmovapd\u001b[22m\u001b[39m\t\u001b[0m%xmm3\u001b[0m, \u001b[0m%xmm2\n",
      "\u001b[90m; │└\u001b[39m\n",
      "\u001b[90m; │ @ In[18]:3 within `nextfib`\u001b[39m\n",
      "\u001b[90m; │┌ @ float.jl:412 within `<`\u001b[39m\n",
      "\t\u001b[96m\u001b[1mvucomisd\u001b[22m\u001b[39m\t\u001b[0m%xmm1\u001b[0m, \u001b[0m%xmm0\n",
      "\t\u001b[96m\u001b[1mvmovapd\u001b[22m\u001b[39m\t\u001b[0m%xmm1\u001b[0m, \u001b[0m%xmm3\n",
      "\u001b[90m; │└\u001b[39m\n",
      "\t\u001b[96m\u001b[1mja\u001b[22m\u001b[39m\t\u001b[0m.LBB0_2\n",
      "\u001b[91m.LBB0_3:\u001b[39m                                \u001b[90m# %L8\u001b[39m\n",
      "\u001b[90m; │ @ In[18]:6 within `nextfib`\u001b[39m\n",
      "\t\u001b[96m\u001b[1mvmovapd\u001b[22m\u001b[39m\t\u001b[0m%xmm1\u001b[0m, \u001b[0m%xmm0\n",
      "\t\u001b[96m\u001b[1mretq\u001b[22m\u001b[39m\n",
      "\u001b[91m.Lfunc_end0:\u001b[39m\n",
      "\t\u001b[0m.size\t\u001b[0mjulia_nextfib_2656\u001b[0m, \u001b[0m.Lfunc_end0-julia_nextfib_2656\n",
      "\t\u001b[0m.cfi_endproc\n",
      "\u001b[90m; └\u001b[39m\n",
      "                                        \u001b[90m# -- End function\u001b[39m\n",
      "\t\u001b[0m.section\t\u001b[0m\".note.GNU-stack\"\u001b[0m,\u001b[0m\"\"\u001b[0m,\u001b[0m@progbits\n"
     ]
    }
   ],
   "source": [
    "@code_native debuginfo=:source nextfib(1.0)"
   ]
  },
  {
   "cell_type": "markdown",
   "id": "45872508",
   "metadata": {},
   "source": [
    "## How Important is Specialization?\n",
    "\n",
    "Let's try to estimate the performance gain by specialization, we can do this by breaking the compilation process by throwing away type information.\n",
    "\n",
    "This way Julia will act, roughly, in the same way as Python: it has to work out what can be done to a variable every single time it encounters it. We can do this by storing the variables in a `Vector{Any}`.\n",
    "\n",
    "First, let's write the same `nextfib` function in Python and benchmark it:\n",
    "\n",
    "```ipython\n",
    "In [1]: def nextfib(n):\n",
    "   ...:     a, b = 1, 1\n",
    "   ...:     while b < n:\n",
    "   ...:         a, b = b, a + b\n",
    "   ...:     return b\n",
    "   ...: \n",
    "\n",
    "In [2]: %timeit nextfib(100_000)\n",
    "951 ns ± 7.39 ns per loop (mean ± std. dev. of 7 runs, 1,000,000 loops each)\n",
    "```"
   ]
  },
  {
   "cell_type": "markdown",
   "id": "f0e1cff6-1b37-4de8-b982-f2d8a5338af7",
   "metadata": {},
   "source": [
    "Now, for reference, here is the standard implementation in Julia:"
   ]
  },
  {
   "cell_type": "code",
   "execution_count": 32,
   "id": "dc1c5d16-db4a-4484-af9b-2ee25431ee41",
   "metadata": {},
   "outputs": [
    {
     "data": {
      "text/plain": [
       "nextfib (generic function with 1 method)"
      ]
     },
     "execution_count": 32,
     "metadata": {},
     "output_type": "execute_result"
    }
   ],
   "source": [
    "function nextfib(n)\n",
    "    a, b = one(n), one(n)\n",
    "    while b < n\n",
    "        a, b = b, a + b\n",
    "    end\n",
    "    return b\n",
    "end"
   ]
  },
  {
   "cell_type": "code",
   "execution_count": 35,
   "id": "e83f9b39-6678-46ed-9a56-42a78a72a9c5",
   "metadata": {},
   "outputs": [
    {
     "data": {
      "text/plain": [
       "BenchmarkTools.Trial: 10000 samples with 1000 evaluations.\n",
       " Range \u001b[90m(\u001b[39m\u001b[36m\u001b[1mmin\u001b[22m\u001b[39m … \u001b[35mmax\u001b[39m\u001b[90m):  \u001b[39m\u001b[36m\u001b[1m2.264 ns\u001b[22m\u001b[39m … \u001b[35m17.914 ns\u001b[39m  \u001b[90m┊\u001b[39m GC \u001b[90m(\u001b[39mmin … max\u001b[90m): \u001b[39m0.00% … 0.00%\n",
       " Time  \u001b[90m(\u001b[39m\u001b[34m\u001b[1mmedian\u001b[22m\u001b[39m\u001b[90m):     \u001b[39m\u001b[34m\u001b[1m2.284 ns              \u001b[22m\u001b[39m\u001b[90m┊\u001b[39m GC \u001b[90m(\u001b[39mmedian\u001b[90m):    \u001b[39m0.00%\n",
       " Time  \u001b[90m(\u001b[39m\u001b[32m\u001b[1mmean\u001b[22m\u001b[39m ± \u001b[32mσ\u001b[39m\u001b[90m):   \u001b[39m\u001b[32m\u001b[1m2.390 ns\u001b[22m\u001b[39m ± \u001b[32m 0.329 ns\u001b[39m  \u001b[90m┊\u001b[39m GC \u001b[90m(\u001b[39mmean ± σ\u001b[90m):  \u001b[39m0.00% ± 0.00%\n",
       "\n",
       "  \u001b[39m▆\u001b[39m█\u001b[34m▆\u001b[39m\u001b[39m▂\u001b[39m \u001b[39m \u001b[39m \u001b[39m \u001b[39m \u001b[32m \u001b[39m\u001b[39m \u001b[39m \u001b[39m \u001b[39m \u001b[39m \u001b[39m \u001b[39m \u001b[39m \u001b[39m \u001b[39m \u001b[39m \u001b[39m▃\u001b[39m▁\u001b[39m \u001b[39m \u001b[39m \u001b[39m \u001b[39m \u001b[39m \u001b[39m \u001b[39m \u001b[39m \u001b[39m \u001b[39m \u001b[39m \u001b[39m \u001b[39m \u001b[39m \u001b[39m \u001b[39m \u001b[39m \u001b[39m \u001b[39m \u001b[39m \u001b[39m \u001b[39m \u001b[39m \u001b[39m \u001b[39m \u001b[39m \u001b[39m \u001b[39m \u001b[39m \u001b[39m \u001b[39m \u001b[39m \u001b[39m▂\u001b[39m▅\u001b[39m \u001b[39m▂\n",
       "  \u001b[39m█\u001b[39m█\u001b[34m█\u001b[39m\u001b[39m█\u001b[39m▄\u001b[39m▄\u001b[39m▅\u001b[39m▄\u001b[39m▅\u001b[32m▅\u001b[39m\u001b[39m▃\u001b[39m▄\u001b[39m▅\u001b[39m▃\u001b[39m▅\u001b[39m▅\u001b[39m▃\u001b[39m▄\u001b[39m▆\u001b[39m▅\u001b[39m█\u001b[39m█\u001b[39m█\u001b[39m▇\u001b[39m█\u001b[39m▆\u001b[39m▇\u001b[39m█\u001b[39m▆\u001b[39m▇\u001b[39m█\u001b[39m▆\u001b[39m▄\u001b[39m▅\u001b[39m▅\u001b[39m▃\u001b[39m▅\u001b[39m▅\u001b[39m▃\u001b[39m▄\u001b[39m▃\u001b[39m▄\u001b[39m▄\u001b[39m▄\u001b[39m▄\u001b[39m▁\u001b[39m▁\u001b[39m▁\u001b[39m▅\u001b[39m▁\u001b[39m▁\u001b[39m▄\u001b[39m▁\u001b[39m▁\u001b[39m▄\u001b[39m▁\u001b[39m█\u001b[39m█\u001b[39m \u001b[39m█\n",
       "  2.26 ns\u001b[90m      \u001b[39m\u001b[90mHistogram: \u001b[39m\u001b[90m\u001b[1mlog(\u001b[22m\u001b[39m\u001b[90mfrequency\u001b[39m\u001b[90m\u001b[1m)\u001b[22m\u001b[39m\u001b[90m by time\u001b[39m     3.04 ns \u001b[0m\u001b[1m<\u001b[22m\n",
       "\n",
       " Memory estimate\u001b[90m: \u001b[39m\u001b[33m0 bytes\u001b[39m, allocs estimate\u001b[90m: \u001b[39m\u001b[33m0\u001b[39m."
      ]
     },
     "execution_count": 35,
     "metadata": {},
     "output_type": "execute_result"
    }
   ],
   "source": [
    "@benchmark nextfib(100_000)"
   ]
  },
  {
   "cell_type": "markdown",
   "id": "bc4fd783-82cb-477b-a88d-2757a84aa78a",
   "metadata": {},
   "source": [
    "And the broken version, which:\n",
    "\n",
    "- Throws away type information by storing variables in a `Vector{Any}`\n",
    "- Force enables bounds-checks for situations where they could be optimised away (e.g. the 3-element vector)\n",
    "- Disables specialisation on the argument `n`"
   ]
  },
  {
   "cell_type": "code",
   "execution_count": 36,
   "id": "d08cb391-242f-49e1-a8c2-7f816c42637a",
   "metadata": {},
   "outputs": [
    {
     "data": {
      "text/plain": [
       "nextfib_bad (generic function with 1 method)"
      ]
     },
     "execution_count": 36,
     "metadata": {},
     "output_type": "execute_result"
    }
   ],
   "source": [
    "function nextfib_bad(n)\n",
    "    vars::Vector{Any} = [1, 1, n]\n",
    "    while vars[2] < vars[3]\n",
    "        vars[1], vars[2] = vars[2], vars[1] + vars[2]\n",
    "    end\n",
    "    return vars[2]\n",
    "end"
   ]
  },
  {
   "cell_type": "code",
   "execution_count": 37,
   "id": "8eb8fb0d-ba2d-4684-baf4-af683a1ea520",
   "metadata": {},
   "outputs": [
    {
     "data": {
      "text/plain": [
       "BenchmarkTools.Trial: 10000 samples with 10 evaluations.\n",
       " Range \u001b[90m(\u001b[39m\u001b[36m\u001b[1mmin\u001b[22m\u001b[39m … \u001b[35mmax\u001b[39m\u001b[90m):  \u001b[39m\u001b[36m\u001b[1m1.211 μs\u001b[22m\u001b[39m … \u001b[35m  4.438 μs\u001b[39m  \u001b[90m┊\u001b[39m GC \u001b[90m(\u001b[39mmin … max\u001b[90m): \u001b[39m0.00% … 0.00%\n",
       " Time  \u001b[90m(\u001b[39m\u001b[34m\u001b[1mmedian\u001b[22m\u001b[39m\u001b[90m):     \u001b[39m\u001b[34m\u001b[1m1.365 μs               \u001b[22m\u001b[39m\u001b[90m┊\u001b[39m GC \u001b[90m(\u001b[39mmedian\u001b[90m):    \u001b[39m0.00%\n",
       " Time  \u001b[90m(\u001b[39m\u001b[32m\u001b[1mmean\u001b[22m\u001b[39m ± \u001b[32mσ\u001b[39m\u001b[90m):   \u001b[39m\u001b[32m\u001b[1m1.413 μs\u001b[22m\u001b[39m ± \u001b[32m199.772 ns\u001b[39m  \u001b[90m┊\u001b[39m GC \u001b[90m(\u001b[39mmean ± σ\u001b[90m):  \u001b[39m0.00% ± 0.00%\n",
       "\n",
       "  \u001b[39m \u001b[39m▇\u001b[39m▆\u001b[39m \u001b[39m \u001b[39m█\u001b[39m \u001b[39m \u001b[34m \u001b[39m\u001b[39m \u001b[39m \u001b[32m \u001b[39m\u001b[39m▁\u001b[39m▁\u001b[39m \u001b[39m \u001b[39m \u001b[39m \u001b[39m \u001b[39m \u001b[39m \u001b[39m \u001b[39m \u001b[39m \u001b[39m \u001b[39m \u001b[39m \u001b[39m \u001b[39m \u001b[39m \u001b[39m \u001b[39m \u001b[39m \u001b[39m \u001b[39m \u001b[39m \u001b[39m \u001b[39m \u001b[39m \u001b[39m \u001b[39m \u001b[39m \u001b[39m \u001b[39m \u001b[39m \u001b[39m \u001b[39m \u001b[39m \u001b[39m \u001b[39m \u001b[39m \u001b[39m \u001b[39m \u001b[39m \u001b[39m \u001b[39m \u001b[39m \u001b[39m \u001b[39m \u001b[39m \u001b[39m \n",
       "  \u001b[39m▃\u001b[39m█\u001b[39m█\u001b[39m▄\u001b[39m▅\u001b[39m█\u001b[39m▇\u001b[39m▆\u001b[34m▇\u001b[39m\u001b[39m▅\u001b[39m▄\u001b[32m▇\u001b[39m\u001b[39m█\u001b[39m█\u001b[39m▆\u001b[39m▄\u001b[39m▄\u001b[39m▄\u001b[39m▃\u001b[39m▃\u001b[39m▃\u001b[39m▃\u001b[39m▂\u001b[39m▂\u001b[39m▂\u001b[39m▂\u001b[39m▂\u001b[39m▁\u001b[39m▁\u001b[39m▂\u001b[39m▁\u001b[39m▁\u001b[39m▁\u001b[39m▁\u001b[39m▁\u001b[39m▁\u001b[39m▁\u001b[39m▁\u001b[39m▁\u001b[39m▁\u001b[39m▁\u001b[39m▁\u001b[39m▁\u001b[39m▁\u001b[39m▁\u001b[39m▁\u001b[39m▁\u001b[39m▁\u001b[39m▁\u001b[39m▁\u001b[39m▁\u001b[39m▁\u001b[39m▁\u001b[39m▁\u001b[39m▁\u001b[39m▁\u001b[39m▁\u001b[39m▁\u001b[39m▁\u001b[39m \u001b[39m▂\n",
       "  1.21 μs\u001b[90m         Histogram: frequency by time\u001b[39m        2.29 μs \u001b[0m\u001b[1m<\u001b[22m\n",
       "\n",
       " Memory estimate\u001b[90m: \u001b[39m\u001b[33m368 bytes\u001b[39m, allocs estimate\u001b[90m: \u001b[39m\u001b[33m15\u001b[39m."
      ]
     },
     "execution_count": 37,
     "metadata": {},
     "output_type": "execute_result"
    }
   ],
   "source": [
    "@benchmark nextfib_bad(100_000)"
   ]
  },
  {
   "cell_type": "markdown",
   "id": "9f28ec77-900e-4380-b148-569a6a063bf8",
   "metadata": {},
   "source": [
    "This is (on my computer) *almost* the same as the Python version!"
   ]
  },
  {
   "cell_type": "code",
   "execution_count": 39,
   "id": "4f3b64ca-4df3-471e-82fb-582d872fb587",
   "metadata": {},
   "outputs": [],
   "source": [
    "# @code_typed nextfib_bad(100)"
   ]
  },
  {
   "cell_type": "code",
   "execution_count": 41,
   "id": "c70cd881-b2f0-4559-8015-5953c3fea257",
   "metadata": {},
   "outputs": [],
   "source": [
    "# @code_native nextfib_bad(100)"
   ]
  },
  {
   "cell_type": "markdown",
   "id": "da5f9544",
   "metadata": {},
   "source": [
    "## Types vs Values\n",
    "\n",
    "In high performance computing, compilation time (order of seconds or minutes) is typically neglectable compared to the actual time it takes to perform the computation (readily on the orders of hours/days/weeks). Therefore, we generally want to optimize for runtime efficiency even if this means that compilation time goes up by a reasonable amount.\n",
    "\n",
    "**Julia specializes on input types and not values!**\n",
    "\n",
    "Primarily it is **type information** that is used by the compiler to specialize code. (There are special techniques like, e.g., constant propagation and others that we are neglecting here.)\n",
    "\n",
    "(Very) roughly speaking, the more information there is in *type space* (e.g. in type parameters) the higher the likelihood that the compiler produces fast and efficient code.\n",
    "\n",
    "As before, here is a Python benchmark:\n",
    "\n",
    "```ipython\n",
    "In [1]: import numpy as np\n",
    "\n",
    "In [2]: A = np.random.rand(10, 10)\n",
    "\n",
    "In [3]: B = np.random.rand(10, 10)\n",
    "\n",
    "In [4]: %timeit A + B\n",
    "507 ns ± 4.51 ns per loop (mean ± std. dev. of 7 runs, 1,000,000 loops each)\n",
    "```"
   ]
  },
  {
   "cell_type": "code",
   "execution_count": null,
   "id": "163ae4bc-6da0-433b-9086-44d848ba0270",
   "metadata": {},
   "outputs": [],
   "source": [
    "np = pyimport(\"numpy\")\n",
    "\n",
    "A = np.random.rand(10, 10)\n",
    "B = np.random.rand(10, 10);"
   ]
  },
  {
   "cell_type": "code",
   "execution_count": null,
   "id": "4d21a729-511b-4df5-abef-1034a239e4da",
   "metadata": {},
   "outputs": [],
   "source": [
    "@btime $A + $B;"
   ]
  },
  {
   "cell_type": "code",
   "execution_count": 53,
   "id": "a0af51d7-1d2c-416c-a935-440012155dbe",
   "metadata": {},
   "outputs": [
    {
     "name": "stdout",
     "output_type": "stream",
     "text": [
      "  133.979 ns (1 allocation: 896 bytes)\n"
     ]
    }
   ],
   "source": [
    "A = rand(10, 10);\n",
    "B = rand(10, 10);\n",
    "@btime $A + $B;"
   ]
  },
  {
   "cell_type": "code",
   "execution_count": 44,
   "id": "11b5657f-825a-4211-9848-46351c589afa",
   "metadata": {},
   "outputs": [
    {
     "data": {
      "text/plain": [
       "Matrix{Float64}\u001b[90m (alias for \u001b[39m\u001b[90mArray{Float64, 2}\u001b[39m\u001b[90m)\u001b[39m"
      ]
     },
     "execution_count": 44,
     "metadata": {},
     "output_type": "execute_result"
    }
   ],
   "source": [
    "typeof(A)"
   ]
  },
  {
   "cell_type": "code",
   "execution_count": 45,
   "id": "17f87615-b7bc-4c32-a775-5e8c41704880",
   "metadata": {},
   "outputs": [
    {
     "data": {
      "text/plain": [
       "(10, 10)"
      ]
     },
     "execution_count": 45,
     "metadata": {},
     "output_type": "execute_result"
    }
   ],
   "source": [
    "size(A)"
   ]
  },
  {
   "cell_type": "code",
   "execution_count": 46,
   "id": "bd2fb5d0-c3c7-487d-a7a0-13ca16502dd3",
   "metadata": {
    "tags": [
     "raises-exception"
    ]
   },
   "outputs": [
    {
     "ename": "LoadError",
     "evalue": "MethodError: no method matching size(::Type{Matrix{Float64}})\n\u001b[0mClosest candidates are:\n\u001b[0m  size(\u001b[91m::Union{LinearAlgebra.Adjoint{T, var\"#s886\"}, LinearAlgebra.Transpose{T, var\"#s886\"}} where {T, var\"#s886\"<:(AbstractVector)}\u001b[39m) at /usr/share/julia/stdlib/v1.8/LinearAlgebra/src/adjtrans.jl:173\n\u001b[0m  size(\u001b[91m::Union{LinearAlgebra.Adjoint{T, var\"#s886\"}, LinearAlgebra.Transpose{T, var\"#s886\"}} where {T, var\"#s886\"<:(AbstractMatrix)}\u001b[39m) at /usr/share/julia/stdlib/v1.8/LinearAlgebra/src/adjtrans.jl:174\n\u001b[0m  size(\u001b[91m::Union{LinearAlgebra.QR, LinearAlgebra.QRCompactWY, LinearAlgebra.QRPivoted}\u001b[39m) at /usr/share/julia/stdlib/v1.8/LinearAlgebra/src/qr.jl:581\n\u001b[0m  ...",
     "output_type": "error",
     "traceback": [
      "MethodError: no method matching size(::Type{Matrix{Float64}})\n\u001b[0mClosest candidates are:\n\u001b[0m  size(\u001b[91m::Union{LinearAlgebra.Adjoint{T, var\"#s886\"}, LinearAlgebra.Transpose{T, var\"#s886\"}} where {T, var\"#s886\"<:(AbstractVector)}\u001b[39m) at /usr/share/julia/stdlib/v1.8/LinearAlgebra/src/adjtrans.jl:173\n\u001b[0m  size(\u001b[91m::Union{LinearAlgebra.Adjoint{T, var\"#s886\"}, LinearAlgebra.Transpose{T, var\"#s886\"}} where {T, var\"#s886\"<:(AbstractMatrix)}\u001b[39m) at /usr/share/julia/stdlib/v1.8/LinearAlgebra/src/adjtrans.jl:174\n\u001b[0m  size(\u001b[91m::Union{LinearAlgebra.QR, LinearAlgebra.QRCompactWY, LinearAlgebra.QRPivoted}\u001b[39m) at /usr/share/julia/stdlib/v1.8/LinearAlgebra/src/qr.jl:581\n\u001b[0m  ...",
      "",
      "Stacktrace:",
      " [1] top-level scope",
      "   @ In[46]:1"
     ]
    }
   ],
   "source": [
    "size(typeof(A)) # the size of A isn't type information"
   ]
  },
  {
   "cell_type": "code",
   "execution_count": 47,
   "id": "0479abf8-6736-496a-8edc-8d448c914ada",
   "metadata": {},
   "outputs": [],
   "source": [
    "using StaticArrays"
   ]
  },
  {
   "cell_type": "code",
   "execution_count": 48,
   "id": "02b3c143-ed54-4646-82e9-bbfd9e341c9e",
   "metadata": {},
   "outputs": [],
   "source": [
    "A = @SMatrix rand(10, 10);\n",
    "B = @SMatrix rand(10, 10);"
   ]
  },
  {
   "cell_type": "code",
   "execution_count": 49,
   "id": "c67369e7-e0a7-4394-a762-2e01f327a6a5",
   "metadata": {},
   "outputs": [
    {
     "data": {
      "text/plain": [
       "SMatrix{10, 10, Float64, 100}\u001b[90m (alias for \u001b[39m\u001b[90mSArray{Tuple{10, 10}, Float64, 2, 100}\u001b[39m\u001b[90m)\u001b[39m"
      ]
     },
     "execution_count": 49,
     "metadata": {},
     "output_type": "execute_result"
    }
   ],
   "source": [
    "typeof(A)"
   ]
  },
  {
   "cell_type": "code",
   "execution_count": 50,
   "id": "54aeddb0-6785-41ce-94c6-e14a8b42a979",
   "metadata": {},
   "outputs": [
    {
     "data": {
      "text/plain": [
       "(10, 10)"
      ]
     },
     "execution_count": 50,
     "metadata": {},
     "output_type": "execute_result"
    }
   ],
   "source": [
    "size(typeof(A)) # the size of A is type information!"
   ]
  },
  {
   "cell_type": "code",
   "execution_count": 54,
   "id": "de19eb53-1c41-472c-a3f9-6f45c67ecbd2",
   "metadata": {},
   "outputs": [
    {
     "name": "stdout",
     "output_type": "stream",
     "text": [
      "  133.269 ns (1 allocation: 896 bytes)\n"
     ]
    }
   ],
   "source": [
    "@btime $A + $B;"
   ]
  },
  {
   "cell_type": "code",
   "execution_count": 51,
   "id": "1923b787-c8f6-4f71-802b-b18580412fe5",
   "metadata": {},
   "outputs": [
    {
     "name": "stdout",
     "output_type": "stream",
     "text": [
      "  30.580 ns (0 allocations: 0 bytes)\n"
     ]
    }
   ],
   "source": [
    "@btime $A + $B;"
   ]
  },
  {
   "cell_type": "markdown",
   "id": "2db23462-d3a6-4959-abb5-0f3343a69a2d",
   "metadata": {},
   "source": [
    "**StaticArrays.jl**\n",
    "\n",
    "```\n",
    "============================================\n",
    "    Benchmarks for 3×3 Float64 matrices\n",
    "============================================\n",
    "Matrix multiplication               -> 5.9x speedup\n",
    "Matrix multiplication (mutating)    -> 1.8x speedup\n",
    "Matrix addition                     -> 33.1x speedup\n",
    "Matrix addition (mutating)          -> 2.5x speedup\n",
    "Matrix determinant                  -> 112.9x speedup\n",
    "Matrix inverse                      -> 67.8x speedup\n",
    "Matrix symmetric eigendecomposition -> 25.0x speedup\n",
    "Matrix Cholesky decomposition       -> 8.8x speedup\n",
    "Matrix LU decomposition             -> 6.1x speedup\n",
    "Matrix QR decomposition             -> 65.0x speedup\n",
    "```"
   ]
  },
  {
   "cell_type": "markdown",
   "id": "93c1f27c-daf2-4072-b165-847af504760e",
   "metadata": {},
   "source": [
    "### Why not always use static arrays then?!\n",
    "\n",
    "By putting more information in the type you are putting more stress on the compiler to optimize things.\n",
    "\n",
    "Specifically, if static arrays are too big compile time can explode or the compiler might just give up and fall back to an inefficient default version.\n",
    "\n",
    "Generally speaking, static arrays are only useful as small fixed-size arrays."
   ]
  },
  {
   "cell_type": "code",
   "execution_count": null,
   "id": "4001e71a",
   "metadata": {},
   "outputs": [],
   "source": [
    "# should take (much) longer to compile and the speedup should be gone as well\n",
    "# if it isn't, increase N a little bit\n",
    "N = 100\n",
    "M = rand(N,N);\n",
    "Mstatic = SMatrix{N,N}(M);\n",
    "\n",
    "@btime $Mstatic + $Mstatic;\n",
    "@btime $M + $M;"
   ]
  },
  {
   "cell_type": "markdown",
   "id": "c73d775e-d103-46b4-9df7-6d99cfe6a0d9",
   "metadata": {},
   "source": [
    "### Dispatch and Specialization\n",
    "\n",
    "Having a reasonable amount of information encoded in the type domain isn't only useful to help the compiler (specialization) but also for dispatching to the most specific (and therefore hopfully most performant) method of a function.\n",
    "\n",
    "**Types drive both specialization and multiple dispatch!**\n",
    "\n",
    "In this sense, multiple dispatch is essentially the first step of the specialization process where Julia chooses between different implementations.\n",
    "\n",
    "#### Example: Determinant of a 2x2 matrix\n",
    "\n",
    "Let's say your task would be to write a function computing the determinant of a 2x2 matrix. How would you implement it?\n",
    "\n",
    "Probably you'd say, well I know the formula for computing the determinant of a 2x2 matrix! Let's just implement it.\n",
    "\n",
    "In Python:\n",
    "\n",
    "```ipython\n",
    "In [1]: import numpy as np\n",
    "\n",
    "In [2]: M = np.array([[1, 2], [3, 4]])\n",
    "\n",
    "In [3]: def det_2x2(X):\n",
    "   ...:     return X[0, 0] * X[1, 1] - X[0, 1] * X[1, 0]\n",
    "   ...: \n",
    "\n",
    "In [4]: %timeit det_2x2(M)\n",
    "502 ns ± 10.5 ns per loop (mean ± std. dev. of 7 runs, 1,000,000 loops each)\n",
    "```\n",
    "\n",
    "And for Julia:"
   ]
  },
  {
   "cell_type": "code",
   "execution_count": 1,
   "id": "bdfbdff2-20a9-4242-abbd-2ba611e50d23",
   "metadata": {},
   "outputs": [],
   "source": [
    "using BenchmarkTools"
   ]
  },
  {
   "cell_type": "code",
   "execution_count": 2,
   "id": "a289b82e",
   "metadata": {},
   "outputs": [
    {
     "data": {
      "text/plain": [
       "det_2x2 (generic function with 1 method)"
      ]
     },
     "execution_count": 2,
     "metadata": {},
     "output_type": "execute_result"
    }
   ],
   "source": [
    "det_2x2(X) = X[1, 1] * X[2, 2] - X[1, 2] * X[2, 1]"
   ]
  },
  {
   "cell_type": "code",
   "execution_count": 3,
   "id": "a9090407",
   "metadata": {},
   "outputs": [
    {
     "data": {
      "text/plain": [
       "2×2 Matrix{Int64}:\n",
       " 1  2\n",
       " 3  4"
      ]
     },
     "execution_count": 3,
     "metadata": {},
     "output_type": "execute_result"
    }
   ],
   "source": [
    "M = [1 2; 3 4]"
   ]
  },
  {
   "cell_type": "code",
   "execution_count": 4,
   "id": "9b039f2b",
   "metadata": {},
   "outputs": [
    {
     "data": {
      "text/plain": [
       "-2"
      ]
     },
     "execution_count": 4,
     "metadata": {},
     "output_type": "execute_result"
    }
   ],
   "source": [
    "det_2x2(M)"
   ]
  },
  {
   "cell_type": "markdown",
   "id": "ac3e1c3e",
   "metadata": {},
   "source": [
    "Let's see how Julia's built-in `det` function compares to our algorithm, first in Numpy:\n",
    "\n",
    "```ipython\n",
    "In [6]: %timeit np.linalg.det(M)\n",
    "4.75 µs ± 59.9 ns per loop (mean ± std. dev. of 7 runs, 100,000 loops each)\n",
    "```\n",
    "\n",
    "Almost 10x slower than the hand-written version! And for Julia:"
   ]
  },
  {
   "cell_type": "code",
   "execution_count": 6,
   "id": "e5bc6916",
   "metadata": {},
   "outputs": [
    {
     "data": {
      "text/plain": [
       "-2.0"
      ]
     },
     "execution_count": 6,
     "metadata": {},
     "output_type": "execute_result"
    }
   ],
   "source": [
    "using LinearAlgebra\n",
    "\n",
    "det(M)"
   ]
  },
  {
   "cell_type": "code",
   "execution_count": 12,
   "id": "7b503641",
   "metadata": {},
   "outputs": [
    {
     "name": "stdout",
     "output_type": "stream",
     "text": [
      "  197.053 ns (2 allocations: 176 bytes)\n"
     ]
    }
   ],
   "source": [
    "@btime det($M);"
   ]
  },
  {
   "cell_type": "markdown",
   "id": "ef07dce3",
   "metadata": {},
   "source": [
    "20x slower!\n",
    "\n",
    "The reason isn't just that the compiler doesn't just know the size of the matrix from its type but also that [the code it considers](https://github.com/JuliaLang/julia/blob/release-1.8/stdlib/LinearAlgebra/src/generic.jl#L1544-L1550) (selected by the dispatch mechanism) is too general to compete with our implementation in `det_2x2`."
   ]
  },
  {
   "cell_type": "markdown",
   "id": "a1339503",
   "metadata": {},
   "source": [
    "Let's now move the size information to the type domain and see how things change."
   ]
  },
  {
   "cell_type": "code",
   "execution_count": 8,
   "id": "32a5d12b",
   "metadata": {},
   "outputs": [
    {
     "data": {
      "text/plain": [
       "2×2 SMatrix{2, 2, Int64, 4} with indices SOneTo(2)×SOneTo(2):\n",
       " 1  2\n",
       " 3  4"
      ]
     },
     "execution_count": 8,
     "metadata": {},
     "output_type": "execute_result"
    }
   ],
   "source": [
    "using StaticArrays\n",
    "S = @SMatrix [1 2; 3 4]"
   ]
  },
  {
   "cell_type": "code",
   "execution_count": 15,
   "id": "3550b299-21fd-47cb-a56e-a3d4b1e478f2",
   "metadata": {},
   "outputs": [
    {
     "name": "stdout",
     "output_type": "stream",
     "text": [
      "  2.765 ns (0 allocations: 0 bytes)\n"
     ]
    }
   ],
   "source": [
    "@btime det($S);"
   ]
  },
  {
   "cell_type": "code",
   "execution_count": 16,
   "id": "d6425a36-d3a1-4194-bc03-23655c048807",
   "metadata": {},
   "outputs": [
    {
     "name": "stdout",
     "output_type": "stream",
     "text": [
      "  2.274 ns (0 allocations: 0 bytes)\n"
     ]
    }
   ],
   "source": [
    "@btime det_2x2($M);"
   ]
  },
  {
   "cell_type": "markdown",
   "id": "7538c736",
   "metadata": {},
   "source": [
    "Note that it is super faster because StaticArrays.jl provides [a hand-coded version](https://github.com/JuliaArrays/StaticArrays.jl/blob/master/src/det.jl#L10-L12), similar to our `det_2x2` above, which gets selected because of the size information in the type.\n",
    "\n",
    "The (tiny) speed difference compared to our own `det_2x2` is only due to bounds checking and matrix vs linear indexing."
   ]
  },
  {
   "cell_type": "code",
   "execution_count": null,
   "id": "967173a5-ee6b-4e90-b908-2077b084acc7",
   "metadata": {},
   "outputs": [],
   "source": [
    "det_2x2_optimized(X) = X[1] * X[4] - X[3] * X[2]\n",
    "@btime det_2x2_optimized($M);"
   ]
  },
  {
   "cell_type": "markdown",
   "id": "441bd83f",
   "metadata": {},
   "source": [
    "## Are Explicit Type Annotations Necessary?\n",
    "\n",
    "Fortan/C require them, are they required in Julia?"
   ]
  },
  {
   "cell_type": "code",
   "execution_count": 17,
   "id": "7aa6dc3b",
   "metadata": {},
   "outputs": [
    {
     "data": {
      "text/plain": [
       "my_function_typed (generic function with 1 method)"
      ]
     },
     "execution_count": 17,
     "metadata": {},
     "output_type": "execute_result"
    }
   ],
   "source": [
    "function my_function(x)\n",
    "    y = rand()\n",
    "    z = rand()\n",
    "    x + y + z\n",
    "end\n",
    "\n",
    "function my_function_typed(x::Int)::Float64\n",
    "    y::Float64 = rand()\n",
    "    z::Float64 = rand()\n",
    "    x + y + z\n",
    "end"
   ]
  },
  {
   "cell_type": "markdown",
   "id": "13c3bf95-0d78-49ec-913e-96678f2fa450",
   "metadata": {},
   "source": [
    "Nope! Julia's type inference is powerful. Specifying types **is not** necessary for best performance."
   ]
  },
  {
   "cell_type": "code",
   "execution_count": 22,
   "id": "1acacfc6-4adb-41a4-afb6-86065ddb7ddf",
   "metadata": {
    "collapsed": true,
    "jupyter": {
     "outputs_hidden": true
    },
    "tags": []
   },
   "outputs": [
    {
     "name": "stdout",
     "output_type": "stream",
     "text": [
      "\u001b[90m;  @ In[17]:1 within `my_function`\u001b[39m\n",
      "\u001b[95mdefine\u001b[39m \u001b[36mdouble\u001b[39m \u001b[93m@julia_my_function_2450\u001b[39m\u001b[33m(\u001b[39m\u001b[36mi64\u001b[39m \u001b[95msignext\u001b[39m \u001b[0m%0\u001b[33m)\u001b[39m \u001b[0m#0 \u001b[33m{\u001b[39m\n",
      "\u001b[91mtop:\u001b[39m\n",
      "  \u001b[0m%thread_ptr \u001b[0m= \u001b[95mcall\u001b[39m \u001b[36mi8\u001b[39m\u001b[0m* \u001b[95masm\u001b[39m \u001b[0m\"movq %fs:0, $0\"\u001b[0m, \u001b[0m\"=r\"\u001b[33m(\u001b[39m\u001b[33m)\u001b[39m \u001b[0m#4\n",
      "  \u001b[0m%ppgcstack_i8 \u001b[0m= \u001b[96m\u001b[1mgetelementptr\u001b[22m\u001b[39m \u001b[36mi8\u001b[39m\u001b[0m, \u001b[36mi8\u001b[39m\u001b[0m* \u001b[0m%thread_ptr\u001b[0m, \u001b[36mi64\u001b[39m \u001b[33m-8\u001b[39m\n",
      "  \u001b[0m%ppgcstack \u001b[0m= \u001b[96m\u001b[1mbitcast\u001b[22m\u001b[39m \u001b[36mi8\u001b[39m\u001b[0m* \u001b[0m%ppgcstack_i8 \u001b[95mto\u001b[39m \u001b[33m{\u001b[39m\u001b[33m}\u001b[39m\u001b[0m****\n",
      "  \u001b[0m%pgcstack \u001b[0m= \u001b[96m\u001b[1mload\u001b[22m\u001b[39m \u001b[33m{\u001b[39m\u001b[33m}\u001b[39m\u001b[0m***\u001b[0m, \u001b[33m{\u001b[39m\u001b[33m}\u001b[39m\u001b[0m**** \u001b[0m%ppgcstack\u001b[0m, \u001b[95malign\u001b[39m \u001b[33m8\u001b[39m\n",
      "\u001b[90m;  @ In[17]:2 within `my_function`\u001b[39m\n",
      "\u001b[90m; ┌ @ /cache/build/default-aws-shared0-3/julialang/julia-release-1-dot-8/usr/share/julia/stdlib/v1.8/Random/src/Random.jl:257 within `rand` @ /cache/build/default-aws-shared0-3/julialang/julia-release-1-dot-8/usr/share/julia/stdlib/v1.8/Random/src/Random.jl:257 @ /cache/build/default-aws-shared0-3/julialang/julia-release-1-dot-8/usr/share/julia/stdlib/v1.8/Random/src/Xoshiro.jl:210 @ /cache/build/default-aws-shared0-3/julialang/julia-release-1-dot-8/usr/share/julia/stdlib/v1.8/Random/src/Random.jl:257 @ /cache/build/default-aws-shared0-3/julialang/julia-release-1-dot-8/usr/share/julia/stdlib/v1.8/Random/src/Xoshiro.jl:127\u001b[39m\n",
      "\u001b[90m; │┌ @ task.jl:181 within `getproperty`\u001b[39m\n",
      "    \u001b[0m%1 \u001b[0m= \u001b[96m\u001b[1mgetelementptr\u001b[22m\u001b[39m \u001b[95minbounds\u001b[39m \u001b[33m{\u001b[39m\u001b[33m}\u001b[39m\u001b[0m**\u001b[0m, \u001b[33m{\u001b[39m\u001b[33m}\u001b[39m\u001b[0m*** \u001b[0m%pgcstack\u001b[0m, \u001b[36mi64\u001b[39m \u001b[33m-5\u001b[39m\n",
      "    \u001b[0m%2 \u001b[0m= \u001b[96m\u001b[1mbitcast\u001b[22m\u001b[39m \u001b[33m{\u001b[39m\u001b[33m}\u001b[39m\u001b[0m*** \u001b[0m%1 \u001b[95mto\u001b[39m \u001b[36mi64\u001b[39m\u001b[0m*\n",
      "    \u001b[0m%3 \u001b[0m= \u001b[96m\u001b[1mload\u001b[22m\u001b[39m \u001b[36mi64\u001b[39m\u001b[0m, \u001b[36mi64\u001b[39m\u001b[0m* \u001b[0m%2\u001b[0m, \u001b[95malign\u001b[39m \u001b[33m8\u001b[39m\n",
      "    \u001b[0m%4 \u001b[0m= \u001b[96m\u001b[1mgetelementptr\u001b[22m\u001b[39m \u001b[95minbounds\u001b[39m \u001b[33m{\u001b[39m\u001b[33m}\u001b[39m\u001b[0m**\u001b[0m, \u001b[33m{\u001b[39m\u001b[33m}\u001b[39m\u001b[0m*** \u001b[0m%pgcstack\u001b[0m, \u001b[36mi64\u001b[39m \u001b[33m-4\u001b[39m\n",
      "    \u001b[0m%5 \u001b[0m= \u001b[96m\u001b[1mbitcast\u001b[22m\u001b[39m \u001b[33m{\u001b[39m\u001b[33m}\u001b[39m\u001b[0m*** \u001b[0m%4 \u001b[95mto\u001b[39m \u001b[36mi64\u001b[39m\u001b[0m*\n",
      "    \u001b[0m%6 \u001b[0m= \u001b[96m\u001b[1mload\u001b[22m\u001b[39m \u001b[36mi64\u001b[39m\u001b[0m, \u001b[36mi64\u001b[39m\u001b[0m* \u001b[0m%5\u001b[0m, \u001b[95malign\u001b[39m \u001b[33m8\u001b[39m\n",
      "    \u001b[0m%7 \u001b[0m= \u001b[96m\u001b[1mgetelementptr\u001b[22m\u001b[39m \u001b[95minbounds\u001b[39m \u001b[33m{\u001b[39m\u001b[33m}\u001b[39m\u001b[0m**\u001b[0m, \u001b[33m{\u001b[39m\u001b[33m}\u001b[39m\u001b[0m*** \u001b[0m%pgcstack\u001b[0m, \u001b[36mi64\u001b[39m \u001b[33m-3\u001b[39m\n",
      "    \u001b[0m%8 \u001b[0m= \u001b[96m\u001b[1mbitcast\u001b[22m\u001b[39m \u001b[33m{\u001b[39m\u001b[33m}\u001b[39m\u001b[0m*** \u001b[0m%7 \u001b[95mto\u001b[39m \u001b[36mi64\u001b[39m\u001b[0m*\n",
      "    \u001b[0m%9 \u001b[0m= \u001b[96m\u001b[1mload\u001b[22m\u001b[39m \u001b[36mi64\u001b[39m\u001b[0m, \u001b[36mi64\u001b[39m\u001b[0m* \u001b[0m%8\u001b[0m, \u001b[95malign\u001b[39m \u001b[33m8\u001b[39m\n",
      "    \u001b[0m%10 \u001b[0m= \u001b[96m\u001b[1mgetelementptr\u001b[22m\u001b[39m \u001b[95minbounds\u001b[39m \u001b[33m{\u001b[39m\u001b[33m}\u001b[39m\u001b[0m**\u001b[0m, \u001b[33m{\u001b[39m\u001b[33m}\u001b[39m\u001b[0m*** \u001b[0m%pgcstack\u001b[0m, \u001b[36mi64\u001b[39m \u001b[33m-2\u001b[39m\n",
      "    \u001b[0m%11 \u001b[0m= \u001b[96m\u001b[1mbitcast\u001b[22m\u001b[39m \u001b[33m{\u001b[39m\u001b[33m}\u001b[39m\u001b[0m*** \u001b[0m%10 \u001b[95mto\u001b[39m \u001b[36mi64\u001b[39m\u001b[0m*\n",
      "    \u001b[0m%12 \u001b[0m= \u001b[96m\u001b[1mload\u001b[22m\u001b[39m \u001b[36mi64\u001b[39m\u001b[0m, \u001b[36mi64\u001b[39m\u001b[0m* \u001b[0m%11\u001b[0m, \u001b[95malign\u001b[39m \u001b[33m8\u001b[39m\n",
      "\u001b[90m; │└\u001b[39m\n",
      "\u001b[90m; │ @ /cache/build/default-aws-shared0-3/julialang/julia-release-1-dot-8/usr/share/julia/stdlib/v1.8/Random/src/Random.jl:257 within `rand` @ /cache/build/default-aws-shared0-3/julialang/julia-release-1-dot-8/usr/share/julia/stdlib/v1.8/Random/src/Random.jl:257 @ /cache/build/default-aws-shared0-3/julialang/julia-release-1-dot-8/usr/share/julia/stdlib/v1.8/Random/src/Xoshiro.jl:210 @ /cache/build/default-aws-shared0-3/julialang/julia-release-1-dot-8/usr/share/julia/stdlib/v1.8/Random/src/Random.jl:257 @ /cache/build/default-aws-shared0-3/julialang/julia-release-1-dot-8/usr/share/julia/stdlib/v1.8/Random/src/Xoshiro.jl:128\u001b[39m\n",
      "\u001b[90m; │┌ @ int.jl:87 within `+`\u001b[39m\n",
      "    \u001b[0m%13 \u001b[0m= \u001b[96m\u001b[1madd\u001b[22m\u001b[39m \u001b[36mi64\u001b[39m \u001b[0m%12\u001b[0m, \u001b[0m%3\n",
      "\u001b[90m; │└\u001b[39m\n",
      "\u001b[90m; │ @ /cache/build/default-aws-shared0-3/julialang/julia-release-1-dot-8/usr/share/julia/stdlib/v1.8/Random/src/Random.jl:257 within `rand` @ /cache/build/default-aws-shared0-3/julialang/julia-release-1-dot-8/usr/share/julia/stdlib/v1.8/Random/src/Random.jl:257 @ /cache/build/default-aws-shared0-3/julialang/julia-release-1-dot-8/usr/share/julia/stdlib/v1.8/Random/src/Xoshiro.jl:210 @ /cache/build/default-aws-shared0-3/julialang/julia-release-1-dot-8/usr/share/julia/stdlib/v1.8/Random/src/Random.jl:257 @ /cache/build/default-aws-shared0-3/julialang/julia-release-1-dot-8/usr/share/julia/stdlib/v1.8/Random/src/Xoshiro.jl:129\u001b[39m\n",
      "\u001b[90m; │┌ @ int.jl:365 within `|`\u001b[39m\n",
      "    \u001b[0m%14 \u001b[0m= \u001b[96m\u001b[1mcall\u001b[22m\u001b[39m \u001b[36mi64\u001b[39m \u001b[93m@llvm.fshl.i64\u001b[39m\u001b[33m(\u001b[39m\u001b[36mi64\u001b[39m \u001b[0m%13\u001b[0m, \u001b[36mi64\u001b[39m \u001b[0m%13\u001b[0m, \u001b[36mi64\u001b[39m \u001b[33m23\u001b[39m\u001b[33m)\u001b[39m\n",
      "\u001b[90m; │└\u001b[39m\n",
      "\u001b[90m; │┌ @ int.jl:87 within `+`\u001b[39m\n",
      "    \u001b[0m%15 \u001b[0m= \u001b[96m\u001b[1madd\u001b[22m\u001b[39m \u001b[36mi64\u001b[39m \u001b[0m%14\u001b[0m, \u001b[0m%3\n",
      "\u001b[90m; │└\u001b[39m\n",
      "\u001b[90m; │ @ /cache/build/default-aws-shared0-3/julialang/julia-release-1-dot-8/usr/share/julia/stdlib/v1.8/Random/src/Random.jl:257 within `rand` @ /cache/build/default-aws-shared0-3/julialang/julia-release-1-dot-8/usr/share/julia/stdlib/v1.8/Random/src/Random.jl:257 @ /cache/build/default-aws-shared0-3/julialang/julia-release-1-dot-8/usr/share/julia/stdlib/v1.8/Random/src/Xoshiro.jl:210 @ /cache/build/default-aws-shared0-3/julialang/julia-release-1-dot-8/usr/share/julia/stdlib/v1.8/Random/src/Random.jl:257 @ /cache/build/default-aws-shared0-3/julialang/julia-release-1-dot-8/usr/share/julia/stdlib/v1.8/Random/src/Xoshiro.jl:130\u001b[39m\n",
      "\u001b[90m; │┌ @ int.jl:503 within `<<` @ int.jl:496\u001b[39m\n",
      "    \u001b[0m%16 \u001b[0m= \u001b[96m\u001b[1mshl\u001b[22m\u001b[39m \u001b[36mi64\u001b[39m \u001b[0m%6\u001b[0m, \u001b[33m17\u001b[39m\n",
      "\u001b[90m; │└\u001b[39m\n",
      "\u001b[90m; │ @ /cache/build/default-aws-shared0-3/julialang/julia-release-1-dot-8/usr/share/julia/stdlib/v1.8/Random/src/Random.jl:257 within `rand` @ /cache/build/default-aws-shared0-3/julialang/julia-release-1-dot-8/usr/share/julia/stdlib/v1.8/Random/src/Random.jl:257 @ /cache/build/default-aws-shared0-3/julialang/julia-release-1-dot-8/usr/share/julia/stdlib/v1.8/Random/src/Xoshiro.jl:210 @ /cache/build/default-aws-shared0-3/julialang/julia-release-1-dot-8/usr/share/julia/stdlib/v1.8/Random/src/Random.jl:257 @ /cache/build/default-aws-shared0-3/julialang/julia-release-1-dot-8/usr/share/julia/stdlib/v1.8/Random/src/Xoshiro.jl:131\u001b[39m\n",
      "\u001b[90m; │┌ @ int.jl:366 within `xor`\u001b[39m\n",
      "    \u001b[0m%17 \u001b[0m= \u001b[96m\u001b[1mxor\u001b[22m\u001b[39m \u001b[36mi64\u001b[39m \u001b[0m%9\u001b[0m, \u001b[0m%3\n",
      "\u001b[90m; │└\u001b[39m\n",
      "\u001b[90m; │ @ /cache/build/default-aws-shared0-3/julialang/julia-release-1-dot-8/usr/share/julia/stdlib/v1.8/Random/src/Random.jl:257 within `rand` @ /cache/build/default-aws-shared0-3/julialang/julia-release-1-dot-8/usr/share/julia/stdlib/v1.8/Random/src/Random.jl:257 @ /cache/build/default-aws-shared0-3/julialang/julia-release-1-dot-8/usr/share/julia/stdlib/v1.8/Random/src/Xoshiro.jl:210 @ /cache/build/default-aws-shared0-3/julialang/julia-release-1-dot-8/usr/share/julia/stdlib/v1.8/Random/src/Random.jl:257 @ /cache/build/default-aws-shared0-3/julialang/julia-release-1-dot-8/usr/share/julia/stdlib/v1.8/Random/src/Xoshiro.jl:132\u001b[39m\n",
      "\u001b[90m; │┌ @ int.jl:366 within `xor`\u001b[39m\n",
      "    \u001b[0m%18 \u001b[0m= \u001b[96m\u001b[1mxor\u001b[22m\u001b[39m \u001b[36mi64\u001b[39m \u001b[0m%12\u001b[0m, \u001b[0m%6\n",
      "\u001b[90m; │└\u001b[39m\n",
      "\u001b[90m; │ @ /cache/build/default-aws-shared0-3/julialang/julia-release-1-dot-8/usr/share/julia/stdlib/v1.8/Random/src/Random.jl:257 within `rand` @ /cache/build/default-aws-shared0-3/julialang/julia-release-1-dot-8/usr/share/julia/stdlib/v1.8/Random/src/Random.jl:257 @ /cache/build/default-aws-shared0-3/julialang/julia-release-1-dot-8/usr/share/julia/stdlib/v1.8/Random/src/Xoshiro.jl:210 @ /cache/build/default-aws-shared0-3/julialang/julia-release-1-dot-8/usr/share/julia/stdlib/v1.8/Random/src/Random.jl:257 @ /cache/build/default-aws-shared0-3/julialang/julia-release-1-dot-8/usr/share/julia/stdlib/v1.8/Random/src/Xoshiro.jl:133\u001b[39m\n",
      "\u001b[90m; │┌ @ int.jl:366 within `xor`\u001b[39m\n",
      "    \u001b[0m%19 \u001b[0m= \u001b[96m\u001b[1mxor\u001b[22m\u001b[39m \u001b[36mi64\u001b[39m \u001b[0m%17\u001b[0m, \u001b[0m%6\n",
      "\u001b[90m; │└\u001b[39m\n",
      "\u001b[90m; │ @ /cache/build/default-aws-shared0-3/julialang/julia-release-1-dot-8/usr/share/julia/stdlib/v1.8/Random/src/Random.jl:257 within `rand` @ /cache/build/default-aws-shared0-3/julialang/julia-release-1-dot-8/usr/share/julia/stdlib/v1.8/Random/src/Random.jl:257 @ /cache/build/default-aws-shared0-3/julialang/julia-release-1-dot-8/usr/share/julia/stdlib/v1.8/Random/src/Xoshiro.jl:210 @ /cache/build/default-aws-shared0-3/julialang/julia-release-1-dot-8/usr/share/julia/stdlib/v1.8/Random/src/Random.jl:257 @ /cache/build/default-aws-shared0-3/julialang/julia-release-1-dot-8/usr/share/julia/stdlib/v1.8/Random/src/Xoshiro.jl:134\u001b[39m\n",
      "\u001b[90m; │┌ @ int.jl:366 within `xor`\u001b[39m\n",
      "    \u001b[0m%20 \u001b[0m= \u001b[96m\u001b[1mxor\u001b[22m\u001b[39m \u001b[36mi64\u001b[39m \u001b[0m%18\u001b[0m, \u001b[0m%3\n",
      "\u001b[90m; │└\u001b[39m\n",
      "\u001b[90m; │ @ /cache/build/default-aws-shared0-3/julialang/julia-release-1-dot-8/usr/share/julia/stdlib/v1.8/Random/src/Random.jl:257 within `rand` @ /cache/build/default-aws-shared0-3/julialang/julia-release-1-dot-8/usr/share/julia/stdlib/v1.8/Random/src/Random.jl:257 @ /cache/build/default-aws-shared0-3/julialang/julia-release-1-dot-8/usr/share/julia/stdlib/v1.8/Random/src/Xoshiro.jl:210 @ /cache/build/default-aws-shared0-3/julialang/julia-release-1-dot-8/usr/share/julia/stdlib/v1.8/Random/src/Random.jl:257 @ /cache/build/default-aws-shared0-3/julialang/julia-release-1-dot-8/usr/share/julia/stdlib/v1.8/Random/src/Xoshiro.jl:135\u001b[39m\n",
      "\u001b[90m; │┌ @ int.jl:366 within `xor`\u001b[39m\n",
      "    \u001b[0m%21 \u001b[0m= \u001b[96m\u001b[1mxor\u001b[22m\u001b[39m \u001b[36mi64\u001b[39m \u001b[0m%17\u001b[0m, \u001b[0m%16\n",
      "\u001b[90m; │└\u001b[39m\n",
      "\u001b[90m; │ @ /cache/build/default-aws-shared0-3/julialang/julia-release-1-dot-8/usr/share/julia/stdlib/v1.8/Random/src/Random.jl:257 within `rand` @ /cache/build/default-aws-shared0-3/julialang/julia-release-1-dot-8/usr/share/julia/stdlib/v1.8/Random/src/Random.jl:257 @ /cache/build/default-aws-shared0-3/julialang/julia-release-1-dot-8/usr/share/julia/stdlib/v1.8/Random/src/Xoshiro.jl:210 @ /cache/build/default-aws-shared0-3/julialang/julia-release-1-dot-8/usr/share/julia/stdlib/v1.8/Random/src/Random.jl:257 @ /cache/build/default-aws-shared0-3/julialang/julia-release-1-dot-8/usr/share/julia/stdlib/v1.8/Random/src/Xoshiro.jl:136\u001b[39m\n",
      "\u001b[90m; │┌ @ int.jl:365 within `|`\u001b[39m\n",
      "    \u001b[0m%22 \u001b[0m= \u001b[96m\u001b[1mcall\u001b[22m\u001b[39m \u001b[36mi64\u001b[39m \u001b[93m@llvm.fshl.i64\u001b[39m\u001b[33m(\u001b[39m\u001b[36mi64\u001b[39m \u001b[0m%18\u001b[0m, \u001b[36mi64\u001b[39m \u001b[0m%18\u001b[0m, \u001b[36mi64\u001b[39m \u001b[33m45\u001b[39m\u001b[33m)\u001b[39m\n",
      "\u001b[90m; │└\u001b[39m\n",
      "\u001b[90m; │ @ /cache/build/default-aws-shared0-3/julialang/julia-release-1-dot-8/usr/share/julia/stdlib/v1.8/Random/src/Random.jl:257 within `rand` @ /cache/build/default-aws-shared0-3/julialang/julia-release-1-dot-8/usr/share/julia/stdlib/v1.8/Random/src/Random.jl:257 @ /cache/build/default-aws-shared0-3/julialang/julia-release-1-dot-8/usr/share/julia/stdlib/v1.8/Random/src/Xoshiro.jl:210\u001b[39m\n",
      "\u001b[90m; │┌ @ int.jl:505 within `>>>` @ int.jl:497\u001b[39m\n",
      "    \u001b[0m%23 \u001b[0m= \u001b[96m\u001b[1mlshr\u001b[22m\u001b[39m \u001b[36mi64\u001b[39m \u001b[0m%15\u001b[0m, \u001b[33m11\u001b[39m\n",
      "\u001b[90m; │└\u001b[39m\n",
      "\u001b[90m; │┌ @ float.jl:152 within `Float64`\u001b[39m\n",
      "    \u001b[0m%24 \u001b[0m= \u001b[96m\u001b[1muitofp\u001b[22m\u001b[39m \u001b[36mi64\u001b[39m \u001b[0m%23 \u001b[95mto\u001b[39m \u001b[36mdouble\u001b[39m\n",
      "\u001b[90m; │└\u001b[39m\n",
      "\u001b[90m; │┌ @ float.jl:385 within `*`\u001b[39m\n",
      "    \u001b[0m%25 \u001b[0m= \u001b[96m\u001b[1mfmul\u001b[22m\u001b[39m \u001b[36mdouble\u001b[39m \u001b[0m%24\u001b[0m, \u001b[33m0x3CA0000000000000\u001b[39m\n",
      "\u001b[90m; └└\u001b[39m\n",
      "\u001b[90m;  @ In[17]:3 within `my_function`\u001b[39m\n",
      "\u001b[90m; ┌ @ /cache/build/default-aws-shared0-3/julialang/julia-release-1-dot-8/usr/share/julia/stdlib/v1.8/Random/src/Random.jl:257 within `rand` @ /cache/build/default-aws-shared0-3/julialang/julia-release-1-dot-8/usr/share/julia/stdlib/v1.8/Random/src/Random.jl:257 @ /cache/build/default-aws-shared0-3/julialang/julia-release-1-dot-8/usr/share/julia/stdlib/v1.8/Random/src/Xoshiro.jl:210 @ /cache/build/default-aws-shared0-3/julialang/julia-release-1-dot-8/usr/share/julia/stdlib/v1.8/Random/src/Random.jl:257 @ /cache/build/default-aws-shared0-3/julialang/julia-release-1-dot-8/usr/share/julia/stdlib/v1.8/Random/src/Xoshiro.jl:128\u001b[39m\n",
      "\u001b[90m; │┌ @ int.jl:87 within `+`\u001b[39m\n",
      "    \u001b[0m%26 \u001b[0m= \u001b[96m\u001b[1madd\u001b[22m\u001b[39m \u001b[36mi64\u001b[39m \u001b[0m%22\u001b[0m, \u001b[0m%20\n",
      "\u001b[90m; │└\u001b[39m\n",
      "\u001b[90m; │ @ /cache/build/default-aws-shared0-3/julialang/julia-release-1-dot-8/usr/share/julia/stdlib/v1.8/Random/src/Random.jl:257 within `rand` @ /cache/build/default-aws-shared0-3/julialang/julia-release-1-dot-8/usr/share/julia/stdlib/v1.8/Random/src/Random.jl:257 @ /cache/build/default-aws-shared0-3/julialang/julia-release-1-dot-8/usr/share/julia/stdlib/v1.8/Random/src/Xoshiro.jl:210 @ /cache/build/default-aws-shared0-3/julialang/julia-release-1-dot-8/usr/share/julia/stdlib/v1.8/Random/src/Random.jl:257 @ /cache/build/default-aws-shared0-3/julialang/julia-release-1-dot-8/usr/share/julia/stdlib/v1.8/Random/src/Xoshiro.jl:129\u001b[39m\n",
      "\u001b[90m; │┌ @ int.jl:365 within `|`\u001b[39m\n",
      "    \u001b[0m%27 \u001b[0m= \u001b[96m\u001b[1mcall\u001b[22m\u001b[39m \u001b[36mi64\u001b[39m \u001b[93m@llvm.fshl.i64\u001b[39m\u001b[33m(\u001b[39m\u001b[36mi64\u001b[39m \u001b[0m%26\u001b[0m, \u001b[36mi64\u001b[39m \u001b[0m%26\u001b[0m, \u001b[36mi64\u001b[39m \u001b[33m23\u001b[39m\u001b[33m)\u001b[39m\n",
      "\u001b[90m; │└\u001b[39m\n",
      "\u001b[90m; │┌ @ int.jl:87 within `+`\u001b[39m\n",
      "    \u001b[0m%28 \u001b[0m= \u001b[96m\u001b[1madd\u001b[22m\u001b[39m \u001b[36mi64\u001b[39m \u001b[0m%27\u001b[0m, \u001b[0m%20\n",
      "\u001b[90m; │└\u001b[39m\n",
      "\u001b[90m; │ @ /cache/build/default-aws-shared0-3/julialang/julia-release-1-dot-8/usr/share/julia/stdlib/v1.8/Random/src/Random.jl:257 within `rand` @ /cache/build/default-aws-shared0-3/julialang/julia-release-1-dot-8/usr/share/julia/stdlib/v1.8/Random/src/Random.jl:257 @ /cache/build/default-aws-shared0-3/julialang/julia-release-1-dot-8/usr/share/julia/stdlib/v1.8/Random/src/Xoshiro.jl:210 @ /cache/build/default-aws-shared0-3/julialang/julia-release-1-dot-8/usr/share/julia/stdlib/v1.8/Random/src/Random.jl:257 @ /cache/build/default-aws-shared0-3/julialang/julia-release-1-dot-8/usr/share/julia/stdlib/v1.8/Random/src/Xoshiro.jl:130\u001b[39m\n",
      "\u001b[90m; │┌ @ int.jl:503 within `<<` @ int.jl:496\u001b[39m\n",
      "    \u001b[0m%29 \u001b[0m= \u001b[96m\u001b[1mshl\u001b[22m\u001b[39m \u001b[36mi64\u001b[39m \u001b[0m%19\u001b[0m, \u001b[33m17\u001b[39m\n",
      "\u001b[90m; │└\u001b[39m\n",
      "\u001b[90m; │ @ /cache/build/default-aws-shared0-3/julialang/julia-release-1-dot-8/usr/share/julia/stdlib/v1.8/Random/src/Random.jl:257 within `rand` @ /cache/build/default-aws-shared0-3/julialang/julia-release-1-dot-8/usr/share/julia/stdlib/v1.8/Random/src/Random.jl:257 @ /cache/build/default-aws-shared0-3/julialang/julia-release-1-dot-8/usr/share/julia/stdlib/v1.8/Random/src/Xoshiro.jl:210 @ /cache/build/default-aws-shared0-3/julialang/julia-release-1-dot-8/usr/share/julia/stdlib/v1.8/Random/src/Random.jl:257 @ /cache/build/default-aws-shared0-3/julialang/julia-release-1-dot-8/usr/share/julia/stdlib/v1.8/Random/src/Xoshiro.jl:131\u001b[39m\n",
      "\u001b[90m; │┌ @ int.jl:366 within `xor`\u001b[39m\n",
      "    \u001b[0m%30 \u001b[0m= \u001b[96m\u001b[1mxor\u001b[22m\u001b[39m \u001b[36mi64\u001b[39m \u001b[0m%21\u001b[0m, \u001b[0m%20\n",
      "\u001b[90m; │└\u001b[39m\n",
      "\u001b[90m; │ @ /cache/build/default-aws-shared0-3/julialang/julia-release-1-dot-8/usr/share/julia/stdlib/v1.8/Random/src/Random.jl:257 within `rand` @ /cache/build/default-aws-shared0-3/julialang/julia-release-1-dot-8/usr/share/julia/stdlib/v1.8/Random/src/Random.jl:257 @ /cache/build/default-aws-shared0-3/julialang/julia-release-1-dot-8/usr/share/julia/stdlib/v1.8/Random/src/Xoshiro.jl:210 @ /cache/build/default-aws-shared0-3/julialang/julia-release-1-dot-8/usr/share/julia/stdlib/v1.8/Random/src/Random.jl:257 @ /cache/build/default-aws-shared0-3/julialang/julia-release-1-dot-8/usr/share/julia/stdlib/v1.8/Random/src/Xoshiro.jl:132\u001b[39m\n",
      "\u001b[90m; │┌ @ int.jl:366 within `xor`\u001b[39m\n",
      "    \u001b[0m%31 \u001b[0m= \u001b[96m\u001b[1mxor\u001b[22m\u001b[39m \u001b[36mi64\u001b[39m \u001b[0m%22\u001b[0m, \u001b[0m%19\n",
      "\u001b[90m; │└\u001b[39m\n",
      "\u001b[90m; │ @ /cache/build/default-aws-shared0-3/julialang/julia-release-1-dot-8/usr/share/julia/stdlib/v1.8/Random/src/Random.jl:257 within `rand` @ /cache/build/default-aws-shared0-3/julialang/julia-release-1-dot-8/usr/share/julia/stdlib/v1.8/Random/src/Random.jl:257 @ /cache/build/default-aws-shared0-3/julialang/julia-release-1-dot-8/usr/share/julia/stdlib/v1.8/Random/src/Xoshiro.jl:210 @ /cache/build/default-aws-shared0-3/julialang/julia-release-1-dot-8/usr/share/julia/stdlib/v1.8/Random/src/Random.jl:257 @ /cache/build/default-aws-shared0-3/julialang/julia-release-1-dot-8/usr/share/julia/stdlib/v1.8/Random/src/Xoshiro.jl:133\u001b[39m\n",
      "\u001b[90m; │┌ @ int.jl:366 within `xor`\u001b[39m\n",
      "    \u001b[0m%32 \u001b[0m= \u001b[96m\u001b[1mxor\u001b[22m\u001b[39m \u001b[36mi64\u001b[39m \u001b[0m%30\u001b[0m, \u001b[0m%19\n",
      "\u001b[90m; │└\u001b[39m\n",
      "\u001b[90m; │ @ /cache/build/default-aws-shared0-3/julialang/julia-release-1-dot-8/usr/share/julia/stdlib/v1.8/Random/src/Random.jl:257 within `rand` @ /cache/build/default-aws-shared0-3/julialang/julia-release-1-dot-8/usr/share/julia/stdlib/v1.8/Random/src/Random.jl:257 @ /cache/build/default-aws-shared0-3/julialang/julia-release-1-dot-8/usr/share/julia/stdlib/v1.8/Random/src/Xoshiro.jl:210 @ /cache/build/default-aws-shared0-3/julialang/julia-release-1-dot-8/usr/share/julia/stdlib/v1.8/Random/src/Random.jl:257 @ /cache/build/default-aws-shared0-3/julialang/julia-release-1-dot-8/usr/share/julia/stdlib/v1.8/Random/src/Xoshiro.jl:134\u001b[39m\n",
      "\u001b[90m; │┌ @ int.jl:366 within `xor`\u001b[39m\n",
      "    \u001b[0m%33 \u001b[0m= \u001b[96m\u001b[1mxor\u001b[22m\u001b[39m \u001b[36mi64\u001b[39m \u001b[0m%31\u001b[0m, \u001b[0m%20\n",
      "\u001b[90m; │└\u001b[39m\n",
      "\u001b[90m; │ @ /cache/build/default-aws-shared0-3/julialang/julia-release-1-dot-8/usr/share/julia/stdlib/v1.8/Random/src/Random.jl:257 within `rand` @ /cache/build/default-aws-shared0-3/julialang/julia-release-1-dot-8/usr/share/julia/stdlib/v1.8/Random/src/Random.jl:257 @ /cache/build/default-aws-shared0-3/julialang/julia-release-1-dot-8/usr/share/julia/stdlib/v1.8/Random/src/Xoshiro.jl:210 @ /cache/build/default-aws-shared0-3/julialang/julia-release-1-dot-8/usr/share/julia/stdlib/v1.8/Random/src/Random.jl:257 @ /cache/build/default-aws-shared0-3/julialang/julia-release-1-dot-8/usr/share/julia/stdlib/v1.8/Random/src/Xoshiro.jl:135\u001b[39m\n",
      "\u001b[90m; │┌ @ int.jl:366 within `xor`\u001b[39m\n",
      "    \u001b[0m%34 \u001b[0m= \u001b[96m\u001b[1mxor\u001b[22m\u001b[39m \u001b[36mi64\u001b[39m \u001b[0m%30\u001b[0m, \u001b[0m%29\n",
      "\u001b[90m; │└\u001b[39m\n",
      "\u001b[90m; │ @ /cache/build/default-aws-shared0-3/julialang/julia-release-1-dot-8/usr/share/julia/stdlib/v1.8/Random/src/Random.jl:257 within `rand` @ /cache/build/default-aws-shared0-3/julialang/julia-release-1-dot-8/usr/share/julia/stdlib/v1.8/Random/src/Random.jl:257 @ /cache/build/default-aws-shared0-3/julialang/julia-release-1-dot-8/usr/share/julia/stdlib/v1.8/Random/src/Xoshiro.jl:210 @ /cache/build/default-aws-shared0-3/julialang/julia-release-1-dot-8/usr/share/julia/stdlib/v1.8/Random/src/Random.jl:257 @ /cache/build/default-aws-shared0-3/julialang/julia-release-1-dot-8/usr/share/julia/stdlib/v1.8/Random/src/Xoshiro.jl:136\u001b[39m\n",
      "\u001b[90m; │┌ @ int.jl:365 within `|`\u001b[39m\n",
      "    \u001b[0m%35 \u001b[0m= \u001b[96m\u001b[1mcall\u001b[22m\u001b[39m \u001b[36mi64\u001b[39m \u001b[93m@llvm.fshl.i64\u001b[39m\u001b[33m(\u001b[39m\u001b[36mi64\u001b[39m \u001b[0m%31\u001b[0m, \u001b[36mi64\u001b[39m \u001b[0m%31\u001b[0m, \u001b[36mi64\u001b[39m \u001b[33m45\u001b[39m\u001b[33m)\u001b[39m\n",
      "\u001b[90m; │└\u001b[39m\n",
      "\u001b[90m; │ @ /cache/build/default-aws-shared0-3/julialang/julia-release-1-dot-8/usr/share/julia/stdlib/v1.8/Random/src/Random.jl:257 within `rand` @ /cache/build/default-aws-shared0-3/julialang/julia-release-1-dot-8/usr/share/julia/stdlib/v1.8/Random/src/Random.jl:257 @ /cache/build/default-aws-shared0-3/julialang/julia-release-1-dot-8/usr/share/julia/stdlib/v1.8/Random/src/Xoshiro.jl:210 @ /cache/build/default-aws-shared0-3/julialang/julia-release-1-dot-8/usr/share/julia/stdlib/v1.8/Random/src/Random.jl:257 @ /cache/build/default-aws-shared0-3/julialang/julia-release-1-dot-8/usr/share/julia/stdlib/v1.8/Random/src/Xoshiro.jl:137\u001b[39m\n",
      "\u001b[90m; │┌ @ Base.jl:39 within `setproperty!`\u001b[39m\n",
      "    \u001b[96m\u001b[1mstore\u001b[22m\u001b[39m \u001b[36mi64\u001b[39m \u001b[0m%33\u001b[0m, \u001b[36mi64\u001b[39m\u001b[0m* \u001b[0m%2\u001b[0m, \u001b[95malign\u001b[39m \u001b[33m8\u001b[39m\n",
      "    \u001b[96m\u001b[1mstore\u001b[22m\u001b[39m \u001b[36mi64\u001b[39m \u001b[0m%32\u001b[0m, \u001b[36mi64\u001b[39m\u001b[0m* \u001b[0m%5\u001b[0m, \u001b[95malign\u001b[39m \u001b[33m8\u001b[39m\n",
      "    \u001b[96m\u001b[1mstore\u001b[22m\u001b[39m \u001b[36mi64\u001b[39m \u001b[0m%34\u001b[0m, \u001b[36mi64\u001b[39m\u001b[0m* \u001b[0m%8\u001b[0m, \u001b[95malign\u001b[39m \u001b[33m8\u001b[39m\n",
      "    \u001b[96m\u001b[1mstore\u001b[22m\u001b[39m \u001b[36mi64\u001b[39m \u001b[0m%35\u001b[0m, \u001b[36mi64\u001b[39m\u001b[0m* \u001b[0m%11\u001b[0m, \u001b[95malign\u001b[39m \u001b[33m8\u001b[39m\n",
      "\u001b[90m; │└\u001b[39m\n",
      "\u001b[90m; │ @ /cache/build/default-aws-shared0-3/julialang/julia-release-1-dot-8/usr/share/julia/stdlib/v1.8/Random/src/Random.jl:257 within `rand` @ /cache/build/default-aws-shared0-3/julialang/julia-release-1-dot-8/usr/share/julia/stdlib/v1.8/Random/src/Random.jl:257 @ /cache/build/default-aws-shared0-3/julialang/julia-release-1-dot-8/usr/share/julia/stdlib/v1.8/Random/src/Xoshiro.jl:210\u001b[39m\n",
      "\u001b[90m; │┌ @ int.jl:505 within `>>>` @ int.jl:497\u001b[39m\n",
      "    \u001b[0m%36 \u001b[0m= \u001b[96m\u001b[1mlshr\u001b[22m\u001b[39m \u001b[36mi64\u001b[39m \u001b[0m%28\u001b[0m, \u001b[33m11\u001b[39m\n",
      "\u001b[90m; │└\u001b[39m\n",
      "\u001b[90m; │┌ @ float.jl:152 within `Float64`\u001b[39m\n",
      "    \u001b[0m%37 \u001b[0m= \u001b[96m\u001b[1muitofp\u001b[22m\u001b[39m \u001b[36mi64\u001b[39m \u001b[0m%36 \u001b[95mto\u001b[39m \u001b[36mdouble\u001b[39m\n",
      "\u001b[90m; │└\u001b[39m\n",
      "\u001b[90m; │┌ @ float.jl:385 within `*`\u001b[39m\n",
      "    \u001b[0m%38 \u001b[0m= \u001b[96m\u001b[1mfmul\u001b[22m\u001b[39m \u001b[36mdouble\u001b[39m \u001b[0m%37\u001b[0m, \u001b[33m0x3CA0000000000000\u001b[39m\n",
      "\u001b[90m; └└\u001b[39m\n",
      "\u001b[90m;  @ In[17]:4 within `my_function`\u001b[39m\n",
      "\u001b[90m; ┌ @ operators.jl:591 within `+` @ promotion.jl:388\u001b[39m\n",
      "\u001b[90m; │┌ @ promotion.jl:359 within `promote`\u001b[39m\n",
      "\u001b[90m; ││┌ @ promotion.jl:336 within `_promote`\u001b[39m\n",
      "\u001b[90m; │││┌ @ number.jl:7 within `convert`\u001b[39m\n",
      "\u001b[90m; ││││┌ @ float.jl:146 within `Float64`\u001b[39m\n",
      "       \u001b[0m%39 \u001b[0m= \u001b[96m\u001b[1msitofp\u001b[22m\u001b[39m \u001b[36mi64\u001b[39m \u001b[0m%0 \u001b[95mto\u001b[39m \u001b[36mdouble\u001b[39m\n",
      "\u001b[90m; │└└└└\u001b[39m\n",
      "\u001b[90m; │ @ operators.jl:591 within `+` @ promotion.jl:388 @ float.jl:383\u001b[39m\n",
      "   \u001b[0m%40 \u001b[0m= \u001b[96m\u001b[1mfadd\u001b[22m\u001b[39m \u001b[36mdouble\u001b[39m \u001b[0m%25\u001b[0m, \u001b[0m%39\n",
      "\u001b[90m; │ @ operators.jl:591 within `+` @ float.jl:383\u001b[39m\n",
      "   \u001b[0m%41 \u001b[0m= \u001b[96m\u001b[1mfadd\u001b[22m\u001b[39m \u001b[36mdouble\u001b[39m \u001b[0m%40\u001b[0m, \u001b[0m%38\n",
      "\u001b[90m; └\u001b[39m\n",
      "  \u001b[96m\u001b[1mret\u001b[22m\u001b[39m \u001b[36mdouble\u001b[39m \u001b[0m%41\n",
      "\u001b[33m}\u001b[39m\n"
     ]
    }
   ],
   "source": [
    "a = @code_llvm my_function(10)"
   ]
  },
  {
   "cell_type": "code",
   "execution_count": 23,
   "id": "6065682e-6da8-4a10-b6ab-31b3adf7c863",
   "metadata": {
    "collapsed": true,
    "jupyter": {
     "outputs_hidden": true
    },
    "tags": []
   },
   "outputs": [
    {
     "name": "stdout",
     "output_type": "stream",
     "text": [
      "\u001b[90m;  @ In[17]:7 within `my_function_typed`\u001b[39m\n",
      "\u001b[95mdefine\u001b[39m \u001b[36mdouble\u001b[39m \u001b[93m@julia_my_function_typed_2452\u001b[39m\u001b[33m(\u001b[39m\u001b[36mi64\u001b[39m \u001b[95msignext\u001b[39m \u001b[0m%0\u001b[33m)\u001b[39m \u001b[0m#0 \u001b[33m{\u001b[39m\n",
      "\u001b[91mtop:\u001b[39m\n",
      "  \u001b[0m%thread_ptr \u001b[0m= \u001b[95mcall\u001b[39m \u001b[36mi8\u001b[39m\u001b[0m* \u001b[95masm\u001b[39m \u001b[0m\"movq %fs:0, $0\"\u001b[0m, \u001b[0m\"=r\"\u001b[33m(\u001b[39m\u001b[33m)\u001b[39m \u001b[0m#4\n",
      "  \u001b[0m%ppgcstack_i8 \u001b[0m= \u001b[96m\u001b[1mgetelementptr\u001b[22m\u001b[39m \u001b[36mi8\u001b[39m\u001b[0m, \u001b[36mi8\u001b[39m\u001b[0m* \u001b[0m%thread_ptr\u001b[0m, \u001b[36mi64\u001b[39m \u001b[33m-8\u001b[39m\n",
      "  \u001b[0m%ppgcstack \u001b[0m= \u001b[96m\u001b[1mbitcast\u001b[22m\u001b[39m \u001b[36mi8\u001b[39m\u001b[0m* \u001b[0m%ppgcstack_i8 \u001b[95mto\u001b[39m \u001b[33m{\u001b[39m\u001b[33m}\u001b[39m\u001b[0m****\n",
      "  \u001b[0m%pgcstack \u001b[0m= \u001b[96m\u001b[1mload\u001b[22m\u001b[39m \u001b[33m{\u001b[39m\u001b[33m}\u001b[39m\u001b[0m***\u001b[0m, \u001b[33m{\u001b[39m\u001b[33m}\u001b[39m\u001b[0m**** \u001b[0m%ppgcstack\u001b[0m, \u001b[95malign\u001b[39m \u001b[33m8\u001b[39m\n",
      "\u001b[90m;  @ In[17]:8 within `my_function_typed`\u001b[39m\n",
      "\u001b[90m; ┌ @ /cache/build/default-aws-shared0-3/julialang/julia-release-1-dot-8/usr/share/julia/stdlib/v1.8/Random/src/Random.jl:257 within `rand` @ /cache/build/default-aws-shared0-3/julialang/julia-release-1-dot-8/usr/share/julia/stdlib/v1.8/Random/src/Random.jl:257 @ /cache/build/default-aws-shared0-3/julialang/julia-release-1-dot-8/usr/share/julia/stdlib/v1.8/Random/src/Xoshiro.jl:210 @ /cache/build/default-aws-shared0-3/julialang/julia-release-1-dot-8/usr/share/julia/stdlib/v1.8/Random/src/Random.jl:257 @ /cache/build/default-aws-shared0-3/julialang/julia-release-1-dot-8/usr/share/julia/stdlib/v1.8/Random/src/Xoshiro.jl:127\u001b[39m\n",
      "\u001b[90m; │┌ @ task.jl:181 within `getproperty`\u001b[39m\n",
      "    \u001b[0m%1 \u001b[0m= \u001b[96m\u001b[1mgetelementptr\u001b[22m\u001b[39m \u001b[95minbounds\u001b[39m \u001b[33m{\u001b[39m\u001b[33m}\u001b[39m\u001b[0m**\u001b[0m, \u001b[33m{\u001b[39m\u001b[33m}\u001b[39m\u001b[0m*** \u001b[0m%pgcstack\u001b[0m, \u001b[36mi64\u001b[39m \u001b[33m-5\u001b[39m\n",
      "    \u001b[0m%2 \u001b[0m= \u001b[96m\u001b[1mbitcast\u001b[22m\u001b[39m \u001b[33m{\u001b[39m\u001b[33m}\u001b[39m\u001b[0m*** \u001b[0m%1 \u001b[95mto\u001b[39m \u001b[36mi64\u001b[39m\u001b[0m*\n",
      "    \u001b[0m%3 \u001b[0m= \u001b[96m\u001b[1mload\u001b[22m\u001b[39m \u001b[36mi64\u001b[39m\u001b[0m, \u001b[36mi64\u001b[39m\u001b[0m* \u001b[0m%2\u001b[0m, \u001b[95malign\u001b[39m \u001b[33m8\u001b[39m\n",
      "    \u001b[0m%4 \u001b[0m= \u001b[96m\u001b[1mgetelementptr\u001b[22m\u001b[39m \u001b[95minbounds\u001b[39m \u001b[33m{\u001b[39m\u001b[33m}\u001b[39m\u001b[0m**\u001b[0m, \u001b[33m{\u001b[39m\u001b[33m}\u001b[39m\u001b[0m*** \u001b[0m%pgcstack\u001b[0m, \u001b[36mi64\u001b[39m \u001b[33m-4\u001b[39m\n",
      "    \u001b[0m%5 \u001b[0m= \u001b[96m\u001b[1mbitcast\u001b[22m\u001b[39m \u001b[33m{\u001b[39m\u001b[33m}\u001b[39m\u001b[0m*** \u001b[0m%4 \u001b[95mto\u001b[39m \u001b[36mi64\u001b[39m\u001b[0m*\n",
      "    \u001b[0m%6 \u001b[0m= \u001b[96m\u001b[1mload\u001b[22m\u001b[39m \u001b[36mi64\u001b[39m\u001b[0m, \u001b[36mi64\u001b[39m\u001b[0m* \u001b[0m%5\u001b[0m, \u001b[95malign\u001b[39m \u001b[33m8\u001b[39m\n",
      "    \u001b[0m%7 \u001b[0m= \u001b[96m\u001b[1mgetelementptr\u001b[22m\u001b[39m \u001b[95minbounds\u001b[39m \u001b[33m{\u001b[39m\u001b[33m}\u001b[39m\u001b[0m**\u001b[0m, \u001b[33m{\u001b[39m\u001b[33m}\u001b[39m\u001b[0m*** \u001b[0m%pgcstack\u001b[0m, \u001b[36mi64\u001b[39m \u001b[33m-3\u001b[39m\n",
      "    \u001b[0m%8 \u001b[0m= \u001b[96m\u001b[1mbitcast\u001b[22m\u001b[39m \u001b[33m{\u001b[39m\u001b[33m}\u001b[39m\u001b[0m*** \u001b[0m%7 \u001b[95mto\u001b[39m \u001b[36mi64\u001b[39m\u001b[0m*\n",
      "    \u001b[0m%9 \u001b[0m= \u001b[96m\u001b[1mload\u001b[22m\u001b[39m \u001b[36mi64\u001b[39m\u001b[0m, \u001b[36mi64\u001b[39m\u001b[0m* \u001b[0m%8\u001b[0m, \u001b[95malign\u001b[39m \u001b[33m8\u001b[39m\n",
      "    \u001b[0m%10 \u001b[0m= \u001b[96m\u001b[1mgetelementptr\u001b[22m\u001b[39m \u001b[95minbounds\u001b[39m \u001b[33m{\u001b[39m\u001b[33m}\u001b[39m\u001b[0m**\u001b[0m, \u001b[33m{\u001b[39m\u001b[33m}\u001b[39m\u001b[0m*** \u001b[0m%pgcstack\u001b[0m, \u001b[36mi64\u001b[39m \u001b[33m-2\u001b[39m\n",
      "    \u001b[0m%11 \u001b[0m= \u001b[96m\u001b[1mbitcast\u001b[22m\u001b[39m \u001b[33m{\u001b[39m\u001b[33m}\u001b[39m\u001b[0m*** \u001b[0m%10 \u001b[95mto\u001b[39m \u001b[36mi64\u001b[39m\u001b[0m*\n",
      "    \u001b[0m%12 \u001b[0m= \u001b[96m\u001b[1mload\u001b[22m\u001b[39m \u001b[36mi64\u001b[39m\u001b[0m, \u001b[36mi64\u001b[39m\u001b[0m* \u001b[0m%11\u001b[0m, \u001b[95malign\u001b[39m \u001b[33m8\u001b[39m\n",
      "\u001b[90m; │└\u001b[39m\n",
      "\u001b[90m; │ @ /cache/build/default-aws-shared0-3/julialang/julia-release-1-dot-8/usr/share/julia/stdlib/v1.8/Random/src/Random.jl:257 within `rand` @ /cache/build/default-aws-shared0-3/julialang/julia-release-1-dot-8/usr/share/julia/stdlib/v1.8/Random/src/Random.jl:257 @ /cache/build/default-aws-shared0-3/julialang/julia-release-1-dot-8/usr/share/julia/stdlib/v1.8/Random/src/Xoshiro.jl:210 @ /cache/build/default-aws-shared0-3/julialang/julia-release-1-dot-8/usr/share/julia/stdlib/v1.8/Random/src/Random.jl:257 @ /cache/build/default-aws-shared0-3/julialang/julia-release-1-dot-8/usr/share/julia/stdlib/v1.8/Random/src/Xoshiro.jl:128\u001b[39m\n",
      "\u001b[90m; │┌ @ int.jl:87 within `+`\u001b[39m\n",
      "    \u001b[0m%13 \u001b[0m= \u001b[96m\u001b[1madd\u001b[22m\u001b[39m \u001b[36mi64\u001b[39m \u001b[0m%12\u001b[0m, \u001b[0m%3\n",
      "\u001b[90m; │└\u001b[39m\n",
      "\u001b[90m; │ @ /cache/build/default-aws-shared0-3/julialang/julia-release-1-dot-8/usr/share/julia/stdlib/v1.8/Random/src/Random.jl:257 within `rand` @ /cache/build/default-aws-shared0-3/julialang/julia-release-1-dot-8/usr/share/julia/stdlib/v1.8/Random/src/Random.jl:257 @ /cache/build/default-aws-shared0-3/julialang/julia-release-1-dot-8/usr/share/julia/stdlib/v1.8/Random/src/Xoshiro.jl:210 @ /cache/build/default-aws-shared0-3/julialang/julia-release-1-dot-8/usr/share/julia/stdlib/v1.8/Random/src/Random.jl:257 @ /cache/build/default-aws-shared0-3/julialang/julia-release-1-dot-8/usr/share/julia/stdlib/v1.8/Random/src/Xoshiro.jl:129\u001b[39m\n",
      "\u001b[90m; │┌ @ int.jl:365 within `|`\u001b[39m\n",
      "    \u001b[0m%14 \u001b[0m= \u001b[96m\u001b[1mcall\u001b[22m\u001b[39m \u001b[36mi64\u001b[39m \u001b[93m@llvm.fshl.i64\u001b[39m\u001b[33m(\u001b[39m\u001b[36mi64\u001b[39m \u001b[0m%13\u001b[0m, \u001b[36mi64\u001b[39m \u001b[0m%13\u001b[0m, \u001b[36mi64\u001b[39m \u001b[33m23\u001b[39m\u001b[33m)\u001b[39m\n",
      "\u001b[90m; │└\u001b[39m\n",
      "\u001b[90m; │┌ @ int.jl:87 within `+`\u001b[39m\n",
      "    \u001b[0m%15 \u001b[0m= \u001b[96m\u001b[1madd\u001b[22m\u001b[39m \u001b[36mi64\u001b[39m \u001b[0m%14\u001b[0m, \u001b[0m%3\n",
      "\u001b[90m; │└\u001b[39m\n",
      "\u001b[90m; │ @ /cache/build/default-aws-shared0-3/julialang/julia-release-1-dot-8/usr/share/julia/stdlib/v1.8/Random/src/Random.jl:257 within `rand` @ /cache/build/default-aws-shared0-3/julialang/julia-release-1-dot-8/usr/share/julia/stdlib/v1.8/Random/src/Random.jl:257 @ /cache/build/default-aws-shared0-3/julialang/julia-release-1-dot-8/usr/share/julia/stdlib/v1.8/Random/src/Xoshiro.jl:210 @ /cache/build/default-aws-shared0-3/julialang/julia-release-1-dot-8/usr/share/julia/stdlib/v1.8/Random/src/Random.jl:257 @ /cache/build/default-aws-shared0-3/julialang/julia-release-1-dot-8/usr/share/julia/stdlib/v1.8/Random/src/Xoshiro.jl:130\u001b[39m\n",
      "\u001b[90m; │┌ @ int.jl:503 within `<<` @ int.jl:496\u001b[39m\n",
      "    \u001b[0m%16 \u001b[0m= \u001b[96m\u001b[1mshl\u001b[22m\u001b[39m \u001b[36mi64\u001b[39m \u001b[0m%6\u001b[0m, \u001b[33m17\u001b[39m\n",
      "\u001b[90m; │└\u001b[39m\n",
      "\u001b[90m; │ @ /cache/build/default-aws-shared0-3/julialang/julia-release-1-dot-8/usr/share/julia/stdlib/v1.8/Random/src/Random.jl:257 within `rand` @ /cache/build/default-aws-shared0-3/julialang/julia-release-1-dot-8/usr/share/julia/stdlib/v1.8/Random/src/Random.jl:257 @ /cache/build/default-aws-shared0-3/julialang/julia-release-1-dot-8/usr/share/julia/stdlib/v1.8/Random/src/Xoshiro.jl:210 @ /cache/build/default-aws-shared0-3/julialang/julia-release-1-dot-8/usr/share/julia/stdlib/v1.8/Random/src/Random.jl:257 @ /cache/build/default-aws-shared0-3/julialang/julia-release-1-dot-8/usr/share/julia/stdlib/v1.8/Random/src/Xoshiro.jl:131\u001b[39m\n",
      "\u001b[90m; │┌ @ int.jl:366 within `xor`\u001b[39m\n",
      "    \u001b[0m%17 \u001b[0m= \u001b[96m\u001b[1mxor\u001b[22m\u001b[39m \u001b[36mi64\u001b[39m \u001b[0m%9\u001b[0m, \u001b[0m%3\n",
      "\u001b[90m; │└\u001b[39m\n",
      "\u001b[90m; │ @ /cache/build/default-aws-shared0-3/julialang/julia-release-1-dot-8/usr/share/julia/stdlib/v1.8/Random/src/Random.jl:257 within `rand` @ /cache/build/default-aws-shared0-3/julialang/julia-release-1-dot-8/usr/share/julia/stdlib/v1.8/Random/src/Random.jl:257 @ /cache/build/default-aws-shared0-3/julialang/julia-release-1-dot-8/usr/share/julia/stdlib/v1.8/Random/src/Xoshiro.jl:210 @ /cache/build/default-aws-shared0-3/julialang/julia-release-1-dot-8/usr/share/julia/stdlib/v1.8/Random/src/Random.jl:257 @ /cache/build/default-aws-shared0-3/julialang/julia-release-1-dot-8/usr/share/julia/stdlib/v1.8/Random/src/Xoshiro.jl:132\u001b[39m\n",
      "\u001b[90m; │┌ @ int.jl:366 within `xor`\u001b[39m\n",
      "    \u001b[0m%18 \u001b[0m= \u001b[96m\u001b[1mxor\u001b[22m\u001b[39m \u001b[36mi64\u001b[39m \u001b[0m%12\u001b[0m, \u001b[0m%6\n",
      "\u001b[90m; │└\u001b[39m\n",
      "\u001b[90m; │ @ /cache/build/default-aws-shared0-3/julialang/julia-release-1-dot-8/usr/share/julia/stdlib/v1.8/Random/src/Random.jl:257 within `rand` @ /cache/build/default-aws-shared0-3/julialang/julia-release-1-dot-8/usr/share/julia/stdlib/v1.8/Random/src/Random.jl:257 @ /cache/build/default-aws-shared0-3/julialang/julia-release-1-dot-8/usr/share/julia/stdlib/v1.8/Random/src/Xoshiro.jl:210 @ /cache/build/default-aws-shared0-3/julialang/julia-release-1-dot-8/usr/share/julia/stdlib/v1.8/Random/src/Random.jl:257 @ /cache/build/default-aws-shared0-3/julialang/julia-release-1-dot-8/usr/share/julia/stdlib/v1.8/Random/src/Xoshiro.jl:133\u001b[39m\n",
      "\u001b[90m; │┌ @ int.jl:366 within `xor`\u001b[39m\n",
      "    \u001b[0m%19 \u001b[0m= \u001b[96m\u001b[1mxor\u001b[22m\u001b[39m \u001b[36mi64\u001b[39m \u001b[0m%17\u001b[0m, \u001b[0m%6\n",
      "\u001b[90m; │└\u001b[39m\n",
      "\u001b[90m; │ @ /cache/build/default-aws-shared0-3/julialang/julia-release-1-dot-8/usr/share/julia/stdlib/v1.8/Random/src/Random.jl:257 within `rand` @ /cache/build/default-aws-shared0-3/julialang/julia-release-1-dot-8/usr/share/julia/stdlib/v1.8/Random/src/Random.jl:257 @ /cache/build/default-aws-shared0-3/julialang/julia-release-1-dot-8/usr/share/julia/stdlib/v1.8/Random/src/Xoshiro.jl:210 @ /cache/build/default-aws-shared0-3/julialang/julia-release-1-dot-8/usr/share/julia/stdlib/v1.8/Random/src/Random.jl:257 @ /cache/build/default-aws-shared0-3/julialang/julia-release-1-dot-8/usr/share/julia/stdlib/v1.8/Random/src/Xoshiro.jl:134\u001b[39m\n",
      "\u001b[90m; │┌ @ int.jl:366 within `xor`\u001b[39m\n",
      "    \u001b[0m%20 \u001b[0m= \u001b[96m\u001b[1mxor\u001b[22m\u001b[39m \u001b[36mi64\u001b[39m \u001b[0m%18\u001b[0m, \u001b[0m%3\n",
      "\u001b[90m; │└\u001b[39m\n",
      "\u001b[90m; │ @ /cache/build/default-aws-shared0-3/julialang/julia-release-1-dot-8/usr/share/julia/stdlib/v1.8/Random/src/Random.jl:257 within `rand` @ /cache/build/default-aws-shared0-3/julialang/julia-release-1-dot-8/usr/share/julia/stdlib/v1.8/Random/src/Random.jl:257 @ /cache/build/default-aws-shared0-3/julialang/julia-release-1-dot-8/usr/share/julia/stdlib/v1.8/Random/src/Xoshiro.jl:210 @ /cache/build/default-aws-shared0-3/julialang/julia-release-1-dot-8/usr/share/julia/stdlib/v1.8/Random/src/Random.jl:257 @ /cache/build/default-aws-shared0-3/julialang/julia-release-1-dot-8/usr/share/julia/stdlib/v1.8/Random/src/Xoshiro.jl:135\u001b[39m\n",
      "\u001b[90m; │┌ @ int.jl:366 within `xor`\u001b[39m\n",
      "    \u001b[0m%21 \u001b[0m= \u001b[96m\u001b[1mxor\u001b[22m\u001b[39m \u001b[36mi64\u001b[39m \u001b[0m%17\u001b[0m, \u001b[0m%16\n",
      "\u001b[90m; │└\u001b[39m\n",
      "\u001b[90m; │ @ /cache/build/default-aws-shared0-3/julialang/julia-release-1-dot-8/usr/share/julia/stdlib/v1.8/Random/src/Random.jl:257 within `rand` @ /cache/build/default-aws-shared0-3/julialang/julia-release-1-dot-8/usr/share/julia/stdlib/v1.8/Random/src/Random.jl:257 @ /cache/build/default-aws-shared0-3/julialang/julia-release-1-dot-8/usr/share/julia/stdlib/v1.8/Random/src/Xoshiro.jl:210 @ /cache/build/default-aws-shared0-3/julialang/julia-release-1-dot-8/usr/share/julia/stdlib/v1.8/Random/src/Random.jl:257 @ /cache/build/default-aws-shared0-3/julialang/julia-release-1-dot-8/usr/share/julia/stdlib/v1.8/Random/src/Xoshiro.jl:136\u001b[39m\n",
      "\u001b[90m; │┌ @ int.jl:365 within `|`\u001b[39m\n",
      "    \u001b[0m%22 \u001b[0m= \u001b[96m\u001b[1mcall\u001b[22m\u001b[39m \u001b[36mi64\u001b[39m \u001b[93m@llvm.fshl.i64\u001b[39m\u001b[33m(\u001b[39m\u001b[36mi64\u001b[39m \u001b[0m%18\u001b[0m, \u001b[36mi64\u001b[39m \u001b[0m%18\u001b[0m, \u001b[36mi64\u001b[39m \u001b[33m45\u001b[39m\u001b[33m)\u001b[39m\n",
      "\u001b[90m; │└\u001b[39m\n",
      "\u001b[90m; │ @ /cache/build/default-aws-shared0-3/julialang/julia-release-1-dot-8/usr/share/julia/stdlib/v1.8/Random/src/Random.jl:257 within `rand` @ /cache/build/default-aws-shared0-3/julialang/julia-release-1-dot-8/usr/share/julia/stdlib/v1.8/Random/src/Random.jl:257 @ /cache/build/default-aws-shared0-3/julialang/julia-release-1-dot-8/usr/share/julia/stdlib/v1.8/Random/src/Xoshiro.jl:210\u001b[39m\n",
      "\u001b[90m; │┌ @ int.jl:505 within `>>>` @ int.jl:497\u001b[39m\n",
      "    \u001b[0m%23 \u001b[0m= \u001b[96m\u001b[1mlshr\u001b[22m\u001b[39m \u001b[36mi64\u001b[39m \u001b[0m%15\u001b[0m, \u001b[33m11\u001b[39m\n",
      "\u001b[90m; │└\u001b[39m\n",
      "\u001b[90m; │┌ @ float.jl:152 within `Float64`\u001b[39m\n",
      "    \u001b[0m%24 \u001b[0m= \u001b[96m\u001b[1muitofp\u001b[22m\u001b[39m \u001b[36mi64\u001b[39m \u001b[0m%23 \u001b[95mto\u001b[39m \u001b[36mdouble\u001b[39m\n",
      "\u001b[90m; │└\u001b[39m\n",
      "\u001b[90m; │┌ @ float.jl:385 within `*`\u001b[39m\n",
      "    \u001b[0m%25 \u001b[0m= \u001b[96m\u001b[1mfmul\u001b[22m\u001b[39m \u001b[36mdouble\u001b[39m \u001b[0m%24\u001b[0m, \u001b[33m0x3CA0000000000000\u001b[39m\n",
      "\u001b[90m; └└\u001b[39m\n",
      "\u001b[90m;  @ In[17]:9 within `my_function_typed`\u001b[39m\n",
      "\u001b[90m; ┌ @ /cache/build/default-aws-shared0-3/julialang/julia-release-1-dot-8/usr/share/julia/stdlib/v1.8/Random/src/Random.jl:257 within `rand` @ /cache/build/default-aws-shared0-3/julialang/julia-release-1-dot-8/usr/share/julia/stdlib/v1.8/Random/src/Random.jl:257 @ /cache/build/default-aws-shared0-3/julialang/julia-release-1-dot-8/usr/share/julia/stdlib/v1.8/Random/src/Xoshiro.jl:210 @ /cache/build/default-aws-shared0-3/julialang/julia-release-1-dot-8/usr/share/julia/stdlib/v1.8/Random/src/Random.jl:257 @ /cache/build/default-aws-shared0-3/julialang/julia-release-1-dot-8/usr/share/julia/stdlib/v1.8/Random/src/Xoshiro.jl:128\u001b[39m\n",
      "\u001b[90m; │┌ @ int.jl:87 within `+`\u001b[39m\n",
      "    \u001b[0m%26 \u001b[0m= \u001b[96m\u001b[1madd\u001b[22m\u001b[39m \u001b[36mi64\u001b[39m \u001b[0m%22\u001b[0m, \u001b[0m%20\n",
      "\u001b[90m; │└\u001b[39m\n",
      "\u001b[90m; │ @ /cache/build/default-aws-shared0-3/julialang/julia-release-1-dot-8/usr/share/julia/stdlib/v1.8/Random/src/Random.jl:257 within `rand` @ /cache/build/default-aws-shared0-3/julialang/julia-release-1-dot-8/usr/share/julia/stdlib/v1.8/Random/src/Random.jl:257 @ /cache/build/default-aws-shared0-3/julialang/julia-release-1-dot-8/usr/share/julia/stdlib/v1.8/Random/src/Xoshiro.jl:210 @ /cache/build/default-aws-shared0-3/julialang/julia-release-1-dot-8/usr/share/julia/stdlib/v1.8/Random/src/Random.jl:257 @ /cache/build/default-aws-shared0-3/julialang/julia-release-1-dot-8/usr/share/julia/stdlib/v1.8/Random/src/Xoshiro.jl:129\u001b[39m\n",
      "\u001b[90m; │┌ @ int.jl:365 within `|`\u001b[39m\n",
      "    \u001b[0m%27 \u001b[0m= \u001b[96m\u001b[1mcall\u001b[22m\u001b[39m \u001b[36mi64\u001b[39m \u001b[93m@llvm.fshl.i64\u001b[39m\u001b[33m(\u001b[39m\u001b[36mi64\u001b[39m \u001b[0m%26\u001b[0m, \u001b[36mi64\u001b[39m \u001b[0m%26\u001b[0m, \u001b[36mi64\u001b[39m \u001b[33m23\u001b[39m\u001b[33m)\u001b[39m\n",
      "\u001b[90m; │└\u001b[39m\n",
      "\u001b[90m; │┌ @ int.jl:87 within `+`\u001b[39m\n",
      "    \u001b[0m%28 \u001b[0m= \u001b[96m\u001b[1madd\u001b[22m\u001b[39m \u001b[36mi64\u001b[39m \u001b[0m%27\u001b[0m, \u001b[0m%20\n",
      "\u001b[90m; │└\u001b[39m\n",
      "\u001b[90m; │ @ /cache/build/default-aws-shared0-3/julialang/julia-release-1-dot-8/usr/share/julia/stdlib/v1.8/Random/src/Random.jl:257 within `rand` @ /cache/build/default-aws-shared0-3/julialang/julia-release-1-dot-8/usr/share/julia/stdlib/v1.8/Random/src/Random.jl:257 @ /cache/build/default-aws-shared0-3/julialang/julia-release-1-dot-8/usr/share/julia/stdlib/v1.8/Random/src/Xoshiro.jl:210 @ /cache/build/default-aws-shared0-3/julialang/julia-release-1-dot-8/usr/share/julia/stdlib/v1.8/Random/src/Random.jl:257 @ /cache/build/default-aws-shared0-3/julialang/julia-release-1-dot-8/usr/share/julia/stdlib/v1.8/Random/src/Xoshiro.jl:130\u001b[39m\n",
      "\u001b[90m; │┌ @ int.jl:503 within `<<` @ int.jl:496\u001b[39m\n",
      "    \u001b[0m%29 \u001b[0m= \u001b[96m\u001b[1mshl\u001b[22m\u001b[39m \u001b[36mi64\u001b[39m \u001b[0m%19\u001b[0m, \u001b[33m17\u001b[39m\n",
      "\u001b[90m; │└\u001b[39m\n",
      "\u001b[90m; │ @ /cache/build/default-aws-shared0-3/julialang/julia-release-1-dot-8/usr/share/julia/stdlib/v1.8/Random/src/Random.jl:257 within `rand` @ /cache/build/default-aws-shared0-3/julialang/julia-release-1-dot-8/usr/share/julia/stdlib/v1.8/Random/src/Random.jl:257 @ /cache/build/default-aws-shared0-3/julialang/julia-release-1-dot-8/usr/share/julia/stdlib/v1.8/Random/src/Xoshiro.jl:210 @ /cache/build/default-aws-shared0-3/julialang/julia-release-1-dot-8/usr/share/julia/stdlib/v1.8/Random/src/Random.jl:257 @ /cache/build/default-aws-shared0-3/julialang/julia-release-1-dot-8/usr/share/julia/stdlib/v1.8/Random/src/Xoshiro.jl:131\u001b[39m\n",
      "\u001b[90m; │┌ @ int.jl:366 within `xor`\u001b[39m\n",
      "    \u001b[0m%30 \u001b[0m= \u001b[96m\u001b[1mxor\u001b[22m\u001b[39m \u001b[36mi64\u001b[39m \u001b[0m%21\u001b[0m, \u001b[0m%20\n",
      "\u001b[90m; │└\u001b[39m\n",
      "\u001b[90m; │ @ /cache/build/default-aws-shared0-3/julialang/julia-release-1-dot-8/usr/share/julia/stdlib/v1.8/Random/src/Random.jl:257 within `rand` @ /cache/build/default-aws-shared0-3/julialang/julia-release-1-dot-8/usr/share/julia/stdlib/v1.8/Random/src/Random.jl:257 @ /cache/build/default-aws-shared0-3/julialang/julia-release-1-dot-8/usr/share/julia/stdlib/v1.8/Random/src/Xoshiro.jl:210 @ /cache/build/default-aws-shared0-3/julialang/julia-release-1-dot-8/usr/share/julia/stdlib/v1.8/Random/src/Random.jl:257 @ /cache/build/default-aws-shared0-3/julialang/julia-release-1-dot-8/usr/share/julia/stdlib/v1.8/Random/src/Xoshiro.jl:132\u001b[39m\n",
      "\u001b[90m; │┌ @ int.jl:366 within `xor`\u001b[39m\n",
      "    \u001b[0m%31 \u001b[0m= \u001b[96m\u001b[1mxor\u001b[22m\u001b[39m \u001b[36mi64\u001b[39m \u001b[0m%22\u001b[0m, \u001b[0m%19\n",
      "\u001b[90m; │└\u001b[39m\n",
      "\u001b[90m; │ @ /cache/build/default-aws-shared0-3/julialang/julia-release-1-dot-8/usr/share/julia/stdlib/v1.8/Random/src/Random.jl:257 within `rand` @ /cache/build/default-aws-shared0-3/julialang/julia-release-1-dot-8/usr/share/julia/stdlib/v1.8/Random/src/Random.jl:257 @ /cache/build/default-aws-shared0-3/julialang/julia-release-1-dot-8/usr/share/julia/stdlib/v1.8/Random/src/Xoshiro.jl:210 @ /cache/build/default-aws-shared0-3/julialang/julia-release-1-dot-8/usr/share/julia/stdlib/v1.8/Random/src/Random.jl:257 @ /cache/build/default-aws-shared0-3/julialang/julia-release-1-dot-8/usr/share/julia/stdlib/v1.8/Random/src/Xoshiro.jl:133\u001b[39m\n",
      "\u001b[90m; │┌ @ int.jl:366 within `xor`\u001b[39m\n",
      "    \u001b[0m%32 \u001b[0m= \u001b[96m\u001b[1mxor\u001b[22m\u001b[39m \u001b[36mi64\u001b[39m \u001b[0m%30\u001b[0m, \u001b[0m%19\n",
      "\u001b[90m; │└\u001b[39m\n",
      "\u001b[90m; │ @ /cache/build/default-aws-shared0-3/julialang/julia-release-1-dot-8/usr/share/julia/stdlib/v1.8/Random/src/Random.jl:257 within `rand` @ /cache/build/default-aws-shared0-3/julialang/julia-release-1-dot-8/usr/share/julia/stdlib/v1.8/Random/src/Random.jl:257 @ /cache/build/default-aws-shared0-3/julialang/julia-release-1-dot-8/usr/share/julia/stdlib/v1.8/Random/src/Xoshiro.jl:210 @ /cache/build/default-aws-shared0-3/julialang/julia-release-1-dot-8/usr/share/julia/stdlib/v1.8/Random/src/Random.jl:257 @ /cache/build/default-aws-shared0-3/julialang/julia-release-1-dot-8/usr/share/julia/stdlib/v1.8/Random/src/Xoshiro.jl:134\u001b[39m\n",
      "\u001b[90m; │┌ @ int.jl:366 within `xor`\u001b[39m\n",
      "    \u001b[0m%33 \u001b[0m= \u001b[96m\u001b[1mxor\u001b[22m\u001b[39m \u001b[36mi64\u001b[39m \u001b[0m%31\u001b[0m, \u001b[0m%20\n",
      "\u001b[90m; │└\u001b[39m\n",
      "\u001b[90m; │ @ /cache/build/default-aws-shared0-3/julialang/julia-release-1-dot-8/usr/share/julia/stdlib/v1.8/Random/src/Random.jl:257 within `rand` @ /cache/build/default-aws-shared0-3/julialang/julia-release-1-dot-8/usr/share/julia/stdlib/v1.8/Random/src/Random.jl:257 @ /cache/build/default-aws-shared0-3/julialang/julia-release-1-dot-8/usr/share/julia/stdlib/v1.8/Random/src/Xoshiro.jl:210 @ /cache/build/default-aws-shared0-3/julialang/julia-release-1-dot-8/usr/share/julia/stdlib/v1.8/Random/src/Random.jl:257 @ /cache/build/default-aws-shared0-3/julialang/julia-release-1-dot-8/usr/share/julia/stdlib/v1.8/Random/src/Xoshiro.jl:135\u001b[39m\n",
      "\u001b[90m; │┌ @ int.jl:366 within `xor`\u001b[39m\n",
      "    \u001b[0m%34 \u001b[0m= \u001b[96m\u001b[1mxor\u001b[22m\u001b[39m \u001b[36mi64\u001b[39m \u001b[0m%30\u001b[0m, \u001b[0m%29\n",
      "\u001b[90m; │└\u001b[39m\n",
      "\u001b[90m; │ @ /cache/build/default-aws-shared0-3/julialang/julia-release-1-dot-8/usr/share/julia/stdlib/v1.8/Random/src/Random.jl:257 within `rand` @ /cache/build/default-aws-shared0-3/julialang/julia-release-1-dot-8/usr/share/julia/stdlib/v1.8/Random/src/Random.jl:257 @ /cache/build/default-aws-shared0-3/julialang/julia-release-1-dot-8/usr/share/julia/stdlib/v1.8/Random/src/Xoshiro.jl:210 @ /cache/build/default-aws-shared0-3/julialang/julia-release-1-dot-8/usr/share/julia/stdlib/v1.8/Random/src/Random.jl:257 @ /cache/build/default-aws-shared0-3/julialang/julia-release-1-dot-8/usr/share/julia/stdlib/v1.8/Random/src/Xoshiro.jl:136\u001b[39m\n",
      "\u001b[90m; │┌ @ int.jl:365 within `|`\u001b[39m\n",
      "    \u001b[0m%35 \u001b[0m= \u001b[96m\u001b[1mcall\u001b[22m\u001b[39m \u001b[36mi64\u001b[39m \u001b[93m@llvm.fshl.i64\u001b[39m\u001b[33m(\u001b[39m\u001b[36mi64\u001b[39m \u001b[0m%31\u001b[0m, \u001b[36mi64\u001b[39m \u001b[0m%31\u001b[0m, \u001b[36mi64\u001b[39m \u001b[33m45\u001b[39m\u001b[33m)\u001b[39m\n",
      "\u001b[90m; │└\u001b[39m\n",
      "\u001b[90m; │ @ /cache/build/default-aws-shared0-3/julialang/julia-release-1-dot-8/usr/share/julia/stdlib/v1.8/Random/src/Random.jl:257 within `rand` @ /cache/build/default-aws-shared0-3/julialang/julia-release-1-dot-8/usr/share/julia/stdlib/v1.8/Random/src/Random.jl:257 @ /cache/build/default-aws-shared0-3/julialang/julia-release-1-dot-8/usr/share/julia/stdlib/v1.8/Random/src/Xoshiro.jl:210 @ /cache/build/default-aws-shared0-3/julialang/julia-release-1-dot-8/usr/share/julia/stdlib/v1.8/Random/src/Random.jl:257 @ /cache/build/default-aws-shared0-3/julialang/julia-release-1-dot-8/usr/share/julia/stdlib/v1.8/Random/src/Xoshiro.jl:137\u001b[39m\n",
      "\u001b[90m; │┌ @ Base.jl:39 within `setproperty!`\u001b[39m\n",
      "    \u001b[96m\u001b[1mstore\u001b[22m\u001b[39m \u001b[36mi64\u001b[39m \u001b[0m%33\u001b[0m, \u001b[36mi64\u001b[39m\u001b[0m* \u001b[0m%2\u001b[0m, \u001b[95malign\u001b[39m \u001b[33m8\u001b[39m\n",
      "    \u001b[96m\u001b[1mstore\u001b[22m\u001b[39m \u001b[36mi64\u001b[39m \u001b[0m%32\u001b[0m, \u001b[36mi64\u001b[39m\u001b[0m* \u001b[0m%5\u001b[0m, \u001b[95malign\u001b[39m \u001b[33m8\u001b[39m\n",
      "    \u001b[96m\u001b[1mstore\u001b[22m\u001b[39m \u001b[36mi64\u001b[39m \u001b[0m%34\u001b[0m, \u001b[36mi64\u001b[39m\u001b[0m* \u001b[0m%8\u001b[0m, \u001b[95malign\u001b[39m \u001b[33m8\u001b[39m\n",
      "    \u001b[96m\u001b[1mstore\u001b[22m\u001b[39m \u001b[36mi64\u001b[39m \u001b[0m%35\u001b[0m, \u001b[36mi64\u001b[39m\u001b[0m* \u001b[0m%11\u001b[0m, \u001b[95malign\u001b[39m \u001b[33m8\u001b[39m\n",
      "\u001b[90m; │└\u001b[39m\n",
      "\u001b[90m; │ @ /cache/build/default-aws-shared0-3/julialang/julia-release-1-dot-8/usr/share/julia/stdlib/v1.8/Random/src/Random.jl:257 within `rand` @ /cache/build/default-aws-shared0-3/julialang/julia-release-1-dot-8/usr/share/julia/stdlib/v1.8/Random/src/Random.jl:257 @ /cache/build/default-aws-shared0-3/julialang/julia-release-1-dot-8/usr/share/julia/stdlib/v1.8/Random/src/Xoshiro.jl:210\u001b[39m\n",
      "\u001b[90m; │┌ @ int.jl:505 within `>>>` @ int.jl:497\u001b[39m\n",
      "    \u001b[0m%36 \u001b[0m= \u001b[96m\u001b[1mlshr\u001b[22m\u001b[39m \u001b[36mi64\u001b[39m \u001b[0m%28\u001b[0m, \u001b[33m11\u001b[39m\n",
      "\u001b[90m; │└\u001b[39m\n",
      "\u001b[90m; │┌ @ float.jl:152 within `Float64`\u001b[39m\n",
      "    \u001b[0m%37 \u001b[0m= \u001b[96m\u001b[1muitofp\u001b[22m\u001b[39m \u001b[36mi64\u001b[39m \u001b[0m%36 \u001b[95mto\u001b[39m \u001b[36mdouble\u001b[39m\n",
      "\u001b[90m; │└\u001b[39m\n",
      "\u001b[90m; │┌ @ float.jl:385 within `*`\u001b[39m\n",
      "    \u001b[0m%38 \u001b[0m= \u001b[96m\u001b[1mfmul\u001b[22m\u001b[39m \u001b[36mdouble\u001b[39m \u001b[0m%37\u001b[0m, \u001b[33m0x3CA0000000000000\u001b[39m\n",
      "\u001b[90m; └└\u001b[39m\n",
      "\u001b[90m;  @ In[17]:10 within `my_function_typed`\u001b[39m\n",
      "\u001b[90m; ┌ @ operators.jl:591 within `+` @ promotion.jl:388\u001b[39m\n",
      "\u001b[90m; │┌ @ promotion.jl:359 within `promote`\u001b[39m\n",
      "\u001b[90m; ││┌ @ promotion.jl:336 within `_promote`\u001b[39m\n",
      "\u001b[90m; │││┌ @ number.jl:7 within `convert`\u001b[39m\n",
      "\u001b[90m; ││││┌ @ float.jl:146 within `Float64`\u001b[39m\n",
      "       \u001b[0m%39 \u001b[0m= \u001b[96m\u001b[1msitofp\u001b[22m\u001b[39m \u001b[36mi64\u001b[39m \u001b[0m%0 \u001b[95mto\u001b[39m \u001b[36mdouble\u001b[39m\n",
      "\u001b[90m; │└└└└\u001b[39m\n",
      "\u001b[90m; │ @ operators.jl:591 within `+` @ promotion.jl:388 @ float.jl:383\u001b[39m\n",
      "   \u001b[0m%40 \u001b[0m= \u001b[96m\u001b[1mfadd\u001b[22m\u001b[39m \u001b[36mdouble\u001b[39m \u001b[0m%25\u001b[0m, \u001b[0m%39\n",
      "\u001b[90m; │ @ operators.jl:591 within `+` @ float.jl:383\u001b[39m\n",
      "   \u001b[0m%41 \u001b[0m= \u001b[96m\u001b[1mfadd\u001b[22m\u001b[39m \u001b[36mdouble\u001b[39m \u001b[0m%40\u001b[0m, \u001b[0m%38\n",
      "\u001b[90m; └\u001b[39m\n",
      "  \u001b[96m\u001b[1mret\u001b[22m\u001b[39m \u001b[36mdouble\u001b[39m \u001b[0m%41\n",
      "\u001b[33m}\u001b[39m\n"
     ]
    }
   ],
   "source": [
    "b = @code_llvm my_function_typed(10);"
   ]
  },
  {
   "cell_type": "markdown",
   "id": "6e289d4e-1f72-4f8b-9a4b-b5ae6d39dc38",
   "metadata": {},
   "source": [
    "Annotating types explicitly can serve a purpose.\n",
    "\n",
    "* Enforce conversions\n",
    "* Very rarely: help the compiler infer types in tricky situations\n",
    "\n",
    "However, more often than not it is an indication of suboptimal code design. (It also makes functions much less generic and reusable!)"
   ]
  },
  {
   "cell_type": "markdown",
   "id": "7decf680-6766-4e52-a75e-530ff7abd65a",
   "metadata": {},
   "source": [
    "# Core messages of this Notebook\n",
    "\n",
    "* **A function is compiled when called for the first time** with a given set of argument types.\n",
    "* The are **multiple compilation steps** which can be inspected through macros like `@code_warntype`.\n",
    "* **Code specialization** based on the types of all of the input arguments is important for speed.\n",
    "* Critical information can be moved to the **type domain** for better dispatch and specialization.\n",
    "* In virtually all cases, **explicit type annotations are irrelevant for performance**."
   ]
  },
  {
   "cell_type": "markdown",
   "id": "86624edb",
   "metadata": {},
   "source": [
    "# References\n",
    "\n",
    "- https://github.com/carstenbauer/JuliaHLRS22/blob/main/Day1/3_specialization.ipynb\n",
    "- https://docs.julialang.org/en/v1/devdocs/ast/\n",
    "- https://juliadebug.github.io/JuliaInterpreter.jl/stable/ast/\n",
    "- https://stackoverflow.com/questions/43453944/what-is-the-difference-between-code-native-code-typed-and-code-llvm-in-julia\n",
    "- https://tenthousandmeters.com/blog/python-behind-the-scenes-4-how-python-bytecode-is-executed/"
   ]
  }
 ],
 "metadata": {
  "kernelspec": {
   "display_name": "Julia (4 Threads) 1.8.4",
   "language": "julia",
   "name": "julia-4-threads-1.8"
  },
  "language_info": {
   "file_extension": ".jl",
   "mimetype": "application/julia",
   "name": "julia",
   "version": "1.8.4"
  }
 },
 "nbformat": 4,
 "nbformat_minor": 5
}
