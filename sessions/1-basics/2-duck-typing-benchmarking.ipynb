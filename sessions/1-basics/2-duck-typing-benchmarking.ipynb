{
 "cells": [
  {
   "cell_type": "markdown",
   "metadata": {
    "tags": []
   },
   "source": [
    "# Duck Typing, Interfaces, and Benchmarking\n",
    "\n",
    "Julia's 'interfaces' and duck-typing are a core part of Julia's type system.\n",
    "\n",
    "> A lot of the power and extensibility in Julia comes from a collection of informal interfaces. By extending a few specific methods to work for a custom type, objects of that type not only receive those functionalities, but they are also able to be used in other methods that are written to generically build upon those behaviors."
   ]
  },
  {
   "cell_type": "markdown",
   "metadata": {},
   "source": [
    "## Example 1: `UnitRange`"
   ]
  },
  {
   "cell_type": "code",
   "execution_count": 1,
   "metadata": {},
   "outputs": [
    {
     "data": {
      "text/plain": [
       "1:30"
      ]
     },
     "execution_count": 1,
     "metadata": {},
     "output_type": "execute_result"
    }
   ],
   "source": [
    "x = 1:30"
   ]
  },
  {
   "cell_type": "code",
   "execution_count": 2,
   "metadata": {},
   "outputs": [
    {
     "data": {
      "text/plain": [
       "UnitRange{Int64}"
      ]
     },
     "execution_count": 2,
     "metadata": {},
     "output_type": "execute_result"
    }
   ],
   "source": [
    "typeof(x)"
   ]
  },
  {
   "cell_type": "code",
   "execution_count": 3,
   "metadata": {},
   "outputs": [
    {
     "data": {
      "text/plain": [
       "(UnitRange, AbstractUnitRange{T} where T<:Real, OrdinalRange{T, T} where T<:Real, AbstractRange{T} where T<:Real, AbstractVector{T} where T<:Real, Any)"
      ]
     },
     "execution_count": 3,
     "metadata": {},
     "output_type": "execute_result"
    }
   ],
   "source": [
    "supertypes(UnitRange)"
   ]
  },
  {
   "cell_type": "code",
   "execution_count": 4,
   "metadata": {},
   "outputs": [
    {
     "data": {
      "text/plain": [
       "true"
      ]
     },
     "execution_count": 4,
     "metadata": {},
     "output_type": "execute_result"
    }
   ],
   "source": [
    "typeof(x) <: AbstractArray"
   ]
  },
  {
   "cell_type": "markdown",
   "metadata": {},
   "source": [
    "Because it is a subtype of `AbstractArray` we can do array-like things with it (it should basically behave like an array!)"
   ]
  },
  {
   "cell_type": "code",
   "execution_count": 5,
   "metadata": {},
   "outputs": [
    {
     "data": {
      "text/plain": [
       "3"
      ]
     },
     "execution_count": 5,
     "metadata": {},
     "output_type": "execute_result"
    }
   ],
   "source": [
    "x[3]"
   ]
  },
  {
   "cell_type": "code",
   "execution_count": 6,
   "metadata": {},
   "outputs": [
    {
     "data": {
      "text/plain": [
       "(30,)"
      ]
     },
     "execution_count": 6,
     "metadata": {},
     "output_type": "execute_result"
    }
   ],
   "source": [
    "size(x)"
   ]
  },
  {
   "cell_type": "code",
   "execution_count": 7,
   "metadata": {},
   "outputs": [
    {
     "data": {
      "text/plain": [
       "Int64"
      ]
     },
     "execution_count": 7,
     "metadata": {},
     "output_type": "execute_result"
    }
   ],
   "source": [
    "eltype(x)"
   ]
  },
  {
   "cell_type": "markdown",
   "metadata": {},
   "source": [
    "However, it's not implemented like a regular `Array` at all.\n",
    "\n",
    "In fact, it's just two numbers! We can see this by looking at it's fields:"
   ]
  },
  {
   "cell_type": "code",
   "execution_count": 8,
   "metadata": {},
   "outputs": [
    {
     "data": {
      "text/plain": [
       "(:start, :stop)"
      ]
     },
     "execution_count": 8,
     "metadata": {},
     "output_type": "execute_result"
    }
   ],
   "source": [
    "fieldnames(typeof(x))"
   ]
  },
  {
   "cell_type": "markdown",
   "metadata": {},
   "source": [
    "or just by inspecting the source code"
   ]
  },
  {
   "cell_type": "code",
   "execution_count": 9,
   "metadata": {},
   "outputs": [
    {
     "data": {
      "text/html": [
       "UnitRange{T}(start::<b>T</b>, stop::<b>T</b>)<i> where T<:Real</i> in Base at <a href=\"https://github.com/JuliaLang/julia/tree/00177ebc4fcadaaa37c4c2cbca2f9db75ba4d8e3/base/range.jl#L393\" target=\"_blank\">range.jl:393</a>"
      ],
      "text/plain": [
       "UnitRange{T}(start::T, stop::T) where T<:Real in Base at range.jl:393"
      ]
     },
     "execution_count": 9,
     "metadata": {},
     "output_type": "execute_result"
    }
   ],
   "source": [
    "@which UnitRange{Int64}(1, 30)"
   ]
  },
  {
   "cell_type": "markdown",
   "metadata": {},
   "source": [
    "It is an `immutable` type which just holds the start and stop values.\n",
    "\n",
    "This means that indexing, `A[i]`, is not just a look-up but a (small) function (try `@which getindex(x, 4)`).\n",
    "\n",
    "What's nice about this is that we can use it in calculations and no array, containing the numbers from 1 to 30, is ever created.\n",
    "\n",
    "Allocating memory is typically costly."
   ]
  },
  {
   "cell_type": "code",
   "execution_count": 11,
   "metadata": {},
   "outputs": [
    {
     "name": "stdout",
     "output_type": "stream",
     "text": [
      "  0.051380 seconds (2 allocations: 76.294 MiB, 19.67% gc time)\n"
     ]
    }
   ],
   "source": [
    "@time collect(1:10_000_000);"
   ]
  },
  {
   "cell_type": "markdown",
   "metadata": {},
   "source": [
    "But creating an immutable type of two numbers is essentially free, no matter what those two numbers are:"
   ]
  },
  {
   "cell_type": "code",
   "execution_count": 12,
   "metadata": {},
   "outputs": [
    {
     "name": "stdout",
     "output_type": "stream",
     "text": [
      "  0.000001 seconds\n"
     ]
    }
   ],
   "source": [
    "@time 1:10_000_000;"
   ]
  },
  {
   "cell_type": "markdown",
   "metadata": {},
   "source": [
    "This is so far the same as in Python, but here is a key difference:\n",
    "\n",
    "```ipython\n",
    "In [1]: a = range(10000)\n",
    "\n",
    "In [2]: a\n",
    "Out[2]: range(0, 10000)\n",
    "\n",
    "In [3]: a * 2\n",
    "---------------------------------------------------------------------------\n",
    "TypeError                                 Traceback (most recent call last)\n",
    "Cell In[3], line 1\n",
    "----> 1 a * 2\n",
    "\n",
    "TypeError: unsupported operand type(s) for *: 'range' and 'int'\n",
    "```\n",
    "\n",
    "As Julia uses multiple dispatch, `UnitRange` has its own methods defined for arithmetic which are **custom made for that type**. Not only does it behave the same way as an array with the same operations, it also does so **with great performance**:"
   ]
  },
  {
   "cell_type": "code",
   "execution_count": 16,
   "metadata": {},
   "outputs": [
    {
     "name": "stdout",
     "output_type": "stream",
     "text": [
      "  0.130613 seconds (4 allocations: 152.588 MiB, 67.14% gc time)\n",
      "  0.000002 seconds\n",
      "20\n"
     ]
    }
   ],
   "source": [
    "# Double all elements in the range and print off the 10th element:\n",
    "@time r = collect(1:10_000_000) * 2\n",
    "@time r = (1:10_000_000) * 2\n",
    "println(r[10])"
   ]
  },
  {
   "cell_type": "code",
   "execution_count": 19,
   "metadata": {},
   "outputs": [
    {
     "data": {
      "text/html": [
       "sum(r::<b>AbstractRange{<:Real}</b>) in Base at <a href=\"https://github.com/JuliaLang/julia/tree/00177ebc4fcadaaa37c4c2cbca2f9db75ba4d8e3/base/range.jl#L1387\" target=\"_blank\">range.jl:1387</a>"
      ],
      "text/plain": [
       "sum(r::AbstractRange{<:Real}) in Base at range.jl:1387"
      ]
     },
     "execution_count": 19,
     "metadata": {},
     "output_type": "execute_result"
    }
   ],
   "source": [
    "@which sum(1:10_000_000)"
   ]
  },
  {
   "cell_type": "code",
   "execution_count": 18,
   "metadata": {},
   "outputs": [
    {
     "name": "stdout",
     "output_type": "stream",
     "text": [
      "  0.054914 seconds (2 allocations: 76.294 MiB, 6.92% gc time)\n",
      "  0.000001 seconds\n"
     ]
    },
    {
     "data": {
      "text/plain": [
       "50000005000000"
      ]
     },
     "execution_count": 18,
     "metadata": {},
     "output_type": "execute_result"
    }
   ],
   "source": [
    "# Sum all of the elements in the range:\n",
    "@time sum(collect(1:10_000_000))\n",
    "@time sum(1:10_000_000)"
   ]
  },
  {
   "cell_type": "markdown",
   "metadata": {},
   "source": [
    "Parts of this do work in Python:\n",
    "\n",
    "```ipython\n",
    "In [1]: %time sum(range(10_000_000))\n",
    "CPU times: user 183 ms, sys: 169 µs, total: 183 ms\n",
    "Wall time: 183 ms\n",
    "```"
   ]
  },
  {
   "cell_type": "code",
   "execution_count": 20,
   "metadata": {
    "collapsed": true,
    "jupyter": {
     "outputs_hidden": true
    },
    "tags": []
   },
   "outputs": [
    {
     "name": "stderr",
     "output_type": "stream",
     "text": [
      "\u001b[32m\u001b[1m    CondaPkg \u001b[22m\u001b[39m\u001b[0mFound dependencies: /home/roscar/work/github.com/RobertRosca/julia-hpc-workshop/CondaPkg.toml\n",
      "\u001b[32m\u001b[1m    CondaPkg \u001b[22m\u001b[39m\u001b[0mFound dependencies: /home/roscar/.local/share/julia/packages/PythonCall/3GRYN/CondaPkg.toml\n",
      "\u001b[32m\u001b[1m    CondaPkg \u001b[22m\u001b[39m\u001b[0mResolving changes\n",
      "\u001b[32m\u001b[1m             \u001b[22m\u001b[39m\u001b[32m+ libstdcxx-ng\u001b[39m\n",
      "\u001b[32m\u001b[1m             \u001b[22m\u001b[39m\u001b[32m+ numpy\u001b[39m\n",
      "\u001b[32m\u001b[1m             \u001b[22m\u001b[39m\u001b[32m+ python\u001b[39m\n",
      "\u001b[32m\u001b[1m    CondaPkg \u001b[22m\u001b[39m\u001b[0mInstalling packages\n",
      "\u001b[32m\u001b[1m             \u001b[22m\u001b[39m│ \u001b[90m/home/roscar/.local/share/julia/artifacts/134b3f7254989e369343bab626bc7e0c77a9cc1a/bin/micromamba\u001b[39m\n",
      "\u001b[32m\u001b[1m             \u001b[22m\u001b[39m│ \u001b[90m-r /home/roscar/.local/share/julia/scratchspaces/0b3b1443-0f03-428d-bdfb-f27f9c1191ea/root\u001b[39m\n",
      "\u001b[32m\u001b[1m             \u001b[22m\u001b[39m│ \u001b[90mcreate\u001b[39m\n",
      "\u001b[32m\u001b[1m             \u001b[22m\u001b[39m│ \u001b[90m-y\u001b[39m\n",
      "\u001b[32m\u001b[1m             \u001b[22m\u001b[39m│ \u001b[90m-p /home/roscar/work/github.com/RobertRosca/julia-hpc-workshop/.CondaPkg/env\u001b[39m\n",
      "\u001b[32m\u001b[1m             \u001b[22m\u001b[39m│ \u001b[90m--override-channels\u001b[39m\n",
      "\u001b[32m\u001b[1m             \u001b[22m\u001b[39m│ \u001b[90m--no-channel-priority\u001b[39m\n",
      "\u001b[32m\u001b[1m             \u001b[22m\u001b[39m│ \u001b[90mlibstdcxx-ng[version='>=3.4,<=12.2',channel='conda-forge']\u001b[39m\n",
      "\u001b[32m\u001b[1m             \u001b[22m\u001b[39m│ \u001b[90mnumpy[version='*']\u001b[39m\n",
      "\u001b[32m\u001b[1m             \u001b[22m\u001b[39m│ \u001b[90mpython[version='>=3.7,<4',channel='conda-forge',build='*cpython*']\u001b[39m\n",
      "\u001b[32m\u001b[1m             \u001b[22m\u001b[39m└ \u001b[90m-c conda-forge\u001b[39m\n"
     ]
    },
    {
     "name": "stdout",
     "output_type": "stream",
     "text": [
      "\n",
      "                                           __\n",
      "          __  ______ ___  ____ _____ ___  / /_  ____ _\n",
      "         / / / / __ `__ \\/ __ `/ __ `__ \\/ __ \\/ __ `/\n",
      "        / /_/ / / / / / / /_/ / / / / / / /_/ / /_/ /\n",
      "       / .___/_/ /_/ /_/\\__,_/_/ /_/ /_/_.___/\\__,_/\n",
      "      /_/\n",
      "\n",
      "\n",
      "Transaction\n",
      "\n",
      "  Prefix: /home/roscar/work/github.com/RobertRosca/julia-hpc-workshop/.CondaPkg/env\n",
      "\n",
      "  Updating specs:\n",
      "\n",
      "   - conda-forge::libstdcxx-ng[version='>=3.4,<=12.2']\n",
      "   - numpy=*\n",
      "   - conda-forge::python[version='>=3.7,<4',build=*cpython*]\n",
      "\n",
      "\n",
      "  Package               Version  Build                Channel                    Size\n",
      "───────────────────────────────────────────────────────────────────────────────────────\n",
      "  Install:\n",
      "───────────────────────────────────────────────────────────────────────────────────────\n",
      "\n",
      "  + _libgcc_mutex           0.1  conda_forge          conda-forge/linux-64     Cached\n",
      "  + _openmp_mutex           4.5  2_gnu                conda-forge/linux-64     Cached\n",
      "  + bzip2                 1.0.8  h7f98852_4           conda-forge/linux-64     Cached\n",
      "  + ca-certificates   2022.12.7  ha878542_0           conda-forge/linux-64     Cached\n",
      "  + ld_impl_linux-64       2.39  hcc3a1bd_1           conda-forge/linux-64     Cached\n",
      "  + libblas               3.9.0  16_linux64_openblas  conda-forge/linux-64     Cached\n",
      "  + libcblas              3.9.0  16_linux64_openblas  conda-forge/linux-64     Cached\n",
      "  + libffi                3.4.2  h7f98852_5           conda-forge/linux-64     Cached\n",
      "  + libgcc-ng            12.2.0  h65d4601_19          conda-forge/linux-64     Cached\n",
      "  + libgfortran-ng       12.2.0  h69a702a_19          conda-forge/linux-64     Cached\n",
      "  + libgfortran5         12.2.0  h337968e_19          conda-forge/linux-64     Cached\n",
      "  + libgomp              12.2.0  h65d4601_19          conda-forge/linux-64     Cached\n",
      "  + liblapack             3.9.0  16_linux64_openblas  conda-forge/linux-64     Cached\n",
      "  + libnsl                2.0.0  h7f98852_0           conda-forge/linux-64     Cached\n",
      "  + libopenblas          0.3.21  pthreads_h78a6416_3  conda-forge/linux-64     Cached\n",
      "  + libsqlite            3.40.0  h753d276_0           conda-forge/linux-64     Cached\n",
      "  + libstdcxx-ng         12.2.0  h46fd767_19          conda-forge/linux-64     Cached\n",
      "  + libuuid              2.32.1  h7f98852_1000        conda-forge/linux-64     Cached\n",
      "  + libzlib              1.2.13  h166bdaf_4           conda-forge/linux-64     Cached\n",
      "  + ncurses                 6.3  h27087fc_1           conda-forge/linux-64     Cached\n",
      "  + numpy                1.24.1  py311hbde0eaa_0      conda-forge/linux-64     Cached\n",
      "  + openssl               3.0.7  h0b41bf4_1           conda-forge/linux-64     Cached\n",
      "  + pip                  22.3.1  pyhd8ed1ab_0         conda-forge/noarch       Cached\n",
      "  + python               3.11.0  ha86cf86_0_cpython   conda-forge/linux-64     Cached\n",
      "  + python_abi             3.11  3_cp311              conda-forge/linux-64     Cached\n",
      "  + readline              8.1.2  h0f457ee_0           conda-forge/linux-64     Cached\n",
      "  + setuptools           65.6.3  pyhd8ed1ab_0         conda-forge/noarch       Cached\n",
      "  + tk                   8.6.12  h27826a3_0           conda-forge/linux-64     Cached\n",
      "  + tzdata                2022g  h191b570_0           conda-forge/noarch       Cached\n",
      "  + wheel                0.38.4  pyhd8ed1ab_0         conda-forge/noarch       Cached\n",
      "  + xz                    5.2.6  h166bdaf_0           conda-forge/linux-64     Cached\n",
      "\n",
      "  Summary:\n",
      "\n",
      "  Install: 31 packages\n",
      "\n",
      "  Total download: 0 B\n",
      "\n",
      "───────────────────────────────────────────────────────────────────────────────────────\n",
      "\n",
      "\n",
      "Transaction starting\n",
      "Linking libstdcxx-ng-12.2.0-h46fd767_19\n",
      "Linking _libgcc_mutex-0.1-conda_forge\n",
      "Linking python_abi-3.11-3_cp311\n",
      "Linking ld_impl_linux-64-2.39-hcc3a1bd_1\n",
      "Linking ca-certificates-2022.12.7-ha878542_0\n",
      "Linking libgfortran5-12.2.0-h337968e_19\n",
      "Linking libgomp-12.2.0-h65d4601_19\n",
      "Linking libgfortran-ng-12.2.0-h69a702a_19\n",
      "Linking _openmp_mutex-4.5-2_gnu\n",
      "Linking libgcc-ng-12.2.0-h65d4601_19\n",
      "Linking libuuid-2.32.1-h7f98852_1000\n",
      "Linking libopenblas-0.3.21-pthreads_h78a6416_3\n",
      "Linking openssl-3.0.7-h0b41bf4_1\n",
      "Linking libffi-3.4.2-h7f98852_5\n",
      "Linking bzip2-1.0.8-h7f98852_4\n",
      "Linking ncurses-6.3-h27087fc_1\n",
      "Linking xz-5.2.6-h166bdaf_0\n",
      "Linking libzlib-1.2.13-h166bdaf_4\n",
      "Linking libnsl-2.0.0-h7f98852_0\n",
      "Linking libblas-3.9.0-16_linux64_openblas\n",
      "Linking readline-8.1.2-h0f457ee_0\n",
      "Linking libsqlite-3.40.0-h753d276_0\n",
      "Linking tk-8.6.12-h27826a3_0\n",
      "Linking libcblas-3.9.0-16_linux64_openblas\n",
      "Linking liblapack-3.9.0-16_linux64_openblas\n",
      "Linking tzdata-2022g-h191b570_0\n",
      "Linking python-3.11.0-ha86cf86_0_cpython\n",
      "Linking wheel-0.38.4-pyhd8ed1ab_0\n",
      "Linking setuptools-65.6.3-pyhd8ed1ab_0\n",
      "Linking pip-22.3.1-pyhd8ed1ab_0\n",
      "Linking numpy-1.24.1-py311hbde0eaa_0\n",
      "Transaction finished\n"
     ]
    },
    {
     "ename": "LoadError",
     "evalue": "InterruptException:",
     "output_type": "error",
     "traceback": [
      "InterruptException:",
      "",
      "Stacktrace:",
      " [1] _lineartrial(b::BenchmarkTools.Benchmark, p::BenchmarkTools.Parameters; maxevals::Int64, kwargs::Base.Pairs{Symbol, Union{}, Tuple{}, NamedTuple{(), Tuple{}}})",
      "   @ BenchmarkTools ~/.local/share/julia/packages/BenchmarkTools/0owsb/src/execution.jl:161",
      " [2] _lineartrial(b::BenchmarkTools.Benchmark, p::BenchmarkTools.Parameters)",
      "   @ BenchmarkTools ~/.local/share/julia/packages/BenchmarkTools/0owsb/src/execution.jl:152",
      " [3] #invokelatest#2",
      "   @ ./essentials.jl:729 [inlined]",
      " [4] invokelatest",
      "   @ ./essentials.jl:726 [inlined]",
      " [5] #lineartrial#46",
      "   @ ~/.local/share/julia/packages/BenchmarkTools/0owsb/src/execution.jl:35 [inlined]",
      " [6] lineartrial",
      "   @ ~/.local/share/julia/packages/BenchmarkTools/0owsb/src/execution.jl:35 [inlined]",
      " [7] tune!(b::BenchmarkTools.Benchmark, p::BenchmarkTools.Parameters; progressid::Nothing, nleaves::Float64, ndone::Float64, verbose::Bool, pad::String, kwargs::Base.Pairs{Symbol, Union{}, Tuple{}, NamedTuple{(), Tuple{}}})",
      "   @ BenchmarkTools ~/.local/share/julia/packages/BenchmarkTools/0owsb/src/execution.jl:251",
      " [8] tune! (repeats 2 times)",
      "   @ ~/.local/share/julia/packages/BenchmarkTools/0owsb/src/execution.jl:247 [inlined]",
      " [9] top-level scope",
      "   @ ~/.local/share/julia/packages/BenchmarkTools/0owsb/src/execution.jl:576"
     ]
    }
   ],
   "source": [
    "using BenchmarkTools  # This will be explained later\n",
    "using PythonCall  # As well as this\n",
    "\n",
    "@btime @pyexec \"sum(range(10_000_000))\""
   ]
  },
  {
   "cell_type": "markdown",
   "metadata": {},
   "source": [
    "This effectively does the same thing the `collect` example does, just a few times slower, and far slower than the example using a range."
   ]
  },
  {
   "cell_type": "code",
   "execution_count": 21,
   "metadata": {},
   "outputs": [
    {
     "data": {
      "text/html": [
       "sum(r::<b>AbstractRange{<:Real}</b>) in Base at <a href=\"https://github.com/JuliaLang/julia/tree/00177ebc4fcadaaa37c4c2cbca2f9db75ba4d8e3/base/range.jl#L1387\" target=\"_blank\">range.jl:1387</a>"
      ],
      "text/plain": [
       "sum(r::AbstractRange{<:Real}) in Base at range.jl:1387"
      ]
     },
     "execution_count": 21,
     "metadata": {},
     "output_type": "execute_result"
    }
   ],
   "source": [
    "@which sum(1:10_000_000)"
   ]
  },
  {
   "cell_type": "markdown",
   "metadata": {},
   "source": [
    "Duck typing and interfaces let us define specialised code that is very performant, and interacts with the rest of the language as expected."
   ]
  },
  {
   "cell_type": "markdown",
   "metadata": {},
   "source": [
    "## Example 2: `DiagonalMatrix`\n",
    "\n",
    "Let's create a simple custom `DiagonalMatrix` type that can represent square diagonal matrices, i.e.\n",
    "\n",
    "$$ D = \\left( \\begin{matrix} x & 0 & 0 & 0 \\\\ 0 & y & 0 & 0 \\\\ 0 & 0 & z & 0 \\\\ 0 & 0 & 0 & \\ddots \\end{matrix} \\right) $$"
   ]
  },
  {
   "cell_type": "code",
   "execution_count": 22,
   "metadata": {},
   "outputs": [],
   "source": [
    "struct DiagonalMatrix{T} <: AbstractArray{T, 2}\n",
    "    diag::Vector{T}\n",
    "end"
   ]
  },
  {
   "cell_type": "markdown",
   "metadata": {},
   "source": [
    "In the spirit of duck typing, we integrate our `DiagonalMatrix` into Julia's type hierarchy by making it a subtype (`<:`) of `AbstractMatrix` to indicate **array-like behavior**. (Note that this does not indicate inheritence of structure!)\n",
    "\n",
    "Of course, to actually make it behave like a matrix (a two-dimensional array) we must also implement (parts of) the [`AbstractArray` interface](https://docs.julialang.org/en/v1/manual/interfaces/#man-interface-array-1)."
   ]
  },
  {
   "cell_type": "code",
   "execution_count": 23,
   "metadata": {
    "collapsed": true,
    "jupyter": {
     "outputs_hidden": true
    },
    "tags": [
     "raises-exception"
    ]
   },
   "outputs": [
    {
     "ename": "MethodError",
     "evalue": "MethodError: no method matching size(::DiagonalMatrix{Int64})\n\u001b[0mClosest candidates are:\n\u001b[0m  size(::AbstractArray{T, N}, \u001b[91m::Any\u001b[39m) where {T, N} at abstractarray.jl:42\n\u001b[0m  size(\u001b[91m::Union{LinearAlgebra.Adjoint{T, var\"#s886\"}, LinearAlgebra.Transpose{T, var\"#s886\"}} where {T, var\"#s886\"<:(AbstractVector)}\u001b[39m) at /usr/share/julia/stdlib/v1.8/LinearAlgebra/src/adjtrans.jl:173\n\u001b[0m  size(\u001b[91m::Union{LinearAlgebra.Adjoint{T, var\"#s886\"}, LinearAlgebra.Transpose{T, var\"#s886\"}} where {T, var\"#s886\"<:(AbstractMatrix)}\u001b[39m) at /usr/share/julia/stdlib/v1.8/LinearAlgebra/src/adjtrans.jl:174\n\u001b[0m  ...",
     "output_type": "error",
     "traceback": [
      "MethodError: no method matching size(::DiagonalMatrix{Int64})\n\u001b[0mClosest candidates are:\n\u001b[0m  size(::AbstractArray{T, N}, \u001b[91m::Any\u001b[39m) where {T, N} at abstractarray.jl:42\n\u001b[0m  size(\u001b[91m::Union{LinearAlgebra.Adjoint{T, var\"#s886\"}, LinearAlgebra.Transpose{T, var\"#s886\"}} where {T, var\"#s886\"<:(AbstractVector)}\u001b[39m) at /usr/share/julia/stdlib/v1.8/LinearAlgebra/src/adjtrans.jl:173\n\u001b[0m  size(\u001b[91m::Union{LinearAlgebra.Adjoint{T, var\"#s886\"}, LinearAlgebra.Transpose{T, var\"#s886\"}} where {T, var\"#s886\"<:(AbstractMatrix)}\u001b[39m) at /usr/share/julia/stdlib/v1.8/LinearAlgebra/src/adjtrans.jl:174\n\u001b[0m  ...",
      "",
      "Stacktrace:",
      "  [1] length",
      "    @ ./abstractarray.jl:279 [inlined]",
      "  [2] isempty(a::DiagonalMatrix{Int64})",
      "    @ Base ./abstractarray.jl:1170",
      "  [3] show(io::IOContext{IOBuffer}, #unused#::MIME{Symbol(\"text/plain\")}, X::DiagonalMatrix{Int64})",
      "    @ Base ./arrayshow.jl:364",
      "  [4] limitstringmime(mime::MIME{Symbol(\"text/plain\")}, x::DiagonalMatrix{Int64})",
      "    @ IJulia ~/.local/share/julia/packages/IJulia/6TIq1/src/inline.jl:43",
      "  [5] display_mimestring(m::MIME{Symbol(\"text/plain\")}, x::DiagonalMatrix{Int64})",
      "    @ IJulia ~/.local/share/julia/packages/IJulia/6TIq1/src/display.jl:71",
      "  [6] display_dict(x::DiagonalMatrix{Int64})",
      "    @ IJulia ~/.local/share/julia/packages/IJulia/6TIq1/src/display.jl:102",
      "  [7] #invokelatest#2",
      "    @ ./essentials.jl:729 [inlined]",
      "  [8] invokelatest",
      "    @ ./essentials.jl:726 [inlined]",
      "  [9] execute_request(socket::ZMQ.Socket, msg::IJulia.Msg)",
      "    @ IJulia ~/.local/share/julia/packages/IJulia/6TIq1/src/execute_request.jl:112",
      " [10] #invokelatest#2",
      "    @ ./essentials.jl:729 [inlined]",
      " [11] invokelatest",
      "    @ ./essentials.jl:726 [inlined]",
      " [12] eventloop(socket::ZMQ.Socket)",
      "    @ IJulia ~/.local/share/julia/packages/IJulia/6TIq1/src/eventloop.jl:8",
      " [13] (::IJulia.var\"#15#18\")()",
      "    @ IJulia ./task.jl:484"
     ]
    }
   ],
   "source": [
    "DiagonalMatrix([1, 2, 3])"
   ]
  },
  {
   "cell_type": "code",
   "execution_count": 24,
   "metadata": {},
   "outputs": [],
   "source": [
    "Base.size(D::DiagonalMatrix) = (length(D.diag), length(D.diag))"
   ]
  },
  {
   "cell_type": "code",
   "execution_count": 25,
   "metadata": {
    "collapsed": true,
    "jupyter": {
     "outputs_hidden": true
    },
    "tags": [
     "raises-exception"
    ]
   },
   "outputs": [
    {
     "ename": "CanonicalIndexError",
     "evalue": "CanonicalIndexError: getindex not defined for DiagonalMatrix{Int64}",
     "output_type": "error",
     "traceback": [
      "CanonicalIndexError: getindex not defined for DiagonalMatrix{Int64}",
      "",
      "Stacktrace:",
      "  [1] error_if_canonical_getindex(::IndexCartesian, ::DiagonalMatrix{Int64}, ::Int64, ::Int64)",
      "    @ Base ./abstractarray.jl:1260",
      "  [2] getindex",
      "    @ ./abstractarray.jl:1240 [inlined]",
      "  [3] isassigned(::DiagonalMatrix{Int64}, ::Int64, ::Int64)",
      "    @ Base ./abstractarray.jl:565",
      "  [4] alignment(io::IOContext{IOBuffer}, X::AbstractVecOrMat, rows::Vector{Int64}, cols::Vector{Int64}, cols_if_complete::Int64, cols_otherwise::Int64, sep::Int64, ncols::Int64)",
      "    @ Base ./arrayshow.jl:68",
      "  [5] _print_matrix(io::IOContext{IOBuffer}, X::AbstractVecOrMat, pre::String, sep::String, post::String, hdots::String, vdots::String, ddots::String, hmod::Int64, vmod::Int64, rowsA::UnitRange{Int64}, colsA::UnitRange{Int64})",
      "    @ Base ./arrayshow.jl:207",
      "  [6] print_matrix(io::IOContext{IOBuffer}, X::DiagonalMatrix{Int64}, pre::String, sep::String, post::String, hdots::String, vdots::String, ddots::String, hmod::Int64, vmod::Int64) (repeats 2 times)",
      "    @ Base ./arrayshow.jl:171",
      "  [7] print_array",
      "    @ ./arrayshow.jl:358 [inlined]",
      "  [8] show(io::IOContext{IOBuffer}, #unused#::MIME{Symbol(\"text/plain\")}, X::DiagonalMatrix{Int64})",
      "    @ Base ./arrayshow.jl:399",
      "  [9] limitstringmime(mime::MIME{Symbol(\"text/plain\")}, x::DiagonalMatrix{Int64})",
      "    @ IJulia ~/.local/share/julia/packages/IJulia/6TIq1/src/inline.jl:43",
      " [10] display_mimestring",
      "    @ ~/.local/share/julia/packages/IJulia/6TIq1/src/display.jl:71 [inlined]",
      " [11] display_dict(x::DiagonalMatrix{Int64})",
      "    @ IJulia ~/.local/share/julia/packages/IJulia/6TIq1/src/display.jl:102",
      " [12] #invokelatest#2",
      "    @ ./essentials.jl:729 [inlined]",
      " [13] invokelatest",
      "    @ ./essentials.jl:726 [inlined]",
      " [14] execute_request(socket::ZMQ.Socket, msg::IJulia.Msg)",
      "    @ IJulia ~/.local/share/julia/packages/IJulia/6TIq1/src/execute_request.jl:112",
      " [15] #invokelatest#2",
      "    @ ./essentials.jl:729 [inlined]",
      " [16] invokelatest",
      "    @ ./essentials.jl:726 [inlined]",
      " [17] eventloop(socket::ZMQ.Socket)",
      "    @ IJulia ~/.local/share/julia/packages/IJulia/6TIq1/src/eventloop.jl:8",
      " [18] (::IJulia.var\"#15#18\")()",
      "    @ IJulia ./task.jl:484"
     ]
    }
   ],
   "source": [
    "DiagonalMatrix([1, 2, 3])"
   ]
  },
  {
   "cell_type": "code",
   "execution_count": 26,
   "metadata": {},
   "outputs": [],
   "source": [
    "function Base.getindex(D::DiagonalMatrix, i::Int, j::Int)\n",
    "    if i == j\n",
    "        return D.diag[i]\n",
    "    else\n",
    "        return zero(eltype(D))\n",
    "    end\n",
    "end"
   ]
  },
  {
   "cell_type": "code",
   "execution_count": 27,
   "metadata": {},
   "outputs": [
    {
     "data": {
      "text/plain": [
       "3×3 DiagonalMatrix{Int64}:\n",
       " 1  0  0\n",
       " 0  2  0\n",
       " 0  0  3"
      ]
     },
     "execution_count": 27,
     "metadata": {},
     "output_type": "execute_result"
    }
   ],
   "source": [
    "D = DiagonalMatrix([1, 2, 3])"
   ]
  },
  {
   "cell_type": "markdown",
   "metadata": {},
   "source": [
    "Note how it's automagically pretty printed (despite the fact that we never defined any special printing)!"
   ]
  },
  {
   "cell_type": "code",
   "execution_count": 28,
   "metadata": {},
   "outputs": [
    {
     "data": {
      "text/plain": [
       "2"
      ]
     },
     "execution_count": 28,
     "metadata": {},
     "output_type": "execute_result"
    }
   ],
   "source": [
    "D[2, 2]"
   ]
  },
  {
   "cell_type": "code",
   "execution_count": 29,
   "metadata": {},
   "outputs": [
    {
     "data": {
      "text/plain": [
       "0"
      ]
     },
     "execution_count": 29,
     "metadata": {},
     "output_type": "execute_result"
    }
   ],
   "source": [
    "D[1, 2]"
   ]
  },
  {
   "cell_type": "code",
   "execution_count": 30,
   "metadata": {},
   "outputs": [
    {
     "data": {
      "text/plain": [
       "(3, 3)"
      ]
     },
     "execution_count": 30,
     "metadata": {},
     "output_type": "execute_result"
    }
   ],
   "source": [
    "size(D)"
   ]
  },
  {
   "cell_type": "code",
   "execution_count": 31,
   "metadata": {
    "collapsed": true,
    "jupyter": {
     "outputs_hidden": true
    },
    "tags": [
     "raises-exception"
    ]
   },
   "outputs": [
    {
     "ename": "LoadError",
     "evalue": "CanonicalIndexError: setindex! not defined for DiagonalMatrix{Int64}",
     "output_type": "error",
     "traceback": [
      "CanonicalIndexError: setindex! not defined for DiagonalMatrix{Int64}",
      "",
      "Stacktrace:",
      " [1] error_if_canonical_setindex(::IndexCartesian, ::DiagonalMatrix{Int64}, ::Int64, ::Int64)",
      "   @ Base ./abstractarray.jl:1354",
      " [2] setindex!(::DiagonalMatrix{Int64}, ::Int64, ::Int64, ::Int64)",
      "   @ Base ./abstractarray.jl:1343",
      " [3] top-level scope",
      "   @ In[31]:1"
     ]
    }
   ],
   "source": [
    "D[3, 3] = 5"
   ]
  },
  {
   "cell_type": "code",
   "execution_count": 32,
   "metadata": {},
   "outputs": [],
   "source": [
    "function Base.setindex!(D::DiagonalMatrix, v, i::Int, j::Int)\n",
    "    if i == j\n",
    "        D.diag[i] = v\n",
    "    else\n",
    "        throw(ArgumentError(\"cannot set off-diagonal entry ($i, $j)\"))\n",
    "    end\n",
    "    return v\n",
    "end"
   ]
  },
  {
   "cell_type": "code",
   "execution_count": 33,
   "metadata": {},
   "outputs": [
    {
     "data": {
      "text/plain": [
       "5"
      ]
     },
     "execution_count": 33,
     "metadata": {},
     "output_type": "execute_result"
    }
   ],
   "source": [
    "D[3, 3] = 5"
   ]
  },
  {
   "cell_type": "code",
   "execution_count": 34,
   "metadata": {},
   "outputs": [
    {
     "data": {
      "text/plain": [
       "3×3 DiagonalMatrix{Int64}:\n",
       " 1  0  0\n",
       " 0  2  0\n",
       " 0  0  5"
      ]
     },
     "execution_count": 34,
     "metadata": {},
     "output_type": "execute_result"
    }
   ],
   "source": [
    "D"
   ]
  },
  {
   "cell_type": "code",
   "execution_count": 35,
   "metadata": {
    "collapsed": true,
    "jupyter": {
     "outputs_hidden": true
    },
    "tags": [
     "raises-exception"
    ]
   },
   "outputs": [
    {
     "ename": "LoadError",
     "evalue": "ArgumentError: cannot set off-diagonal entry (3, 4)",
     "output_type": "error",
     "traceback": [
      "ArgumentError: cannot set off-diagonal entry (3, 4)",
      "",
      "Stacktrace:",
      " [1] setindex!(D::DiagonalMatrix{Int64}, v::Int64, i::Int64, j::Int64)",
      "   @ Main ./In[32]:5",
      " [2] top-level scope",
      "   @ In[35]:1"
     ]
    }
   ],
   "source": [
    "D[3, 4] = 5"
   ]
  },
  {
   "cell_type": "markdown",
   "metadata": {},
   "source": [
    "But that's not it. Because of duck typing, all kinds of different functions now \"just work\"."
   ]
  },
  {
   "cell_type": "code",
   "execution_count": 36,
   "metadata": {},
   "outputs": [
    {
     "data": {
      "text/plain": [
       "Int64"
      ]
     },
     "execution_count": 36,
     "metadata": {},
     "output_type": "execute_result"
    }
   ],
   "source": [
    "eltype(D) # element data type"
   ]
  },
  {
   "cell_type": "code",
   "execution_count": 37,
   "metadata": {},
   "outputs": [
    {
     "data": {
      "text/plain": [
       "3×3 Matrix{Int64}:\n",
       " 2  0   0\n",
       " 0  4   0\n",
       " 0  0  10"
      ]
     },
     "execution_count": 37,
     "metadata": {},
     "output_type": "execute_result"
    }
   ],
   "source": [
    "D + D # addition"
   ]
  },
  {
   "cell_type": "code",
   "execution_count": 38,
   "metadata": {},
   "outputs": [
    {
     "data": {
      "text/plain": [
       "3×3 Matrix{Int64}:\n",
       " 1  0   0\n",
       " 0  4   0\n",
       " 0  0  25"
      ]
     },
     "execution_count": 38,
     "metadata": {},
     "output_type": "execute_result"
    }
   ],
   "source": [
    "D * D # multiplication"
   ]
  },
  {
   "cell_type": "code",
   "execution_count": 39,
   "metadata": {},
   "outputs": [
    {
     "data": {
      "text/plain": [
       "3×3 Matrix{Float64}:\n",
       " 1.0  0.0  0.0\n",
       " 0.0  0.5  0.0\n",
       " 0.0  0.0  0.2"
      ]
     },
     "execution_count": 39,
     "metadata": {},
     "output_type": "execute_result"
    }
   ],
   "source": [
    "inv(D) # inversion"
   ]
  },
  {
   "cell_type": "code",
   "execution_count": 40,
   "metadata": {},
   "outputs": [
    {
     "data": {
      "text/plain": [
       "3×3 Matrix{Float64}:\n",
       " 0.841471  0.0        0.0\n",
       " 0.0       0.909297   0.0\n",
       " 0.0       0.0       -0.958924"
      ]
     },
     "execution_count": 40,
     "metadata": {},
     "output_type": "execute_result"
    }
   ],
   "source": [
    "sin.(D) # broadcasting"
   ]
  },
  {
   "cell_type": "code",
   "execution_count": null,
   "metadata": {},
   "outputs": [],
   "source": [
    "using LinearAlgebra\n",
    "eigen(D) # eigensolver"
   ]
  },
  {
   "cell_type": "markdown",
   "metadata": {},
   "source": [
    "Of course, so far, these operations have suboptimal performance because they don't utilize the special structure inherent to our `DiagonalMatrix` but fall back to generic implementations."
   ]
  },
  {
   "cell_type": "code",
   "execution_count": 41,
   "metadata": {},
   "outputs": [
    {
     "data": {
      "text/html": [
       "+(A::<b>AbstractArray</b>, B::<b>AbstractArray</b>) in Base at <a href=\"https://github.com/JuliaLang/julia/tree/00177ebc4fcadaaa37c4c2cbca2f9db75ba4d8e3/base/arraymath.jl#L6\" target=\"_blank\">arraymath.jl:6</a>"
      ],
      "text/plain": [
       "+(A::AbstractArray, B::AbstractArray) in Base at arraymath.jl:6"
      ]
     },
     "execution_count": 41,
     "metadata": {},
     "output_type": "execute_result"
    }
   ],
   "source": [
    "@which D + D"
   ]
  },
  {
   "cell_type": "code",
   "execution_count": 42,
   "metadata": {},
   "outputs": [],
   "source": [
    "Base.:+(Da::DiagonalMatrix, Db::DiagonalMatrix) = DiagonalMatrix(Da.diag + Db.diag)"
   ]
  },
  {
   "cell_type": "code",
   "execution_count": 43,
   "metadata": {},
   "outputs": [
    {
     "data": {
      "text/html": [
       "+(Da::<b>DiagonalMatrix</b>, Db::<b>DiagonalMatrix</b>) in Main at In[42]:1"
      ],
      "text/plain": [
       "+(Da::DiagonalMatrix, Db::DiagonalMatrix) in Main at In[42]:1"
      ]
     },
     "execution_count": 43,
     "metadata": {},
     "output_type": "execute_result"
    }
   ],
   "source": [
    "@which D + D"
   ]
  },
  {
   "cell_type": "markdown",
   "metadata": {},
   "source": [
    "Important note: **user defined types are just as good as built-in types!**\n",
    "\n",
    "There is nothing special about built-in types. In fact, [they are implemented in essentially the same way](https://github.com/JuliaLang/julia/blob/master/stdlib/LinearAlgebra/src/diagonal.jl#L5)!\n",
    "\n",
    "Whereas diagonal arrays in something like Numpy are [some C code](https://github.com/numpy/numpy/blob/d4b2d4f80060285ac085ea874aceaf9fa1bfb757/numpy/core/src/multiarray/item_selection.c#L1964)"
   ]
  },
  {
   "cell_type": "markdown",
   "metadata": {},
   "source": [
    "## Side Note: Consistency of Interfaces\n",
    "\n",
    "Another benefit of the abstract type/interface/multiple dispatch style is that interfaces are very consistent within Julia, across not just the base language but across packages as well.\n",
    "\n",
    "An article called [Python vs. Julia: It's also about Consistency](https://towardsdatascience.com/python-vs-julia-its-also-about-consistency-236812dd64ba) shows this point quite well."
   ]
  },
  {
   "cell_type": "markdown",
   "metadata": {},
   "source": [
    "## Benchmarking with [`BenchmarkTools.jl`](https://github.com/JuliaCI/BenchmarkTools.jl)\n",
    "\n",
    "Benchmarking is difficult to do right for many reasons\n",
    "* computers are noisy machines\n",
    "* global vs local scope\n",
    "* the first function call is special in Julia (more later)\n",
    "* ..."
   ]
  },
  {
   "cell_type": "code",
   "execution_count": 52,
   "metadata": {},
   "outputs": [
    {
     "data": {
      "text/plain": [
       "g (generic function with 1 method)"
      ]
     },
     "execution_count": 52,
     "metadata": {},
     "output_type": "execute_result"
    }
   ],
   "source": [
    "g(x) = x + 2 * x"
   ]
  },
  {
   "cell_type": "code",
   "execution_count": 53,
   "metadata": {},
   "outputs": [
    {
     "name": "stdout",
     "output_type": "stream",
     "text": [
      "  0.063475 seconds (218.67 k allocations: 11.180 MiB, 99.34% compilation time)\n"
     ]
    },
    {
     "data": {
      "text/plain": [
       "2×2 Matrix{Float64}:\n",
       " 0.546315  1.89182\n",
       " 2.57299   0.017898"
      ]
     },
     "execution_count": 53,
     "metadata": {},
     "output_type": "execute_result"
    }
   ],
   "source": [
    "x = rand(2, 2)\n",
    "@time g.(x)"
   ]
  },
  {
   "cell_type": "code",
   "execution_count": null,
   "metadata": {},
   "outputs": [],
   "source": [
    "function f()\n",
    "    x = rand(2, 2)\n",
    "    @time g.(x)\n",
    "end"
   ]
  },
  {
   "cell_type": "code",
   "execution_count": null,
   "metadata": {},
   "outputs": [],
   "source": [
    "f()"
   ]
  },
  {
   "cell_type": "markdown",
   "metadata": {},
   "source": [
    "Fortunately, there are tools that do this for us. In addition, they also collect some statistics by running the benchmark multiple times.\n",
    "\n",
    "General rule: **Don't use `@time` but `@btime`** from [BenchmarkTools.jl](https://github.com/JuliaCI/BenchmarkTools.jl) and **interpolate (`$`) input arguments**."
   ]
  },
  {
   "cell_type": "code",
   "execution_count": 58,
   "metadata": {},
   "outputs": [],
   "source": [
    "using BenchmarkTools"
   ]
  },
  {
   "cell_type": "code",
   "execution_count": 61,
   "metadata": {},
   "outputs": [
    {
     "name": "stdout",
     "output_type": "stream",
     "text": [
      "  439.313 ns (4 allocations: 160 bytes)\n"
     ]
    },
    {
     "data": {
      "text/plain": [
       "2×2 Matrix{Float64}:\n",
       " 0.546315  1.89182\n",
       " 2.57299   0.017898"
      ]
     },
     "execution_count": 61,
     "metadata": {},
     "output_type": "execute_result"
    }
   ],
   "source": [
    "@btime g.(x)"
   ]
  },
  {
   "cell_type": "code",
   "execution_count": 62,
   "metadata": {},
   "outputs": [
    {
     "name": "stdout",
     "output_type": "stream",
     "text": [
      "  41.057 ns (1 allocation: 96 bytes)\n"
     ]
    },
    {
     "data": {
      "text/plain": [
       "2×2 Matrix{Float64}:\n",
       " 0.546315  1.89182\n",
       " 2.57299   0.017898"
      ]
     },
     "execution_count": 62,
     "metadata": {},
     "output_type": "execute_result"
    }
   ],
   "source": [
    "@btime g.($x)"
   ]
  },
  {
   "cell_type": "code",
   "execution_count": 60,
   "metadata": {},
   "outputs": [
    {
     "data": {
      "text/plain": [
       "BenchmarkTools.Trial: 10000 samples with 991 evaluations.\n",
       " Range \u001b[90m(\u001b[39m\u001b[36m\u001b[1mmin\u001b[22m\u001b[39m … \u001b[35mmax\u001b[39m\u001b[90m):  \u001b[39m\u001b[36m\u001b[1m39.206 ns\u001b[22m\u001b[39m … \u001b[35m 2.546 μs\u001b[39m  \u001b[90m┊\u001b[39m GC \u001b[90m(\u001b[39mmin … max\u001b[90m): \u001b[39m0.00% … 95.60%\n",
       " Time  \u001b[90m(\u001b[39m\u001b[34m\u001b[1mmedian\u001b[22m\u001b[39m\u001b[90m):     \u001b[39m\u001b[34m\u001b[1m42.290 ns              \u001b[22m\u001b[39m\u001b[90m┊\u001b[39m GC \u001b[90m(\u001b[39mmedian\u001b[90m):    \u001b[39m0.00%\n",
       " Time  \u001b[90m(\u001b[39m\u001b[32m\u001b[1mmean\u001b[22m\u001b[39m ± \u001b[32mσ\u001b[39m\u001b[90m):   \u001b[39m\u001b[32m\u001b[1m48.935 ns\u001b[22m\u001b[39m ± \u001b[32m69.285 ns\u001b[39m  \u001b[90m┊\u001b[39m GC \u001b[90m(\u001b[39mmean ± σ\u001b[90m):  \u001b[39m5.99% ±  4.24%\n",
       "\n",
       "  \u001b[39m▃\u001b[39m▅\u001b[39m█\u001b[39m▆\u001b[34m▄\u001b[39m\u001b[39m▄\u001b[39m▃\u001b[39m▄\u001b[39m▆\u001b[39m▅\u001b[39m▃\u001b[39m▃\u001b[32m▂\u001b[39m\u001b[39m▂\u001b[39m▂\u001b[39m▁\u001b[39m▁\u001b[39m \u001b[39m \u001b[39m \u001b[39m \u001b[39m \u001b[39m \u001b[39m▁\u001b[39m \u001b[39m \u001b[39m \u001b[39m \u001b[39m \u001b[39m \u001b[39m \u001b[39m▁\u001b[39m▁\u001b[39m \u001b[39m \u001b[39m \u001b[39m \u001b[39m \u001b[39m \u001b[39m \u001b[39m \u001b[39m \u001b[39m \u001b[39m \u001b[39m \u001b[39m \u001b[39m \u001b[39m \u001b[39m \u001b[39m \u001b[39m \u001b[39m \u001b[39m \u001b[39m \u001b[39m \u001b[39m \u001b[39m \u001b[39m \u001b[39m \u001b[39m \u001b[39m▂\n",
       "  \u001b[39m█\u001b[39m█\u001b[39m█\u001b[39m█\u001b[34m█\u001b[39m\u001b[39m█\u001b[39m█\u001b[39m█\u001b[39m█\u001b[39m█\u001b[39m█\u001b[39m█\u001b[32m█\u001b[39m\u001b[39m█\u001b[39m█\u001b[39m█\u001b[39m█\u001b[39m█\u001b[39m█\u001b[39m█\u001b[39m█\u001b[39m█\u001b[39m█\u001b[39m█\u001b[39m█\u001b[39m█\u001b[39m▇\u001b[39m▇\u001b[39m█\u001b[39m█\u001b[39m█\u001b[39m█\u001b[39m█\u001b[39m█\u001b[39m█\u001b[39m▇\u001b[39m█\u001b[39m█\u001b[39m▇\u001b[39m▇\u001b[39m▆\u001b[39m▅\u001b[39m▅\u001b[39m▅\u001b[39m▅\u001b[39m▅\u001b[39m▅\u001b[39m▅\u001b[39m▄\u001b[39m▄\u001b[39m▄\u001b[39m▅\u001b[39m▅\u001b[39m▄\u001b[39m▅\u001b[39m▄\u001b[39m▄\u001b[39m▄\u001b[39m▄\u001b[39m \u001b[39m█\n",
       "  39.2 ns\u001b[90m      \u001b[39m\u001b[90mHistogram: \u001b[39m\u001b[90m\u001b[1mlog(\u001b[22m\u001b[39m\u001b[90mfrequency\u001b[39m\u001b[90m\u001b[1m)\u001b[22m\u001b[39m\u001b[90m by time\u001b[39m      86.3 ns \u001b[0m\u001b[1m<\u001b[22m\n",
       "\n",
       " Memory estimate\u001b[90m: \u001b[39m\u001b[33m96 bytes\u001b[39m, allocs estimate\u001b[90m: \u001b[39m\u001b[33m1\u001b[39m."
      ]
     },
     "execution_count": 60,
     "metadata": {},
     "output_type": "execute_result"
    }
   ],
   "source": [
    "@benchmark g.($x)"
   ]
  },
  {
   "cell_type": "markdown",
   "metadata": {},
   "source": [
    "### Custom types are just as good as built-in types"
   ]
  },
  {
   "cell_type": "markdown",
   "metadata": {},
   "source": [
    "Let's compare our custom `DiagonalMatrix` against the standard `Diagonal` type that ships in the `LinearAlgebra` standard library."
   ]
  },
  {
   "cell_type": "code",
   "execution_count": 63,
   "metadata": {},
   "outputs": [
    {
     "name": "stdout",
     "output_type": "stream",
     "text": [
      "  68.156 ns (1 allocation: 896 bytes)\n",
      "  68.263 ns (1 allocation: 896 bytes)\n"
     ]
    }
   ],
   "source": [
    "using LinearAlgebra\n",
    "\n",
    "x = rand(100);\n",
    "\n",
    "Djl = Diagonal(x)\n",
    "D = DiagonalMatrix(x)\n",
    "\n",
    "@btime $Djl + $Djl;\n",
    "@btime $D + $D;"
   ]
  },
  {
   "cell_type": "markdown",
   "metadata": {},
   "source": [
    "## Example 3: Cooler Diagonal Matrix\n",
    "\n",
    "What we made works quite well, but could be even neater if we remove the `Vector` restriction, and instead just use `AbstractVector`s. That way it could even work with ranges! "
   ]
  },
  {
   "cell_type": "code",
   "execution_count": 64,
   "metadata": {},
   "outputs": [],
   "source": [
    "struct CoolerDiagonalMatrix{T} <: AbstractArray{T, 2}\n",
    "    diag::AbstractVector{T}\n",
    "end\n",
    "\n",
    "function Base.getindex(D::CoolerDiagonalMatrix, i::Int, j::Int)\n",
    "    if i == j\n",
    "        return D.diag[i]\n",
    "    else\n",
    "        return zero(eltype(D))\n",
    "    end\n",
    "end\n",
    "\n",
    "Base.:+(Da::CoolerDiagonalMatrix, Db::CoolerDiagonalMatrix) = CoolerDiagonalMatrix(Da.diag + Db.diag)"
   ]
  },
  {
   "cell_type": "code",
   "execution_count": 66,
   "metadata": {},
   "outputs": [
    {
     "name": "stdout",
     "output_type": "stream",
     "text": [
      "  3.982 μs (2 allocations: 78.17 KiB)\n",
      "  109.001 ns (3 allocations: 112 bytes)\n"
     ]
    }
   ],
   "source": [
    "# Old version:\n",
    "D = DiagonalMatrix(collect(1:10_000))\n",
    "@btime $D + $D\n",
    "\n",
    "# New:\n",
    "D_cool = CoolerDiagonalMatrix(1:10_000)\n",
    "@btime $D_cool + $D_cool;"
   ]
  },
  {
   "cell_type": "markdown",
   "metadata": {},
   "source": [
    "Works! But... why are the allocations up? Let's explore more:"
   ]
  },
  {
   "cell_type": "code",
   "execution_count": 68,
   "metadata": {},
   "outputs": [
    {
     "name": "stdout",
     "output_type": "stream",
     "text": [
      "  639.912 ns (1 allocation: 7.94 KiB)\n",
      "  789.414 ns (2 allocations: 7.95 KiB)\n"
     ]
    }
   ],
   "source": [
    "D = DiagonalMatrix(collect(1:1000))\n",
    "@btime $D + $D\n",
    "\n",
    "D_cool = CoolerDiagonalMatrix(collect(1:1000))\n",
    "@btime $D_cool + $D_cool;"
   ]
  },
  {
   "cell_type": "markdown",
   "metadata": {},
   "source": [
    "Huh... the new type is slower even with the same arguments? Why?\n",
    "\n",
    "We'll explore this in the sessions tomorrow.\n",
    "\n",
    "p.s. Numpy:\n",
    "\n",
    "```ipython\n",
    "In [1]: import numpy as np\n",
    "\n",
    "In [2]: d = np.diag(np.arange(1000))\n",
    "\n",
    "In [3]: %timeit d + d\n",
    "2.56 µs ± 35.5 ns per loop (mean ± std. dev. of 7 runs, 100,000 loops each)\n",
    "```\n",
    "\n",
    "Is still slower than any of the Julia code. "
   ]
  },
  {
   "cell_type": "code",
   "execution_count": null,
   "metadata": {},
   "outputs": [],
   "source": [
    "using PythonCall\n",
    "\n",
    "@btime @pyexec \"\"\"\n",
    "import numpy as np\n",
    "\n",
    "d = np.diag(np.arange(1_000))\n",
    "\n",
    "d + d\n",
    "\"\"\""
   ]
  },
  {
   "cell_type": "markdown",
   "metadata": {},
   "source": [
    "# Core messages of this notebook\n",
    "\n",
    "* Duck typing is about **shared behavior** instead of shared structure.\n",
    "* **User defined types are as good as built-in types.**\n",
    "* We can **extend Base functions** for our types to implement arithmetics and such.\n",
    "* **Subtyping an existing interface** can give lots of functionality for free.\n",
    "* Functions should almost always be benchmarked with **BenchmarkTools.jl's `@btime` and `@benchmark`** instead of `@time`."
   ]
  },
  {
   "cell_type": "markdown",
   "metadata": {},
   "source": [
    "# References\n",
    "\n",
    "- https://github.com/carstenbauer/JuliaHLRS22/blob/main/Day1/2_duck_typing_and_benchmarking.ipynb\n",
    "- https://towardsdatascience.com/python-vs-julia-its-also-about-consistency-236812dd64ba\n",
    "- https://docs.julialang.org/en/v1/manual/performance-tips/#Avoid-untyped-global-variables"
   ]
  }
 ],
 "metadata": {
  "kernelspec": {
   "display_name": "Julia (4 Threads) 1.8.4",
   "language": "julia",
   "name": "julia-4-threads-1.8"
  },
  "language_info": {
   "file_extension": ".jl",
   "mimetype": "application/julia",
   "name": "julia",
   "version": "1.8.4"
  }
 },
 "nbformat": 4,
 "nbformat_minor": 4
}
