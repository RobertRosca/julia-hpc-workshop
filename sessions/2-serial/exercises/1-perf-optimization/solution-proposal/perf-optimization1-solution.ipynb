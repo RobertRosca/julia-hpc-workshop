{
 "cells": [
  {
   "cell_type": "markdown",
   "metadata": {},
   "source": [
    "# Exercise: Performance Optimization 1"
   ]
  },
  {
   "cell_type": "markdown",
   "metadata": {},
   "source": [
    "Optimize the following code.\n",
    "\n",
    "(The type and size of the input is fixed/may not be changed.)"
   ]
  },
  {
   "cell_type": "code",
   "execution_count": null,
   "metadata": {},
   "outputs": [],
   "source": [
    "function work!(A, N)\n",
    "    D = zeros(N,N)\n",
    "    for i in 1:N\n",
    "        D = b[i]*c*A\n",
    "        b[i] = sum(D)\n",
    "    end\n",
    "end\n",
    "\n",
    "N = 100\n",
    "A = rand(N,N)\n",
    "b = rand(N)\n",
    "c = 1.23\n",
    "\n",
    "work!(A,N)"
   ]
  },
  {
   "cell_type": "code",
   "execution_count": null,
   "metadata": {},
   "outputs": [],
   "source": [
    "using BenchmarkTools\n",
    "@btime work!($A, $N);"
   ]
  },
  {
   "cell_type": "markdown",
   "metadata": {},
   "source": [
    "## Optimizations"
   ]
  },
  {
   "cell_type": "markdown",
   "metadata": {},
   "source": [
    "### Avoiding globals"
   ]
  },
  {
   "cell_type": "code",
   "execution_count": null,
   "metadata": {},
   "outputs": [],
   "source": [
    "@code_warntype work!(A,N)"
   ]
  },
  {
   "cell_type": "code",
   "execution_count": null,
   "metadata": {},
   "outputs": [],
   "source": [
    "function work1!(A, N, b, c) # b and c are now function arguments\n",
    "    D = zeros(N,N)\n",
    "    for i in 1:N\n",
    "        D = b[i]*c*A\n",
    "        b[i] = sum(D)\n",
    "    end\n",
    "end"
   ]
  },
  {
   "cell_type": "code",
   "execution_count": null,
   "metadata": {},
   "outputs": [],
   "source": [
    "@code_warntype work1!(A,N,b,c)"
   ]
  },
  {
   "cell_type": "code",
   "execution_count": null,
   "metadata": {},
   "outputs": [],
   "source": [
    "@btime work1!($A, $N, $b, $c);"
   ]
  },
  {
   "cell_type": "markdown",
   "metadata": {},
   "source": [
    "### Avoiding globals + temporary allocations"
   ]
  },
  {
   "cell_type": "code",
   "execution_count": null,
   "metadata": {},
   "outputs": [],
   "source": [
    "function work2!(A, N, b)\n",
    "    D = zeros(N,N)\n",
    "    for i in 1:N\n",
    "        @. D = b[i]*c*A\n",
    "        b[i] = sum(D)\n",
    "    end\n",
    "end\n",
    "\n",
    "@btime work2!($A, $N, $b);"
   ]
  },
  {
   "cell_type": "code",
   "execution_count": null,
   "metadata": {},
   "outputs": [],
   "source": [
    "function work3!(A, N, b, c)\n",
    "    D = zeros(N,N)\n",
    "    for i in 1:N\n",
    "        @inbounds for j in eachindex(D)\n",
    "            D[j] = b[i]*c*A[j]\n",
    "        end\n",
    "        b[i] = sum(D)\n",
    "    end\n",
    "end\n",
    "\n",
    "@btime work3!($A, $N, $b, $c);"
   ]
  },
  {
   "cell_type": "markdown",
   "metadata": {},
   "source": [
    "### Avoiding globals + temporary allocations and merging `sum` with loop"
   ]
  },
  {
   "cell_type": "code",
   "execution_count": null,
   "metadata": {},
   "outputs": [],
   "source": [
    "function work4!(A, N, b, c)\n",
    "    D = zeros(N,N)\n",
    "    for i in 1:N\n",
    "        s = zero(eltype(D))\n",
    "        @inbounds @simd for j in eachindex(D)\n",
    "            D[j] = b[i]*c*A[j]\n",
    "            s += D[j]\n",
    "        end\n",
    "        b[i] = s\n",
    "    end\n",
    "end\n",
    "\n",
    "@btime work4!($A, $N, $b, $c);"
   ]
  },
  {
   "cell_type": "markdown",
   "metadata": {},
   "source": [
    "### Realizing that one can factor out `b` and `c`"
   ]
  },
  {
   "cell_type": "code",
   "execution_count": null,
   "metadata": {},
   "outputs": [],
   "source": [
    "# function work!(A, N)\n",
    "#     D = zeros(N,N)\n",
    "#     for i in 1:N\n",
    "#         D = b[i]*c*A\n",
    "#         b[i] = sum(D)\n",
    "#     end\n",
    "# end\n",
    "\n",
    "# function work!(A, N)\n",
    "#     for i in 1:N\n",
    "#         b[i] = sum(b[i]*c*A)\n",
    "#     end\n",
    "# end\n",
    "\n",
    "# function work!(A, N)\n",
    "#     for i in 1:N\n",
    "#         b[i] = b[i]*c*sum(A)\n",
    "#     end\n",
    "# end\n",
    "\n",
    "# function work!(A, N)\n",
    "#     D = c*sum(A)\n",
    "#     for i in 1:N\n",
    "#         b[i] *= D\n",
    "#     end\n",
    "# end\n",
    "\n",
    "function work5!(A, N, b, c)\n",
    "    D = c * sum(A)\n",
    "    b .*= D\n",
    "end\n",
    "\n",
    "@btime work5!($A, $N, $b, $c);"
   ]
  },
  {
   "cell_type": "code",
   "execution_count": null,
   "metadata": {},
   "outputs": [],
   "source": []
  }
 ],
 "metadata": {
  "@webio": {
   "lastCommId": null,
   "lastKernelId": null
  },
  "kernelspec": {
   "display_name": "Julia 1.8.0-rc3",
   "language": "julia",
   "name": "julia-1.8"
  },
  "language_info": {
   "file_extension": ".jl",
   "mimetype": "application/julia",
   "name": "julia",
   "version": "1.8.0-rc3"
  }
 },
 "nbformat": 4,
 "nbformat_minor": 4
}
