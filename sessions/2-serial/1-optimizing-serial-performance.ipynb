{
 "cells": [
  {
   "cell_type": "markdown",
   "metadata": {},
   "source": [
    "# Optimizing \"Serial\" Performance\n",
    "\n",
    "At the heart of fast parallel code must be fast serial code. Parallelism can make a good serial code faster. But it can also make a bad code even worse. One can write terribly slow code in any language, including Julia. In this notebook we want to understand what makes Julia code slow and how to detect and avoid common pitfalls. This will lead to multiple concrete performance tips that will help you speed up your Julia code and to write more efficient code in the first place.\n",
    "\n",
    "By far the most common reasons for slow Julia code are\n",
    "\n",
    "* **too many (unnecessary) allocations**\n",
    "* **break-down of type inference** (e.g. type instabilities)\n",
    "\n",
    "## Avoid Unnecessary Allocations\n",
    "\n",
    "Dynamic heap allocations are costly compared to floating point operations. Avoid them, in particular in \"hot\" loops, because they may trigger garbage collection."
   ]
  },
  {
   "cell_type": "code",
   "execution_count": null,
   "metadata": {},
   "outputs": [],
   "source": [
    "using BenchmarkTools"
   ]
  },
  {
   "cell_type": "code",
   "execution_count": null,
   "metadata": {},
   "outputs": [],
   "source": [
    "@btime 1.2 + 3.4;\n",
    "@btime Vector{Float64}(undef, 1);"
   ]
  },
  {
   "cell_type": "markdown",
   "metadata": {},
   "source": [
    "### Example 1: Element-Wise Operations"
   ]
  },
  {
   "cell_type": "code",
   "execution_count": null,
   "metadata": {},
   "outputs": [],
   "source": [
    "function f()\n",
    "    x = [1, 2, 3]\n",
    "    for i in 1:10_000\n",
    "        x = x + 2 * x\n",
    "    end\n",
    "    return x\n",
    "end"
   ]
  },
  {
   "cell_type": "code",
   "execution_count": null,
   "metadata": {},
   "outputs": [],
   "source": [
    "@btime f();"
   ]
  },
  {
   "cell_type": "markdown",
   "metadata": {},
   "source": [
    "* Huge number of allocations!\n",
    "* Bad sign that they scale with the number of iterations!"
   ]
  },
  {
   "cell_type": "markdown",
   "metadata": {},
   "source": [
    "#### Fix 1: Write explicit loops"
   ]
  },
  {
   "cell_type": "code",
   "execution_count": null,
   "metadata": {},
   "outputs": [],
   "source": [
    "function f()\n",
    "    x = [1, 2, 3]\n",
    "    for i in 1:100_000\n",
    "        for k in eachindex(x)\n",
    "            x[k] = x[k] + 2 * x[k]\n",
    "        end\n",
    "    end\n",
    "    return x\n",
    "end\n",
    "\n",
    "@btime f();"
   ]
  },
  {
   "cell_type": "markdown",
   "metadata": {},
   "source": [
    "#### Fix 2: Broadcasting (aka \"More Dots\")\n",
    "\n",
    "(Recommendation: Old but great [blog post](https://julialang.org/blog/2017/01/moredots) by Steven G. Johnson ([related notebook](https://github.com/JuliaLang/www.julialang.org/blob/master/blog/_posts/moredots/More-Dots.ipynb)))"
   ]
  },
  {
   "cell_type": "code",
   "execution_count": null,
   "metadata": {},
   "outputs": [],
   "source": [
    "function f()\n",
    "    x = [1, 2, 3]\n",
    "    for i in 1:100_000\n",
    "        x = x .+ 2 .* x\n",
    "    end\n",
    "    return x\n",
    "end\n",
    "\n",
    "@btime f();"
   ]
  },
  {
   "cell_type": "code",
   "execution_count": null,
   "metadata": {},
   "outputs": [],
   "source": [
    "function f()\n",
    "    x = [1, 2, 3]\n",
    "    for i in 1:100_000\n",
    "        x .= x .+ 2 .* x\n",
    "        # or put @. in front\n",
    "    end\n",
    "    return x\n",
    "end\n",
    "\n",
    "@btime f();"
   ]
  },
  {
   "cell_type": "markdown",
   "metadata": {},
   "source": [
    "#### Fix 3: Immutable Datatypes (if possible)"
   ]
  },
  {
   "cell_type": "code",
   "execution_count": null,
   "metadata": {},
   "outputs": [],
   "source": [
    "using StaticArrays\n",
    "\n",
    "function f()\n",
    "  x = @SVector [1, 2, 3]\n",
    "  for i in 1:100_000\n",
    "    x = x + 2 * x\n",
    "  end\n",
    "  return x\n",
    "end\n",
    "\n",
    "@btime f();"
   ]
  },
  {
   "cell_type": "markdown",
   "metadata": {},
   "source": [
    "No dynamic heap allocations at all!"
   ]
  },
  {
   "cell_type": "markdown",
   "metadata": {},
   "source": [
    "### Example 2: Linear Algebra\n",
    "\n",
    "<details>\n",
    "<summary>Spoilers</summary>\n",
    "There's a good chance that there will not be a large performance difference between these.\n",
    "\n",
    "That's likely because this is an intense enough benchmark that you may begin to run into CPU throttling with a large number of samples, and the slowdown caused by that throttling dominates the average time far more than the improvement of the code.\n",
    "\n",
    "By lowering the sample size to on the order of dozens (or less) you can see that the first function (on my PC, this will vary) takes roughly 160ms, and the second takes 11ms, an order of magnitude faster.\n",
    "    \n",
    "A slight hint of this may be seen on the benchmark histogram: both have a small clump of results on the far left ast very low times, and the 'range' section of the benchmark has a much lower value for the imporved function.\n",
    "</details>"
   ]
  },
  {
   "cell_type": "code",
   "execution_count": null,
   "metadata": {},
   "outputs": [],
   "source": [
    "function f()\n",
    "    A = rand(100, 100)\n",
    "    B = rand(100, 100)\n",
    "    s = 0.0\n",
    "    for i in 1:1_000\n",
    "        C = A * B\n",
    "        s += C[i]\n",
    "    end\n",
    "    return A\n",
    "end\n",
    "\n",
    "a = @benchmark f()"
   ]
  },
  {
   "cell_type": "markdown",
   "metadata": {},
   "source": [
    "#### Fix: Preallocate and reuse memory + in-place matrix-multipy"
   ]
  },
  {
   "cell_type": "code",
   "execution_count": null,
   "metadata": {},
   "outputs": [],
   "source": [
    "using LinearAlgebra\n",
    "\n",
    "function f()\n",
    "    A = rand(100, 100)\n",
    "    B = rand(100, 100)\n",
    "    C = zeros(100, 100) # preallocate\n",
    "    # C = Array{Float64, 2}(undef, 100, 100)  # A tad faster\n",
    "    s = 0.0\n",
    "    for i in 1:100\n",
    "        mul!(C, A, B) # reuse / in-place matmul\n",
    "        s += C[i]\n",
    "    end\n",
    "    return A\n",
    "end\n",
    "\n",
    "b = @benchmark f()"
   ]
  },
  {
   "cell_type": "markdown",
   "metadata": {},
   "source": [
    "### Example 3: Array slicing\n",
    "\n",
    "By default, array-slicing creates copies!"
   ]
  },
  {
   "cell_type": "code",
   "execution_count": null,
   "metadata": {},
   "outputs": [],
   "source": [
    "using BenchmarkTools\n",
    "\n",
    "X = rand(3, 3);"
   ]
  },
  {
   "cell_type": "code",
   "execution_count": null,
   "metadata": {},
   "outputs": [],
   "source": [
    "f(Y) = Y[:, 1] .+ Y[:, 2] .+ Y[:, 3]\n",
    "\n",
    "@btime f($X);"
   ]
  },
  {
   "cell_type": "markdown",
   "metadata": {},
   "source": [
    "#### Fix: Views"
   ]
  },
  {
   "cell_type": "code",
   "execution_count": null,
   "metadata": {},
   "outputs": [],
   "source": [
    "f(Y) = @views Y[:, 1] .+ Y[:, 2] .+ Y[:, 3]\n",
    "\n",
    "# expands to\n",
    "# f(Y) = view(Y, 1:3, 1) .+ view(Y, 1:3, 2) .+ view(Y, 1:3, 3)\n",
    "\n",
    "@btime f($X);"
   ]
  },
  {
   "cell_type": "markdown",
   "metadata": {},
   "source": [
    "(Note that [copying data isn't always bad](https://docs.julialang.org/en/v1/manual/performance-tips/#Copying-data-is-not-always-bad))"
   ]
  },
  {
   "cell_type": "markdown",
   "metadata": {},
   "source": [
    "### Example 4: Vectorized Style\n",
    "\n",
    "Let's say we want the sum of the sin of the numbers 1 to 10:"
   ]
  },
  {
   "cell_type": "code",
   "execution_count": null,
   "metadata": {},
   "outputs": [],
   "source": [
    "@btime sum(sin.([k for k in 1:10]))  # Dot for broadcast notation\n",
    "# sum(map(sin, [k for k in 1:10]));  # Equivalent to this"
   ]
  },
  {
   "cell_type": "markdown",
   "metadata": {},
   "source": [
    "#### Fix: Call Directly on Variable\n",
    "\n",
    "No need to call sin after the list is generated:"
   ]
  },
  {
   "cell_type": "code",
   "execution_count": null,
   "metadata": {},
   "outputs": [],
   "source": [
    "@btime sum([sin(k) for k in 1:10]);"
   ]
  },
  {
   "cell_type": "markdown",
   "metadata": {},
   "source": [
    "#### Fix: Generators and Laziness"
   ]
  },
  {
   "cell_type": "code",
   "execution_count": null,
   "metadata": {},
   "outputs": [],
   "source": [
    "@btime sum(sin(k) for k in 1:10); # generator"
   ]
  },
  {
   "cell_type": "code",
   "execution_count": null,
   "metadata": {},
   "outputs": [],
   "source": [
    "@btime sum(sin, k for k in 1:10); # two-argument version of sum"
   ]
  },
  {
   "cell_type": "markdown",
   "metadata": {},
   "source": [
    "How about we do our own sum?"
   ]
  },
  {
   "cell_type": "code",
   "execution_count": null,
   "metadata": {},
   "outputs": [],
   "source": [
    "@btime begin\n",
    "    iter = map(sin, [k for k in 1:10])\n",
    "    res = 0\n",
    "    for i in iter\n",
    "        res += i\n",
    "    end\n",
    "end"
   ]
  },
  {
   "cell_type": "code",
   "execution_count": null,
   "metadata": {},
   "outputs": [],
   "source": [
    "@btime begin\n",
    "    iter = Iterators.map(sin, [k for k in 1:10])  # Lazy map, on an vector\n",
    "    res = 0\n",
    "    for i in iter\n",
    "        res += i\n",
    "    end\n",
    "end"
   ]
  },
  {
   "cell_type": "code",
   "execution_count": null,
   "metadata": {},
   "outputs": [],
   "source": [
    "@btime begin\n",
    "    iter = Iterators.map(sin, k for k in 1:10)  # Lazy map, on a generator\n",
    "    res = 0\n",
    "    for i in iter\n",
    "        res += i\n",
    "    end\n",
    "end"
   ]
  },
  {
   "cell_type": "code",
   "execution_count": null,
   "metadata": {},
   "outputs": [],
   "source": [
    "@btime begin\n",
    "    iter = (sin(k) for k in 1:10)  # Only generator, already lazy\n",
    "    res = 0\n",
    "    for i in iter\n",
    "        res += i\n",
    "    end\n",
    "end"
   ]
  },
  {
   "cell_type": "markdown",
   "metadata": {},
   "source": [
    "This highlights the point from the first session: **user code is as performant as any other code**\n",
    "\n",
    "Try doing this in Numpy and it's always orders of magnitude slower than the Julia version, with the user-implemented sum being twice as slow as the built-in Numpy sum."
   ]
  },
  {
   "cell_type": "markdown",
   "metadata": {},
   "source": [
    "## Avoid Type Instabilities\n",
    "\n",
    "**Type stability**: A function `f` is type stable if for a given set of input argument types the return type is always the same.\n",
    "\n",
    "In particular, it means that the type of the output of `f` cannot vary depending on the **values** of the inputs.\n",
    "\n",
    "**Type instability**: The return type of a function `f` is not predictable just from the type of the input arguments alone.\n",
    "\n",
    "Instructive example: `f(x) = rand() > 0.5 ? 1.23 : \"string\"`\n",
    "\n",
    "### Example: Global scope\n",
    "\n",
    "A typical cause of type instability are global variables.\n",
    "\n",
    "From a compiler perspective, variables defined in global scope **can change their value and even their type(!) any time**."
   ]
  },
  {
   "cell_type": "code",
   "execution_count": null,
   "metadata": {},
   "outputs": [],
   "source": [
    "a = 2.0\n",
    "b = 3.0\n",
    "\n",
    "f() = 2 * a + b"
   ]
  },
  {
   "cell_type": "code",
   "execution_count": null,
   "metadata": {},
   "outputs": [],
   "source": [
    "f()"
   ]
  },
  {
   "cell_type": "code",
   "execution_count": null,
   "metadata": {},
   "outputs": [],
   "source": [
    "@code_warntype f()"
   ]
  },
  {
   "cell_type": "code",
   "execution_count": null,
   "metadata": {},
   "outputs": [],
   "source": [
    "@code_llvm f()"
   ]
  },
  {
   "cell_type": "markdown",
   "metadata": {},
   "source": [
    "#### Fix 1: Work in local scope"
   ]
  },
  {
   "cell_type": "code",
   "execution_count": null,
   "metadata": {},
   "outputs": [],
   "source": [
    "function local_scope()\n",
    "    a = 2.0\n",
    "    b = 3.0\n",
    "\n",
    "    f() = 2 * a + b\n",
    "\n",
    "    return f()\n",
    "end\n",
    "\n",
    "local_scope()"
   ]
  },
  {
   "cell_type": "code",
   "execution_count": null,
   "metadata": {},
   "outputs": [],
   "source": [
    "@code_warntype local_scope()"
   ]
  },
  {
   "cell_type": "code",
   "execution_count": null,
   "metadata": {},
   "outputs": [],
   "source": [
    "@code_llvm local_scope()"
   ]
  },
  {
   "cell_type": "code",
   "execution_count": null,
   "metadata": {},
   "outputs": [],
   "source": [
    "@code_native local_scope()"
   ]
  },
  {
   "cell_type": "markdown",
   "metadata": {},
   "source": [
    "This is fast.\n",
    "\n",
    "In fact, it's not just fast, but **as fast as it can be**! Julia has figured out the result of the calculation at compile-time and returns just the literal, i.e. `local_scope() = 7`."
   ]
  },
  {
   "cell_type": "markdown",
   "metadata": {},
   "source": [
    "#### Fix 2: Make globals `const`ant"
   ]
  },
  {
   "cell_type": "code",
   "execution_count": null,
   "metadata": {},
   "outputs": [],
   "source": [
    "const C = 2.0\n",
    "const D = 3.0\n",
    "\n",
    "f() = 2 * C + D\n",
    "\n",
    "f()"
   ]
  },
  {
   "cell_type": "code",
   "execution_count": null,
   "metadata": {},
   "outputs": [],
   "source": [
    "@code_llvm f()"
   ]
  },
  {
   "cell_type": "code",
   "execution_count": null,
   "metadata": {},
   "outputs": [],
   "source": [
    "@code_warntype f()"
   ]
  },
  {
   "cell_type": "markdown",
   "metadata": {},
   "source": [
    "#### Fix 3: Write self-contained functions"
   ]
  },
  {
   "cell_type": "code",
   "execution_count": null,
   "metadata": {},
   "outputs": [],
   "source": [
    "f(a, b) = 2 * a + b"
   ]
  },
  {
   "cell_type": "code",
   "execution_count": null,
   "metadata": {},
   "outputs": [],
   "source": [
    "@code_llvm debuginfo=:none f(2.0, 3.0)"
   ]
  },
  {
   "cell_type": "markdown",
   "metadata": {},
   "source": [
    "**Write functions not scripts!**"
   ]
  },
  {
   "cell_type": "markdown",
   "metadata": {},
   "source": [
    "### Example: Multiple Returns"
   ]
  },
  {
   "cell_type": "code",
   "execution_count": null,
   "metadata": {},
   "outputs": [],
   "source": [
    "function f(x, flag)\n",
    "    if flag\n",
    "        return convert(Vector{Float64}, x)\n",
    "    else\n",
    "        return convert(Vector{Int64}, round.(x))\n",
    "    end\n",
    "end"
   ]
  },
  {
   "cell_type": "code",
   "execution_count": null,
   "metadata": {},
   "outputs": [],
   "source": [
    "@code_warntype f(rand(10), true)"
   ]
  },
  {
   "cell_type": "code",
   "execution_count": null,
   "metadata": {},
   "outputs": [],
   "source": [
    "typeof(f(rand(10), true))"
   ]
  },
  {
   "cell_type": "code",
   "execution_count": null,
   "metadata": {},
   "outputs": [],
   "source": [
    "typeof(f(rand(10), false))"
   ]
  },
  {
   "cell_type": "markdown",
   "metadata": {},
   "source": [
    "#### Fix: Hint Return Type"
   ]
  },
  {
   "cell_type": "code",
   "execution_count": null,
   "metadata": {},
   "outputs": [],
   "source": [
    "function f(x, flag)::Vector{Float64}\n",
    "    if flag\n",
    "        return 1:length(x)\n",
    "    else\n",
    "        return x\n",
    "    end\n",
    "end"
   ]
  },
  {
   "cell_type": "code",
   "execution_count": null,
   "metadata": {},
   "outputs": [],
   "source": [
    "@code_warntype f(rand(10), true)"
   ]
  },
  {
   "cell_type": "markdown",
   "metadata": {},
   "source": [
    "NB: Really, a `Union` return with a few types in it is not that bad as Julia typically handles this situation via union splitting. However it can make the compilers job harder."
   ]
  },
  {
   "cell_type": "markdown",
   "metadata": {},
   "source": [
    "## Avoid Abstract Field Types\n",
    "\n",
    "A common reason for type inference to break are not-concretely typed fields in `struct`s\n",
    "\n",
    "### Example 1"
   ]
  },
  {
   "cell_type": "code",
   "execution_count": null,
   "metadata": {},
   "outputs": [],
   "source": [
    "using BenchmarkTools"
   ]
  },
  {
   "cell_type": "code",
   "execution_count": null,
   "metadata": {},
   "outputs": [],
   "source": [
    "struct MyType\n",
    "    x::Number\n",
    "    y::String\n",
    "end\n",
    "\n",
    "f(a::MyType) = a.x^2 + sqrt(a.x)"
   ]
  },
  {
   "cell_type": "code",
   "execution_count": null,
   "metadata": {},
   "outputs": [],
   "source": [
    "a = MyType(3.0, \"test\")\n",
    "\n",
    "@code_warntype f(a);"
   ]
  },
  {
   "cell_type": "code",
   "execution_count": null,
   "metadata": {},
   "outputs": [],
   "source": [
    "@btime f($a);"
   ]
  },
  {
   "cell_type": "code",
   "execution_count": null,
   "metadata": {},
   "outputs": [],
   "source": [
    "@code_llvm f(a);"
   ]
  },
  {
   "cell_type": "code",
   "execution_count": null,
   "metadata": {},
   "outputs": [],
   "source": [
    "typeof(a)"
   ]
  },
  {
   "cell_type": "markdown",
   "metadata": {},
   "source": [
    "**\"Type stability\"**: A function `f` is type stable if for a given set of input argument types the return type is always the same and *concrete*.\n",
    "\n",
    "#### Fix 1: Concrete typing"
   ]
  },
  {
   "cell_type": "code",
   "execution_count": null,
   "metadata": {},
   "outputs": [],
   "source": [
    "struct MyTypeConcrete\n",
    "    x::Float64\n",
    "    y::String\n",
    "end\n",
    "\n",
    "f(b::MyTypeConcrete) = b.x^2 + sqrt(b.x)"
   ]
  },
  {
   "cell_type": "code",
   "execution_count": null,
   "metadata": {},
   "outputs": [],
   "source": [
    "b = MyTypeConcrete(3.0, \"test\")\n",
    "@code_warntype f(b)"
   ]
  },
  {
   "cell_type": "code",
   "execution_count": null,
   "metadata": {},
   "outputs": [],
   "source": [
    "@btime f($b);"
   ]
  },
  {
   "cell_type": "code",
   "execution_count": null,
   "metadata": {},
   "outputs": [],
   "source": [
    "@code_llvm f(b)"
   ]
  },
  {
   "cell_type": "markdown",
   "metadata": {},
   "source": [
    "#### Fix 2: Type parameters\n",
    "\n",
    "But what if I want to accept any kind of, say, `Number` and `AbstractString` for our type?"
   ]
  },
  {
   "cell_type": "code",
   "execution_count": null,
   "metadata": {},
   "outputs": [],
   "source": [
    "struct MyTypeParametric{A <: Number, B <: AbstractString}\n",
    "    x::A\n",
    "    y::B\n",
    "end\n",
    "\n",
    "f(c::MyTypeParametric) = c.x^2 + sqrt(c.x)"
   ]
  },
  {
   "cell_type": "code",
   "execution_count": null,
   "metadata": {},
   "outputs": [],
   "source": [
    "c = MyTypeParametric(3.0, \"test\")"
   ]
  },
  {
   "cell_type": "code",
   "execution_count": null,
   "metadata": {},
   "outputs": [],
   "source": [
    "@code_warntype f(c)"
   ]
  },
  {
   "cell_type": "markdown",
   "metadata": {},
   "source": [
    "From the type alone the compiler knows what the structure contains and can produce optimal code:"
   ]
  },
  {
   "cell_type": "code",
   "execution_count": null,
   "metadata": {},
   "outputs": [],
   "source": [
    "@btime f($c);"
   ]
  },
  {
   "cell_type": "code",
   "execution_count": null,
   "metadata": {},
   "outputs": [],
   "source": [
    "c = MyTypeParametric(Float32(3.0), SubString(\"test\"))"
   ]
  },
  {
   "cell_type": "code",
   "execution_count": null,
   "metadata": {},
   "outputs": [],
   "source": [
    "@btime f($c);"
   ]
  },
  {
   "cell_type": "markdown",
   "metadata": {},
   "source": [
    "### Example 2 - Cooler Diagonal Matrix\n",
    "\n",
    "Yesterday we created a diagonal matrix which could take in a `Vector` and create an object that acted like a diagonal matrix.\n",
    "\n",
    "By replacing the `Vector` with an `AbstractVector`, we made this work with anything vector-like, like ranges.\n",
    "\n",
    "However, this ended up being slower than the original implementation:"
   ]
  },
  {
   "cell_type": "code",
   "execution_count": null,
   "metadata": {},
   "outputs": [],
   "source": [
    "struct DiagonalMatrix{T} <: AbstractArray{T,2}\n",
    "    diag::Vector{T}\n",
    "end\n",
    "\n",
    "Base.size(D::DiagonalMatrix) = (length(D.diag), length(D.diag))\n",
    "\n",
    "function Base.getindex(D::DiagonalMatrix, i::Int, j::Int)\n",
    "    if i == j\n",
    "        return D.diag[i]\n",
    "    else\n",
    "        return zero(eltype(D))\n",
    "    end\n",
    "end\n",
    "\n",
    "Base.:+(Da::DiagonalMatrix, Db::DiagonalMatrix) = DiagonalMatrix(Da.diag + Db.diag)"
   ]
  },
  {
   "cell_type": "code",
   "execution_count": null,
   "metadata": {},
   "outputs": [],
   "source": [
    "struct CoolerDiagonalMatrix{T} <: AbstractArray{T, 2}\n",
    "    diag::AbstractVector{T}\n",
    "end\n",
    "\n",
    "Base.size(D::CoolerDiagonalMatrix) = (length(D.diag), length(D.diag))\n",
    "\n",
    "function Base.getindex(D::CoolerDiagonalMatrix, i::Int, j::Int)\n",
    "    if i == j\n",
    "        return D.diag[i]\n",
    "    else\n",
    "        return zero(eltype(D))\n",
    "    end\n",
    "end\n",
    "\n",
    "Base.:+(Da::CoolerDiagonalMatrix, Db::CoolerDiagonalMatrix) = CoolerDiagonalMatrix(Da.diag + Db.diag)"
   ]
  },
  {
   "cell_type": "code",
   "execution_count": null,
   "metadata": {},
   "outputs": [],
   "source": [
    "DM = DiagonalMatrix(collect(1:100))\n",
    "@btime $DM + $DM\n",
    "\n",
    "DM_cool = CoolerDiagonalMatrix(collect(1:100))\n",
    "@btime $DM_cool + $DM_cool;"
   ]
  },
  {
   "cell_type": "code",
   "execution_count": null,
   "metadata": {},
   "outputs": [],
   "source": [
    "@code_warntype DM + DM"
   ]
  },
  {
   "cell_type": "code",
   "execution_count": null,
   "metadata": {},
   "outputs": [],
   "source": [
    "@code_warntype DM_cool + DM_cool"
   ]
  },
  {
   "cell_type": "markdown",
   "metadata": {},
   "source": [
    "This is the same as the previous problem: an `AbstractVector{Int64}` is not a concrete type, it means:"
   ]
  },
  {
   "cell_type": "code",
   "execution_count": null,
   "metadata": {},
   "outputs": [],
   "source": [
    "subtypes(AbstractVector{Int64})"
   ]
  },
  {
   "cell_type": "markdown",
   "metadata": {},
   "source": [
    "So really it's a union of all of the above types, not a single type!\n",
    "\n",
    "We can avoid this with some slightly fancier code:"
   ]
  },
  {
   "cell_type": "code",
   "execution_count": null,
   "metadata": {},
   "outputs": [],
   "source": [
    "struct MuchCoolerDiagonalMatrix{T, U <: AbstractVector} <: AbstractArray{T, 2}\n",
    "    diag::U\n",
    "end\n",
    "\n",
    "Base.size(D::MuchCoolerDiagonalMatrix) = (length(D.diag), length(D.diag))\n",
    "\n",
    "function Base.getindex(D::MuchCoolerDiagonalMatrix, i::Int, j::Int)\n",
    "    if i == j\n",
    "        return D.diag[i]\n",
    "    else\n",
    "        return zero(eltype(D))\n",
    "    end\n",
    "end\n",
    "\n",
    "Base.:+(Da::MuchCoolerDiagonalMatrix, Db::MuchCoolerDiagonalMatrix) = MuchCoolerDiagonalMatrix(Da.diag + Db.diag)"
   ]
  },
  {
   "cell_type": "code",
   "execution_count": null,
   "metadata": {
    "tags": [
     "raises-exception"
    ]
   },
   "outputs": [],
   "source": [
    "MuchCoolerDiagonalMatrix(1:10)"
   ]
  },
  {
   "cell_type": "code",
   "execution_count": null,
   "metadata": {},
   "outputs": [],
   "source": [
    "typeof(1:10)"
   ]
  },
  {
   "cell_type": "code",
   "execution_count": null,
   "metadata": {},
   "outputs": [],
   "source": [
    "MuchCoolerDiagonalMatrix{Int64, UnitRange{Int64}}(1:10)"
   ]
  },
  {
   "cell_type": "code",
   "execution_count": null,
   "metadata": {},
   "outputs": [],
   "source": [
    "MuchCoolerDiagonalMatrix(diag::AbstractVector) = MuchCoolerDiagonalMatrix{eltype(diag), typeof(diag)}(diag)"
   ]
  },
  {
   "cell_type": "code",
   "execution_count": null,
   "metadata": {},
   "outputs": [],
   "source": [
    "MuchCoolerDiagonalMatrix{Int64, UnitRange{Int64}}(1:10)"
   ]
  },
  {
   "cell_type": "code",
   "execution_count": null,
   "metadata": {},
   "outputs": [],
   "source": [
    "DM = DiagonalMatrix(collect(1:100))\n",
    "@btime $DM + $DM\n",
    "\n",
    "DM_cool = CoolerDiagonalMatrix(collect(1:100))\n",
    "@btime $DM_cool + $DM_cool;\n",
    "\n",
    "DM_mcool = MuchCoolerDiagonalMatrix(collect(1:100))\n",
    "@btime $DM_mcool + $DM_mcool;"
   ]
  },
  {
   "cell_type": "code",
   "execution_count": null,
   "metadata": {},
   "outputs": [],
   "source": [
    "DM = DiagonalMatrix(collect(1:100))\n",
    "@btime $DM + $DM\n",
    "\n",
    "DM_cool = CoolerDiagonalMatrix(1:100)\n",
    "@btime $DM_cool + $DM_cool;\n",
    "\n",
    "DM_mcool = MuchCoolerDiagonalMatrix(1:100)\n",
    "@btime $DM_mcool + $DM_mcool;"
   ]
  },
  {
   "cell_type": "code",
   "execution_count": null,
   "metadata": {},
   "outputs": [],
   "source": [
    "@code_warntype DM_mcool + DM_mcool"
   ]
  },
  {
   "cell_type": "markdown",
   "metadata": {},
   "source": [
    "## Avoid Untyped Containers\n",
    "\n",
    "### Example"
   ]
  },
  {
   "cell_type": "code",
   "execution_count": null,
   "metadata": {},
   "outputs": [],
   "source": [
    "function f()\n",
    "    numbers = []\n",
    "    for i in 1:10\n",
    "        push!(numbers, i)\n",
    "    end\n",
    "    sum(numbers)\n",
    "end\n",
    "\n",
    "@btime f();"
   ]
  },
  {
   "cell_type": "code",
   "execution_count": null,
   "metadata": {},
   "outputs": [],
   "source": [
    "@code_warntype f()"
   ]
  },
  {
   "cell_type": "code",
   "execution_count": null,
   "metadata": {},
   "outputs": [],
   "source": [
    "typeof([])"
   ]
  },
  {
   "cell_type": "code",
   "execution_count": null,
   "metadata": {},
   "outputs": [],
   "source": [
    "function f()\n",
    "    numbers = Int[]\n",
    "    for i in 1:10\n",
    "        push!(numbers, i)\n",
    "    end\n",
    "    sum(numbers)\n",
    "end\n",
    "\n",
    "@btime f();"
   ]
  },
  {
   "cell_type": "code",
   "execution_count": null,
   "metadata": {},
   "outputs": [],
   "source": [
    "@code_warntype f()"
   ]
  },
  {
   "cell_type": "markdown",
   "metadata": {},
   "source": [
    "## Avoid Changing Variable Types\n",
    "\n",
    "Variables in a function should not change type.\n",
    "\n",
    "### Example"
   ]
  },
  {
   "cell_type": "code",
   "execution_count": null,
   "metadata": {},
   "outputs": [],
   "source": [
    "function f()\n",
    "    x = 1\n",
    "    for i = 1:10\n",
    "        x /= rand()\n",
    "    end\n",
    "    return x\n",
    "end\n",
    "\n",
    "@code_warntype f();"
   ]
  },
  {
   "cell_type": "markdown",
   "metadata": {},
   "source": [
    "(On a side note: since the type can only vary between `Float64` and `Int64`, Julia can still produce reasonable code by *union splitting*. I recommend reading [this blog post](https://julialang.org/blog/2018/08/union-splitting) by Tim Holy.)\n",
    "\n",
    "#### Fix 1: Initialize with correct type"
   ]
  },
  {
   "cell_type": "code",
   "execution_count": null,
   "metadata": {},
   "outputs": [],
   "source": [
    "function f()\n",
    "    x = 1.0\n",
    "    for i = 1:10\n",
    "        x /= rand()\n",
    "    end\n",
    "    return x\n",
    "end\n",
    "\n",
    "@code_warntype f()"
   ]
  },
  {
   "cell_type": "markdown",
   "metadata": {},
   "source": [
    "#### Fix 2: Specify types (to get errors or to heal the problem by conversion)"
   ]
  },
  {
   "cell_type": "code",
   "execution_count": null,
   "metadata": {},
   "outputs": [],
   "source": [
    "function f()\n",
    "    x::Float64 = 1 # implicit conversion\n",
    "    for i = 1:10\n",
    "        x /= rand()\n",
    "    end\n",
    "    return x\n",
    "end\n",
    "\n",
    "@code_warntype f()"
   ]
  },
  {
   "cell_type": "markdown",
   "metadata": {},
   "source": [
    "#### Fix 3: Special-case first iteration"
   ]
  },
  {
   "cell_type": "code",
   "execution_count": null,
   "metadata": {},
   "outputs": [],
   "source": [
    "function f()\n",
    "    x = 1 / rand()\n",
    "    for i = 2:10\n",
    "        x /= rand()\n",
    "    end\n",
    "    return x\n",
    "end\n",
    "\n",
    "@code_warntype f()"
   ]
  },
  {
   "cell_type": "markdown",
   "metadata": {},
   "source": [
    "## Isolate Unavoidable Type Instabilities\n",
    "\n",
    "Type instabilities can occur very naturally, for example when reading unknown user files or user input. Hence, not every instability can be avoided.\n",
    "\n",
    "If that's the case, isolate your expensive computation from the instability by putting it in a separate *kernel function* (also known as introducing a [function barrier](https://docs.julialang.org/en/v1/manual/performance-tips/#kernel-functions))."
   ]
  },
  {
   "cell_type": "code",
   "execution_count": null,
   "metadata": {},
   "outputs": [],
   "source": [
    "data = Union{Int64,Float64,String}[4, 2.0, \"test\", 3.2, 1]"
   ]
  },
  {
   "cell_type": "code",
   "execution_count": null,
   "metadata": {},
   "outputs": [],
   "source": [
    "function computation(data)\n",
    "    x = 1.0\n",
    "    for i in 1:100\n",
    "        x = sin(data[1])\n",
    "        x += data[2]\n",
    "        x *= data[4]\n",
    "    end\n",
    "    return x\n",
    "end\n",
    "\n",
    "@code_warntype computation(data)"
   ]
  },
  {
   "cell_type": "code",
   "execution_count": null,
   "metadata": {},
   "outputs": [],
   "source": [
    "@btime computation($data);"
   ]
  },
  {
   "cell_type": "code",
   "execution_count": null,
   "metadata": {},
   "outputs": [],
   "source": [
    "function computation(data)\n",
    "    a = data[1]\n",
    "    b = data[2]\n",
    "    c = data[4]\n",
    "    return _computation_kernel(a, b, c)\n",
    "end\n",
    "\n",
    "function _computation_kernel(a, b, c)\n",
    "    x = 1.0\n",
    "    for i in 1:100\n",
    "        x = sin(a)\n",
    "        x += b\n",
    "        x *= c\n",
    "    end\n",
    "    return x\n",
    "end"
   ]
  },
  {
   "cell_type": "code",
   "execution_count": null,
   "metadata": {},
   "outputs": [],
   "source": [
    "@code_warntype computation(data)"
   ]
  },
  {
   "cell_type": "code",
   "execution_count": null,
   "metadata": {},
   "outputs": [],
   "source": [
    "@code_warntype _computation_kernel(data[1], data[2], data[4])"
   ]
  },
  {
   "cell_type": "code",
   "execution_count": null,
   "metadata": {},
   "outputs": [],
   "source": [
    "@btime computation($data);"
   ]
  },
  {
   "cell_type": "markdown",
   "metadata": {},
   "source": [
    "Note that the computational kernel function is fully type inferred."
   ]
  },
  {
   "cell_type": "markdown",
   "metadata": {},
   "source": [
    "## Access Arrays in Column-Major Order\n",
    "\n",
    "<img src=\"../../static/column-major-2D.png\" width=800px>\n",
    "\n",
    "Excellent page on this topic: https://book.sciml.ai/notes/02-Optimizing_Serial_Code/\n",
    "\n",
    "**Fastest varying loop index goes first.**"
   ]
  },
  {
   "cell_type": "code",
   "execution_count": null,
   "metadata": {},
   "outputs": [],
   "source": [
    "function fcol!(M)\n",
    "    for col in 1:size(M, 2)\n",
    "        for row in 1:size(M, 1)\n",
    "            M[row, col] = 42\n",
    "        end\n",
    "    end\n",
    "    nothing\n",
    "end\n",
    "\n",
    "function frow!(M)\n",
    "    for row in 1:size(M, 1)\n",
    "        for col in 1:size(M, 2)\n",
    "            M[row, col] = 42\n",
    "        end\n",
    "    end\n",
    "    nothing\n",
    "end"
   ]
  },
  {
   "cell_type": "code",
   "execution_count": null,
   "metadata": {},
   "outputs": [],
   "source": [
    "@benchmark fcol!(A) setup=(A=Array{Int64, 2}(undef, 1000, 1000))"
   ]
  },
  {
   "cell_type": "code",
   "execution_count": null,
   "metadata": {},
   "outputs": [],
   "source": [
    "@benchmark frow!(A) setup=(A=Array{Int64, 2}(undef, 1000, 1000))"
   ]
  },
  {
   "cell_type": "markdown",
   "metadata": {},
   "source": [
    "Lots of cache misses for `frow`!"
   ]
  },
  {
   "cell_type": "markdown",
   "metadata": {},
   "source": [
    "## Performance Annotations\n",
    "\n",
    "### `@inbounds`\n",
    "\n",
    "Disables bounds checks. (Julia may segfault if you use it wrongly!)"
   ]
  },
  {
   "cell_type": "code",
   "execution_count": null,
   "metadata": {},
   "outputs": [],
   "source": [
    "function f()\n",
    "    x = [1, 2, 3]\n",
    "    for i in 1:100_000\n",
    "        for k in 1:3\n",
    "            x[k] = x[k] + 2 * x[k]\n",
    "        end\n",
    "    end\n",
    "    return x\n",
    "end\n",
    "\n",
    "@btime f();"
   ]
  },
  {
   "cell_type": "code",
   "execution_count": null,
   "metadata": {},
   "outputs": [],
   "source": [
    "function f_inbounds()\n",
    "    x = [1, 2, 3]\n",
    "    for i in 1:100_000\n",
    "        for k in 1:3\n",
    "            @inbounds x[k] = x[k] + 2 * x[k]\n",
    "        end\n",
    "    end\n",
    "    return x\n",
    "end\n",
    "\n",
    "@btime f_inbounds();"
   ]
  },
  {
   "cell_type": "markdown",
   "metadata": {},
   "source": [
    "### `@simd`\n",
    "\n",
    "Enables SIMD optimizations that are potentially *unsafe*. Julia may execute loop iterations in arbitrary or overlapping order."
   ]
  },
  {
   "cell_type": "code",
   "execution_count": null,
   "metadata": {},
   "outputs": [],
   "source": [
    "x = rand(1000);"
   ]
  },
  {
   "cell_type": "code",
   "execution_count": null,
   "metadata": {},
   "outputs": [],
   "source": [
    "function f(x)\n",
    "    s = zero(eltype(x))\n",
    "    for i in x\n",
    "        s += i\n",
    "    end\n",
    "    return s\n",
    "end\n",
    "\n",
    "@btime f($x);"
   ]
  },
  {
   "cell_type": "code",
   "execution_count": null,
   "metadata": {},
   "outputs": [],
   "source": [
    "function f_simd(x)\n",
    "    s = zero(eltype(x))\n",
    "    @simd for i in x\n",
    "        s += i\n",
    "    end\n",
    "    return s\n",
    "end\n",
    "\n",
    "@btime f_simd($x);"
   ]
  },
  {
   "cell_type": "markdown",
   "metadata": {},
   "source": [
    "(For integer input both versions have the same speed because integer addition is associative, in contrast to floating point arithmetics.)"
   ]
  },
  {
   "cell_type": "code",
   "execution_count": null,
   "metadata": {},
   "outputs": [],
   "source": [
    "using CpuId\n",
    "cpuinfo()"
   ]
  },
  {
   "cell_type": "code",
   "execution_count": null,
   "metadata": {},
   "outputs": [],
   "source": [
    "x = rand(Float32, 1000);\n",
    "\n",
    "@btime f($x);\n",
    "@btime f_simd($x);"
   ]
  },
  {
   "cell_type": "markdown",
   "metadata": {},
   "source": [
    "### `@fastmath`\n",
    "\n",
    "Enables lots of floating point optimizations that are potentially *unsafe*! It trades accuracy for speed, so, [Beware of fast-math](https://simonbyrne.github.io/notes/fastmath/). (See the [LLVM Language Reference Manual](https://llvm.org/docs/LangRef.html#fast-math-flags) for more information on which compiler options it sets.)\n",
    "\n",
    "There is `julia --math-mode=fast` to enable fast math globally.\n",
    "\n",
    "Harmless example: **FMA - Fused Multiply Add**"
   ]
  },
  {
   "cell_type": "code",
   "execution_count": null,
   "metadata": {},
   "outputs": [],
   "source": [
    "@noinline f(a, b, c) = a * b + c\n",
    "\n",
    "@code_native debuginfo=:none f(1.0, 2.0, 3.0)"
   ]
  },
  {
   "cell_type": "markdown",
   "metadata": {},
   "source": [
    "<img src=\"../../static/skylake_microarchitecture.png\" width=700px>\n",
    "\n",
    "**Source:** [Intel® 64 and IA-32 Architectures Optimization Reference Manual](https://software.intel.com/sites/default/files/managed/9e/bc/64-ia-32-architectures-optimization-manual.pdf)"
   ]
  },
  {
   "cell_type": "code",
   "execution_count": null,
   "metadata": {},
   "outputs": [],
   "source": [
    "f_fma(a, b, c) = fma(a, b, c)\n",
    "\n",
    "@code_native debuginfo=:none f_fma(1.0, 2.0, 3.0)"
   ]
  },
  {
   "cell_type": "code",
   "execution_count": null,
   "metadata": {},
   "outputs": [],
   "source": [
    "f_fastmath(a, b, c) = @fastmath a * b + c\n",
    "\n",
    "@code_native debuginfo=:none f_fastmath(1.0, 2.0, 3.0)"
   ]
  },
  {
   "cell_type": "markdown",
   "metadata": {},
   "source": [
    "Benchmarking this probably won's show a difference due to the noise on the system dominating the tiny benefits of saving one instruction.\n",
    "\n",
    "We get into this later\n",
    "\n",
    "(P.S. In this specific case, [MuladdMacro.jl](https://github.com/SciML/MuladdMacro.jl) is a *safe* alternative."
   ]
  },
  {
   "cell_type": "markdown",
   "metadata": {},
   "source": [
    "## CPU operations vary in cost\n",
    "\n",
    "http://ithare.com/infographics-operation-costs-in-cpu-clock-cycles/\n",
    "\n",
    "### Example: Division vs multiplication"
   ]
  },
  {
   "cell_type": "code",
   "execution_count": null,
   "metadata": {},
   "outputs": [],
   "source": [
    "div(x) = x ./ 1000\n",
    "mul(x) = x .* 1e-3"
   ]
  },
  {
   "cell_type": "code",
   "execution_count": null,
   "metadata": {},
   "outputs": [],
   "source": [
    "x = rand(1000)\n",
    "\n",
    "@btime $x ./ 1000;\n",
    "@btime $x .* 1e-3;"
   ]
  },
  {
   "cell_type": "markdown",
   "metadata": {},
   "source": [
    "## Analysis Tools\n",
    "\n",
    "### [Traceur.jl](https://github.com/MikeInnes/Traceur.jl)\n",
    "\n",
    "**Basic automatic performance trap checker**. Essentially a codified version of the [performance tips](https://docs.julialang.org/en/v1/manual/performance-tips/) in the Julia documentation.\n",
    "\n",
    "Important macro: [`@trace`](http://traceur.junolab.org/latest/#Traceur.@trace)"
   ]
  },
  {
   "cell_type": "code",
   "execution_count": null,
   "metadata": {},
   "outputs": [],
   "source": [
    "using Traceur\n",
    "\n",
    "a = 2.0\n",
    "b = 3.0\n",
    "\n",
    "f() = 2 * a + b\n",
    "\n",
    "@trace f()"
   ]
  },
  {
   "cell_type": "markdown",
   "metadata": {},
   "source": [
    "### [JET.jl](https://github.com/aviatesk/JET.jl)\n",
    "\n",
    "**Static** code analyzer. (Doesn't execute the code!)\n",
    "\n",
    "Important macros:\n",
    "* `@report_opt`: check for potential optimization problems ([optimization analysis](https://aviatesk.github.io/JET.jl/stable/optanalysis/))\n",
    "* `@report_call`: check for potential (general) errors ([error analysis](https://aviatesk.github.io/JET.jl/stable/jetanalysis/))"
   ]
  },
  {
   "cell_type": "code",
   "execution_count": null,
   "metadata": {},
   "outputs": [],
   "source": [
    "using JET\n",
    "\n",
    "a = 2.0\n",
    "b = 3.0\n",
    "\n",
    "f() = 2 * a + b\n",
    "\n",
    "@report_opt f() # check for possible optimization problems"
   ]
  },
  {
   "cell_type": "code",
   "execution_count": null,
   "metadata": {},
   "outputs": [],
   "source": [
    "f() = x + 2\n",
    "\n",
    "@report_call f() # check for possible errors"
   ]
  },
  {
   "cell_type": "code",
   "execution_count": null,
   "metadata": {},
   "outputs": [],
   "source": [
    "@report_opt f()"
   ]
  },
  {
   "cell_type": "code",
   "execution_count": null,
   "metadata": {},
   "outputs": [],
   "source": [
    "@report_call sum(\"Hamburg\")"
   ]
  },
  {
   "cell_type": "markdown",
   "metadata": {},
   "source": [
    "### [Cthulhu.jl](https://github.com/JuliaDebug/Cthulhu.jl)\n",
    "\n",
    "**Interactive code explorer** that let's you navigate through a nested function call-tree and apply macros like `@code_*`, or `@which`, and more. For example, one can recursively apply `@code_warntype` at different levels to detect the origin of a type instability. (Note though that it might take some time to master Cthulhu.)\n",
    "\n",
    "Important macro: `@descend` (or directly `@descend_code_warntype`)\n",
    "\n",
    "(Cthulhu isn't a debugger! It has only \"static\" information.)"
   ]
  },
  {
   "cell_type": "code",
   "execution_count": null,
   "metadata": {},
   "outputs": [],
   "source": [
    "using Cthulhu\n",
    "\n",
    "A = rand(10, 10)\n",
    "B = rand(10, 10)\n",
    "\n",
    "# @descend A*B # doesn't work in Jupyter -> use REPL"
   ]
  },
  {
   "cell_type": "markdown",
   "metadata": {},
   "source": [
    "# Summary\n",
    "\n",
    "- Start with optimising serial performance, bad serial code will be bad parallel code\n",
    "- **Reduce number of allocations**\n",
    "  - Use `@btime` to check the number of allocations\n",
    "  - Avoid unnecessary allocations, huge no. of them is a bad sign\n",
    "\n",
    "- Avoid temporary allocations\n",
    "  - e.g. dot syntax for broadcasting is very useful\n",
    "  - Pre-allocating result arrays can save time\n",
    "\n",
    "- Slicing by default **copies data**, use `@views` or `view(A, 1:2, 1)` to get a non-copy view\n",
    "- (Lazy) generators can be much faster for certain tasks\n",
    "\n",
    "- **Type instability is VERY bad**\n",
    "  - Use `@code_warntype` to check for type instability\n",
    "  - Avoid (non-constant) globals or work only in local scope\n",
    "  - Hint return types if they are `Any` or `Union` (or rewrite code to avoid this)\n",
    "  - **Avoid abstract types** in containers\n",
    "    - Use concrete types\n",
    "    - Or, for more flexibility, parametric types\n",
    "  - Avoid **untyped** containers, never use `[]`, use `Int[]`/`Float[]`\n",
    "  - Avoid **changing** types, e.g. `x = 1; x / 2` converts int to float\n",
    "  - Isolate instabilities with **computational kernels**\n",
    "\n",
    "- Access arrays in **column major** order\n",
    "\n",
    "- Make use of performance annotations if applicable:\n",
    "  - `@inbounds` - no bounds checking\n",
    "  - `@simd` - fused repeated operations \n",
    "  - `@fastmath` - fused multiply add operations\n",
    "\n",
    "- Remember operations have different costs, e.g. `*` is faster than `/`"
   ]
  },
  {
   "cell_type": "markdown",
   "metadata": {},
   "source": [
    "# References\n",
    "\n",
    "- https://github.com/carstenbauer/JuliaHLRS22/blob/live/Day2/1_optimizing_serial_performance.ipynb\n",
    "- https://docs.julialang.org/en/v1/manual/performance-tips/#man-performance-abstract-container\n",
    "- https://docs.julialang.org/en/v1/manual/performance-tips/#kernel-functions\n",
    "- https://book.sciml.ai/notes/02-Optimizing_Serial_Code/"
   ]
  }
 ],
 "metadata": {
  "@webio": {
   "lastCommId": null,
   "lastKernelId": null
  },
  "kernelspec": {
   "display_name": "Julia 1.8.4",
   "language": "julia",
   "name": "julia-1.8"
  },
  "language_info": {
   "file_extension": ".jl",
   "mimetype": "application/julia",
   "name": "julia",
   "version": "1.8.4"
  }
 },
 "nbformat": 4,
 "nbformat_minor": 4
}
