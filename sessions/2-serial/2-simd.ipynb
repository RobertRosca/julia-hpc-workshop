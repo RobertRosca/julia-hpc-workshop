{
 "cells": [
  {
   "cell_type": "markdown",
   "metadata": {},
   "source": [
    "# SIMD"
   ]
  },
  {
   "cell_type": "markdown",
   "metadata": {},
   "source": [
    "SIMD stands for **\"Single Instruction Multiple Data\"** and falls into the category of instruction level parallelism (vector instructions). Consider this simple example where `A`, `B`, and `C` are vectors:"
   ]
  },
  {
   "cell_type": "code",
   "execution_count": 1,
   "metadata": {},
   "outputs": [
    {
     "data": {
      "text/plain": [
       "vector_add (generic function with 1 method)"
      ]
     },
     "execution_count": 1,
     "metadata": {},
     "output_type": "execute_result"
    }
   ],
   "source": [
    "function vector_add(A, B, C)\n",
    "    for i in eachindex(A, B, C)\n",
    "        @inbounds A[i] = B[i] + C[i]\n",
    "    end\n",
    "end"
   ]
  },
  {
   "cell_type": "markdown",
   "metadata": {},
   "source": [
    "\n",
    "The idea behind SIMD is to perform the add instruction on multiple elements at the same time (instead of separately performing them one after another). The process of splitting up the simple loop addition into multiple vector additions is often denoted as \"loop vectorization\". Since each vectorized addition happens at instruction level, i.e. within a CPU core, the feature set of the CPU determines how many elements we can process in one go."
   ]
  },
  {
   "cell_type": "markdown",
   "metadata": {},
   "source": [
    "## Summary\n",
    "<img src=\"../../static/simd_vaddpd.png\" width=300px>\n",
    "<img src=\"../../static/simd_register_width.png\" width=400px>\n",
    "\n",
    "(**Source:** Node-level performance engineering course by [NHR@FAU](https://hpc.fau.de/))"
   ]
  },
  {
   "cell_type": "markdown",
   "metadata": {},
   "source": [
    "Let's check which \"advanced vector extensions\" (AVX) the system supports."
   ]
  },
  {
   "cell_type": "code",
   "execution_count": 2,
   "metadata": {
    "collapsed": true,
    "jupyter": {
     "outputs_hidden": true
    },
    "tags": []
   },
   "outputs": [
    {
     "data": {
      "text/markdown": [
       "| Cpu Property       | Value                                                      |\n",
       "|:------------------ |:---------------------------------------------------------- |\n",
       "| Brand              | AMD Ryzen 7 2700X Eight-Core Processor                     |\n",
       "| Vendor             | :AMD                                                       |\n",
       "| Architecture       | :Zen                                                       |\n",
       "| Model              | Family: 0x8f, Model: 0x08, Stepping: 0x02, Type: 0x00      |\n",
       "| Cores              | 16 physical cores, 16 logical cores (on executing CPU)     |\n",
       "|                    | No Hyperthreading hardware capability detected             |\n",
       "| Clock Frequencies  | Not supported by CPU                                       |\n",
       "| Data Cache         | Level 1:3 : (32, 512, 8192) kbytes                         |\n",
       "|                    | 64 byte cache line size                                    |\n",
       "| Address Size       | 48 bits virtual, 48 bits physical                          |\n",
       "| SIMD               | 256 bit = 32 byte max. SIMD vector size                    |\n",
       "| Time Stamp Counter | TSC is accessible via `rdtsc`                              |\n",
       "|                    | TSC runs at constant rate (invariant from clock frequency) |\n",
       "| Perf. Monitoring   | Performance Monitoring Counters (PMC) are not supported    |\n",
       "| Hypervisor         | No                                                         |\n"
      ],
      "text/plain": [
       "  Cpu Property       Value                                                     \n",
       "  –––––––––––––––––– ––––––––––––––––––––––––––––––––––––––––––––––––––––––––––\n",
       "  Brand              AMD Ryzen 7 2700X Eight-Core Processor                    \n",
       "  Vendor             :AMD                                                      \n",
       "  Architecture       :Zen                                                      \n",
       "  Model              Family: 0x8f, Model: 0x08, Stepping: 0x02, Type: 0x00     \n",
       "  Cores              16 physical cores, 16 logical cores (on executing CPU)    \n",
       "                     No Hyperthreading hardware capability detected            \n",
       "  Clock Frequencies  Not supported by CPU                                      \n",
       "  Data Cache         Level 1:3 : (32, 512, 8192) kbytes                        \n",
       "                     64 byte cache line size                                   \n",
       "  Address Size       48 bits virtual, 48 bits physical                         \n",
       "  SIMD               256 bit = 32 byte max. SIMD vector size                   \n",
       "  Time Stamp Counter TSC is accessible via `rdtsc`                             \n",
       "                     TSC runs at constant rate (invariant from clock frequency)\n",
       "  Perf. Monitoring   Performance Monitoring Counters (PMC) are not supported   \n",
       "  Hypervisor         No                                                        "
      ]
     },
     "execution_count": 2,
     "metadata": {},
     "output_type": "execute_result"
    }
   ],
   "source": [
    "using CpuId\n",
    "cpuinfo()"
   ]
  },
  {
   "cell_type": "code",
   "execution_count": 3,
   "metadata": {},
   "outputs": [
    {
     "data": {
      "text/plain": [
       "2-element Vector{Symbol}:\n",
       " :AVX\n",
       " :AVX2"
      ]
     },
     "execution_count": 3,
     "metadata": {},
     "output_type": "execute_result"
    }
   ],
   "source": [
    "filter(x -> contains(string(x), \"AVX\"), cpufeatures())"
   ]
  },
  {
   "cell_type": "code",
   "execution_count": 4,
   "metadata": {},
   "outputs": [
    {
     "data": {
      "text/plain": [
       "25600"
      ]
     },
     "execution_count": 4,
     "metadata": {},
     "output_type": "execute_result"
    }
   ],
   "source": [
    "SIZE = 256 * 100"
   ]
  },
  {
   "cell_type": "code",
   "execution_count": 5,
   "metadata": {},
   "outputs": [],
   "source": [
    "A = rand(Float64, SIZE)\n",
    "B = rand(Float64, SIZE)\n",
    "C = rand(Float64, SIZE);"
   ]
  },
  {
   "cell_type": "code",
   "execution_count": 6,
   "metadata": {
    "collapsed": true,
    "jupyter": {
     "outputs_hidden": true
    },
    "tags": []
   },
   "outputs": [
    {
     "name": "stdout",
     "output_type": "stream",
     "text": [
      "\t\u001b[0m.text\n",
      "\t\u001b[0m.file\t\u001b[0m\"vector_add\"\n",
      "\t\u001b[0m.globl\t\u001b[0mjapi1_vector_add_2251           \u001b[90m# -- Begin function japi1_vector_add_2251\u001b[39m\n",
      "\t\u001b[0m.p2align\t\u001b[33m4\u001b[39m\u001b[0m, \u001b[33m0x90\u001b[39m\n",
      "\t\u001b[0m.type\t\u001b[0mjapi1_vector_add_2251\u001b[0m,\u001b[0m@function\n",
      "\u001b[91mjapi1_vector_add_2251:\u001b[39m                  \u001b[90m# @japi1_vector_add_2251\u001b[39m\n",
      "\t\u001b[0m.cfi_startproc\n",
      "\u001b[90m# %bb.0:                                # %top\u001b[39m\n",
      "\t\u001b[96m\u001b[1mpush\u001b[22m\u001b[39m\t\u001b[0mrbp\n",
      "\t\u001b[0m.cfi_def_cfa_offset \u001b[33m16\u001b[39m\n",
      "\t\u001b[0m.cfi_offset \u001b[0mrbp\u001b[0m, \u001b[33m-16\u001b[39m\n",
      "\t\u001b[96m\u001b[1mmov\u001b[22m\u001b[39m\t\u001b[0mrbp\u001b[0m, \u001b[0mrsp\n",
      "\t\u001b[0m.cfi_def_cfa_register \u001b[0mrbp\n",
      "\t\u001b[96m\u001b[1mpush\u001b[22m\u001b[39m\t\u001b[0mr15\n",
      "\t\u001b[96m\u001b[1mpush\u001b[22m\u001b[39m\t\u001b[0mr14\n",
      "\t\u001b[96m\u001b[1mpush\u001b[22m\u001b[39m\t\u001b[0mr13\n",
      "\t\u001b[96m\u001b[1mpush\u001b[22m\u001b[39m\t\u001b[0mr12\n",
      "\t\u001b[96m\u001b[1mpush\u001b[22m\u001b[39m\t\u001b[0mrbx\n",
      "\t\u001b[96m\u001b[1mand\u001b[22m\u001b[39m\t\u001b[0mrsp\u001b[0m, \u001b[33m-32\u001b[39m\n",
      "\t\u001b[96m\u001b[1msub\u001b[22m\u001b[39m\t\u001b[0mrsp\u001b[0m, \u001b[33m160\u001b[39m\n",
      "\t\u001b[0m.cfi_offset \u001b[0mrbx\u001b[0m, \u001b[33m-56\u001b[39m\n",
      "\t\u001b[0m.cfi_offset \u001b[0mr12\u001b[0m, \u001b[33m-48\u001b[39m\n",
      "\t\u001b[0m.cfi_offset \u001b[0mr13\u001b[0m, \u001b[33m-40\u001b[39m\n",
      "\t\u001b[0m.cfi_offset \u001b[0mr14\u001b[0m, \u001b[33m-32\u001b[39m\n",
      "\t\u001b[0m.cfi_offset \u001b[0mr15\u001b[0m, \u001b[33m-24\u001b[39m\n",
      "\t\u001b[96m\u001b[1mvxorpd\u001b[22m\u001b[39m\t\u001b[0mxmm0\u001b[0m, \u001b[0mxmm0\u001b[0m, \u001b[0mxmm0\n",
      "\t\u001b[96m\u001b[1mmov\u001b[22m\u001b[39m\t\u001b[95mqword\u001b[39m \u001b[95mptr\u001b[39m \u001b[33m[\u001b[39m\u001b[0mrsp \u001b[0m+ \u001b[33m64\u001b[39m\u001b[33m]\u001b[39m\u001b[0m, \u001b[33m0\u001b[39m\n",
      "\t\u001b[0m#APP\n",
      "\t\u001b[96m\u001b[1mmov\u001b[22m\u001b[39m\t\u001b[0mrax\u001b[0m, \u001b[95mqword\u001b[39m \u001b[95mptr\u001b[39m \u001b[0mfs\u001b[0m:\u001b[33m[\u001b[39m\u001b[33m0\u001b[39m\u001b[33m]\u001b[39m\n",
      "\t\u001b[0m#NO_APP\n",
      "\t\u001b[96m\u001b[1mlea\u001b[22m\u001b[39m\t\u001b[0mrcx\u001b[0m, \u001b[33m[\u001b[39m\u001b[0mrsp \u001b[0m+ \u001b[33m32\u001b[39m\u001b[33m]\u001b[39m\n",
      "\t\u001b[96m\u001b[1mvmovapd\u001b[22m\u001b[39m\t\u001b[95mymmword\u001b[39m \u001b[95mptr\u001b[39m \u001b[33m[\u001b[39m\u001b[0mrsp \u001b[0m+ \u001b[33m32\u001b[39m\u001b[33m]\u001b[39m\u001b[0m, \u001b[0mymm0\n",
      "\t\u001b[96m\u001b[1mmov\u001b[22m\u001b[39m\t\u001b[95mqword\u001b[39m \u001b[95mptr\u001b[39m \u001b[33m[\u001b[39m\u001b[0mrsp \u001b[0m+ \u001b[33m128\u001b[39m\u001b[33m]\u001b[39m\u001b[0m, \u001b[0mrsi\n",
      "\t\u001b[96m\u001b[1mmov\u001b[22m\u001b[39m\t\u001b[0mr12\u001b[0m, \u001b[95mqword\u001b[39m \u001b[95mptr\u001b[39m \u001b[33m[\u001b[39m\u001b[0mrax \u001b[0m- \u001b[33m8\u001b[39m\u001b[33m]\u001b[39m\n",
      "\t\u001b[96m\u001b[1mmov\u001b[22m\u001b[39m\t\u001b[95mqword\u001b[39m \u001b[95mptr\u001b[39m \u001b[33m[\u001b[39m\u001b[0mrsp \u001b[0m+ \u001b[33m32\u001b[39m\u001b[33m]\u001b[39m\u001b[0m, \u001b[33m12\u001b[39m\n",
      "\t\u001b[96m\u001b[1mmov\u001b[22m\u001b[39m\t\u001b[0mrax\u001b[0m, \u001b[95mqword\u001b[39m \u001b[95mptr\u001b[39m \u001b[33m[\u001b[39m\u001b[0mr12\u001b[33m]\u001b[39m\n",
      "\t\u001b[96m\u001b[1mmov\u001b[22m\u001b[39m\t\u001b[95mqword\u001b[39m \u001b[95mptr\u001b[39m \u001b[33m[\u001b[39m\u001b[0mrsp \u001b[0m+ \u001b[33m40\u001b[39m\u001b[33m]\u001b[39m\u001b[0m, \u001b[0mrax\n",
      "\t\u001b[96m\u001b[1mmov\u001b[22m\u001b[39m\t\u001b[95mqword\u001b[39m \u001b[95mptr\u001b[39m \u001b[33m[\u001b[39m\u001b[0mr12\u001b[33m]\u001b[39m\u001b[0m, \u001b[0mrcx\n",
      "\t\u001b[96m\u001b[1mmov\u001b[22m\u001b[39m\t\u001b[0mrdx\u001b[0m, \u001b[95mqword\u001b[39m \u001b[95mptr\u001b[39m \u001b[33m[\u001b[39m\u001b[0mrsi\u001b[33m]\u001b[39m\n",
      "\t\u001b[96m\u001b[1mmov\u001b[22m\u001b[39m\t\u001b[0mrax\u001b[0m, \u001b[95mqword\u001b[39m \u001b[95mptr\u001b[39m \u001b[33m[\u001b[39m\u001b[0mrsi \u001b[0m+ \u001b[33m8\u001b[39m\u001b[33m]\u001b[39m\n",
      "\t\u001b[96m\u001b[1mmov\u001b[22m\u001b[39m\t\u001b[0mrcx\u001b[0m, \u001b[95mqword\u001b[39m \u001b[95mptr\u001b[39m \u001b[33m[\u001b[39m\u001b[0mrsi \u001b[0m+ \u001b[33m16\u001b[39m\u001b[33m]\u001b[39m\n",
      "\t\u001b[96m\u001b[1mmov\u001b[22m\u001b[39m\t\u001b[0mrbx\u001b[0m, \u001b[95mqword\u001b[39m \u001b[95mptr\u001b[39m \u001b[33m[\u001b[39m\u001b[0mrdx \u001b[0m+ \u001b[33m8\u001b[39m\u001b[33m]\u001b[39m\n",
      "\t\u001b[96m\u001b[1mmov\u001b[22m\u001b[39m\t\u001b[0mr14\u001b[0m, \u001b[95mqword\u001b[39m \u001b[95mptr\u001b[39m \u001b[33m[\u001b[39m\u001b[0mrax \u001b[0m+ \u001b[33m8\u001b[39m\u001b[33m]\u001b[39m\n",
      "\t\u001b[96m\u001b[1mmov\u001b[22m\u001b[39m\t\u001b[0mr13\u001b[0m, \u001b[95mqword\u001b[39m \u001b[95mptr\u001b[39m \u001b[33m[\u001b[39m\u001b[0mrcx \u001b[0m+ \u001b[33m8\u001b[39m\u001b[33m]\u001b[39m\n",
      "\t\u001b[96m\u001b[1mcmp\u001b[22m\u001b[39m\t\u001b[0mrbx\u001b[0m, \u001b[0mr14\n",
      "\t\u001b[96m\u001b[1mjne\u001b[22m\u001b[39m\t\u001b[0m.LBB0_12\n",
      "\u001b[90m# %bb.1:                                # %top\u001b[39m\n",
      "\t\u001b[96m\u001b[1mcmp\u001b[22m\u001b[39m\t\u001b[0mrbx\u001b[0m, \u001b[0mr13\n",
      "\t\u001b[96m\u001b[1mjne\u001b[22m\u001b[39m\t\u001b[0m.LBB0_12\n",
      "\u001b[90m# %bb.2:                                # %L37\u001b[39m\n",
      "\t\u001b[96m\u001b[1mtest\u001b[22m\u001b[39m\t\u001b[0mrbx\u001b[0m, \u001b[0mrbx\n",
      "\t\u001b[96m\u001b[1mje\u001b[22m\u001b[39m\t\u001b[0m.LBB0_11\n",
      "\u001b[90m# %bb.3:                                # %L47.preheader\u001b[39m\n",
      "\t\u001b[96m\u001b[1mmov\u001b[22m\u001b[39m\t\u001b[0mrax\u001b[0m, \u001b[95mqword\u001b[39m \u001b[95mptr\u001b[39m \u001b[33m[\u001b[39m\u001b[0mrax\u001b[33m]\u001b[39m\n",
      "\t\u001b[96m\u001b[1mmov\u001b[22m\u001b[39m\t\u001b[0mrcx\u001b[0m, \u001b[95mqword\u001b[39m \u001b[95mptr\u001b[39m \u001b[33m[\u001b[39m\u001b[0mrcx\u001b[33m]\u001b[39m\n",
      "\t\u001b[96m\u001b[1mmov\u001b[22m\u001b[39m\t\u001b[0mrdx\u001b[0m, \u001b[95mqword\u001b[39m \u001b[95mptr\u001b[39m \u001b[33m[\u001b[39m\u001b[0mrdx\u001b[33m]\u001b[39m\n",
      "\t\u001b[96m\u001b[1mmov\u001b[22m\u001b[39m\t\u001b[0mesi\u001b[0m, \u001b[33m1\u001b[39m\n",
      "\t\u001b[96m\u001b[1mcmp\u001b[22m\u001b[39m\t\u001b[0mrbx\u001b[0m, \u001b[33m16\u001b[39m\n",
      "\t\u001b[96m\u001b[1mjb\u001b[22m\u001b[39m\t\u001b[0m.LBB0_9\n",
      "\u001b[90m# %bb.4:                                # %vector.memcheck\u001b[39m\n",
      "\t\u001b[96m\u001b[1mlea\u001b[22m\u001b[39m\t\u001b[0mr8\u001b[0m, \u001b[33m[\u001b[39m\u001b[0mrax \u001b[0m+ \u001b[33m8\u001b[39m\u001b[0m*\u001b[0mrbx\u001b[33m]\u001b[39m\n",
      "\t\u001b[96m\u001b[1mlea\u001b[22m\u001b[39m\t\u001b[0mrdi\u001b[0m, \u001b[33m[\u001b[39m\u001b[0mrdx \u001b[0m+ \u001b[33m8\u001b[39m\u001b[0m*\u001b[0mrbx\u001b[33m]\u001b[39m\n",
      "\t\u001b[96m\u001b[1mlea\u001b[22m\u001b[39m\t\u001b[0mr9\u001b[0m, \u001b[33m[\u001b[39m\u001b[0mrcx \u001b[0m+ \u001b[33m8\u001b[39m\u001b[0m*\u001b[0mrbx\u001b[33m]\u001b[39m\n",
      "\t\u001b[96m\u001b[1mcmp\u001b[22m\u001b[39m\t\u001b[0mrdx\u001b[0m, \u001b[0mr8\n",
      "\t\u001b[96m\u001b[1msetb\u001b[22m\u001b[39m\t\u001b[0mr10b\n",
      "\t\u001b[96m\u001b[1mcmp\u001b[22m\u001b[39m\t\u001b[0mrax\u001b[0m, \u001b[0mrdi\n",
      "\t\u001b[96m\u001b[1msetb\u001b[22m\u001b[39m\t\u001b[0mr11b\n",
      "\t\u001b[96m\u001b[1mcmp\u001b[22m\u001b[39m\t\u001b[0mrdx\u001b[0m, \u001b[0mr9\n",
      "\t\u001b[96m\u001b[1msetb\u001b[22m\u001b[39m\t\u001b[0mr9b\n",
      "\t\u001b[96m\u001b[1mcmp\u001b[22m\u001b[39m\t\u001b[0mrcx\u001b[0m, \u001b[0mrdi\n",
      "\t\u001b[96m\u001b[1msetb\u001b[22m\u001b[39m\t\u001b[0mr8b\n",
      "\t\u001b[96m\u001b[1mtest\u001b[22m\u001b[39m\t\u001b[0mr10b\u001b[0m, \u001b[0mr11b\n",
      "\t\u001b[96m\u001b[1mjne\u001b[22m\u001b[39m\t\u001b[0m.LBB0_9\n",
      "\u001b[90m# %bb.5:                                # %vector.memcheck\u001b[39m\n",
      "\t\u001b[96m\u001b[1mand\u001b[22m\u001b[39m\t\u001b[0mr9b\u001b[0m, \u001b[0mr8b\n",
      "\t\u001b[96m\u001b[1mjne\u001b[22m\u001b[39m\t\u001b[0m.LBB0_9\n",
      "\u001b[90m# %bb.6:                                # %vector.ph\u001b[39m\n",
      "\t\u001b[96m\u001b[1mmov\u001b[22m\u001b[39m\t\u001b[0mr8\u001b[0m, \u001b[0mrbx\n",
      "\t\u001b[96m\u001b[1mxor\u001b[22m\u001b[39m\t\u001b[0medi\u001b[0m, \u001b[0medi\n",
      "\t\u001b[96m\u001b[1mand\u001b[22m\u001b[39m\t\u001b[0mr8\u001b[0m, \u001b[33m-16\u001b[39m\n",
      "\t\u001b[96m\u001b[1mlea\u001b[22m\u001b[39m\t\u001b[0mrsi\u001b[0m, \u001b[33m[\u001b[39m\u001b[0mr8 \u001b[0m+ \u001b[33m1\u001b[39m\u001b[33m]\u001b[39m\n",
      "\t\u001b[0m.p2align\t\u001b[33m4\u001b[39m\u001b[0m, \u001b[33m0x90\u001b[39m\n",
      "\u001b[91m.LBB0_7:\u001b[39m                                \u001b[90m# %vector.body\u001b[39m\n",
      "                                        \u001b[90m# =>This Inner Loop Header: Depth=1\u001b[39m\n",
      "\t\u001b[96m\u001b[1mvmovupd\u001b[22m\u001b[39m\t\u001b[0mymm0\u001b[0m, \u001b[95mymmword\u001b[39m \u001b[95mptr\u001b[39m \u001b[33m[\u001b[39m\u001b[0mrax \u001b[0m+ \u001b[33m8\u001b[39m\u001b[0m*\u001b[0mrdi\u001b[33m]\u001b[39m\n",
      "\t\u001b[96m\u001b[1mvmovupd\u001b[22m\u001b[39m\t\u001b[0mymm1\u001b[0m, \u001b[95mymmword\u001b[39m \u001b[95mptr\u001b[39m \u001b[33m[\u001b[39m\u001b[0mrax \u001b[0m+ \u001b[33m8\u001b[39m\u001b[0m*\u001b[0mrdi \u001b[0m+ \u001b[33m32\u001b[39m\u001b[33m]\u001b[39m\n",
      "\t\u001b[96m\u001b[1mvmovupd\u001b[22m\u001b[39m\t\u001b[0mymm2\u001b[0m, \u001b[95mymmword\u001b[39m \u001b[95mptr\u001b[39m \u001b[33m[\u001b[39m\u001b[0mrax \u001b[0m+ \u001b[33m8\u001b[39m\u001b[0m*\u001b[0mrdi \u001b[0m+ \u001b[33m64\u001b[39m\u001b[33m]\u001b[39m\n",
      "\t\u001b[96m\u001b[1mvmovupd\u001b[22m\u001b[39m\t\u001b[0mymm3\u001b[0m, \u001b[95mymmword\u001b[39m \u001b[95mptr\u001b[39m \u001b[33m[\u001b[39m\u001b[0mrax \u001b[0m+ \u001b[33m8\u001b[39m\u001b[0m*\u001b[0mrdi \u001b[0m+ \u001b[33m96\u001b[39m\u001b[33m]\u001b[39m\n",
      "\t\u001b[96m\u001b[1mvaddpd\u001b[22m\u001b[39m\t\u001b[0mymm0\u001b[0m, \u001b[0mymm0\u001b[0m, \u001b[95mymmword\u001b[39m \u001b[95mptr\u001b[39m \u001b[33m[\u001b[39m\u001b[0mrcx \u001b[0m+ \u001b[33m8\u001b[39m\u001b[0m*\u001b[0mrdi\u001b[33m]\u001b[39m\n",
      "\t\u001b[96m\u001b[1mvaddpd\u001b[22m\u001b[39m\t\u001b[0mymm1\u001b[0m, \u001b[0mymm1\u001b[0m, \u001b[95mymmword\u001b[39m \u001b[95mptr\u001b[39m \u001b[33m[\u001b[39m\u001b[0mrcx \u001b[0m+ \u001b[33m8\u001b[39m\u001b[0m*\u001b[0mrdi \u001b[0m+ \u001b[33m32\u001b[39m\u001b[33m]\u001b[39m\n",
      "\t\u001b[96m\u001b[1mvaddpd\u001b[22m\u001b[39m\t\u001b[0mymm2\u001b[0m, \u001b[0mymm2\u001b[0m, \u001b[95mymmword\u001b[39m \u001b[95mptr\u001b[39m \u001b[33m[\u001b[39m\u001b[0mrcx \u001b[0m+ \u001b[33m8\u001b[39m\u001b[0m*\u001b[0mrdi \u001b[0m+ \u001b[33m64\u001b[39m\u001b[33m]\u001b[39m\n",
      "\t\u001b[96m\u001b[1mvaddpd\u001b[22m\u001b[39m\t\u001b[0mymm3\u001b[0m, \u001b[0mymm3\u001b[0m, \u001b[95mymmword\u001b[39m \u001b[95mptr\u001b[39m \u001b[33m[\u001b[39m\u001b[0mrcx \u001b[0m+ \u001b[33m8\u001b[39m\u001b[0m*\u001b[0mrdi \u001b[0m+ \u001b[33m96\u001b[39m\u001b[33m]\u001b[39m\n",
      "\t\u001b[96m\u001b[1mvmovupd\u001b[22m\u001b[39m\t\u001b[95mymmword\u001b[39m \u001b[95mptr\u001b[39m \u001b[33m[\u001b[39m\u001b[0mrdx \u001b[0m+ \u001b[33m8\u001b[39m\u001b[0m*\u001b[0mrdi\u001b[33m]\u001b[39m\u001b[0m, \u001b[0mymm0\n",
      "\t\u001b[96m\u001b[1mvmovupd\u001b[22m\u001b[39m\t\u001b[95mymmword\u001b[39m \u001b[95mptr\u001b[39m \u001b[33m[\u001b[39m\u001b[0mrdx \u001b[0m+ \u001b[33m8\u001b[39m\u001b[0m*\u001b[0mrdi \u001b[0m+ \u001b[33m32\u001b[39m\u001b[33m]\u001b[39m\u001b[0m, \u001b[0mymm1\n",
      "\t\u001b[96m\u001b[1mvmovupd\u001b[22m\u001b[39m\t\u001b[95mymmword\u001b[39m \u001b[95mptr\u001b[39m \u001b[33m[\u001b[39m\u001b[0mrdx \u001b[0m+ \u001b[33m8\u001b[39m\u001b[0m*\u001b[0mrdi \u001b[0m+ \u001b[33m64\u001b[39m\u001b[33m]\u001b[39m\u001b[0m, \u001b[0mymm2\n",
      "\t\u001b[96m\u001b[1mvmovupd\u001b[22m\u001b[39m\t\u001b[95mymmword\u001b[39m \u001b[95mptr\u001b[39m \u001b[33m[\u001b[39m\u001b[0mrdx \u001b[0m+ \u001b[33m8\u001b[39m\u001b[0m*\u001b[0mrdi \u001b[0m+ \u001b[33m96\u001b[39m\u001b[33m]\u001b[39m\u001b[0m, \u001b[0mymm3\n",
      "\t\u001b[96m\u001b[1madd\u001b[22m\u001b[39m\t\u001b[0mrdi\u001b[0m, \u001b[33m16\u001b[39m\n",
      "\t\u001b[96m\u001b[1mcmp\u001b[22m\u001b[39m\t\u001b[0mr8\u001b[0m, \u001b[0mrdi\n",
      "\t\u001b[96m\u001b[1mjne\u001b[22m\u001b[39m\t\u001b[0m.LBB0_7\n",
      "\u001b[90m# %bb.8:                                # %middle.block\u001b[39m\n",
      "\t\u001b[96m\u001b[1mcmp\u001b[22m\u001b[39m\t\u001b[0mrbx\u001b[0m, \u001b[0mr8\n",
      "\t\u001b[96m\u001b[1mje\u001b[22m\u001b[39m\t\u001b[0m.LBB0_11\n",
      "\u001b[91m.LBB0_9:\u001b[39m                                \u001b[90m# %L47.preheader46\u001b[39m\n",
      "\t\u001b[96m\u001b[1mdec\u001b[22m\u001b[39m\t\u001b[0mrsi\n",
      "\t\u001b[0m.p2align\t\u001b[33m4\u001b[39m\u001b[0m, \u001b[33m0x90\u001b[39m\n",
      "\u001b[91m.LBB0_10:\u001b[39m                               \u001b[90m# %L47\u001b[39m\n",
      "                                        \u001b[90m# =>This Inner Loop Header: Depth=1\u001b[39m\n",
      "\t\u001b[96m\u001b[1mvmovsd\u001b[22m\u001b[39m\t\u001b[0mxmm0\u001b[0m, \u001b[95mqword\u001b[39m \u001b[95mptr\u001b[39m \u001b[33m[\u001b[39m\u001b[0mrax \u001b[0m+ \u001b[33m8\u001b[39m\u001b[0m*\u001b[0mrsi\u001b[33m]\u001b[39m   \u001b[90m# xmm0 = mem[0],zero\u001b[39m\n",
      "\t\u001b[96m\u001b[1mvaddsd\u001b[22m\u001b[39m\t\u001b[0mxmm0\u001b[0m, \u001b[0mxmm0\u001b[0m, \u001b[95mqword\u001b[39m \u001b[95mptr\u001b[39m \u001b[33m[\u001b[39m\u001b[0mrcx \u001b[0m+ \u001b[33m8\u001b[39m\u001b[0m*\u001b[0mrsi\u001b[33m]\u001b[39m\n",
      "\t\u001b[96m\u001b[1mvmovsd\u001b[22m\u001b[39m\t\u001b[95mqword\u001b[39m \u001b[95mptr\u001b[39m \u001b[33m[\u001b[39m\u001b[0mrdx \u001b[0m+ \u001b[33m8\u001b[39m\u001b[0m*\u001b[0mrsi\u001b[33m]\u001b[39m\u001b[0m, \u001b[0mxmm0\n",
      "\t\u001b[96m\u001b[1minc\u001b[22m\u001b[39m\t\u001b[0mrsi\n",
      "\t\u001b[96m\u001b[1mcmp\u001b[22m\u001b[39m\t\u001b[0mrbx\u001b[0m, \u001b[0mrsi\n",
      "\t\u001b[96m\u001b[1mjne\u001b[22m\u001b[39m\t\u001b[0m.LBB0_10\n",
      "\u001b[91m.LBB0_11:\u001b[39m                               \u001b[90m# %L66\u001b[39m\n",
      "\t\u001b[96m\u001b[1mmov\u001b[22m\u001b[39m\t\u001b[0mrax\u001b[0m, \u001b[95mqword\u001b[39m \u001b[95mptr\u001b[39m \u001b[33m[\u001b[39m\u001b[0mrsp \u001b[0m+ \u001b[33m40\u001b[39m\u001b[33m]\u001b[39m\n",
      "\t\u001b[96m\u001b[1mmov\u001b[22m\u001b[39m\t\u001b[95mqword\u001b[39m \u001b[95mptr\u001b[39m \u001b[33m[\u001b[39m\u001b[0mr12\u001b[33m]\u001b[39m\u001b[0m, \u001b[0mrax\n",
      "\t\u001b[96m\u001b[1mmovabs\u001b[22m\u001b[39m\t\u001b[0mrax\u001b[0m, \u001b[33m140158982680584\u001b[39m\n",
      "\t\u001b[96m\u001b[1mlea\u001b[22m\u001b[39m\t\u001b[0mrsp\u001b[0m, \u001b[33m[\u001b[39m\u001b[0mrbp \u001b[0m- \u001b[33m40\u001b[39m\u001b[33m]\u001b[39m\n",
      "\t\u001b[96m\u001b[1mpop\u001b[22m\u001b[39m\t\u001b[0mrbx\n",
      "\t\u001b[96m\u001b[1mpop\u001b[22m\u001b[39m\t\u001b[0mr12\n",
      "\t\u001b[96m\u001b[1mpop\u001b[22m\u001b[39m\t\u001b[0mr13\n",
      "\t\u001b[96m\u001b[1mpop\u001b[22m\u001b[39m\t\u001b[0mr14\n",
      "\t\u001b[96m\u001b[1mpop\u001b[22m\u001b[39m\t\u001b[0mr15\n",
      "\t\u001b[96m\u001b[1mpop\u001b[22m\u001b[39m\t\u001b[0mrbp\n",
      "\t\u001b[0m.cfi_def_cfa \u001b[0mrsp\u001b[0m, \u001b[33m8\u001b[39m\n",
      "\t\u001b[96m\u001b[1mvzeroupper\u001b[22m\u001b[39m\n",
      "\t\u001b[96m\u001b[1mret\u001b[22m\u001b[39m\n",
      "\u001b[91m.LBB0_12:\u001b[39m                               \u001b[90m# %L19\u001b[39m\n",
      "\t\u001b[0m.cfi_def_cfa \u001b[0mrbp\u001b[0m, \u001b[33m16\u001b[39m\n",
      "\t\u001b[96m\u001b[1mmov\u001b[22m\u001b[39m\t\u001b[0mrdi\u001b[0m, \u001b[95mqword\u001b[39m \u001b[95mptr\u001b[39m \u001b[33m[\u001b[39m\u001b[0mr12 \u001b[0m+ \u001b[33m16\u001b[39m\u001b[33m]\u001b[39m\n",
      "\t\u001b[96m\u001b[1mmovabs\u001b[22m\u001b[39m\t\u001b[0mr15\u001b[0m, \u001b[95moffset\u001b[39m \u001b[93mijl_gc_pool_alloc\u001b[39m\n",
      "\t\u001b[96m\u001b[1mmov\u001b[22m\u001b[39m\t\u001b[0mesi\u001b[0m, \u001b[33m1392\u001b[39m\n",
      "\t\u001b[96m\u001b[1mmov\u001b[22m\u001b[39m\t\u001b[0medx\u001b[0m, \u001b[33m16\u001b[39m\n",
      "\t\u001b[96m\u001b[1mvzeroupper\u001b[22m\u001b[39m\n",
      "\t\u001b[96m\u001b[1mcall\u001b[22m\u001b[39m\t\u001b[0mr15\n",
      "\t\u001b[96m\u001b[1mmovabs\u001b[22m\u001b[39m\t\u001b[0mrcx\u001b[0m, \u001b[33m140158767843584\u001b[39m\n",
      "\t\u001b[96m\u001b[1mmov\u001b[22m\u001b[39m\t\u001b[0mesi\u001b[0m, \u001b[33m1392\u001b[39m\n",
      "\t\u001b[96m\u001b[1mmov\u001b[22m\u001b[39m\t\u001b[0medx\u001b[0m, \u001b[33m16\u001b[39m\n",
      "\t\u001b[96m\u001b[1mmov\u001b[22m\u001b[39m\t\u001b[95mqword\u001b[39m \u001b[95mptr\u001b[39m \u001b[33m[\u001b[39m\u001b[0mrsp \u001b[0m+ \u001b[33m24\u001b[39m\u001b[33m]\u001b[39m\u001b[0m, \u001b[0mrax       \u001b[90m# 8-byte Spill\u001b[39m\n",
      "\t\u001b[96m\u001b[1mmov\u001b[22m\u001b[39m\t\u001b[95mqword\u001b[39m \u001b[95mptr\u001b[39m \u001b[33m[\u001b[39m\u001b[0mrax \u001b[0m- \u001b[33m8\u001b[39m\u001b[33m]\u001b[39m\u001b[0m, \u001b[0mrcx\n",
      "\t\u001b[96m\u001b[1mmov\u001b[22m\u001b[39m\t\u001b[95mqword\u001b[39m \u001b[95mptr\u001b[39m \u001b[33m[\u001b[39m\u001b[0mrax\u001b[33m]\u001b[39m\u001b[0m, \u001b[0mrbx\n",
      "\t\u001b[96m\u001b[1mmov\u001b[22m\u001b[39m\t\u001b[95mqword\u001b[39m \u001b[95mptr\u001b[39m \u001b[33m[\u001b[39m\u001b[0mrsp \u001b[0m+ \u001b[33m64\u001b[39m\u001b[33m]\u001b[39m\u001b[0m, \u001b[0mrax\n",
      "\t\u001b[96m\u001b[1mmov\u001b[22m\u001b[39m\t\u001b[0mrdi\u001b[0m, \u001b[95mqword\u001b[39m \u001b[95mptr\u001b[39m \u001b[33m[\u001b[39m\u001b[0mr12 \u001b[0m+ \u001b[33m16\u001b[39m\u001b[33m]\u001b[39m\n",
      "\t\u001b[96m\u001b[1mcall\u001b[22m\u001b[39m\t\u001b[0mr15\n",
      "\t\u001b[96m\u001b[1mmovabs\u001b[22m\u001b[39m\t\u001b[0mrbx\u001b[0m, \u001b[33m140158767843584\u001b[39m\n",
      "\t\u001b[96m\u001b[1mmov\u001b[22m\u001b[39m\t\u001b[0mrcx\u001b[0m, \u001b[0mr15\n",
      "\t\u001b[96m\u001b[1mmov\u001b[22m\u001b[39m\t\u001b[0mesi\u001b[0m, \u001b[33m1392\u001b[39m\n",
      "\t\u001b[96m\u001b[1mmov\u001b[22m\u001b[39m\t\u001b[0medx\u001b[0m, \u001b[33m16\u001b[39m\n",
      "\t\u001b[96m\u001b[1mmov\u001b[22m\u001b[39m\t\u001b[0mr15\u001b[0m, \u001b[0mrax\n",
      "\t\u001b[96m\u001b[1mmov\u001b[22m\u001b[39m\t\u001b[95mqword\u001b[39m \u001b[95mptr\u001b[39m \u001b[33m[\u001b[39m\u001b[0mrax \u001b[0m- \u001b[33m8\u001b[39m\u001b[33m]\u001b[39m\u001b[0m, \u001b[0mrbx\n",
      "\t\u001b[96m\u001b[1mmov\u001b[22m\u001b[39m\t\u001b[95mqword\u001b[39m \u001b[95mptr\u001b[39m \u001b[33m[\u001b[39m\u001b[0mrax\u001b[33m]\u001b[39m\u001b[0m, \u001b[0mr14\n",
      "\t\u001b[96m\u001b[1mmov\u001b[22m\u001b[39m\t\u001b[95mqword\u001b[39m \u001b[95mptr\u001b[39m \u001b[33m[\u001b[39m\u001b[0mrsp \u001b[0m+ \u001b[33m56\u001b[39m\u001b[33m]\u001b[39m\u001b[0m, \u001b[0mrax\n",
      "\t\u001b[96m\u001b[1mmov\u001b[22m\u001b[39m\t\u001b[0mrdi\u001b[0m, \u001b[95mqword\u001b[39m \u001b[95mptr\u001b[39m \u001b[33m[\u001b[39m\u001b[0mr12 \u001b[0m+ \u001b[33m16\u001b[39m\u001b[33m]\u001b[39m\n",
      "\t\u001b[96m\u001b[1mcall\u001b[22m\u001b[39m\t\u001b[0mrcx\n",
      "\t\u001b[96m\u001b[1mmov\u001b[22m\u001b[39m\t\u001b[0mrsi\u001b[0m, \u001b[95mqword\u001b[39m \u001b[95mptr\u001b[39m \u001b[33m[\u001b[39m\u001b[0mrsp \u001b[0m+ \u001b[33m24\u001b[39m\u001b[33m]\u001b[39m       \u001b[90m# 8-byte Reload\u001b[39m\n",
      "\t\u001b[96m\u001b[1mmovabs\u001b[22m\u001b[39m\t\u001b[0mrcx\u001b[0m, \u001b[33m140158769240720\u001b[39m\n",
      "\t\u001b[96m\u001b[1mmov\u001b[22m\u001b[39m\t\u001b[95mqword\u001b[39m \u001b[95mptr\u001b[39m \u001b[33m[\u001b[39m\u001b[0mrax \u001b[0m- \u001b[33m8\u001b[39m\u001b[33m]\u001b[39m\u001b[0m, \u001b[0mrbx\n",
      "\t\u001b[96m\u001b[1mmov\u001b[22m\u001b[39m\t\u001b[95mqword\u001b[39m \u001b[95mptr\u001b[39m \u001b[33m[\u001b[39m\u001b[0mrax\u001b[33m]\u001b[39m\u001b[0m, \u001b[0mr13\n",
      "\t\u001b[96m\u001b[1mmov\u001b[22m\u001b[39m\t\u001b[95mqword\u001b[39m \u001b[95mptr\u001b[39m \u001b[33m[\u001b[39m\u001b[0mrsp \u001b[0m+ \u001b[33m48\u001b[39m\u001b[33m]\u001b[39m\u001b[0m, \u001b[0mrax\n",
      "\t\u001b[96m\u001b[1mmovabs\u001b[22m\u001b[39m\t\u001b[0mrdi\u001b[0m, \u001b[33m140158834993424\u001b[39m\n",
      "\t\u001b[96m\u001b[1mmov\u001b[22m\u001b[39m\t\u001b[0medx\u001b[0m, \u001b[33m4\u001b[39m\n",
      "\t\u001b[96m\u001b[1mmov\u001b[22m\u001b[39m\t\u001b[95mqword\u001b[39m \u001b[95mptr\u001b[39m \u001b[33m[\u001b[39m\u001b[0mrsp \u001b[0m+ \u001b[33m96\u001b[39m\u001b[33m]\u001b[39m\u001b[0m, \u001b[0mrcx\n",
      "\t\u001b[96m\u001b[1mmovabs\u001b[22m\u001b[39m\t\u001b[0mrcx\u001b[0m, \u001b[33m140156147672864\u001b[39m\n",
      "\t\u001b[96m\u001b[1mmov\u001b[22m\u001b[39m\t\u001b[95mqword\u001b[39m \u001b[95mptr\u001b[39m \u001b[33m[\u001b[39m\u001b[0mrsp \u001b[0m+ \u001b[33m104\u001b[39m\u001b[33m]\u001b[39m\u001b[0m, \u001b[0mrsi\n",
      "\t\u001b[96m\u001b[1mmov\u001b[22m\u001b[39m\t\u001b[95mqword\u001b[39m \u001b[95mptr\u001b[39m \u001b[33m[\u001b[39m\u001b[0mrsp \u001b[0m+ \u001b[33m112\u001b[39m\u001b[33m]\u001b[39m\u001b[0m, \u001b[0mr15\n",
      "\t\u001b[96m\u001b[1mmov\u001b[22m\u001b[39m\t\u001b[95mqword\u001b[39m \u001b[95mptr\u001b[39m \u001b[33m[\u001b[39m\u001b[0mrsp \u001b[0m+ \u001b[33m120\u001b[39m\u001b[33m]\u001b[39m\u001b[0m, \u001b[0mrax\n",
      "\t\u001b[96m\u001b[1mmovabs\u001b[22m\u001b[39m\t\u001b[0mrax\u001b[0m, \u001b[95moffset\u001b[39m \u001b[93mijl_invoke\u001b[39m\n",
      "\t\u001b[96m\u001b[1mlea\u001b[22m\u001b[39m\t\u001b[0mrsi\u001b[0m, \u001b[33m[\u001b[39m\u001b[0mrsp \u001b[0m+ \u001b[33m96\u001b[39m\u001b[33m]\u001b[39m\n",
      "\t\u001b[96m\u001b[1mcall\u001b[22m\u001b[39m\t\u001b[0mrax\n",
      "\t\u001b[96m\u001b[1mud2\u001b[22m\u001b[39m\n",
      "\u001b[91m.Lfunc_end0:\u001b[39m\n",
      "\t\u001b[0m.size\t\u001b[0mjapi1_vector_add_2251\u001b[0m, \u001b[0m.Lfunc_end0-japi1_vector_add_2251\n",
      "\t\u001b[0m.cfi_endproc\n",
      "                                        \u001b[90m# -- End function\u001b[39m\n",
      "\t\u001b[0m.section\t\u001b[0m\".note.GNU-stack\"\u001b[0m,\u001b[0m\"\"\u001b[0m,\u001b[0m@progbits\n"
     ]
    }
   ],
   "source": [
    "@code_native debuginfo=:none syntax = :intel vector_add(A, B, C)"
   ]
  },
  {
   "cell_type": "code",
   "execution_count": 9,
   "metadata": {},
   "outputs": [
    {
     "data": {
      "text/plain": [
       "vector_add_no_simd (generic function with 1 method)"
      ]
     },
     "execution_count": 9,
     "metadata": {},
     "output_type": "execute_result"
    }
   ],
   "source": [
    "function vector_add_no_simd(A, B, C)\n",
    "    for i in eachindex(A, B, C)\n",
    "        A[i] = B[i] + C[i]\n",
    "    end\n",
    "end"
   ]
  },
  {
   "cell_type": "code",
   "execution_count": 10,
   "metadata": {},
   "outputs": [
    {
     "name": "stdout",
     "output_type": "stream",
     "text": [
      "  6.795 μs (0 allocations: 0 bytes)\n"
     ]
    }
   ],
   "source": [
    "@btime vector_add_no_simd(A, B, C)"
   ]
  },
  {
   "cell_type": "code",
   "execution_count": 8,
   "metadata": {},
   "outputs": [
    {
     "name": "stdout",
     "output_type": "stream",
     "text": [
      "  6.755 μs (0 allocations: 0 bytes)\n"
     ]
    }
   ],
   "source": [
    "@btime vector_add(A, B, C)"
   ]
  },
  {
   "cell_type": "markdown",
   "metadata": {},
   "source": [
    "## It's not always so simple: Reduction"
   ]
  },
  {
   "cell_type": "code",
   "execution_count": 12,
   "metadata": {},
   "outputs": [
    {
     "data": {
      "text/plain": [
       "vector_dot (generic function with 1 method)"
      ]
     },
     "execution_count": 12,
     "metadata": {},
     "output_type": "execute_result"
    }
   ],
   "source": [
    "function vector_dot(B, C)\n",
    "    a = zero(eltype(B))\n",
    "    for i in eachindex(B, C)\n",
    "        @inbounds a += B[i] * C[i]\n",
    "    end\n",
    "    return a\n",
    "end"
   ]
  },
  {
   "cell_type": "code",
   "execution_count": 13,
   "metadata": {
    "collapsed": true,
    "jupyter": {
     "outputs_hidden": true
    },
    "tags": []
   },
   "outputs": [
    {
     "name": "stdout",
     "output_type": "stream",
     "text": [
      "\t\u001b[0m.text\n",
      "\t\u001b[0m.file\t\u001b[0m\"vector_dot\"\n",
      "\t\u001b[0m.globl\t\u001b[0mjulia_vector_dot_2603           \u001b[90m# -- Begin function julia_vector_dot_2603\u001b[39m\n",
      "\t\u001b[0m.p2align\t\u001b[33m4\u001b[39m\u001b[0m, \u001b[33m0x90\u001b[39m\n",
      "\t\u001b[0m.type\t\u001b[0mjulia_vector_dot_2603\u001b[0m,\u001b[0m@function\n",
      "\u001b[91mjulia_vector_dot_2603:\u001b[39m                  \u001b[90m# @julia_vector_dot_2603\u001b[39m\n",
      "\t\u001b[0m.cfi_startproc\n",
      "\u001b[90m# %bb.0:                                # %top\u001b[39m\n",
      "\t\u001b[96m\u001b[1mpush\u001b[22m\u001b[39m\t\u001b[0mrbp\n",
      "\t\u001b[0m.cfi_def_cfa_offset \u001b[33m16\u001b[39m\n",
      "\t\u001b[0m.cfi_offset \u001b[0mrbp\u001b[0m, \u001b[33m-16\u001b[39m\n",
      "\t\u001b[96m\u001b[1mmov\u001b[22m\u001b[39m\t\u001b[0mrbp\u001b[0m, \u001b[0mrsp\n",
      "\t\u001b[0m.cfi_def_cfa_register \u001b[0mrbp\n",
      "\t\u001b[96m\u001b[1mpush\u001b[22m\u001b[39m\t\u001b[0mr15\n",
      "\t\u001b[96m\u001b[1mpush\u001b[22m\u001b[39m\t\u001b[0mr14\n",
      "\t\u001b[96m\u001b[1mpush\u001b[22m\u001b[39m\t\u001b[0mr13\n",
      "\t\u001b[96m\u001b[1mpush\u001b[22m\u001b[39m\t\u001b[0mr12\n",
      "\t\u001b[96m\u001b[1mpush\u001b[22m\u001b[39m\t\u001b[0mrbx\n",
      "\t\u001b[96m\u001b[1mand\u001b[22m\u001b[39m\t\u001b[0mrsp\u001b[0m, \u001b[33m-32\u001b[39m\n",
      "\t\u001b[96m\u001b[1msub\u001b[22m\u001b[39m\t\u001b[0mrsp\u001b[0m, \u001b[33m96\u001b[39m\n",
      "\t\u001b[0m.cfi_offset \u001b[0mrbx\u001b[0m, \u001b[33m-56\u001b[39m\n",
      "\t\u001b[0m.cfi_offset \u001b[0mr12\u001b[0m, \u001b[33m-48\u001b[39m\n",
      "\t\u001b[0m.cfi_offset \u001b[0mr13\u001b[0m, \u001b[33m-40\u001b[39m\n",
      "\t\u001b[0m.cfi_offset \u001b[0mr14\u001b[0m, \u001b[33m-32\u001b[39m\n",
      "\t\u001b[0m.cfi_offset \u001b[0mr15\u001b[0m, \u001b[33m-24\u001b[39m\n",
      "\t\u001b[96m\u001b[1mvxorpd\u001b[22m\u001b[39m\t\u001b[0mxmm0\u001b[0m, \u001b[0mxmm0\u001b[0m, \u001b[0mxmm0\n",
      "\t\u001b[0m#APP\n",
      "\t\u001b[96m\u001b[1mmov\u001b[22m\u001b[39m\t\u001b[0mrax\u001b[0m, \u001b[95mqword\u001b[39m \u001b[95mptr\u001b[39m \u001b[0mfs\u001b[0m:\u001b[33m[\u001b[39m\u001b[33m0\u001b[39m\u001b[33m]\u001b[39m\n",
      "\t\u001b[0m#NO_APP\n",
      "\t\u001b[96m\u001b[1mmov\u001b[22m\u001b[39m\t\u001b[0mrcx\u001b[0m, \u001b[0mrsp\n",
      "\t\u001b[96m\u001b[1mvmovapd\u001b[22m\u001b[39m\t\u001b[95mymmword\u001b[39m \u001b[95mptr\u001b[39m \u001b[33m[\u001b[39m\u001b[0mrsp\u001b[33m]\u001b[39m\u001b[0m, \u001b[0mymm0\n",
      "\t\u001b[96m\u001b[1mmov\u001b[22m\u001b[39m\t\u001b[0mr15\u001b[0m, \u001b[95mqword\u001b[39m \u001b[95mptr\u001b[39m \u001b[33m[\u001b[39m\u001b[0mrax \u001b[0m- \u001b[33m8\u001b[39m\u001b[33m]\u001b[39m\n",
      "\t\u001b[96m\u001b[1mmov\u001b[22m\u001b[39m\t\u001b[95mqword\u001b[39m \u001b[95mptr\u001b[39m \u001b[33m[\u001b[39m\u001b[0mrsp\u001b[33m]\u001b[39m\u001b[0m, \u001b[33m8\u001b[39m\n",
      "\t\u001b[96m\u001b[1mmov\u001b[22m\u001b[39m\t\u001b[0mrax\u001b[0m, \u001b[95mqword\u001b[39m \u001b[95mptr\u001b[39m \u001b[33m[\u001b[39m\u001b[0mr15\u001b[33m]\u001b[39m\n",
      "\t\u001b[96m\u001b[1mmov\u001b[22m\u001b[39m\t\u001b[95mqword\u001b[39m \u001b[95mptr\u001b[39m \u001b[33m[\u001b[39m\u001b[0mrsp \u001b[0m+ \u001b[33m8\u001b[39m\u001b[33m]\u001b[39m\u001b[0m, \u001b[0mrax\n",
      "\t\u001b[96m\u001b[1mmov\u001b[22m\u001b[39m\t\u001b[95mqword\u001b[39m \u001b[95mptr\u001b[39m \u001b[33m[\u001b[39m\u001b[0mr15\u001b[33m]\u001b[39m\u001b[0m, \u001b[0mrcx\n",
      "\t\u001b[96m\u001b[1mmov\u001b[22m\u001b[39m\t\u001b[0mrbx\u001b[0m, \u001b[95mqword\u001b[39m \u001b[95mptr\u001b[39m \u001b[33m[\u001b[39m\u001b[0mrdi \u001b[0m+ \u001b[33m8\u001b[39m\u001b[33m]\u001b[39m\n",
      "\t\u001b[96m\u001b[1mmov\u001b[22m\u001b[39m\t\u001b[0mr12\u001b[0m, \u001b[95mqword\u001b[39m \u001b[95mptr\u001b[39m \u001b[33m[\u001b[39m\u001b[0mrsi \u001b[0m+ \u001b[33m8\u001b[39m\u001b[33m]\u001b[39m\n",
      "\t\u001b[96m\u001b[1mcmp\u001b[22m\u001b[39m\t\u001b[0mrbx\u001b[0m, \u001b[0mr12\n",
      "\t\u001b[96m\u001b[1mjne\u001b[22m\u001b[39m\t\u001b[0m.LBB0_6\n",
      "\u001b[90m# %bb.1:                                # %L26\u001b[39m\n",
      "\t\u001b[96m\u001b[1mtest\u001b[22m\u001b[39m\t\u001b[0mrbx\u001b[0m, \u001b[0mrbx\n",
      "\t\u001b[96m\u001b[1mje\u001b[22m\u001b[39m\t\u001b[0m.LBB0_2\n",
      "\u001b[90m# %bb.3:                                # %L36.preheader\u001b[39m\n",
      "\t\u001b[96m\u001b[1mmov\u001b[22m\u001b[39m\t\u001b[0mrax\u001b[0m, \u001b[95mqword\u001b[39m \u001b[95mptr\u001b[39m \u001b[33m[\u001b[39m\u001b[0mrdi\u001b[33m]\u001b[39m\n",
      "\t\u001b[96m\u001b[1mmov\u001b[22m\u001b[39m\t\u001b[0mrcx\u001b[0m, \u001b[95mqword\u001b[39m \u001b[95mptr\u001b[39m \u001b[33m[\u001b[39m\u001b[0mrsi\u001b[33m]\u001b[39m\n",
      "\t\u001b[96m\u001b[1mvxorpd\u001b[22m\u001b[39m\t\u001b[0mxmm0\u001b[0m, \u001b[0mxmm0\u001b[0m, \u001b[0mxmm0\n",
      "\t\u001b[96m\u001b[1mxor\u001b[22m\u001b[39m\t\u001b[0medx\u001b[0m, \u001b[0medx\n",
      "\t\u001b[0m.p2align\t\u001b[33m4\u001b[39m\u001b[0m, \u001b[33m0x90\u001b[39m\n",
      "\u001b[91m.LBB0_4:\u001b[39m                                \u001b[90m# %L36\u001b[39m\n",
      "                                        \u001b[90m# =>This Inner Loop Header: Depth=1\u001b[39m\n",
      "\t\u001b[96m\u001b[1mvmovsd\u001b[22m\u001b[39m\t\u001b[0mxmm1\u001b[0m, \u001b[95mqword\u001b[39m \u001b[95mptr\u001b[39m \u001b[33m[\u001b[39m\u001b[0mrax \u001b[0m+ \u001b[33m8\u001b[39m\u001b[0m*\u001b[0mrdx\u001b[33m]\u001b[39m   \u001b[90m# xmm1 = mem[0],zero\u001b[39m\n",
      "\t\u001b[96m\u001b[1mvmulsd\u001b[22m\u001b[39m\t\u001b[0mxmm1\u001b[0m, \u001b[0mxmm1\u001b[0m, \u001b[95mqword\u001b[39m \u001b[95mptr\u001b[39m \u001b[33m[\u001b[39m\u001b[0mrcx \u001b[0m+ \u001b[33m8\u001b[39m\u001b[0m*\u001b[0mrdx\u001b[33m]\u001b[39m\n",
      "\t\u001b[96m\u001b[1minc\u001b[22m\u001b[39m\t\u001b[0mrdx\n",
      "\t\u001b[96m\u001b[1mvaddsd\u001b[22m\u001b[39m\t\u001b[0mxmm0\u001b[0m, \u001b[0mxmm0\u001b[0m, \u001b[0mxmm1\n",
      "\t\u001b[96m\u001b[1mcmp\u001b[22m\u001b[39m\t\u001b[0mrbx\u001b[0m, \u001b[0mrdx\n",
      "\t\u001b[96m\u001b[1mjne\u001b[22m\u001b[39m\t\u001b[0m.LBB0_4\n",
      "\t\u001b[96m\u001b[1mjmp\u001b[22m\u001b[39m\t\u001b[0m.LBB0_5\n",
      "\u001b[91m.LBB0_2:\u001b[39m\n",
      "\t\u001b[96m\u001b[1mvxorpd\u001b[22m\u001b[39m\t\u001b[0mxmm0\u001b[0m, \u001b[0mxmm0\u001b[0m, \u001b[0mxmm0\n",
      "\u001b[91m.LBB0_5:\u001b[39m                                \u001b[90m# %L56\u001b[39m\n",
      "\t\u001b[96m\u001b[1mmov\u001b[22m\u001b[39m\t\u001b[0mrax\u001b[0m, \u001b[95mqword\u001b[39m \u001b[95mptr\u001b[39m \u001b[33m[\u001b[39m\u001b[0mrsp \u001b[0m+ \u001b[33m8\u001b[39m\u001b[33m]\u001b[39m\n",
      "\t\u001b[96m\u001b[1mmov\u001b[22m\u001b[39m\t\u001b[95mqword\u001b[39m \u001b[95mptr\u001b[39m \u001b[33m[\u001b[39m\u001b[0mr15\u001b[33m]\u001b[39m\u001b[0m, \u001b[0mrax\n",
      "\t\u001b[96m\u001b[1mlea\u001b[22m\u001b[39m\t\u001b[0mrsp\u001b[0m, \u001b[33m[\u001b[39m\u001b[0mrbp \u001b[0m- \u001b[33m40\u001b[39m\u001b[33m]\u001b[39m\n",
      "\t\u001b[96m\u001b[1mpop\u001b[22m\u001b[39m\t\u001b[0mrbx\n",
      "\t\u001b[96m\u001b[1mpop\u001b[22m\u001b[39m\t\u001b[0mr12\n",
      "\t\u001b[96m\u001b[1mpop\u001b[22m\u001b[39m\t\u001b[0mr13\n",
      "\t\u001b[96m\u001b[1mpop\u001b[22m\u001b[39m\t\u001b[0mr14\n",
      "\t\u001b[96m\u001b[1mpop\u001b[22m\u001b[39m\t\u001b[0mr15\n",
      "\t\u001b[96m\u001b[1mpop\u001b[22m\u001b[39m\t\u001b[0mrbp\n",
      "\t\u001b[0m.cfi_def_cfa \u001b[0mrsp\u001b[0m, \u001b[33m8\u001b[39m\n",
      "\t\u001b[96m\u001b[1mvzeroupper\u001b[22m\u001b[39m\n",
      "\t\u001b[96m\u001b[1mret\u001b[22m\u001b[39m\n",
      "\u001b[91m.LBB0_6:\u001b[39m                                \u001b[90m# %L13\u001b[39m\n",
      "\t\u001b[0m.cfi_def_cfa \u001b[0mrbp\u001b[0m, \u001b[33m16\u001b[39m\n",
      "\t\u001b[96m\u001b[1mmov\u001b[22m\u001b[39m\t\u001b[0mrdi\u001b[0m, \u001b[95mqword\u001b[39m \u001b[95mptr\u001b[39m \u001b[33m[\u001b[39m\u001b[0mr15 \u001b[0m+ \u001b[33m16\u001b[39m\u001b[33m]\u001b[39m\n",
      "\t\u001b[96m\u001b[1mmovabs\u001b[22m\u001b[39m\t\u001b[0mr14\u001b[0m, \u001b[95moffset\u001b[39m \u001b[93mijl_gc_pool_alloc\u001b[39m\n",
      "\t\u001b[96m\u001b[1mmov\u001b[22m\u001b[39m\t\u001b[0mesi\u001b[0m, \u001b[33m1392\u001b[39m\n",
      "\t\u001b[96m\u001b[1mmov\u001b[22m\u001b[39m\t\u001b[0medx\u001b[0m, \u001b[33m16\u001b[39m\n",
      "\t\u001b[96m\u001b[1mvzeroupper\u001b[22m\u001b[39m\n",
      "\t\u001b[96m\u001b[1mcall\u001b[22m\u001b[39m\t\u001b[0mr14\n",
      "\t\u001b[96m\u001b[1mmovabs\u001b[22m\u001b[39m\t\u001b[0mr13\u001b[0m, \u001b[33m140158767843584\u001b[39m\n",
      "\t\u001b[96m\u001b[1mmov\u001b[22m\u001b[39m\t\u001b[0mrcx\u001b[0m, \u001b[0mr14\n",
      "\t\u001b[96m\u001b[1mmov\u001b[22m\u001b[39m\t\u001b[0mesi\u001b[0m, \u001b[33m1392\u001b[39m\n",
      "\t\u001b[96m\u001b[1mmov\u001b[22m\u001b[39m\t\u001b[0medx\u001b[0m, \u001b[33m16\u001b[39m\n",
      "\t\u001b[96m\u001b[1mmov\u001b[22m\u001b[39m\t\u001b[0mr14\u001b[0m, \u001b[0mrax\n",
      "\t\u001b[96m\u001b[1mmov\u001b[22m\u001b[39m\t\u001b[95mqword\u001b[39m \u001b[95mptr\u001b[39m \u001b[33m[\u001b[39m\u001b[0mrax \u001b[0m- \u001b[33m8\u001b[39m\u001b[33m]\u001b[39m\u001b[0m, \u001b[0mr13\n",
      "\t\u001b[96m\u001b[1mmov\u001b[22m\u001b[39m\t\u001b[95mqword\u001b[39m \u001b[95mptr\u001b[39m \u001b[33m[\u001b[39m\u001b[0mrax\u001b[33m]\u001b[39m\u001b[0m, \u001b[0mrbx\n",
      "\t\u001b[96m\u001b[1mmov\u001b[22m\u001b[39m\t\u001b[95mqword\u001b[39m \u001b[95mptr\u001b[39m \u001b[33m[\u001b[39m\u001b[0mrsp \u001b[0m+ \u001b[33m24\u001b[39m\u001b[33m]\u001b[39m\u001b[0m, \u001b[0mrax\n",
      "\t\u001b[96m\u001b[1mmov\u001b[22m\u001b[39m\t\u001b[0mrdi\u001b[0m, \u001b[95mqword\u001b[39m \u001b[95mptr\u001b[39m \u001b[33m[\u001b[39m\u001b[0mr15 \u001b[0m+ \u001b[33m16\u001b[39m\u001b[33m]\u001b[39m\n",
      "\t\u001b[96m\u001b[1mcall\u001b[22m\u001b[39m\t\u001b[0mrcx\n",
      "\t\u001b[96m\u001b[1mmovabs\u001b[22m\u001b[39m\t\u001b[0mrcx\u001b[0m, \u001b[33m140158769240720\u001b[39m\n",
      "\t\u001b[96m\u001b[1mmov\u001b[22m\u001b[39m\t\u001b[95mqword\u001b[39m \u001b[95mptr\u001b[39m \u001b[33m[\u001b[39m\u001b[0mrax \u001b[0m- \u001b[33m8\u001b[39m\u001b[33m]\u001b[39m\u001b[0m, \u001b[0mr13\n",
      "\t\u001b[96m\u001b[1mmov\u001b[22m\u001b[39m\t\u001b[95mqword\u001b[39m \u001b[95mptr\u001b[39m \u001b[33m[\u001b[39m\u001b[0mrax\u001b[33m]\u001b[39m\u001b[0m, \u001b[0mr12\n",
      "\t\u001b[96m\u001b[1mmov\u001b[22m\u001b[39m\t\u001b[95mqword\u001b[39m \u001b[95mptr\u001b[39m \u001b[33m[\u001b[39m\u001b[0mrsp \u001b[0m+ \u001b[33m16\u001b[39m\u001b[33m]\u001b[39m\u001b[0m, \u001b[0mrax\n",
      "\t\u001b[96m\u001b[1mmovabs\u001b[22m\u001b[39m\t\u001b[0mrdi\u001b[0m, \u001b[33m140158834993424\u001b[39m\n",
      "\t\u001b[96m\u001b[1mlea\u001b[22m\u001b[39m\t\u001b[0mrsi\u001b[0m, \u001b[33m[\u001b[39m\u001b[0mrsp \u001b[0m+ \u001b[33m48\u001b[39m\u001b[33m]\u001b[39m\n",
      "\t\u001b[96m\u001b[1mmov\u001b[22m\u001b[39m\t\u001b[0medx\u001b[0m, \u001b[33m3\u001b[39m\n",
      "\t\u001b[96m\u001b[1mmov\u001b[22m\u001b[39m\t\u001b[95mqword\u001b[39m \u001b[95mptr\u001b[39m \u001b[33m[\u001b[39m\u001b[0mrsp \u001b[0m+ \u001b[33m48\u001b[39m\u001b[33m]\u001b[39m\u001b[0m, \u001b[0mrcx\n",
      "\t\u001b[96m\u001b[1mmov\u001b[22m\u001b[39m\t\u001b[95mqword\u001b[39m \u001b[95mptr\u001b[39m \u001b[33m[\u001b[39m\u001b[0mrsp \u001b[0m+ \u001b[33m56\u001b[39m\u001b[33m]\u001b[39m\u001b[0m, \u001b[0mr14\n",
      "\t\u001b[96m\u001b[1mmov\u001b[22m\u001b[39m\t\u001b[95mqword\u001b[39m \u001b[95mptr\u001b[39m \u001b[33m[\u001b[39m\u001b[0mrsp \u001b[0m+ \u001b[33m64\u001b[39m\u001b[33m]\u001b[39m\u001b[0m, \u001b[0mrax\n",
      "\t\u001b[96m\u001b[1mmovabs\u001b[22m\u001b[39m\t\u001b[0mrax\u001b[0m, \u001b[95moffset\u001b[39m \u001b[93mijl_invoke\u001b[39m\n",
      "\t\u001b[96m\u001b[1mmovabs\u001b[22m\u001b[39m\t\u001b[0mrcx\u001b[0m, \u001b[33m140156147672864\u001b[39m\n",
      "\t\u001b[96m\u001b[1mcall\u001b[22m\u001b[39m\t\u001b[0mrax\n",
      "\t\u001b[96m\u001b[1mud2\u001b[22m\u001b[39m\n",
      "\u001b[91m.Lfunc_end0:\u001b[39m\n",
      "\t\u001b[0m.size\t\u001b[0mjulia_vector_dot_2603\u001b[0m, \u001b[0m.Lfunc_end0-julia_vector_dot_2603\n",
      "\t\u001b[0m.cfi_endproc\n",
      "                                        \u001b[90m# -- End function\u001b[39m\n",
      "\t\u001b[0m.section\t\u001b[0m\".note.GNU-stack\"\u001b[0m,\u001b[0m\"\"\u001b[0m,\u001b[0m@progbits\n"
     ]
    }
   ],
   "source": [
    "@code_native debuginfo=:none syntax = :intel vector_dot(B, C)"
   ]
  },
  {
   "cell_type": "markdown",
   "metadata": {},
   "source": [
    "Note the `vaddsd` instruction and usage of `xmmi` registers (128 bit)."
   ]
  },
  {
   "cell_type": "markdown",
   "metadata": {},
   "source": [
    "How could this loop be vectorized?"
   ]
  },
  {
   "cell_type": "code",
   "execution_count": 15,
   "metadata": {},
   "outputs": [
    {
     "data": {
      "text/plain": [
       "vector_dot_unrolled4 (generic function with 1 method)"
      ]
     },
     "execution_count": 15,
     "metadata": {},
     "output_type": "execute_result"
    }
   ],
   "source": [
    "function vector_dot_unrolled4(B, C)\n",
    "    a1 = zero(eltype(B))\n",
    "    a2 = zero(eltype(B))\n",
    "    a3 = zero(eltype(B))\n",
    "    a4 = zero(eltype(B))\n",
    "    @inbounds for i in 1:4:length(B)-4\n",
    "        a1 += B[i] * C[i]\n",
    "        a2 += B[i+1] * C[i+1]\n",
    "        a3 += B[i+2] * C[i+2]\n",
    "        a4 += B[i+3] * C[i+3]\n",
    "    end\n",
    "    return a1 + a2 + a3 + a4\n",
    "end"
   ]
  },
  {
   "cell_type": "code",
   "execution_count": 16,
   "metadata": {
    "collapsed": true,
    "jupyter": {
     "outputs_hidden": true
    },
    "tags": []
   },
   "outputs": [
    {
     "name": "stdout",
     "output_type": "stream",
     "text": [
      "\t\u001b[0m.text\n",
      "\t\u001b[0m.file\t\u001b[0m\"vector_dot_unrolled4\"\n",
      "\t\u001b[0m.globl\t\u001b[0mjulia_vector_dot_unrolled4_2752 \u001b[90m# -- Begin function julia_vector_dot_unrolled4_2752\u001b[39m\n",
      "\t\u001b[0m.p2align\t\u001b[33m4\u001b[39m\u001b[0m, \u001b[33m0x90\u001b[39m\n",
      "\t\u001b[0m.type\t\u001b[0mjulia_vector_dot_unrolled4_2752\u001b[0m,\u001b[0m@function\n",
      "\u001b[91mjulia_vector_dot_unrolled4_2752:\u001b[39m        \u001b[90m# @julia_vector_dot_unrolled4_2752\u001b[39m\n",
      "\t\u001b[0m.cfi_startproc\n",
      "\u001b[90m# %bb.0:                                # %top\u001b[39m\n",
      "\t\u001b[96m\u001b[1mpush\u001b[22m\u001b[39m\t\u001b[0mr14\n",
      "\t\u001b[0m.cfi_def_cfa_offset \u001b[33m16\u001b[39m\n",
      "\t\u001b[96m\u001b[1mpush\u001b[22m\u001b[39m\t\u001b[0mrbx\n",
      "\t\u001b[0m.cfi_def_cfa_offset \u001b[33m24\u001b[39m\n",
      "\t\u001b[96m\u001b[1msub\u001b[22m\u001b[39m\t\u001b[0mrsp\u001b[0m, \u001b[33m8\u001b[39m\n",
      "\t\u001b[0m.cfi_def_cfa_offset \u001b[33m32\u001b[39m\n",
      "\t\u001b[0m.cfi_offset \u001b[0mrbx\u001b[0m, \u001b[33m-24\u001b[39m\n",
      "\t\u001b[0m.cfi_offset \u001b[0mr14\u001b[0m, \u001b[33m-16\u001b[39m\n",
      "\t\u001b[96m\u001b[1mmov\u001b[22m\u001b[39m\t\u001b[0mrdx\u001b[0m, \u001b[95mqword\u001b[39m \u001b[95mptr\u001b[39m \u001b[33m[\u001b[39m\u001b[0mrdi \u001b[0m+ \u001b[33m8\u001b[39m\u001b[33m]\u001b[39m\n",
      "\t\u001b[96m\u001b[1mmov\u001b[22m\u001b[39m\t\u001b[0mr14\u001b[0m, \u001b[0mrsi\n",
      "\t\u001b[96m\u001b[1mmov\u001b[22m\u001b[39m\t\u001b[0mrbx\u001b[0m, \u001b[0mrdi\n",
      "\t\u001b[96m\u001b[1mmovabs\u001b[22m\u001b[39m\t\u001b[0mrax\u001b[0m, \u001b[95moffset\u001b[39m \u001b[93mj_steprange_last_2754\u001b[39m\n",
      "\t\u001b[96m\u001b[1mmov\u001b[22m\u001b[39m\t\u001b[0medi\u001b[0m, \u001b[33m1\u001b[39m\n",
      "\t\u001b[96m\u001b[1mmov\u001b[22m\u001b[39m\t\u001b[0mesi\u001b[0m, \u001b[33m4\u001b[39m\n",
      "\t\u001b[96m\u001b[1madd\u001b[22m\u001b[39m\t\u001b[0mrdx\u001b[0m, \u001b[33m-4\u001b[39m\n",
      "\t\u001b[96m\u001b[1mcall\u001b[22m\u001b[39m\t\u001b[0mrax\n",
      "\t\u001b[96m\u001b[1mtest\u001b[22m\u001b[39m\t\u001b[0mrax\u001b[0m, \u001b[0mrax\n",
      "\t\u001b[96m\u001b[1mjle\u001b[22m\u001b[39m\t\u001b[0m.LBB0_1\n",
      "\u001b[90m# %bb.2:                                # %L19.preheader\u001b[39m\n",
      "\t\u001b[96m\u001b[1mmov\u001b[22m\u001b[39m\t\u001b[0mrcx\u001b[0m, \u001b[95mqword\u001b[39m \u001b[95mptr\u001b[39m \u001b[33m[\u001b[39m\u001b[0mrbx\u001b[33m]\u001b[39m\n",
      "\t\u001b[96m\u001b[1mmov\u001b[22m\u001b[39m\t\u001b[0mrdx\u001b[0m, \u001b[95mqword\u001b[39m \u001b[95mptr\u001b[39m \u001b[33m[\u001b[39m\u001b[0mr14\u001b[33m]\u001b[39m\n",
      "\t\u001b[96m\u001b[1madd\u001b[22m\u001b[39m\t\u001b[0mrax\u001b[0m, \u001b[33m3\u001b[39m\n",
      "\t\u001b[96m\u001b[1mvxorpd\u001b[22m\u001b[39m\t\u001b[0mxmm0\u001b[0m, \u001b[0mxmm0\u001b[0m, \u001b[0mxmm0\n",
      "\t\u001b[96m\u001b[1mxor\u001b[22m\u001b[39m\t\u001b[0mesi\u001b[0m, \u001b[0mesi\n",
      "\t\u001b[0m.p2align\t\u001b[33m4\u001b[39m\u001b[0m, \u001b[33m0x90\u001b[39m\n",
      "\u001b[91m.LBB0_3:\u001b[39m                                \u001b[90m# %L19\u001b[39m\n",
      "                                        \u001b[90m# =>This Inner Loop Header: Depth=1\u001b[39m\n",
      "\t\u001b[96m\u001b[1mvmovupd\u001b[22m\u001b[39m\t\u001b[0mymm1\u001b[0m, \u001b[95mymmword\u001b[39m \u001b[95mptr\u001b[39m \u001b[33m[\u001b[39m\u001b[0mrcx \u001b[0m+ \u001b[33m8\u001b[39m\u001b[0m*\u001b[0mrsi\u001b[33m]\u001b[39m\n",
      "\t\u001b[96m\u001b[1mvmulpd\u001b[22m\u001b[39m\t\u001b[0mymm1\u001b[0m, \u001b[0mymm1\u001b[0m, \u001b[95mymmword\u001b[39m \u001b[95mptr\u001b[39m \u001b[33m[\u001b[39m\u001b[0mrdx \u001b[0m+ \u001b[33m8\u001b[39m\u001b[0m*\u001b[0mrsi\u001b[33m]\u001b[39m\n",
      "\t\u001b[96m\u001b[1madd\u001b[22m\u001b[39m\t\u001b[0mrsi\u001b[0m, \u001b[33m4\u001b[39m\n",
      "\t\u001b[96m\u001b[1mvaddpd\u001b[22m\u001b[39m\t\u001b[0mymm0\u001b[0m, \u001b[0mymm0\u001b[0m, \u001b[0mymm1\n",
      "\t\u001b[96m\u001b[1mcmp\u001b[22m\u001b[39m\t\u001b[0mrax\u001b[0m, \u001b[0mrsi\n",
      "\t\u001b[96m\u001b[1mjne\u001b[22m\u001b[39m\t\u001b[0m.LBB0_3\n",
      "\t\u001b[96m\u001b[1mjmp\u001b[22m\u001b[39m\t\u001b[0m.LBB0_4\n",
      "\u001b[91m.LBB0_1:\u001b[39m\n",
      "\t\u001b[96m\u001b[1mvxorpd\u001b[22m\u001b[39m\t\u001b[0mxmm0\u001b[0m, \u001b[0mxmm0\u001b[0m, \u001b[0mxmm0\n",
      "\u001b[91m.LBB0_4:\u001b[39m                                \u001b[90m# %L60\u001b[39m\n",
      "\t\u001b[96m\u001b[1mvpermilpd\u001b[22m\u001b[39m\t\u001b[0mxmm1\u001b[0m, \u001b[0mxmm0\u001b[0m, \u001b[33m1\u001b[39m           \u001b[90m# xmm1 = xmm0[1,0]\u001b[39m\n",
      "\t\u001b[96m\u001b[1mvaddsd\u001b[22m\u001b[39m\t\u001b[0mxmm1\u001b[0m, \u001b[0mxmm1\u001b[0m, \u001b[0mxmm0\n",
      "\t\u001b[96m\u001b[1mvextractf128\u001b[22m\u001b[39m\t\u001b[0mxmm0\u001b[0m, \u001b[0mymm0\u001b[0m, \u001b[33m1\u001b[39m\n",
      "\t\u001b[96m\u001b[1mvaddsd\u001b[22m\u001b[39m\t\u001b[0mxmm1\u001b[0m, \u001b[0mxmm0\u001b[0m, \u001b[0mxmm1\n",
      "\t\u001b[96m\u001b[1mvpermilpd\u001b[22m\u001b[39m\t\u001b[0mxmm0\u001b[0m, \u001b[0mxmm0\u001b[0m, \u001b[33m1\u001b[39m           \u001b[90m# xmm0 = xmm0[1,0]\u001b[39m\n",
      "\t\u001b[96m\u001b[1mvaddsd\u001b[22m\u001b[39m\t\u001b[0mxmm0\u001b[0m, \u001b[0mxmm0\u001b[0m, \u001b[0mxmm1\n",
      "\t\u001b[96m\u001b[1madd\u001b[22m\u001b[39m\t\u001b[0mrsp\u001b[0m, \u001b[33m8\u001b[39m\n",
      "\t\u001b[0m.cfi_def_cfa_offset \u001b[33m24\u001b[39m\n",
      "\t\u001b[96m\u001b[1mpop\u001b[22m\u001b[39m\t\u001b[0mrbx\n",
      "\t\u001b[0m.cfi_def_cfa_offset \u001b[33m16\u001b[39m\n",
      "\t\u001b[96m\u001b[1mpop\u001b[22m\u001b[39m\t\u001b[0mr14\n",
      "\t\u001b[0m.cfi_def_cfa_offset \u001b[33m8\u001b[39m\n",
      "\t\u001b[96m\u001b[1mvzeroupper\u001b[22m\u001b[39m\n",
      "\t\u001b[96m\u001b[1mret\u001b[22m\u001b[39m\n",
      "\u001b[91m.Lfunc_end0:\u001b[39m\n",
      "\t\u001b[0m.size\t\u001b[0mjulia_vector_dot_unrolled4_2752\u001b[0m, \u001b[0m.Lfunc_end0-julia_vector_dot_unrolled4_2752\n",
      "\t\u001b[0m.cfi_endproc\n",
      "                                        \u001b[90m# -- End function\u001b[39m\n",
      "\t\u001b[0m.section\t\u001b[0m\".note.GNU-stack\"\u001b[0m,\u001b[0m\"\"\u001b[0m,\u001b[0m@progbits\n"
     ]
    }
   ],
   "source": [
    "@code_native debuginfo=:none syntax = :intel vector_dot_unrolled4(B, C)"
   ]
  },
  {
   "cell_type": "code",
   "execution_count": 17,
   "metadata": {},
   "outputs": [
    {
     "name": "stdout",
     "output_type": "stream",
     "text": [
      "  19.296 μs (0 allocations: 0 bytes)\n",
      "  5.033 μs (0 allocations: 0 bytes)\n"
     ]
    }
   ],
   "source": [
    "using BenchmarkTools\n",
    "@btime vector_dot($B, $C);\n",
    "@btime vector_dot_unrolled4($B, $C);"
   ]
  },
  {
   "cell_type": "markdown",
   "metadata": {},
   "source": [
    "To \"force\" automatic SIMD vectorization in Julia, you can use the `@simd` macro."
   ]
  },
  {
   "cell_type": "code",
   "execution_count": 18,
   "metadata": {},
   "outputs": [
    {
     "data": {
      "text/plain": [
       "vector_dot_simd (generic function with 1 method)"
      ]
     },
     "execution_count": 18,
     "metadata": {},
     "output_type": "execute_result"
    }
   ],
   "source": [
    "function vector_dot_simd(B, C)\n",
    "    a = zero(eltype(B))\n",
    "    @simd for i in eachindex(B, C)\n",
    "        @inbounds a += B[i] * C[i]\n",
    "    end\n",
    "    return a\n",
    "end"
   ]
  },
  {
   "cell_type": "markdown",
   "metadata": {},
   "source": [
    "By using the `@simd` macro, we are asserting several properties of the loop:\n",
    "\n",
    "* It is safe to execute iterations in arbitrary or overlapping order, with special consideration for reduction variables.\n",
    "* Floating-point operations on reduction variables can be reordered, possibly causing different results than without `@simd`."
   ]
  },
  {
   "cell_type": "code",
   "execution_count": 19,
   "metadata": {},
   "outputs": [
    {
     "name": "stdout",
     "output_type": "stream",
     "text": [
      "  3.693 μs (0 allocations: 0 bytes)\n"
     ]
    }
   ],
   "source": [
    "@btime vector_dot_simd($B, $C);"
   ]
  },
  {
   "cell_type": "markdown",
   "metadata": {},
   "source": [
    "This is a huge speedup for just a little extra `@simd`!"
   ]
  },
  {
   "cell_type": "code",
   "execution_count": 20,
   "metadata": {
    "collapsed": true,
    "jupyter": {
     "outputs_hidden": true
    },
    "tags": []
   },
   "outputs": [
    {
     "name": "stdout",
     "output_type": "stream",
     "text": [
      "\t\u001b[0m.text\n",
      "\t\u001b[0m.file\t\u001b[0m\"vector_dot_simd\"\n",
      "\t\u001b[0m.globl\t\u001b[0mjulia_vector_dot_simd_2836      \u001b[90m# -- Begin function julia_vector_dot_simd_2836\u001b[39m\n",
      "\t\u001b[0m.p2align\t\u001b[33m4\u001b[39m\u001b[0m, \u001b[33m0x90\u001b[39m\n",
      "\t\u001b[0m.type\t\u001b[0mjulia_vector_dot_simd_2836\u001b[0m,\u001b[0m@function\n",
      "\u001b[91mjulia_vector_dot_simd_2836:\u001b[39m             \u001b[90m# @julia_vector_dot_simd_2836\u001b[39m\n",
      "\t\u001b[0m.cfi_startproc\n",
      "\u001b[90m# %bb.0:                                # %top\u001b[39m\n",
      "\t\u001b[96m\u001b[1mpush\u001b[22m\u001b[39m\t\u001b[0mrbp\n",
      "\t\u001b[0m.cfi_def_cfa_offset \u001b[33m16\u001b[39m\n",
      "\t\u001b[0m.cfi_offset \u001b[0mrbp\u001b[0m, \u001b[33m-16\u001b[39m\n",
      "\t\u001b[96m\u001b[1mmov\u001b[22m\u001b[39m\t\u001b[0mrbp\u001b[0m, \u001b[0mrsp\n",
      "\t\u001b[0m.cfi_def_cfa_register \u001b[0mrbp\n",
      "\t\u001b[96m\u001b[1mpush\u001b[22m\u001b[39m\t\u001b[0mr15\n",
      "\t\u001b[96m\u001b[1mpush\u001b[22m\u001b[39m\t\u001b[0mr14\n",
      "\t\u001b[96m\u001b[1mpush\u001b[22m\u001b[39m\t\u001b[0mr13\n",
      "\t\u001b[96m\u001b[1mpush\u001b[22m\u001b[39m\t\u001b[0mr12\n",
      "\t\u001b[96m\u001b[1mpush\u001b[22m\u001b[39m\t\u001b[0mrbx\n",
      "\t\u001b[96m\u001b[1mand\u001b[22m\u001b[39m\t\u001b[0mrsp\u001b[0m, \u001b[33m-32\u001b[39m\n",
      "\t\u001b[96m\u001b[1msub\u001b[22m\u001b[39m\t\u001b[0mrsp\u001b[0m, \u001b[33m96\u001b[39m\n",
      "\t\u001b[0m.cfi_offset \u001b[0mrbx\u001b[0m, \u001b[33m-56\u001b[39m\n",
      "\t\u001b[0m.cfi_offset \u001b[0mr12\u001b[0m, \u001b[33m-48\u001b[39m\n",
      "\t\u001b[0m.cfi_offset \u001b[0mr13\u001b[0m, \u001b[33m-40\u001b[39m\n",
      "\t\u001b[0m.cfi_offset \u001b[0mr14\u001b[0m, \u001b[33m-32\u001b[39m\n",
      "\t\u001b[0m.cfi_offset \u001b[0mr15\u001b[0m, \u001b[33m-24\u001b[39m\n",
      "\t\u001b[96m\u001b[1mvxorpd\u001b[22m\u001b[39m\t\u001b[0mxmm0\u001b[0m, \u001b[0mxmm0\u001b[0m, \u001b[0mxmm0\n",
      "\t\u001b[0m#APP\n",
      "\t\u001b[96m\u001b[1mmov\u001b[22m\u001b[39m\t\u001b[0mrax\u001b[0m, \u001b[95mqword\u001b[39m \u001b[95mptr\u001b[39m \u001b[0mfs\u001b[0m:\u001b[33m[\u001b[39m\u001b[33m0\u001b[39m\u001b[33m]\u001b[39m\n",
      "\t\u001b[0m#NO_APP\n",
      "\t\u001b[96m\u001b[1mmov\u001b[22m\u001b[39m\t\u001b[0mrcx\u001b[0m, \u001b[0mrsp\n",
      "\t\u001b[96m\u001b[1mvmovapd\u001b[22m\u001b[39m\t\u001b[95mymmword\u001b[39m \u001b[95mptr\u001b[39m \u001b[33m[\u001b[39m\u001b[0mrsp\u001b[33m]\u001b[39m\u001b[0m, \u001b[0mymm0\n",
      "\t\u001b[96m\u001b[1mmov\u001b[22m\u001b[39m\t\u001b[0mr15\u001b[0m, \u001b[95mqword\u001b[39m \u001b[95mptr\u001b[39m \u001b[33m[\u001b[39m\u001b[0mrax \u001b[0m- \u001b[33m8\u001b[39m\u001b[33m]\u001b[39m\n",
      "\t\u001b[96m\u001b[1mmov\u001b[22m\u001b[39m\t\u001b[95mqword\u001b[39m \u001b[95mptr\u001b[39m \u001b[33m[\u001b[39m\u001b[0mrsp\u001b[33m]\u001b[39m\u001b[0m, \u001b[33m8\u001b[39m\n",
      "\t\u001b[96m\u001b[1mmov\u001b[22m\u001b[39m\t\u001b[0mrax\u001b[0m, \u001b[95mqword\u001b[39m \u001b[95mptr\u001b[39m \u001b[33m[\u001b[39m\u001b[0mr15\u001b[33m]\u001b[39m\n",
      "\t\u001b[96m\u001b[1mmov\u001b[22m\u001b[39m\t\u001b[95mqword\u001b[39m \u001b[95mptr\u001b[39m \u001b[33m[\u001b[39m\u001b[0mrsp \u001b[0m+ \u001b[33m8\u001b[39m\u001b[33m]\u001b[39m\u001b[0m, \u001b[0mrax\n",
      "\t\u001b[96m\u001b[1mmov\u001b[22m\u001b[39m\t\u001b[95mqword\u001b[39m \u001b[95mptr\u001b[39m \u001b[33m[\u001b[39m\u001b[0mr15\u001b[33m]\u001b[39m\u001b[0m, \u001b[0mrcx\n",
      "\t\u001b[96m\u001b[1mmov\u001b[22m\u001b[39m\t\u001b[0mrbx\u001b[0m, \u001b[95mqword\u001b[39m \u001b[95mptr\u001b[39m \u001b[33m[\u001b[39m\u001b[0mrdi \u001b[0m+ \u001b[33m8\u001b[39m\u001b[33m]\u001b[39m\n",
      "\t\u001b[96m\u001b[1mmov\u001b[22m\u001b[39m\t\u001b[0mr12\u001b[0m, \u001b[95mqword\u001b[39m \u001b[95mptr\u001b[39m \u001b[33m[\u001b[39m\u001b[0mrsi \u001b[0m+ \u001b[33m8\u001b[39m\u001b[33m]\u001b[39m\n",
      "\t\u001b[96m\u001b[1mcmp\u001b[22m\u001b[39m\t\u001b[0mrbx\u001b[0m, \u001b[0mr12\n",
      "\t\u001b[96m\u001b[1mjne\u001b[22m\u001b[39m\t\u001b[0m.LBB0_10\n",
      "\u001b[90m# %bb.1:                                # %L28\u001b[39m\n",
      "\t\u001b[96m\u001b[1mtest\u001b[22m\u001b[39m\t\u001b[0mrbx\u001b[0m, \u001b[0mrbx\n",
      "\t\u001b[96m\u001b[1mje\u001b[22m\u001b[39m\t\u001b[0m.LBB0_2\n",
      "\u001b[90m# %bb.3:                                # %L35.lr.ph\u001b[39m\n",
      "\t\u001b[96m\u001b[1mmov\u001b[22m\u001b[39m\t\u001b[0mrax\u001b[0m, \u001b[95mqword\u001b[39m \u001b[95mptr\u001b[39m \u001b[33m[\u001b[39m\u001b[0mrdi\u001b[33m]\u001b[39m\n",
      "\t\u001b[96m\u001b[1mmov\u001b[22m\u001b[39m\t\u001b[0mrcx\u001b[0m, \u001b[95mqword\u001b[39m \u001b[95mptr\u001b[39m \u001b[33m[\u001b[39m\u001b[0mrsi\u001b[33m]\u001b[39m\n",
      "\t\u001b[96m\u001b[1mcmp\u001b[22m\u001b[39m\t\u001b[0mrbx\u001b[0m, \u001b[33m16\u001b[39m\n",
      "\t\u001b[96m\u001b[1mjae\u001b[22m\u001b[39m\t\u001b[0m.LBB0_5\n",
      "\u001b[90m# %bb.4:\u001b[39m\n",
      "\t\u001b[96m\u001b[1mvxorpd\u001b[22m\u001b[39m\t\u001b[0mxmm0\u001b[0m, \u001b[0mxmm0\u001b[0m, \u001b[0mxmm0\n",
      "\t\u001b[96m\u001b[1mxor\u001b[22m\u001b[39m\t\u001b[0medx\u001b[0m, \u001b[0medx\n",
      "\t\u001b[96m\u001b[1mjmp\u001b[22m\u001b[39m\t\u001b[0m.LBB0_8\n",
      "\u001b[91m.LBB0_2:\u001b[39m\n",
      "\t\u001b[96m\u001b[1mvxorpd\u001b[22m\u001b[39m\t\u001b[0mxmm0\u001b[0m, \u001b[0mxmm0\u001b[0m, \u001b[0mxmm0\n",
      "\t\u001b[96m\u001b[1mjmp\u001b[22m\u001b[39m\t\u001b[0m.LBB0_9\n",
      "\u001b[91m.LBB0_5:\u001b[39m                                \u001b[90m# %vector.ph\u001b[39m\n",
      "\t\u001b[96m\u001b[1mmov\u001b[22m\u001b[39m\t\u001b[0mrdx\u001b[0m, \u001b[0mrbx\n",
      "\t\u001b[96m\u001b[1mvxorpd\u001b[22m\u001b[39m\t\u001b[0mxmm0\u001b[0m, \u001b[0mxmm0\u001b[0m, \u001b[0mxmm0\n",
      "\t\u001b[96m\u001b[1mxor\u001b[22m\u001b[39m\t\u001b[0mesi\u001b[0m, \u001b[0mesi\n",
      "\t\u001b[96m\u001b[1mvxorpd\u001b[22m\u001b[39m\t\u001b[0mxmm1\u001b[0m, \u001b[0mxmm1\u001b[0m, \u001b[0mxmm1\n",
      "\t\u001b[96m\u001b[1mvxorpd\u001b[22m\u001b[39m\t\u001b[0mxmm2\u001b[0m, \u001b[0mxmm2\u001b[0m, \u001b[0mxmm2\n",
      "\t\u001b[96m\u001b[1mvxorpd\u001b[22m\u001b[39m\t\u001b[0mxmm3\u001b[0m, \u001b[0mxmm3\u001b[0m, \u001b[0mxmm3\n",
      "\t\u001b[96m\u001b[1mand\u001b[22m\u001b[39m\t\u001b[0mrdx\u001b[0m, \u001b[33m-16\u001b[39m\n",
      "\t\u001b[0m.p2align\t\u001b[33m4\u001b[39m\u001b[0m, \u001b[33m0x90\u001b[39m\n",
      "\u001b[91m.LBB0_6:\u001b[39m                                \u001b[90m# %vector.body\u001b[39m\n",
      "                                        \u001b[90m# =>This Inner Loop Header: Depth=1\u001b[39m\n",
      "\t\u001b[96m\u001b[1mvmovupd\u001b[22m\u001b[39m\t\u001b[0mymm4\u001b[0m, \u001b[95mymmword\u001b[39m \u001b[95mptr\u001b[39m \u001b[33m[\u001b[39m\u001b[0mrax \u001b[0m+ \u001b[33m8\u001b[39m\u001b[0m*\u001b[0mrsi\u001b[33m]\u001b[39m\n",
      "\t\u001b[96m\u001b[1mvmovupd\u001b[22m\u001b[39m\t\u001b[0mymm5\u001b[0m, \u001b[95mymmword\u001b[39m \u001b[95mptr\u001b[39m \u001b[33m[\u001b[39m\u001b[0mrax \u001b[0m+ \u001b[33m8\u001b[39m\u001b[0m*\u001b[0mrsi \u001b[0m+ \u001b[33m32\u001b[39m\u001b[33m]\u001b[39m\n",
      "\t\u001b[96m\u001b[1mvmovupd\u001b[22m\u001b[39m\t\u001b[0mymm6\u001b[0m, \u001b[95mymmword\u001b[39m \u001b[95mptr\u001b[39m \u001b[33m[\u001b[39m\u001b[0mrax \u001b[0m+ \u001b[33m8\u001b[39m\u001b[0m*\u001b[0mrsi \u001b[0m+ \u001b[33m64\u001b[39m\u001b[33m]\u001b[39m\n",
      "\t\u001b[96m\u001b[1mvmovupd\u001b[22m\u001b[39m\t\u001b[0mymm7\u001b[0m, \u001b[95mymmword\u001b[39m \u001b[95mptr\u001b[39m \u001b[33m[\u001b[39m\u001b[0mrax \u001b[0m+ \u001b[33m8\u001b[39m\u001b[0m*\u001b[0mrsi \u001b[0m+ \u001b[33m96\u001b[39m\u001b[33m]\u001b[39m\n",
      "\t\u001b[96m\u001b[1mvfmadd231pd\u001b[22m\u001b[39m\t\u001b[0mymm0\u001b[0m, \u001b[0mymm4\u001b[0m, \u001b[95mymmword\u001b[39m \u001b[95mptr\u001b[39m \u001b[33m[\u001b[39m\u001b[0mrcx \u001b[0m+ \u001b[33m8\u001b[39m\u001b[0m*\u001b[0mrsi\u001b[33m]\u001b[39m \u001b[90m# ymm0 = (ymm4 * mem) + ymm0\u001b[39m\n",
      "\t\u001b[96m\u001b[1mvfmadd231pd\u001b[22m\u001b[39m\t\u001b[0mymm1\u001b[0m, \u001b[0mymm5\u001b[0m, \u001b[95mymmword\u001b[39m \u001b[95mptr\u001b[39m \u001b[33m[\u001b[39m\u001b[0mrcx \u001b[0m+ \u001b[33m8\u001b[39m\u001b[0m*\u001b[0mrsi \u001b[0m+ \u001b[33m32\u001b[39m\u001b[33m]\u001b[39m \u001b[90m# ymm1 = (ymm5 * mem) + ymm1\u001b[39m\n",
      "\t\u001b[96m\u001b[1mvfmadd231pd\u001b[22m\u001b[39m\t\u001b[0mymm2\u001b[0m, \u001b[0mymm6\u001b[0m, \u001b[95mymmword\u001b[39m \u001b[95mptr\u001b[39m \u001b[33m[\u001b[39m\u001b[0mrcx \u001b[0m+ \u001b[33m8\u001b[39m\u001b[0m*\u001b[0mrsi \u001b[0m+ \u001b[33m64\u001b[39m\u001b[33m]\u001b[39m \u001b[90m# ymm2 = (ymm6 * mem) + ymm2\u001b[39m\n",
      "\t\u001b[96m\u001b[1mvfmadd231pd\u001b[22m\u001b[39m\t\u001b[0mymm3\u001b[0m, \u001b[0mymm7\u001b[0m, \u001b[95mymmword\u001b[39m \u001b[95mptr\u001b[39m \u001b[33m[\u001b[39m\u001b[0mrcx \u001b[0m+ \u001b[33m8\u001b[39m\u001b[0m*\u001b[0mrsi \u001b[0m+ \u001b[33m96\u001b[39m\u001b[33m]\u001b[39m \u001b[90m# ymm3 = (ymm7 * mem) + ymm3\u001b[39m\n",
      "\t\u001b[96m\u001b[1madd\u001b[22m\u001b[39m\t\u001b[0mrsi\u001b[0m, \u001b[33m16\u001b[39m\n",
      "\t\u001b[96m\u001b[1mcmp\u001b[22m\u001b[39m\t\u001b[0mrdx\u001b[0m, \u001b[0mrsi\n",
      "\t\u001b[96m\u001b[1mjne\u001b[22m\u001b[39m\t\u001b[0m.LBB0_6\n",
      "\u001b[90m# %bb.7:                                # %middle.block\u001b[39m\n",
      "\t\u001b[96m\u001b[1mvaddpd\u001b[22m\u001b[39m\t\u001b[0mymm0\u001b[0m, \u001b[0mymm1\u001b[0m, \u001b[0mymm0\n",
      "\t\u001b[96m\u001b[1mvaddpd\u001b[22m\u001b[39m\t\u001b[0mymm0\u001b[0m, \u001b[0mymm2\u001b[0m, \u001b[0mymm0\n",
      "\t\u001b[96m\u001b[1mvaddpd\u001b[22m\u001b[39m\t\u001b[0mymm0\u001b[0m, \u001b[0mymm3\u001b[0m, \u001b[0mymm0\n",
      "\t\u001b[96m\u001b[1mvextractf128\u001b[22m\u001b[39m\t\u001b[0mxmm1\u001b[0m, \u001b[0mymm0\u001b[0m, \u001b[33m1\u001b[39m\n",
      "\t\u001b[96m\u001b[1mvaddpd\u001b[22m\u001b[39m\t\u001b[0mxmm0\u001b[0m, \u001b[0mxmm0\u001b[0m, \u001b[0mxmm1\n",
      "\t\u001b[96m\u001b[1mvpermilpd\u001b[22m\u001b[39m\t\u001b[0mxmm1\u001b[0m, \u001b[0mxmm0\u001b[0m, \u001b[33m1\u001b[39m           \u001b[90m# xmm1 = xmm0[1,0]\u001b[39m\n",
      "\t\u001b[96m\u001b[1mvaddsd\u001b[22m\u001b[39m\t\u001b[0mxmm0\u001b[0m, \u001b[0mxmm0\u001b[0m, \u001b[0mxmm1\n",
      "\t\u001b[96m\u001b[1mcmp\u001b[22m\u001b[39m\t\u001b[0mrbx\u001b[0m, \u001b[0mrdx\n",
      "\t\u001b[96m\u001b[1mje\u001b[22m\u001b[39m\t\u001b[0m.LBB0_9\n",
      "\t\u001b[0m.p2align\t\u001b[33m4\u001b[39m\u001b[0m, \u001b[33m0x90\u001b[39m\n",
      "\u001b[91m.LBB0_8:\u001b[39m                                \u001b[90m# %L35\u001b[39m\n",
      "                                        \u001b[90m# =>This Inner Loop Header: Depth=1\u001b[39m\n",
      "\t\u001b[96m\u001b[1mvmovsd\u001b[22m\u001b[39m\t\u001b[0mxmm1\u001b[0m, \u001b[95mqword\u001b[39m \u001b[95mptr\u001b[39m \u001b[33m[\u001b[39m\u001b[0mrax \u001b[0m+ \u001b[33m8\u001b[39m\u001b[0m*\u001b[0mrdx\u001b[33m]\u001b[39m   \u001b[90m# xmm1 = mem[0],zero\u001b[39m\n",
      "\t\u001b[96m\u001b[1mvfmadd231sd\u001b[22m\u001b[39m\t\u001b[0mxmm0\u001b[0m, \u001b[0mxmm1\u001b[0m, \u001b[95mqword\u001b[39m \u001b[95mptr\u001b[39m \u001b[33m[\u001b[39m\u001b[0mrcx \u001b[0m+ \u001b[33m8\u001b[39m\u001b[0m*\u001b[0mrdx\u001b[33m]\u001b[39m \u001b[90m# xmm0 = (xmm1 * mem) + xmm0\u001b[39m\n",
      "\t\u001b[96m\u001b[1minc\u001b[22m\u001b[39m\t\u001b[0mrdx\n",
      "\t\u001b[96m\u001b[1mcmp\u001b[22m\u001b[39m\t\u001b[0mrbx\u001b[0m, \u001b[0mrdx\n",
      "\t\u001b[96m\u001b[1mjne\u001b[22m\u001b[39m\t\u001b[0m.LBB0_8\n",
      "\u001b[91m.LBB0_9:\u001b[39m                                \u001b[90m# %L54\u001b[39m\n",
      "\t\u001b[96m\u001b[1mmov\u001b[22m\u001b[39m\t\u001b[0mrax\u001b[0m, \u001b[95mqword\u001b[39m \u001b[95mptr\u001b[39m \u001b[33m[\u001b[39m\u001b[0mrsp \u001b[0m+ \u001b[33m8\u001b[39m\u001b[33m]\u001b[39m\n",
      "\t\u001b[96m\u001b[1mmov\u001b[22m\u001b[39m\t\u001b[95mqword\u001b[39m \u001b[95mptr\u001b[39m \u001b[33m[\u001b[39m\u001b[0mr15\u001b[33m]\u001b[39m\u001b[0m, \u001b[0mrax\n",
      "\t\u001b[96m\u001b[1mlea\u001b[22m\u001b[39m\t\u001b[0mrsp\u001b[0m, \u001b[33m[\u001b[39m\u001b[0mrbp \u001b[0m- \u001b[33m40\u001b[39m\u001b[33m]\u001b[39m\n",
      "\t\u001b[96m\u001b[1mpop\u001b[22m\u001b[39m\t\u001b[0mrbx\n",
      "\t\u001b[96m\u001b[1mpop\u001b[22m\u001b[39m\t\u001b[0mr12\n",
      "\t\u001b[96m\u001b[1mpop\u001b[22m\u001b[39m\t\u001b[0mr13\n",
      "\t\u001b[96m\u001b[1mpop\u001b[22m\u001b[39m\t\u001b[0mr14\n",
      "\t\u001b[96m\u001b[1mpop\u001b[22m\u001b[39m\t\u001b[0mr15\n",
      "\t\u001b[96m\u001b[1mpop\u001b[22m\u001b[39m\t\u001b[0mrbp\n",
      "\t\u001b[0m.cfi_def_cfa \u001b[0mrsp\u001b[0m, \u001b[33m8\u001b[39m\n",
      "\t\u001b[96m\u001b[1mvzeroupper\u001b[22m\u001b[39m\n",
      "\t\u001b[96m\u001b[1mret\u001b[22m\u001b[39m\n",
      "\u001b[91m.LBB0_10:\u001b[39m                               \u001b[90m# %L14\u001b[39m\n",
      "\t\u001b[0m.cfi_def_cfa \u001b[0mrbp\u001b[0m, \u001b[33m16\u001b[39m\n",
      "\t\u001b[96m\u001b[1mmov\u001b[22m\u001b[39m\t\u001b[0mrdi\u001b[0m, \u001b[95mqword\u001b[39m \u001b[95mptr\u001b[39m \u001b[33m[\u001b[39m\u001b[0mr15 \u001b[0m+ \u001b[33m16\u001b[39m\u001b[33m]\u001b[39m\n",
      "\t\u001b[96m\u001b[1mmovabs\u001b[22m\u001b[39m\t\u001b[0mr14\u001b[0m, \u001b[95moffset\u001b[39m \u001b[93mijl_gc_pool_alloc\u001b[39m\n",
      "\t\u001b[96m\u001b[1mmov\u001b[22m\u001b[39m\t\u001b[0mesi\u001b[0m, \u001b[33m1392\u001b[39m\n",
      "\t\u001b[96m\u001b[1mmov\u001b[22m\u001b[39m\t\u001b[0medx\u001b[0m, \u001b[33m16\u001b[39m\n",
      "\t\u001b[96m\u001b[1mvzeroupper\u001b[22m\u001b[39m\n",
      "\t\u001b[96m\u001b[1mcall\u001b[22m\u001b[39m\t\u001b[0mr14\n",
      "\t\u001b[96m\u001b[1mmovabs\u001b[22m\u001b[39m\t\u001b[0mr13\u001b[0m, \u001b[33m140158767843584\u001b[39m\n",
      "\t\u001b[96m\u001b[1mmov\u001b[22m\u001b[39m\t\u001b[0mrcx\u001b[0m, \u001b[0mr14\n",
      "\t\u001b[96m\u001b[1mmov\u001b[22m\u001b[39m\t\u001b[0mesi\u001b[0m, \u001b[33m1392\u001b[39m\n",
      "\t\u001b[96m\u001b[1mmov\u001b[22m\u001b[39m\t\u001b[0medx\u001b[0m, \u001b[33m16\u001b[39m\n",
      "\t\u001b[96m\u001b[1mmov\u001b[22m\u001b[39m\t\u001b[0mr14\u001b[0m, \u001b[0mrax\n",
      "\t\u001b[96m\u001b[1mmov\u001b[22m\u001b[39m\t\u001b[95mqword\u001b[39m \u001b[95mptr\u001b[39m \u001b[33m[\u001b[39m\u001b[0mrax \u001b[0m- \u001b[33m8\u001b[39m\u001b[33m]\u001b[39m\u001b[0m, \u001b[0mr13\n",
      "\t\u001b[96m\u001b[1mmov\u001b[22m\u001b[39m\t\u001b[95mqword\u001b[39m \u001b[95mptr\u001b[39m \u001b[33m[\u001b[39m\u001b[0mrax\u001b[33m]\u001b[39m\u001b[0m, \u001b[0mrbx\n",
      "\t\u001b[96m\u001b[1mmov\u001b[22m\u001b[39m\t\u001b[95mqword\u001b[39m \u001b[95mptr\u001b[39m \u001b[33m[\u001b[39m\u001b[0mrsp \u001b[0m+ \u001b[33m24\u001b[39m\u001b[33m]\u001b[39m\u001b[0m, \u001b[0mrax\n",
      "\t\u001b[96m\u001b[1mmov\u001b[22m\u001b[39m\t\u001b[0mrdi\u001b[0m, \u001b[95mqword\u001b[39m \u001b[95mptr\u001b[39m \u001b[33m[\u001b[39m\u001b[0mr15 \u001b[0m+ \u001b[33m16\u001b[39m\u001b[33m]\u001b[39m\n",
      "\t\u001b[96m\u001b[1mcall\u001b[22m\u001b[39m\t\u001b[0mrcx\n",
      "\t\u001b[96m\u001b[1mmovabs\u001b[22m\u001b[39m\t\u001b[0mrcx\u001b[0m, \u001b[33m140158769240720\u001b[39m\n",
      "\t\u001b[96m\u001b[1mmov\u001b[22m\u001b[39m\t\u001b[95mqword\u001b[39m \u001b[95mptr\u001b[39m \u001b[33m[\u001b[39m\u001b[0mrax \u001b[0m- \u001b[33m8\u001b[39m\u001b[33m]\u001b[39m\u001b[0m, \u001b[0mr13\n",
      "\t\u001b[96m\u001b[1mmov\u001b[22m\u001b[39m\t\u001b[95mqword\u001b[39m \u001b[95mptr\u001b[39m \u001b[33m[\u001b[39m\u001b[0mrax\u001b[33m]\u001b[39m\u001b[0m, \u001b[0mr12\n",
      "\t\u001b[96m\u001b[1mmov\u001b[22m\u001b[39m\t\u001b[95mqword\u001b[39m \u001b[95mptr\u001b[39m \u001b[33m[\u001b[39m\u001b[0mrsp \u001b[0m+ \u001b[33m16\u001b[39m\u001b[33m]\u001b[39m\u001b[0m, \u001b[0mrax\n",
      "\t\u001b[96m\u001b[1mmovabs\u001b[22m\u001b[39m\t\u001b[0mrdi\u001b[0m, \u001b[33m140158834993424\u001b[39m\n",
      "\t\u001b[96m\u001b[1mlea\u001b[22m\u001b[39m\t\u001b[0mrsi\u001b[0m, \u001b[33m[\u001b[39m\u001b[0mrsp \u001b[0m+ \u001b[33m48\u001b[39m\u001b[33m]\u001b[39m\n",
      "\t\u001b[96m\u001b[1mmov\u001b[22m\u001b[39m\t\u001b[0medx\u001b[0m, \u001b[33m3\u001b[39m\n",
      "\t\u001b[96m\u001b[1mmov\u001b[22m\u001b[39m\t\u001b[95mqword\u001b[39m \u001b[95mptr\u001b[39m \u001b[33m[\u001b[39m\u001b[0mrsp \u001b[0m+ \u001b[33m48\u001b[39m\u001b[33m]\u001b[39m\u001b[0m, \u001b[0mrcx\n",
      "\t\u001b[96m\u001b[1mmov\u001b[22m\u001b[39m\t\u001b[95mqword\u001b[39m \u001b[95mptr\u001b[39m \u001b[33m[\u001b[39m\u001b[0mrsp \u001b[0m+ \u001b[33m56\u001b[39m\u001b[33m]\u001b[39m\u001b[0m, \u001b[0mr14\n",
      "\t\u001b[96m\u001b[1mmov\u001b[22m\u001b[39m\t\u001b[95mqword\u001b[39m \u001b[95mptr\u001b[39m \u001b[33m[\u001b[39m\u001b[0mrsp \u001b[0m+ \u001b[33m64\u001b[39m\u001b[33m]\u001b[39m\u001b[0m, \u001b[0mrax\n",
      "\t\u001b[96m\u001b[1mmovabs\u001b[22m\u001b[39m\t\u001b[0mrax\u001b[0m, \u001b[95moffset\u001b[39m \u001b[93mijl_invoke\u001b[39m\n",
      "\t\u001b[96m\u001b[1mmovabs\u001b[22m\u001b[39m\t\u001b[0mrcx\u001b[0m, \u001b[33m140156147672864\u001b[39m\n",
      "\t\u001b[96m\u001b[1mcall\u001b[22m\u001b[39m\t\u001b[0mrax\n",
      "\t\u001b[96m\u001b[1mud2\u001b[22m\u001b[39m\n",
      "\u001b[91m.Lfunc_end0:\u001b[39m\n",
      "\t\u001b[0m.size\t\u001b[0mjulia_vector_dot_simd_2836\u001b[0m, \u001b[0m.Lfunc_end0-julia_vector_dot_simd_2836\n",
      "\t\u001b[0m.cfi_endproc\n",
      "                                        \u001b[90m# -- End function\u001b[39m\n",
      "\t\u001b[0m.section\t\u001b[0m\".note.GNU-stack\"\u001b[0m,\u001b[0m\"\"\u001b[0m,\u001b[0m@progbits\n"
     ]
    }
   ],
   "source": [
    "@code_native debuginfo=:none syntax = :intel vector_dot_simd(B, C)"
   ]
  },
  {
   "cell_type": "markdown",
   "metadata": {},
   "source": [
    "Note the `vfmadd231pd` instruction and usage of `ymmi` AVX registers (256 bit)."
   ]
  },
  {
   "cell_type": "markdown",
   "metadata": {},
   "source": [
    "Data types matter:\n",
    "* Floating-point addition is **non-associative** and the order of operations is important.\n",
    "* Integer addition is **associative** and the order of operations has no impact."
   ]
  },
  {
   "cell_type": "markdown",
   "metadata": {},
   "source": [
    "Let's check what happens for `Int64` input."
   ]
  },
  {
   "cell_type": "code",
   "execution_count": 21,
   "metadata": {},
   "outputs": [
    {
     "name": "stdout",
     "output_type": "stream",
     "text": [
      "  10.350 μs (0 allocations: 0 bytes)\n",
      "  11.962 μs (0 allocations: 0 bytes)\n"
     ]
    }
   ],
   "source": [
    "B_int = rand(Int64, SIZE)\n",
    "C_int = rand(Int64, SIZE)\n",
    "@btime vector_dot($B_int, $C_int);\n",
    "@btime vector_dot_simd($B_int, $C_int);"
   ]
  },
  {
   "cell_type": "markdown",
   "metadata": {},
   "source": [
    "As expected, there is no difference between the two variants."
   ]
  },
  {
   "cell_type": "markdown",
   "metadata": {},
   "source": [
    "### SIMD is hard..."
   ]
  },
  {
   "cell_type": "markdown",
   "metadata": {},
   "source": [
    "* Autovectorization is a hard problem (it needs to prove a lot of things about the code!)\n",
    "* Not every code / loop is readily vectorizable\n",
    "  * Keep your loops simple, e.g. avoid conditionals, control flow, and function calls if possible!\n",
    "  * Loop length should be countable up front\n",
    "  * Contiguous data access\n",
    "  * (Align data structures to SIMD width boundary)\n",
    "\n",
    "**Keep it simple!**"
   ]
  },
  {
   "cell_type": "markdown",
   "metadata": {},
   "source": [
    "### [LoopVectorization.jl](https://github.com/JuliaSIMD/LoopVectorization.jl)"
   ]
  },
  {
   "cell_type": "markdown",
   "metadata": {},
   "source": [
    "Think of `@turbo` as a more sophisticated version of `@simd`. Hopefully, these features will at some point just be part of Julia's compiler."
   ]
  },
  {
   "cell_type": "code",
   "execution_count": 22,
   "metadata": {},
   "outputs": [
    {
     "name": "stdout",
     "output_type": "stream",
     "text": [
      "  3.507 μs (0 allocations: 0 bytes)\n",
      "  3.479 μs (0 allocations: 0 bytes)\n"
     ]
    }
   ],
   "source": [
    "using LoopVectorization\n",
    "\n",
    "function vector_dot_turbo(B, C)\n",
    "    a = zero(eltype(B))\n",
    "    @turbo for i in eachindex(B, C)\n",
    "        @inbounds a += B[i] * C[i]\n",
    "    end\n",
    "    return a\n",
    "end\n",
    "\n",
    "@btime vector_dot_simd($B, $C);\n",
    "@btime vector_dot_turbo($B, $C);"
   ]
  },
  {
   "cell_type": "code",
   "execution_count": null,
   "metadata": {},
   "outputs": [],
   "source": [
    "@code_native debuginfo=:none syntax = :intel vector_dot_turbo(B, C)"
   ]
  },
  {
   "cell_type": "markdown",
   "metadata": {},
   "source": [
    "Note the usage of the `zmmi` AVX512 registers! (512 bit)"
   ]
  },
  {
   "cell_type": "markdown",
   "metadata": {},
   "source": [
    "## Structure of Array vs Array of Structure"
   ]
  },
  {
   "cell_type": "markdown",
   "metadata": {},
   "source": [
    "Data layout can matter!"
   ]
  },
  {
   "cell_type": "code",
   "execution_count": 23,
   "metadata": {},
   "outputs": [
    {
     "data": {
      "text/plain": [
       "25600-element Vector{ComplexF64}:\n",
       "  0.47615967336798193 + 0.7455265837044197im\n",
       "   0.4999237219810103 + 0.6551526587274029im\n",
       "  0.25845791195193235 + 0.9486621722228858im\n",
       "   0.6048131887781468 + 0.9816045559526196im\n",
       "  0.31826990577421077 + 0.8556270504839079im\n",
       "   0.9608605608510309 + 0.43045871282491555im\n",
       "   0.5316508069904498 + 0.9332815053700042im\n",
       "   0.9359446412803937 + 0.2413369995777297im\n",
       "   0.5445003161725982 + 0.5175829019511838im\n",
       "   0.8516086373164797 + 0.2829406741258146im\n",
       "   0.8225745171390131 + 0.013675602566029954im\n",
       "   0.7437782141382747 + 0.03352366879165547im\n",
       "   0.4256170224507019 + 0.318856163987701im\n",
       "                      ⋮\n",
       "   0.6564963114676212 + 0.755427941249618im\n",
       "  0.47542479966788387 + 0.0539043254557281im\n",
       " 0.028102281377028304 + 0.4512535597598467im\n",
       "   0.5208421644519043 + 0.7744136909778965im\n",
       "   0.5381940725978631 + 0.3825444822931944im\n",
       "   0.9823478619763404 + 0.7252334590689509im\n",
       "  0.41713931217686384 + 0.038913540976964645im\n",
       "   0.8343206036478911 + 0.8172283706379933im\n",
       "   0.7061369489022735 + 0.3638786397060283im\n",
       "    0.987044349595359 + 0.49179649375578804im\n",
       "   0.8808468859904354 + 0.28963955567081445im\n",
       "   0.8874644919314473 + 0.7364578015846618im"
      ]
     },
     "execution_count": 23,
     "metadata": {},
     "output_type": "execute_result"
    }
   ],
   "source": [
    "# Array of structure\n",
    "AoS = [complex(rand(), rand()) for i in 1:SIZE]"
   ]
  },
  {
   "cell_type": "code",
   "execution_count": 24,
   "metadata": {},
   "outputs": [
    {
     "name": "stdout",
     "output_type": "stream",
     "text": [
      "  12.253 μs (0 allocations: 0 bytes)\n"
     ]
    }
   ],
   "source": [
    "@btime sum($AoS);"
   ]
  },
  {
   "cell_type": "markdown",
   "metadata": {},
   "source": [
    "### [StructArrays.jl](https://github.com/JuliaArrays/StructArrays.jl)\n",
    "\n",
    "https://en.wikipedia.org/wiki/AoS_and_SoA"
   ]
  },
  {
   "cell_type": "code",
   "execution_count": 25,
   "metadata": {},
   "outputs": [],
   "source": [
    "using StructArrays"
   ]
  },
  {
   "cell_type": "code",
   "execution_count": 26,
   "metadata": {
    "collapsed": true,
    "jupyter": {
     "outputs_hidden": true
    },
    "tags": []
   },
   "outputs": [
    {
     "data": {
      "text/plain": [
       "25600-element StructArray(::Vector{Float64}, ::Vector{Float64}) with eltype Complex:\n",
       "   0.0583671486160664 + 0.038973094500907135im\n",
       "   0.7391978941712049 + 0.4635086111740244im\n",
       "   0.8687771490717257 + 0.8096734476306267im\n",
       "  0.31918171150387453 + 0.6095299031996888im\n",
       "  0.47589887602079506 + 0.7144714616948497im\n",
       "   0.3943948319977675 + 0.6997549500428829im\n",
       "  0.18300503789866374 + 0.3394125580761389im\n",
       "   0.6931214300977017 + 0.3484585661075027im\n",
       "   0.4371431015485052 + 0.0374794777200147im\n",
       "   0.8898722227383757 + 0.0036969751062636558im\n",
       "   0.7004166247746507 + 0.18579015290769074im\n",
       "   0.6365615938644166 + 0.21139339682777114im\n",
       "   0.9011039041963108 + 0.11354854226901745im\n",
       "                      ⋮\n",
       "   0.4988382101498491 + 0.3289351521662768im\n",
       "   0.9261243242881568 + 0.9866549809596703im\n",
       "   0.6273822066485626 + 0.6744463540847465im\n",
       "   0.9974714408638112 + 0.08915121248716917im\n",
       "   0.6040326424984684 + 0.5987488553848405im\n",
       "   0.9866928065694077 + 0.09979478208688874im\n",
       "   0.2866859994507862 + 0.291678509078392im\n",
       " 0.019611030503551174 + 0.7981438537813448im\n",
       "  0.32568976898199975 + 0.31756352349251615im\n",
       "   0.9554604662142782 + 0.02919578224123298im\n",
       "  0.32853279777701017 + 0.4623096515007489im\n",
       "   0.6836402182703586 + 0.19557754268815375im"
      ]
     },
     "execution_count": 26,
     "metadata": {},
     "output_type": "execute_result"
    }
   ],
   "source": [
    "SoA = StructArray{Complex}((rand(SIZE), rand(SIZE)))"
   ]
  },
  {
   "cell_type": "code",
   "execution_count": 29,
   "metadata": {},
   "outputs": [
    {
     "data": {
      "text/plain": [
       "Vector{ComplexF64}\u001b[90m (alias for \u001b[39m\u001b[90mArray{Complex{Float64}, 1}\u001b[39m\u001b[90m)\u001b[39m"
      ]
     },
     "execution_count": 29,
     "metadata": {},
     "output_type": "execute_result"
    }
   ],
   "source": [
    "typeof(AoS)"
   ]
  },
  {
   "cell_type": "code",
   "execution_count": 28,
   "metadata": {},
   "outputs": [
    {
     "data": {
      "text/plain": [
       "StructVector{Complex, NamedTuple{(:re, :im), Tuple{Vector{Float64}, Vector{Float64}}}, Int64}\u001b[90m (alias for \u001b[39m\u001b[90mStructArray{Complex, 1, NamedTuple{(:re, :im), Tuple{Array{Float64, 1}, Array{Float64, 1}}}, Int64}\u001b[39m\u001b[90m)\u001b[39m"
      ]
     },
     "execution_count": 28,
     "metadata": {},
     "output_type": "execute_result"
    }
   ],
   "source": [
    "typeof(SoA)"
   ]
  },
  {
   "cell_type": "code",
   "execution_count": 27,
   "metadata": {},
   "outputs": [
    {
     "name": "stdout",
     "output_type": "stream",
     "text": [
      "  4.367 μs (0 allocations: 0 bytes)\n"
     ]
    }
   ],
   "source": [
    "@btime sum($SoA);"
   ]
  },
  {
   "cell_type": "markdown",
   "metadata": {},
   "source": [
    "**Resources:**\n",
    "\n",
    "* [LoopVectorization.jl video on youtube](https://www.youtube.com/watch?v=qz2kJdVDWi0)\n",
    "* [SIMD and SIMD-intrinsics in Julia](http://kristofferc.github.io/post/intrinsics/)\n",
    "* [Optimizing Serial Code](https://mitmath.github.io/18337/lecture2/optimizing)"
   ]
  },
  {
   "cell_type": "markdown",
   "metadata": {},
   "source": [
    "## Inlining"
   ]
  },
  {
   "cell_type": "code",
   "execution_count": 30,
   "metadata": {},
   "outputs": [
    {
     "data": {
      "text/plain": [
       "fnoinline (generic function with 1 method)"
      ]
     },
     "execution_count": 30,
     "metadata": {},
     "output_type": "execute_result"
    }
   ],
   "source": [
    "@noinline fnoinline(x, y) = x + y"
   ]
  },
  {
   "cell_type": "code",
   "execution_count": 31,
   "metadata": {},
   "outputs": [
    {
     "data": {
      "text/plain": [
       "finline (generic function with 1 method)"
      ]
     },
     "execution_count": 31,
     "metadata": {},
     "output_type": "execute_result"
    }
   ],
   "source": [
    "finline(x, y) = x + y"
   ]
  },
  {
   "cell_type": "code",
   "execution_count": 32,
   "metadata": {},
   "outputs": [
    {
     "data": {
      "text/plain": [
       "qinline (generic function with 1 method)"
      ]
     },
     "execution_count": 32,
     "metadata": {},
     "output_type": "execute_result"
    }
   ],
   "source": [
    "function qinline(x,y)\n",
    "  a = 4\n",
    "  b = 2\n",
    "  c = finline(x,a)\n",
    "  d = finline(b,c)\n",
    "  finline(d,y)\n",
    "end"
   ]
  },
  {
   "cell_type": "code",
   "execution_count": 33,
   "metadata": {},
   "outputs": [
    {
     "data": {
      "text/plain": [
       "qnoinline (generic function with 1 method)"
      ]
     },
     "execution_count": 33,
     "metadata": {},
     "output_type": "execute_result"
    }
   ],
   "source": [
    "function qnoinline(x,y)\n",
    "  a = 4\n",
    "  b = 2\n",
    "  c = fnoinline(x,a)\n",
    "  d = fnoinline(b,c)\n",
    "  fnoinline(d,y)\n",
    "end"
   ]
  },
  {
   "cell_type": "code",
   "execution_count": 36,
   "metadata": {},
   "outputs": [
    {
     "data": {
      "text/latex": [
       "\\begin{verbatim}\n",
       "@inline\n",
       "\\end{verbatim}\n",
       "Give a hint to the compiler that this function is worth inlining.\n",
       "\n",
       "Small functions typically do not need the \\texttt{@inline} annotation, as the compiler does it automatically. By using \\texttt{@inline} on bigger functions, an extra nudge can be given to the compiler to inline it.\n",
       "\n",
       "\\texttt{@inline} can be applied immediately before the definition or in its function body.\n",
       "\n",
       "\\begin{verbatim}\n",
       "# annotate long-form definition\n",
       "@inline function longdef(x)\n",
       "    ...\n",
       "end\n",
       "\n",
       "# annotate short-form definition\n",
       "@inline shortdef(x) = ...\n",
       "\n",
       "# annotate anonymous function that a `do` block creates\n",
       "f() do\n",
       "    @inline\n",
       "    ...\n",
       "end\n",
       "\\end{verbatim}\n",
       "\\begin{quote}\n",
       "\\textbf{compat}\n",
       "\n",
       "Julia 1.8\n",
       "\n",
       "The usage within a function body requires at least Julia 1.8.\n",
       "\n",
       "\\end{quote}\n",
       "\\rule{\\textwidth}{1pt}\n",
       "\\begin{verbatim}\n",
       "@inline block\n",
       "\\end{verbatim}\n",
       "Give a hint to the compiler that calls within \\texttt{block} are worth inlining.\n",
       "\n",
       "\\begin{verbatim}\n",
       "# The compiler will try to inline `f`\n",
       "@inline f(...)\n",
       "\n",
       "# The compiler will try to inline `f`, `g` and `+`\n",
       "@inline f(...) + g(...)\n",
       "\\end{verbatim}\n",
       "\\begin{quote}\n",
       "\\textbf{note}\n",
       "\n",
       "Note\n",
       "\n",
       "A callsite annotation always has the precedence over the annotation applied to the definition of the called function:\n",
       "\n",
       "\\begin{verbatim}\n",
       "@noinline function explicit_noinline(args...)\n",
       "    # body\n",
       "end\n",
       "\n",
       "let\n",
       "    @inline explicit_noinline(args...) # will be inlined\n",
       "end\n",
       "\\end{verbatim}\n",
       "\\end{quote}\n",
       "\\begin{quote}\n",
       "\\textbf{note}\n",
       "\n",
       "Note\n",
       "\n",
       "When there are nested callsite annotations, the innermost annotation has the precedence:\n",
       "\n",
       "\\begin{verbatim}\n",
       "@noinline let a0, b0 = ...\n",
       "    a = @inline f(a0)  # the compiler will try to inline this call\n",
       "    b = f(b0)          # the compiler will NOT try to inline this call\n",
       "    return a, b\n",
       "end\n",
       "\\end{verbatim}\n",
       "\\end{quote}\n",
       "\\begin{quote}\n",
       "\\textbf{warning}\n",
       "\n",
       "Warning\n",
       "\n",
       "Although a callsite annotation will try to force inlining in regardless of the cost model, there are still chances it can't succeed in it. Especially, recursive calls can not be inlined even if they are annotated as \\texttt{@inline}d.\n",
       "\n",
       "\\end{quote}\n",
       "\\begin{quote}\n",
       "\\textbf{compat}\n",
       "\n",
       "Julia 1.8\n",
       "\n",
       "The callsite annotation requires at least Julia 1.8.\n",
       "\n",
       "\\end{quote}\n"
      ],
      "text/markdown": [
       "```\n",
       "@inline\n",
       "```\n",
       "\n",
       "Give a hint to the compiler that this function is worth inlining.\n",
       "\n",
       "Small functions typically do not need the `@inline` annotation, as the compiler does it automatically. By using `@inline` on bigger functions, an extra nudge can be given to the compiler to inline it.\n",
       "\n",
       "`@inline` can be applied immediately before the definition or in its function body.\n",
       "\n",
       "```julia\n",
       "# annotate long-form definition\n",
       "@inline function longdef(x)\n",
       "    ...\n",
       "end\n",
       "\n",
       "# annotate short-form definition\n",
       "@inline shortdef(x) = ...\n",
       "\n",
       "# annotate anonymous function that a `do` block creates\n",
       "f() do\n",
       "    @inline\n",
       "    ...\n",
       "end\n",
       "```\n",
       "\n",
       "!!! compat \"Julia 1.8\"\n",
       "    The usage within a function body requires at least Julia 1.8.\n",
       "\n",
       "\n",
       "---\n",
       "\n",
       "```\n",
       "@inline block\n",
       "```\n",
       "\n",
       "Give a hint to the compiler that calls within `block` are worth inlining.\n",
       "\n",
       "```julia\n",
       "# The compiler will try to inline `f`\n",
       "@inline f(...)\n",
       "\n",
       "# The compiler will try to inline `f`, `g` and `+`\n",
       "@inline f(...) + g(...)\n",
       "```\n",
       "\n",
       "!!! note\n",
       "    A callsite annotation always has the precedence over the annotation applied to the definition of the called function:\n",
       "\n",
       "    ```julia\n",
       "    @noinline function explicit_noinline(args...)\n",
       "        # body\n",
       "    end\n",
       "\n",
       "    let\n",
       "        @inline explicit_noinline(args...) # will be inlined\n",
       "    end\n",
       "    ```\n",
       "\n",
       "\n",
       "!!! note\n",
       "    When there are nested callsite annotations, the innermost annotation has the precedence:\n",
       "\n",
       "    ```julia\n",
       "    @noinline let a0, b0 = ...\n",
       "        a = @inline f(a0)  # the compiler will try to inline this call\n",
       "        b = f(b0)          # the compiler will NOT try to inline this call\n",
       "        return a, b\n",
       "    end\n",
       "    ```\n",
       "\n",
       "\n",
       "!!! warning\n",
       "    Although a callsite annotation will try to force inlining in regardless of the cost model, there are still chances it can't succeed in it. Especially, recursive calls can not be inlined even if they are annotated as `@inline`d.\n",
       "\n",
       "\n",
       "!!! compat \"Julia 1.8\"\n",
       "    The callsite annotation requires at least Julia 1.8.\n",
       "\n"
      ],
      "text/plain": [
       "\u001b[36m  @inline\u001b[39m\n",
       "\n",
       "  Give a hint to the compiler that this function is worth inlining.\n",
       "\n",
       "  Small functions typically do not need the \u001b[36m@inline\u001b[39m annotation, as the\n",
       "  compiler does it automatically. By using \u001b[36m@inline\u001b[39m on bigger functions, an\n",
       "  extra nudge can be given to the compiler to inline it.\n",
       "\n",
       "  \u001b[36m@inline\u001b[39m can be applied immediately before the definition or in its function\n",
       "  body.\n",
       "\n",
       "\u001b[36m  # annotate long-form definition\u001b[39m\n",
       "\u001b[36m  @inline function longdef(x)\u001b[39m\n",
       "\u001b[36m      ...\u001b[39m\n",
       "\u001b[36m  end\u001b[39m\n",
       "\u001b[36m  \u001b[39m\n",
       "\u001b[36m  # annotate short-form definition\u001b[39m\n",
       "\u001b[36m  @inline shortdef(x) = ...\u001b[39m\n",
       "\u001b[36m  \u001b[39m\n",
       "\u001b[36m  # annotate anonymous function that a `do` block creates\u001b[39m\n",
       "\u001b[36m  f() do\u001b[39m\n",
       "\u001b[36m      @inline\u001b[39m\n",
       "\u001b[36m      ...\u001b[39m\n",
       "\u001b[36m  end\u001b[39m\n",
       "\n",
       "\u001b[39m\u001b[1m  │ \u001b[22m\u001b[39m\u001b[1mJulia 1.8\u001b[22m\n",
       "\u001b[39m\u001b[1m  │\u001b[22m\n",
       "\u001b[39m\u001b[1m  │\u001b[22m  The usage within a function body requires at least Julia 1.8.\n",
       "\n",
       "  ────────────────────────────────────────────────────────────────────────────\n",
       "\n",
       "\u001b[36m  @inline block\u001b[39m\n",
       "\n",
       "  Give a hint to the compiler that calls within \u001b[36mblock\u001b[39m are worth inlining.\n",
       "\n",
       "\u001b[36m  # The compiler will try to inline `f`\u001b[39m\n",
       "\u001b[36m  @inline f(...)\u001b[39m\n",
       "\u001b[36m  \u001b[39m\n",
       "\u001b[36m  # The compiler will try to inline `f`, `g` and `+`\u001b[39m\n",
       "\u001b[36m  @inline f(...) + g(...)\u001b[39m\n",
       "\n",
       "\u001b[36m\u001b[1m  │ \u001b[22m\u001b[39m\u001b[36m\u001b[1mNote\u001b[22m\u001b[39m\n",
       "\u001b[36m\u001b[1m  │\u001b[22m\u001b[39m\n",
       "\u001b[36m\u001b[1m  │\u001b[22m\u001b[39m  A callsite annotation always has the precedence over the\n",
       "\u001b[36m\u001b[1m  │\u001b[22m\u001b[39m  annotation applied to the definition of the called function:\n",
       "\u001b[36m\u001b[1m  │\u001b[22m\u001b[39m\n",
       "\u001b[36m\u001b[1m  │\u001b[22m\u001b[39m\u001b[36m  @noinline function explicit_noinline(args...)\u001b[39m\n",
       "\u001b[36m\u001b[1m  │\u001b[22m\u001b[39m\u001b[36m      # body\u001b[39m\n",
       "\u001b[36m\u001b[1m  │\u001b[22m\u001b[39m\u001b[36m  end\u001b[39m\n",
       "\u001b[36m\u001b[1m  │\u001b[22m\u001b[39m\u001b[36m  \u001b[39m\n",
       "\u001b[36m\u001b[1m  │\u001b[22m\u001b[39m\u001b[36m  let\u001b[39m\n",
       "\u001b[36m\u001b[1m  │\u001b[22m\u001b[39m\u001b[36m      @inline explicit_noinline(args...) # will be inlined\u001b[39m\n",
       "\u001b[36m\u001b[1m  │\u001b[22m\u001b[39m\u001b[36m  end\u001b[39m\n",
       "\n",
       "\u001b[36m\u001b[1m  │ \u001b[22m\u001b[39m\u001b[36m\u001b[1mNote\u001b[22m\u001b[39m\n",
       "\u001b[36m\u001b[1m  │\u001b[22m\u001b[39m\n",
       "\u001b[36m\u001b[1m  │\u001b[22m\u001b[39m  When there are nested callsite annotations, the innermost\n",
       "\u001b[36m\u001b[1m  │\u001b[22m\u001b[39m  annotation has the precedence:\n",
       "\u001b[36m\u001b[1m  │\u001b[22m\u001b[39m\n",
       "\u001b[36m\u001b[1m  │\u001b[22m\u001b[39m\u001b[36m  @noinline let a0, b0 = ...\u001b[39m\n",
       "\u001b[36m\u001b[1m  │\u001b[22m\u001b[39m\u001b[36m      a = @inline f(a0)  # the compiler will try to inline this call\u001b[39m\n",
       "\u001b[36m\u001b[1m  │\u001b[22m\u001b[39m\u001b[36m      b = f(b0)          # the compiler will NOT try to inline this call\u001b[39m\n",
       "\u001b[36m\u001b[1m  │\u001b[22m\u001b[39m\u001b[36m      return a, b\u001b[39m\n",
       "\u001b[36m\u001b[1m  │\u001b[22m\u001b[39m\u001b[36m  end\u001b[39m\n",
       "\n",
       "\u001b[33m\u001b[1m  │ \u001b[22m\u001b[39m\u001b[33m\u001b[1mWarning\u001b[22m\u001b[39m\n",
       "\u001b[33m\u001b[1m  │\u001b[22m\u001b[39m\n",
       "\u001b[33m\u001b[1m  │\u001b[22m\u001b[39m  Although a callsite annotation will try to force inlining in\n",
       "\u001b[33m\u001b[1m  │\u001b[22m\u001b[39m  regardless of the cost model, there are still chances it can't\n",
       "\u001b[33m\u001b[1m  │\u001b[22m\u001b[39m  succeed in it. Especially, recursive calls can not be inlined even\n",
       "\u001b[33m\u001b[1m  │\u001b[22m\u001b[39m  if they are annotated as \u001b[36m@inline\u001b[39md.\n",
       "\n",
       "\u001b[39m\u001b[1m  │ \u001b[22m\u001b[39m\u001b[1mJulia 1.8\u001b[22m\n",
       "\u001b[39m\u001b[1m  │\u001b[22m\n",
       "\u001b[39m\u001b[1m  │\u001b[22m  The callsite annotation requires at least Julia 1.8."
      ]
     },
     "execution_count": 36,
     "metadata": {},
     "output_type": "execute_result"
    }
   ],
   "source": [
    "?@inline"
   ]
  },
  {
   "cell_type": "code",
   "execution_count": 34,
   "metadata": {},
   "outputs": [
    {
     "name": "stdout",
     "output_type": "stream",
     "text": [
      "\u001b[95mdefine\u001b[39m \u001b[36mdouble\u001b[39m \u001b[93m@julia_qinline_6552\u001b[39m\u001b[33m(\u001b[39m\u001b[36mdouble\u001b[39m \u001b[0m%0\u001b[0m, \u001b[36mdouble\u001b[39m \u001b[0m%1\u001b[33m)\u001b[39m \u001b[0m#0 \u001b[33m{\u001b[39m\n",
      "\u001b[91mtop:\u001b[39m\n",
      "  \u001b[0m%2 \u001b[0m= \u001b[96m\u001b[1mfadd\u001b[22m\u001b[39m \u001b[36mdouble\u001b[39m \u001b[0m%0\u001b[0m, \u001b[33m4.000000e+00\u001b[39m\n",
      "  \u001b[0m%3 \u001b[0m= \u001b[96m\u001b[1mfadd\u001b[22m\u001b[39m \u001b[36mdouble\u001b[39m \u001b[0m%2\u001b[0m, \u001b[33m2.000000e+00\u001b[39m\n",
      "  \u001b[0m%4 \u001b[0m= \u001b[96m\u001b[1mfadd\u001b[22m\u001b[39m \u001b[36mdouble\u001b[39m \u001b[0m%3\u001b[0m, \u001b[0m%1\n",
      "  \u001b[96m\u001b[1mret\u001b[22m\u001b[39m \u001b[36mdouble\u001b[39m \u001b[0m%4\n",
      "\u001b[33m}\u001b[39m\n"
     ]
    }
   ],
   "source": [
    "@code_llvm debuginfo=:none qinline(1.0, 2.0)"
   ]
  },
  {
   "cell_type": "code",
   "execution_count": 35,
   "metadata": {},
   "outputs": [
    {
     "name": "stdout",
     "output_type": "stream",
     "text": [
      "\u001b[95mdefine\u001b[39m \u001b[36mdouble\u001b[39m \u001b[93m@julia_qnoinline_6568\u001b[39m\u001b[33m(\u001b[39m\u001b[36mdouble\u001b[39m \u001b[0m%0\u001b[0m, \u001b[36mdouble\u001b[39m \u001b[0m%1\u001b[33m)\u001b[39m \u001b[0m#0 \u001b[33m{\u001b[39m\n",
      "\u001b[91mtop:\u001b[39m\n",
      "  \u001b[0m%2 \u001b[0m= \u001b[96m\u001b[1mcall\u001b[22m\u001b[39m \u001b[36mdouble\u001b[39m \u001b[93m@j_fnoinline_6570\u001b[39m\u001b[33m(\u001b[39m\u001b[36mdouble\u001b[39m \u001b[0m%0\u001b[0m, \u001b[36mi64\u001b[39m \u001b[95msignext\u001b[39m \u001b[33m4\u001b[39m\u001b[33m)\u001b[39m \u001b[0m#0\n",
      "  \u001b[0m%3 \u001b[0m= \u001b[96m\u001b[1mcall\u001b[22m\u001b[39m \u001b[36mdouble\u001b[39m \u001b[93m@j_fnoinline_6571\u001b[39m\u001b[33m(\u001b[39m\u001b[36mi64\u001b[39m \u001b[95msignext\u001b[39m \u001b[33m2\u001b[39m\u001b[0m, \u001b[36mdouble\u001b[39m \u001b[0m%2\u001b[33m)\u001b[39m \u001b[0m#0\n",
      "  \u001b[0m%4 \u001b[0m= \u001b[96m\u001b[1mcall\u001b[22m\u001b[39m \u001b[36mdouble\u001b[39m \u001b[93m@j_fnoinline_6572\u001b[39m\u001b[33m(\u001b[39m\u001b[36mdouble\u001b[39m \u001b[0m%3\u001b[0m, \u001b[36mdouble\u001b[39m \u001b[0m%1\u001b[33m)\u001b[39m \u001b[0m#0\n",
      "  \u001b[96m\u001b[1mret\u001b[22m\u001b[39m \u001b[36mdouble\u001b[39m \u001b[0m%4\n",
      "\u001b[33m}\u001b[39m\n"
     ]
    }
   ],
   "source": [
    "@code_llvm debuginfo=:none qnoinline(1.0, 2.0)"
   ]
  }
 ],
 "metadata": {
  "kernelspec": {
   "display_name": "Julia 1.8.4",
   "language": "julia",
   "name": "julia-1.8"
  },
  "language_info": {
   "file_extension": ".jl",
   "mimetype": "application/julia",
   "name": "julia",
   "version": "1.8.4"
  }
 },
 "nbformat": 4,
 "nbformat_minor": 4
}
