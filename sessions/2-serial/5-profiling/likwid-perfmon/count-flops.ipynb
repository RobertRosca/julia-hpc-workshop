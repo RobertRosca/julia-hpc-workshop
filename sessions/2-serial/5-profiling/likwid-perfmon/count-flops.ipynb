{
 "cells": [
  {
   "cell_type": "code",
   "execution_count": 1,
   "id": "63a4570a",
   "metadata": {},
   "outputs": [],
   "source": [
    "using LIKWID"
   ]
  },
  {
   "cell_type": "code",
   "execution_count": 2,
   "id": "30a73a9e",
   "metadata": {},
   "outputs": [
    {
     "data": {
      "text/plain": [
       "matmul (generic function with 2 methods)"
      ]
     },
     "execution_count": 2,
     "metadata": {},
     "output_type": "execute_result"
    }
   ],
   "source": [
    "function matmul(n, k=n)\n",
    "    A = rand(n, k)\n",
    "    B = rand(k, n)\n",
    "    C = zeros(n, n)\n",
    "    # simple matmul implementation\n",
    "    for n in axes(C, 2), m in axes(C, 1)\n",
    "        Cmn = zero(eltype(C))\n",
    "        for k in axes(A, 2)\n",
    "            tmp = A[m, k] * B[k, n]\n",
    "            Cmn += tmp\n",
    "        end\n",
    "        C[m, n] = Cmn\n",
    "    end\n",
    "    return C\n",
    "end"
   ]
  },
  {
   "cell_type": "code",
   "execution_count": 3,
   "id": "de81a7ec",
   "metadata": {},
   "outputs": [
    {
     "name": "stdout",
     "output_type": "stream",
     "text": [
      "\n",
      "Group: \u001b[0m\u001b[1mFLOPS_DP\u001b[22m\n",
      "┌──────────────────────────────────┬───────────┐\n",
      "│\u001b[1m                            Event \u001b[0m│\u001b[1m  Thread 1 \u001b[0m│\n",
      "├──────────────────────────────────┼───────────┤\n",
      "│                 ACTUAL_CPU_CLOCK │ 4.36872e8 │\n",
      "│                    MAX_CPU_CLOCK │ 4.37114e8 │\n",
      "│             RETIRED_INSTRUCTIONS │ 1.32528e9 │\n",
      "│              CPU_CLOCKS_UNHALTED │ 4.26696e8 │\n",
      "│ RETIRED_SSE_AVX_FLOPS_DOUBLE_ALL │   2.002e8 │\n",
      "│                            MERGE │       0.0 │\n",
      "└──────────────────────────────────┴───────────┘\n",
      "┌──────────────────────┬──────────┐\n",
      "│\u001b[1m               Metric \u001b[0m│\u001b[1m Thread 1 \u001b[0m│\n",
      "├──────────────────────┼──────────┤\n",
      "│  Runtime (RDTSC) [s] │ 0.109318 │\n",
      "│ Runtime unhalted [s] │ 0.109424 │\n",
      "│          Clock [MHz] │  3990.26 │\n",
      "│                  CPI │ 0.321968 │\n",
      "│         DP [MFLOP/s] │  1831.36 │\n",
      "└──────────────────────┴──────────┘\n"
     ]
    }
   ],
   "source": [
    "metrics, events = @perfmon \"FLOPS_DP\" matmul(1000, 100);"
   ]
  },
  {
   "cell_type": "code",
   "execution_count": 4,
   "id": "390971d0",
   "metadata": {},
   "outputs": [
    {
     "data": {
      "text/plain": [
       "count_flops (generic function with 1 method)"
      ]
     },
     "execution_count": 4,
     "metadata": {},
     "output_type": "execute_result"
    }
   ],
   "source": [
    "function count_flops(f)\n",
    "    metrics, events = perfmon(f, \"FLOPS_DP\"; print=false)\n",
    "    flops_per_second = metrics[\"FLOPS_DP\"][1][\"DP [MFLOP/s]\"] * 1e6\n",
    "    runtime = metrics[\"FLOPS_DP\"][1][\"Runtime (RDTSC) [s]\"]\n",
    "    flops = round(Int, flops_per_second * runtime)\n",
    "    return flops\n",
    "end"
   ]
  },
  {
   "cell_type": "code",
   "execution_count": 5,
   "id": "2ec7ae62",
   "metadata": {},
   "outputs": [
    {
     "data": {
      "text/plain": [
       "200200000"
      ]
     },
     "execution_count": 5,
     "metadata": {},
     "output_type": "execute_result"
    }
   ],
   "source": [
    "N = 1000\n",
    "K = 100\n",
    "count_flops(() -> matmul(N, K))"
   ]
  },
  {
   "cell_type": "code",
   "execution_count": 6,
   "id": "606b3eea",
   "metadata": {},
   "outputs": [
    {
     "data": {
      "text/plain": [
       "\u001b[32m\u001b[1mTest Passed\u001b[22m\u001b[39m"
      ]
     },
     "execution_count": 6,
     "metadata": {},
     "output_type": "execute_result"
    }
   ],
   "source": [
    "using Test\n",
    "nflops_rand = 2 * N * K\n",
    "nflops_matmul = 2 * N^2 * K\n",
    "@test count_flops(() -> matmul(N, K)) ≈ nflops_matmul + nflops_rand"
   ]
  },
  {
   "cell_type": "code",
   "execution_count": null,
   "id": "1ae1e42f-0976-446d-9d5f-eb564330941f",
   "metadata": {},
   "outputs": [],
   "source": []
  }
 ],
 "metadata": {
  "jupytext": {
   "cell_metadata_filter": "-all",
   "main_language": "julia",
   "notebook_metadata_filter": "-all"
  },
  "kernelspec": {
   "display_name": "Julia 1.8.4",
   "language": "julia",
   "name": "julia-1.8"
  },
  "language_info": {
   "file_extension": ".jl",
   "mimetype": "application/julia",
   "name": "julia",
   "version": "1.8.4"
  }
 },
 "nbformat": 4,
 "nbformat_minor": 5
}
