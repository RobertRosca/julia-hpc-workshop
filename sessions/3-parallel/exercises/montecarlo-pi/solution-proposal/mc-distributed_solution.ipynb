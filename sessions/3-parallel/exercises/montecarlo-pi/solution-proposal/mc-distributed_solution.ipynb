{
 "cells": [
  {
   "cell_type": "code",
   "execution_count": null,
   "metadata": {},
   "outputs": [],
   "source": [
    "gethostname()"
   ]
  },
  {
   "cell_type": "markdown",
   "metadata": {},
   "source": [
    "# Exercise: Parallel Monte Carlo"
   ]
  },
  {
   "cell_type": "markdown",
   "metadata": {},
   "source": [
    "Calculate the value of $\\pi$ through parallel direct Monte Carlo.\n",
    "\n",
    "A unit circle is inscribed inside a unit square with side length 2 (from -1 to 1). The area of the circle is $\\pi$, the area of the square is 4, and the ratio is $\\pi/4$. This means that, if you throw $N$ darts randomly at the square, approximately $M=N\\pi/4$ of those darts will land inside the unit circle.\n",
    "\n",
    "Throw darts randomly at a unit square and count how many of them ($M$) landed inside of a unit circle. Approximate $\\pi \\approx 4M/N$. Visualization:"
   ]
  },
  {
   "cell_type": "code",
   "execution_count": null,
   "metadata": {},
   "outputs": [],
   "source": [
    "ENV[\"GKS_ENCODING\"]=\"utf-8\"\n",
    "using Plots, Distributions\n",
    "\n",
    "# plot circle\n",
    "circlepts = Plots.partialcircle(0, 2π, 100)\n",
    "plot(circlepts, aspect_ratio=:equal, xlims=(-1,1), ylims=(-1,1), legend=false, lw=3, grid=false, frame=:box)\n",
    "\n",
    "# plot darts\n",
    "N = 400\n",
    "d = Uniform(-1, 1)\n",
    "scatter!(rand(d, N), rand(d, N), ms=2.5, color=:black)"
   ]
  },
  {
   "cell_type": "markdown",
   "metadata": {},
   "source": [
    "### Basic Julia Implementation"
   ]
  },
  {
   "cell_type": "code",
   "execution_count": null,
   "metadata": {},
   "outputs": [],
   "source": [
    "function compute_pi(N)\n",
    "    M = 0 # number of darts that landed in the circle\n",
    "    for i in 1:N\n",
    "        if sqrt(rand()^2 + rand()^2) < 1.0\n",
    "            M += 1\n",
    "        end\n",
    "    end\n",
    "    return 4 * M / N\n",
    "end"
   ]
  },
  {
   "cell_type": "code",
   "execution_count": null,
   "metadata": {},
   "outputs": [],
   "source": [
    "compute_pi(10_000_000)"
   ]
  },
  {
   "cell_type": "markdown",
   "metadata": {},
   "source": [
    "### Tasks\n",
    "\n",
    "1. Based on `compute_pi`, write a function `compute_pi_parallel(N::Int, nworkers::Int)` which does the same but divides the work among `nworkers`-many processes.\n",
    "\n",
    "2. Benchmark and compare the serial and parallel variants.\n",
    "\n",
    "3. Write a function `compute_pi_multiple(Ns::Vector{Int})` which computes $\\pi$ for all given $N$ values. The function should be serial and based on the given `compute_pi`.\n",
    "\n",
    "4. Write a function `compute_pi_multiple_parallel(Ns::Vector{Int})` which does the same as in 3) but in parallel. The function should also be based on `compute_pi`.\n",
    "\n",
    "5. Benchmark and compare the methods from 3) and 4).\n",
    "\n",
    "6. Calculate $\\pi$ estimates for `Ns = ceil.(Int, exp10.(range(1, stop=8, length=50)))`. Plot $\\pi$ vs $N$ on a semi-log plot (i.e. provide `xscale=:log10` as a keyword argument to `plot`).\n",
    "\n",
    "A reasonable value could be `N = 10_000_000`."
   ]
  },
  {
   "cell_type": "code",
   "execution_count": null,
   "metadata": {},
   "outputs": [],
   "source": [
    "using Distributed\n",
    "using BenchmarkTools\n",
    "using LinearAlgebra"
   ]
  },
  {
   "cell_type": "code",
   "execution_count": null,
   "metadata": {},
   "outputs": [],
   "source": [
    "# 1) + 2)\n",
    "nworkers() == 1 ? addprocs(6) : nothing; # check if we have workers, if not add 6 of them\n",
    "\n",
    "@everywhere using LinearAlgebra\n",
    "\n",
    "@everywhere function compute_pi(N::Int)\n",
    "    M = 0 # number of darts that landed in the circle\n",
    "    for i = 1:N\n",
    "        if sqrt(rand()^2 + rand()^2) < 1.0\n",
    "            M += 1\n",
    "        end\n",
    "    end\n",
    "\n",
    "    return 4*M / N  \n",
    "end\n",
    "\n",
    "function compute_pi_parallel(N::Int, nworkers::Int)\n",
    "    # distribute the dart throwing across ncores\n",
    "    sum_of_pis = @distributed (+) for i=1:nworkers\n",
    "        compute_pi(ceil(Int, N / nworkers))\n",
    "    end\n",
    "\n",
    "    return sum_of_pis / nworkers  # average value\n",
    "end\n",
    "\n",
    "@btime compute_pi_parallel(10_000_000, nworkers())"
   ]
  },
  {
   "cell_type": "code",
   "execution_count": null,
   "metadata": {},
   "outputs": [],
   "source": [
    "# 2)\n",
    "@btime compute_pi(10_000_000)"
   ]
  },
  {
   "cell_type": "code",
   "execution_count": null,
   "metadata": {},
   "outputs": [],
   "source": [
    "# 3) + 5)\n",
    "function compute_pi_multiple(Ns::Vector{Int})\n",
    "    pis = zeros(length(Ns))\n",
    "\n",
    "    for i = 1:length(Ns)\n",
    "        pis[i] = compute_pi(Ns[i])\n",
    "    end\n",
    "\n",
    "    return pis\n",
    "end\n",
    "\n",
    "some_Ns = [1_000_000, 2_000_000, 3_000_000, 4_000_000]\n",
    "\n",
    "@btime compute_pi_multiple(some_Ns)"
   ]
  },
  {
   "cell_type": "code",
   "execution_count": null,
   "metadata": {},
   "outputs": [],
   "source": [
    "# 4) + 5)\n",
    "nworkers() == 1 ? addprocs(6) : nothing;\n",
    "\n",
    "@everywhere using LinearAlgebra\n",
    "\n",
    "@everywhere function compute_pi(N::Int)\n",
    "    M = 0 # number of darts that landed in the circle\n",
    "    for i = 1:N\n",
    "        if sqrt(rand()^2 + rand()^2) < 1.0\n",
    "            M += 1\n",
    "        end\n",
    "    end\n",
    "\n",
    "    return 4*M / N  \n",
    "end\n",
    "\n",
    "function compute_pi_multiple_parallel(Ns::Vector{Int})\n",
    "    pmap(compute_pi, Ns)\n",
    "end\n",
    "\n",
    "some_Ns = [1_000_000, 2_000_000, 3_000_000, 4_000_000]\n",
    "\n",
    "@btime compute_pi_multiple_parallel($some_Ns)"
   ]
  },
  {
   "cell_type": "code",
   "execution_count": null,
   "metadata": {},
   "outputs": [],
   "source": [
    "# 6)\n",
    "Ns = ceil.(Int, exp10.(range(1, stop=8, length=50)))\n",
    "@time pis = compute_pi_multiple_parallel(Ns)\n",
    "\n",
    "plot(Ns, pis, color=:black, marker=:circle, lw=1, label=\"MC\", xscale=:log10)\n",
    "plot!(x->π, label=\"π\", xscale=:log10, linestyle=:dash, color=:red, lw=2)\n",
    "ylabel!(\"π estimate\")\n",
    "xlabel!(\"number of dart throws N\")"
   ]
  }
 ],
 "metadata": {
  "@webio": {
   "lastCommId": null,
   "lastKernelId": null
  },
  "kernelspec": {
   "display_name": "Julia 1.7.2",
   "language": "julia",
   "name": "julia-1.7"
  },
  "language_info": {
   "file_extension": ".jl",
   "mimetype": "application/julia",
   "name": "julia",
   "version": "1.7.2"
  }
 },
 "nbformat": 4,
 "nbformat_minor": 4
}
